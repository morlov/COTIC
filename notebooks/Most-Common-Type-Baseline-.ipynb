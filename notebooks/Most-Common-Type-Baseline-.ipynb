{
 "cells": [
  {
   "cell_type": "markdown",
   "id": "a9b5d584",
   "metadata": {},
   "source": [
    "# <font size=\"6\">Libraries</font>"
   ]
  },
  {
   "cell_type": "code",
   "execution_count": 1,
   "id": "ee990794",
   "metadata": {},
   "outputs": [],
   "source": [
    "import pandas as pd"
   ]
  },
  {
   "cell_type": "markdown",
   "id": "b70043f1",
   "metadata": {},
   "source": [
    "# <font size=\"6\">dataset</font>"
   ]
  },
  {
   "cell_type": "code",
   "execution_count": 2,
   "id": "07585dd9",
   "metadata": {},
   "outputs": [],
   "source": [
    "train_df = pd.read_parquet('data/train.parquet')\n",
    "valid_df = pd.read_parquet('data/valid.parquet')\n",
    "\n",
    "train_df = train_df[['app_id', 'amnt_mcc_bins', 'hour_diff']]"
   ]
  },
  {
   "cell_type": "code",
   "execution_count": 3,
   "id": "2285445f",
   "metadata": {},
   "outputs": [],
   "source": [
    "last_transactions = train_df.groupby('app_id').tail(1)"
   ]
  },
  {
   "cell_type": "markdown",
   "id": "f7b3447d",
   "metadata": {},
   "source": [
    "# <font size=\"6\">Model</font>"
   ]
  },
  {
   "cell_type": "code",
   "execution_count": 4,
   "id": "4d504880",
   "metadata": {},
   "outputs": [],
   "source": [
    "class MostCommonMCCPredictor:\n",
    "    def __init__(self):\n",
    "        self.most_common_mcc = {}\n",
    "\n",
    "    def fit(self, data):\n",
    "        self.most_common_mcc = data.groupby('app_id')['amnt_mcc_bins'].apply(lambda x: x.mode().iloc[0]).to_dict()\n",
    "\n",
    "    def forward(self, app_id):\n",
    "        \n",
    "        return self.most_common_mcc.get(app_id, None)\n",
    "\n",
    "    \n",
    "model = MostCommonMCCPredictor()\n",
    "\n",
    "model.fit(train_df)"
   ]
  },
  {
   "cell_type": "code",
   "execution_count": 25,
   "id": "0ce5a5f1",
   "metadata": {},
   "outputs": [
    {
     "name": "stdout",
     "output_type": "stream",
     "text": [
      "CPU times: user 35.2 s, sys: 184 ms, total: 35.4 s\n",
      "Wall time: 35.3 s\n"
     ]
    }
   ],
   "source": [
    "%%time\n",
    "\n",
    "predicted_transactions = pd.DataFrame()\n",
    "valid_counts = valid_df['app_id'].value_counts().to_dict()\n",
    "predicted_types = []\n",
    "\n",
    "for _, last_transaction in last_transactions.iterrows():\n",
    "    user_id = last_transaction['app_id']\n",
    "    last_type = last_transaction['amnt_mcc_bins']\n",
    "    num_transactions = valid_counts.get(user_id, 0)\n",
    "    \n",
    "    for _ in range(num_transactions):\n",
    "        predicted_type = model.forward(user_id)\n",
    "        \n",
    "        predicted_types.append(predicted_type)"
   ]
  },
  {
   "cell_type": "code",
   "execution_count": 29,
   "id": "140bac2e",
   "metadata": {},
   "outputs": [],
   "source": [
    "valid_df['predicted_type'] = predicted_types\n",
    "\n",
    "valid_df['pred_mcc'] = (valid_df['predicted_type'] - 1) // 4 + 1\n",
    "valid_df['pred_amnt'] = (valid_df['predicted_type'] - 1) % 4"
   ]
  },
  {
   "cell_type": "markdown",
   "id": "37d86b53",
   "metadata": {},
   "source": [
    "# <font size=\"6\">Metrics</font>"
   ]
  },
  {
   "cell_type": "code",
   "execution_count": 30,
   "id": "8872a8ba",
   "metadata": {},
   "outputs": [
    {
     "name": "stdout",
     "output_type": "stream",
     "text": [
      "Type accuracy: 0.20276643610945957\n",
      "Amnt accuracy: 0.5309335067601867\n",
      "MCC accuracy: 0.29054795332676336\n"
     ]
    }
   ],
   "source": [
    "from sklearn.metrics import mean_absolute_error, accuracy_score\n",
    "\n",
    "print('Type accuracy:', accuracy_score(valid_df['amnt_mcc_bins'], valid_df['predicted_type']))\n",
    "print('Amnt accuracy:', accuracy_score(valid_df['amnt_bins'], valid_df['pred_amnt']))\n",
    "print('MCC accuracy:', accuracy_score(valid_df['mcc'], valid_df['pred_mcc']))"
   ]
  }
 ],
 "metadata": {
  "kernelspec": {
   "display_name": "Python 3 (ipykernel)",
   "language": "python",
   "name": "python3"
  },
  "language_info": {
   "codemirror_mode": {
    "name": "ipython",
    "version": 3
   },
   "file_extension": ".py",
   "mimetype": "text/x-python",
   "name": "python",
   "nbconvert_exporter": "python",
   "pygments_lexer": "ipython3",
   "version": "3.7.12"
  }
 },
 "nbformat": 4,
 "nbformat_minor": 5
}
