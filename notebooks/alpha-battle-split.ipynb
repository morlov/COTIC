{
 "cells": [
  {
   "cell_type": "markdown",
   "id": "b5d031bc",
   "metadata": {},
   "source": [
    "# <font size=\"6\">Libraries</font>"
   ]
  },
  {
   "cell_type": "code",
   "execution_count": 1,
   "id": "cdebf79f-5313-490c-b0c7-d005b137af24",
   "metadata": {},
   "outputs": [],
   "source": [
    "%load_ext autoreload\n",
    "%autoreload 2"
   ]
  },
  {
   "cell_type": "code",
   "execution_count": 2,
   "id": "9f903fb3",
   "metadata": {},
   "outputs": [
    {
     "name": "stdout",
     "output_type": "stream",
     "text": [
      "The autoreload extension is already loaded. To reload it, use:\n",
      "  %reload_ext autoreload\n"
     ]
    }
   ],
   "source": [
    "import os, sys\n",
    "from tqdm import tqdm\n",
    "\n",
    "parent_dir = os.path.abspath('..')\n",
    "if parent_dir not in sys.path:\n",
    "    sys.path.append(parent_dir)\n",
    "\n",
    "\n",
    "from glob import glob\n",
    "import os, sys\n",
    "\n",
    "from src import utils\n",
    "\n",
    "import pandas as pd\n",
    "import numpy as np\n",
    "import matplotlib.pyplot as plt\n",
    "\n",
    "parent_dir = os.path.abspath('..')\n",
    "\n",
    "if parent_dir not in sys.path:\n",
    "    sys.path.append(parent_dir)\n",
    "\n",
    "log = utils.get_logger(__name__)\n",
    "\n",
    "%load_ext autoreload\n",
    "%autoreload 2"
   ]
  },
  {
   "cell_type": "code",
   "execution_count": 3,
   "id": "ba607ffd-826e-4a71-8db1-8766eb6711a7",
   "metadata": {},
   "outputs": [],
   "source": [
    "df = pd.read_parquet('~/ptls-experiments/scenario_alpha_battle/data/train_transactions_contest.parquet', columns=['app_id', 'amnt', 'mcc', 'hour_diff', 'transaction_number'])"
   ]
  },
  {
   "cell_type": "code",
   "execution_count": 4,
   "id": "4baa261e-7f04-4ca2-99da-5fae5f63a124",
   "metadata": {},
   "outputs": [
    {
     "name": "stdout",
     "output_type": "stream",
     "text": [
      "CPU times: user 1 µs, sys: 2 µs, total: 3 µs\n",
      "Wall time: 6.91 µs\n",
      "432\n"
     ]
    }
   ],
   "source": [
    "%time\n",
    "df['time'] = df[['app_id', 'hour_diff']].groupby('app_id').cumsum() + 1\n",
    "df['amnt_bins'] = pd.qcut(df['amnt'], q=[0, .3, .4, .5, 1], labels=False)\n",
    "df['amnt_mcc_bins'] = (df['mcc'] - 1) * 4 + df['amnt_bins'] + 1 ## Start types from 1 to avoid special 0\n",
    "print(df['amnt_mcc_bins'].nunique())"
   ]
  },
  {
   "cell_type": "code",
   "execution_count": 5,
   "id": "0a89ccd8-e047-43f0-9ed8-7d925c0f84d1",
   "metadata": {},
   "outputs": [],
   "source": [
    "MIN_NUMBER_OF_TRANSACTIONS = 100\n",
    "VALIDATION_TRANSACTIONS = 50\n",
    "VALIDATION_NUM_HOURS = 24 * 30"
   ]
  },
  {
   "cell_type": "code",
   "execution_count": 6,
   "id": "89543189-1810-4bde-997a-3529afc5cd1e",
   "metadata": {},
   "outputs": [
    {
     "name": "stdout",
     "output_type": "stream",
     "text": [
      "CPU times: user 4.36 s, sys: 2.71 s, total: 7.07 s\n",
      "Wall time: 7.07 s\n"
     ]
    }
   ],
   "source": [
    "%%time\n",
    "df['transaction_max'] = df.groupby('app_id').transaction_number.transform('max')"
   ]
  },
  {
   "cell_type": "code",
   "execution_count": 7,
   "id": "4c1e8892-35f9-43a5-8c09-6ffc1ad40694",
   "metadata": {},
   "outputs": [
    {
     "name": "stdout",
     "output_type": "stream",
     "text": [
      "(270450065, 9) 963811\n",
      "(255394648, 9) 634036\n",
      "CPU times: user 13.5 s, sys: 15.5 s, total: 29 s\n",
      "Wall time: 28.5 s\n"
     ]
    }
   ],
   "source": [
    "%%time\n",
    "print(df.shape, df.app_id.nunique())\n",
    "df = df[df.transaction_max >= MIN_NUMBER_OF_TRANSACTIONS]\n",
    "print(df.shape, df.app_id.nunique())"
   ]
  },
  {
   "cell_type": "code",
   "execution_count": 8,
   "id": "e2073d68-63fd-4144-b92a-059eaa31f2f7",
   "metadata": {},
   "outputs": [
    {
     "name": "stdout",
     "output_type": "stream",
     "text": [
      "CPU times: user 446 ms, sys: 559 ms, total: 1 s\n",
      "Wall time: 857 ms\n"
     ]
    }
   ],
   "source": [
    "%%time\n",
    "df['reversed_transaction'] = df['transaction_max'] - df['transaction_number']"
   ]
  },
  {
   "cell_type": "code",
   "execution_count": 9,
   "id": "92a7e847-7b30-4e40-892b-cc4bd4f5fc37",
   "metadata": {},
   "outputs": [
    {
     "name": "stdout",
     "output_type": "stream",
     "text": [
      "(223692848, 10) (31701800, 10)\n",
      "CPU times: user 10 s, sys: 9.85 s, total: 19.9 s\n",
      "Wall time: 19.8 s\n"
     ]
    }
   ],
   "source": [
    "%%time\n",
    "train_df = df[df['reversed_transaction'] >= VALIDATION_TRANSACTIONS]\n",
    "valid_df = df[df['reversed_transaction'] < VALIDATION_TRANSACTIONS]\n",
    "print(train_df.shape, valid_df.shape)"
   ]
  },
  {
   "cell_type": "code",
   "execution_count": 10,
   "id": "9837aca9-e142-40b4-bb1f-631826805c6a",
   "metadata": {},
   "outputs": [
    {
     "name": "stderr",
     "output_type": "stream",
     "text": [
      "<timed exec>:1: SettingWithCopyWarning: \n",
      "A value is trying to be set on a copy of a slice from a DataFrame.\n",
      "Try using .loc[row_indexer,col_indexer] = value instead\n",
      "\n",
      "See the caveats in the documentation: https://pandas.pydata.org/pandas-docs/stable/user_guide/indexing.html#returning-a-view-versus-a-copy\n"
     ]
    },
    {
     "name": "stdout",
     "output_type": "stream",
     "text": [
      "CPU times: user 1.02 s, sys: 630 ms, total: 1.65 s\n",
      "Wall time: 1.65 s\n"
     ]
    }
   ],
   "source": [
    "%%time\n",
    "valid_df['hour_summed'] = valid_df.groupby('app_id')['hour_diff'].cumsum()\n",
    "hour_summed_max = valid_df.groupby('app_id').hour_summed.max()"
   ]
  },
  {
   "cell_type": "code",
   "execution_count": 11,
   "id": "ef9cdc42-9af1-4cf5-b2d5-e46f5b1ec8c5",
   "metadata": {},
   "outputs": [
    {
     "data": {
      "text/plain": [
       "(430309, 203727)"
      ]
     },
     "execution_count": 11,
     "metadata": {},
     "output_type": "execute_result"
    }
   ],
   "source": [
    "(hour_summed_max >= VALIDATION_NUM_HOURS).sum(), (hour_summed_max < VALIDATION_NUM_HOURS).sum()"
   ]
  },
  {
   "cell_type": "code",
   "execution_count": 12,
   "id": "b2521209-b8ba-4be8-9461-96245de61f2f",
   "metadata": {},
   "outputs": [
    {
     "name": "stdout",
     "output_type": "stream",
     "text": [
      "(95046149, 10) (11183197, 11)\n",
      "CPU times: user 5.51 s, sys: 10.3 s, total: 15.8 s\n",
      "Wall time: 15.8 s\n"
     ]
    }
   ],
   "source": [
    "%%time\n",
    "app_ids = hour_summed_max[hour_summed_max >= VALIDATION_NUM_HOURS].index\n",
    "\n",
    "train_df = train_df[train_df.app_id.isin(app_ids)]\n",
    "valid_df = valid_df[valid_df.app_id.isin(app_ids)]\n",
    "valid_df = valid_df[valid_df.hour_summed <= VALIDATION_NUM_HOURS]\n",
    "print(train_df.shape, valid_df.shape)"
   ]
  },
  {
   "cell_type": "code",
   "execution_count": 13,
   "id": "46023935-26dd-4177-ab67-f7f67068cd10",
   "metadata": {},
   "outputs": [
    {
     "data": {
      "text/plain": [
       "<AxesSubplot:>"
      ]
     },
     "execution_count": 13,
     "metadata": {},
     "output_type": "execute_result"
    },
    {
     "data": {
      "image/png": "[encoded data removed]",
      "text/plain": [
       "<Figure size 640x480 with 1 Axes>"
      ]
     },
     "metadata": {},
     "output_type": "display_data"
    }
   ],
   "source": [
    "valid_df.groupby('app_id').size().hist(bins=50)"
   ]
  },
  {
   "cell_type": "code",
   "execution_count": 14,
   "id": "6436a823-16ed-4f11-83af-3c0bc3fc03fa",
   "metadata": {},
   "outputs": [],
   "source": [
    "valid_df['transaction_min'] = valid_df.groupby('app_id')['transaction_number'].transform('min')"
   ]
  },
  {
   "cell_type": "code",
   "execution_count": 15,
   "id": "f36c8530-fbb6-4a39-a764-e26e7acc2a38",
   "metadata": {},
   "outputs": [
    {
     "data": {
      "text/plain": [
       "count    429711.000000\n",
       "mean         33.739544\n",
       "std          67.746008\n",
       "min           0.000000\n",
       "25%           1.000000\n",
       "50%          12.000000\n",
       "75%          31.000000\n",
       "max         720.000000\n",
       "Name: hour_diff, dtype: float64"
      ]
     },
     "execution_count": 15,
     "metadata": {},
     "output_type": "execute_result"
    }
   ],
   "source": [
    "valid_df[valid_df.transaction_number == valid_df.transaction_min].hour_diff.describe()"
   ]
  },
  {
   "cell_type": "code",
   "execution_count": 16,
   "id": "f827e27a-b4e1-4898-baea-955e8992653a",
   "metadata": {},
   "outputs": [
    {
     "data": {
      "text/plain": [
       "count    1.118320e+07\n",
       "mean     2.460099e+01\n",
       "std      4.700374e+01\n",
       "min      0.000000e+00\n",
       "25%      1.000000e+00\n",
       "50%      8.000000e+00\n",
       "75%      2.500000e+01\n",
       "max      7.200000e+02\n",
       "Name: hour_diff, dtype: float64"
      ]
     },
     "execution_count": 16,
     "metadata": {},
     "output_type": "execute_result"
    }
   ],
   "source": [
    "valid_df.hour_diff.describe()"
   ]
  },
  {
   "cell_type": "code",
   "execution_count": 17,
   "id": "4f4a9a73-9318-4fd5-bc07-23e7899dacbb",
   "metadata": {},
   "outputs": [
    {
     "data": {
      "text/plain": [
       "count    9.504615e+07\n",
       "mean     2.735514e+01\n",
       "std      6.734940e+01\n",
       "min     -1.000000e+00\n",
       "25%      1.000000e+00\n",
       "50%      7.000000e+00\n",
       "75%      2.500000e+01\n",
       "max      6.932000e+03\n",
       "Name: hour_diff, dtype: float64"
      ]
     },
     "execution_count": 17,
     "metadata": {},
     "output_type": "execute_result"
    }
   ],
   "source": [
    "train_df.hour_diff.describe()"
   ]
  },
  {
   "cell_type": "code",
   "execution_count": 18,
   "id": "2c30a9b2-4972-40fb-9d37-b31b82d12b4a",
   "metadata": {},
   "outputs": [
    {
     "data": {
      "text/html": [
       "<div>\n",
       "<style scoped>\n",
       "    .dataframe tbody tr th:only-of-type {\n",
       "        vertical-align: middle;\n",
       "    }\n",
       "\n",
       "    .dataframe tbody tr th {\n",
       "        vertical-align: top;\n",
       "    }\n",
       "\n",
       "    .dataframe thead th {\n",
       "        text-align: right;\n",
       "    }\n",
       "</style>\n",
       "<table border=\"1\" class=\"dataframe\">\n",
       "  <thead>\n",
       "    <tr style=\"text-align: right;\">\n",
       "      <th></th>\n",
       "      <th>app_id</th>\n",
       "      <th>amnt</th>\n",
       "      <th>mcc</th>\n",
       "      <th>hour_diff</th>\n",
       "      <th>transaction_number</th>\n",
       "      <th>time</th>\n",
       "      <th>amnt_bins</th>\n",
       "      <th>amnt_mcc_bins</th>\n",
       "      <th>transaction_max</th>\n",
       "      <th>reversed_transaction</th>\n",
       "    </tr>\n",
       "  </thead>\n",
       "  <tbody>\n",
       "    <tr>\n",
       "      <th>0</th>\n",
       "      <td>0</td>\n",
       "      <td>0.465425</td>\n",
       "      <td>2</td>\n",
       "      <td>-1</td>\n",
       "      <td>1</td>\n",
       "      <td>0</td>\n",
       "      <td>3</td>\n",
       "      <td>8</td>\n",
       "      <td>181</td>\n",
       "      <td>180</td>\n",
       "    </tr>\n",
       "    <tr>\n",
       "      <th>1</th>\n",
       "      <td>0</td>\n",
       "      <td>0.000000</td>\n",
       "      <td>2</td>\n",
       "      <td>0</td>\n",
       "      <td>2</td>\n",
       "      <td>0</td>\n",
       "      <td>0</td>\n",
       "      <td>5</td>\n",
       "      <td>181</td>\n",
       "      <td>179</td>\n",
       "    </tr>\n",
       "    <tr>\n",
       "      <th>2</th>\n",
       "      <td>0</td>\n",
       "      <td>0.521152</td>\n",
       "      <td>2</td>\n",
       "      <td>0</td>\n",
       "      <td>3</td>\n",
       "      <td>0</td>\n",
       "      <td>3</td>\n",
       "      <td>8</td>\n",
       "      <td>181</td>\n",
       "      <td>178</td>\n",
       "    </tr>\n",
       "    <tr>\n",
       "      <th>3</th>\n",
       "      <td>0</td>\n",
       "      <td>0.356078</td>\n",
       "      <td>10</td>\n",
       "      <td>52</td>\n",
       "      <td>4</td>\n",
       "      <td>52</td>\n",
       "      <td>3</td>\n",
       "      <td>40</td>\n",
       "      <td>181</td>\n",
       "      <td>177</td>\n",
       "    </tr>\n",
       "    <tr>\n",
       "      <th>4</th>\n",
       "      <td>0</td>\n",
       "      <td>0.000000</td>\n",
       "      <td>2</td>\n",
       "      <td>280</td>\n",
       "      <td>5</td>\n",
       "      <td>332</td>\n",
       "      <td>0</td>\n",
       "      <td>5</td>\n",
       "      <td>181</td>\n",
       "      <td>176</td>\n",
       "    </tr>\n",
       "  </tbody>\n",
       "</table>\n",
       "</div>"
      ],
      "text/plain": [
       "   app_id      amnt  mcc  hour_diff  transaction_number  time  amnt_bins  \\\n",
       "0       0  0.465425    2         -1                   1     0          3   \n",
       "1       0  0.000000    2          0                   2     0          0   \n",
       "2       0  0.521152    2          0                   3     0          3   \n",
       "3       0  0.356078   10         52                   4    52          3   \n",
       "4       0  0.000000    2        280                   5   332          0   \n",
       "\n",
       "   amnt_mcc_bins  transaction_max  reversed_transaction  \n",
       "0              8              181                   180  \n",
       "1              5              181                   179  \n",
       "2              8              181                   178  \n",
       "3             40              181                   177  \n",
       "4              5              181                   176  "
      ]
     },
     "execution_count": 18,
     "metadata": {},
     "output_type": "execute_result"
    }
   ],
   "source": [
    "train_df.head()"
   ]
  },
  {
   "cell_type": "code",
   "execution_count": 19,
   "id": "21193607-28e9-4251-82e7-951047f21f9e",
   "metadata": {},
   "outputs": [],
   "source": [
    "def aggregate(df):\n",
    "    aggregated =  df[['app_id', 'amnt_mcc_bins', 'time']].groupby('app_id').agg(lambda x: list(x)).reset_index()\n",
    "    aggregated['trx_count'] = aggregated['time'].apply(len)\n",
    "    return aggregated"
   ]
  },
  {
   "cell_type": "code",
   "execution_count": 20,
   "id": "6eaad849-cc9f-4b68-b8a3-99bdfdcc75dd",
   "metadata": {},
   "outputs": [
    {
     "name": "stdout",
     "output_type": "stream",
     "text": [
      "CPU times: user 50.8 s, sys: 4.68 s, total: 55.5 s\n",
      "Wall time: 55.5 s\n"
     ]
    }
   ],
   "source": [
    "%%time\n",
    "train = aggregate(train_df)\n",
    "valid = aggregate(valid_df)"
   ]
  },
  {
   "cell_type": "code",
   "execution_count": 21,
   "id": "cbffa2f0-cb6f-4161-a82b-deb391711722",
   "metadata": {},
   "outputs": [
    {
     "name": "stdout",
     "output_type": "stream",
     "text": [
      "CPU times: user 11.3 s, sys: 2.19 s, total: 13.5 s\n",
      "Wall time: 13.4 s\n"
     ]
    }
   ],
   "source": [
    "%%time\n",
    "train.to_parquet('data/train.parquet', index=False)\n",
    "valid.to_parquet('data/valid.parquet', index=False)"
   ]
  },
  {
   "cell_type": "code",
   "execution_count": null,
   "id": "9a1f94f0-c3de-4d48-90f9-8addb689e652",
   "metadata": {},
   "outputs": [],
   "source": []
  }
 ],
 "metadata": {
  "kernelspec": {
   "display_name": "ptls",
   "language": "python",
   "name": "ptls"
  },
  "language_info": {
   "codemirror_mode": {
    "name": "ipython",
    "version": 3
   },
   "file_extension": ".py",
   "mimetype": "text/x-python",
   "name": "python",
   "nbconvert_exporter": "python",
   "pygments_lexer": "ipython3",
   "version": "3.8.10"
  }
 },
 "nbformat": 4,
 "nbformat_minor": 5
}
