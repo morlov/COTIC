{
 "cells": [
  {
   "cell_type": "markdown",
   "id": "b5d031bc",
   "metadata": {},
   "source": [
    "# <font size=\"6\">Libraries</font>"
   ]
  },
  {
   "cell_type": "code",
   "execution_count": 1,
   "id": "cdebf79f-5313-490c-b0c7-d005b137af24",
   "metadata": {},
   "outputs": [],
   "source": [
    "%load_ext autoreload\n",
    "%autoreload 2"
   ]
  },
  {
   "cell_type": "code",
   "execution_count": 2,
   "id": "9f903fb3",
   "metadata": {},
   "outputs": [
    {
     "name": "stdout",
     "output_type": "stream",
     "text": [
      "torch version: 1.12.1+cu102\n",
      "The autoreload extension is already loaded. To reload it, use:\n",
      "  %reload_ext autoreload\n"
     ]
    }
   ],
   "source": [
    "import torch\n",
    "from torch.optim import Adam\n",
    "from torch.optim.lr_scheduler import StepLR\n",
    "import torch.nn.functional as F\n",
    "import os, sys\n",
    "from tqdm import tqdm\n",
    "\n",
    "parent_dir = os.path.abspath('..')\n",
    "if parent_dir not in sys.path:\n",
    "    sys.path.append(parent_dir)\n",
    "\n",
    "print('torch version:', torch.__version__)\n",
    "\n",
    "import ptls\n",
    "from ptls.data_load import IterableChain\n",
    "from ptls.data_load.iterable_processing import SeqLenFilter\n",
    "from ptls.data_load.iterable_processing.to_torch_tensor import ToTorch\n",
    "from ptls.data_load.iterable_processing_dataset import IterableProcessingDataset\n",
    "from ptls.data_load.datasets.parquet_dataset import ParquetDataset, ParquetFiles\n",
    "\n",
    "import pytorch_lightning as pl\n",
    "\n",
    "from glob import glob\n",
    "\n",
    "import sklearn\n",
    "from sklearn.model_selection import train_test_split\n",
    "\n",
    "import os, sys\n",
    "\n",
    "from src import utils\n",
    "\n",
    "import pandas as pd\n",
    "import numpy as np\n",
    "import matplotlib.pyplot as plt\n",
    "\n",
    "parent_dir = os.path.abspath('..')\n",
    "if parent_dir not in sys.path:\n",
    "    sys.path.append(parent_dir)\n",
    "\n",
    "log = utils.get_logger(__name__)\n",
    "\n",
    "%load_ext autoreload\n",
    "%autoreload 2\n",
    "\n",
    "#!pip install python-Levenshtein\n",
    "#from Levenshtein import distance as lev"
   ]
  },
  {
   "cell_type": "markdown",
   "id": "bd38c791-c291-46bd-91f2-c4e56f5e3e51",
   "metadata": {},
   "source": [
    "# Train model"
   ]
  },
  {
   "cell_type": "markdown",
   "id": "be78fb09",
   "metadata": {},
   "source": [
    "# <font size=\"5\">data conf</font>"
   ]
  },
  {
   "cell_type": "code",
   "execution_count": 3,
   "id": "0f42a2c0",
   "metadata": {},
   "outputs": [],
   "source": [
    "dataset_conf = {\n",
    "    # 'min_seq_len': min(dataset['trx_count'].unique()),\n",
    "    'min_seq_len': 1,\n",
    "    'event_col': 'amnt_mcc_bins',\n",
    "    # 'amount_log': 'amnt',\n",
    "    'event_cnt_col': 'trx_count',\n",
    "    'time_col': 'time',\n",
    "    'id_col': 'app_id'\n",
    "}"
   ]
  },
  {
   "cell_type": "markdown",
   "id": "0231f623",
   "metadata": {},
   "source": [
    "# <font size=\"5\">dataloaders</font>"
   ]
  },
  {
   "cell_type": "code",
   "execution_count": 4,
   "id": "a3f3fa9b",
   "metadata": {},
   "outputs": [
    {
     "name": "stderr",
     "output_type": "stream",
     "text": [
      "/home/morlov/.local/share/virtualenvs/pytorch-lifestream-1iBTwtzi/lib/python3.8/site-packages/ptls/data_load/datasets/parquet_dataset.py:106: UserWarning: `post_processing` parameter is deprecated, use `i_filters`\n",
      "  warnings.warn('`post_processing` parameter is deprecated, use `i_filters`')\n"
     ]
    }
   ],
   "source": [
    "train_data = glob('data/train.parquet')\n",
    "valid_data = glob('data/valid.parquet')\n",
    "\n",
    "class TimeProc(IterableProcessingDataset):\n",
    "    \n",
    "    def __init__(self, time_col, tmin, tmax):\n",
    "        super().__init__()\n",
    "        self._time_col = time_col\n",
    "        self.tmin, self.tmax = tmin, tmax\n",
    "        \n",
    "    def __iter__(self):\n",
    "        for rec in self._src:\n",
    "            features = rec[0] if type(rec) is tuple else rec\n",
    "            rec[self._time_col] = np.array((features[self._time_col] - self.tmin) / (self.tmax-self.tmin))\n",
    "            yield rec\n",
    "            \n",
    "\n",
    "def pp_collate_fn(time_col, event_col, event_cnt_col, id_col):\n",
    "\n",
    "    def fn(batch):\n",
    "        es, ts, ls, ids = [], [], [], []\n",
    "        \n",
    "            \n",
    "        for rec in batch:\n",
    "            ts.append(rec[time_col])\n",
    "            es.append(rec[event_col])\n",
    "            ls.append(rec[event_cnt_col] - 1)\n",
    "            ids.append(rec[id_col])\n",
    "            \n",
    "        ret = [torch.nn.utils.rnn.pad_sequence(ts, batch_first=True), \n",
    "               torch.nn.utils.rnn.pad_sequence(es, batch_first=True).long()]\n",
    "        \n",
    "        return ret, torch.tensor(ls), torch.tensor(ids)\n",
    "            \n",
    "    return fn\n",
    "\n",
    "process = IterableChain(\n",
    "            SeqLenFilter(min_seq_len=dataset_conf['min_seq_len']),\n",
    "            TimeProc(dataset_conf['time_col'], -1, 11752),\n",
    "            ToTorch()\n",
    ")\n",
    "   \n",
    "train_ds = ParquetDataset(train_data, post_processing=process)\n",
    "valid_ds = ParquetDataset(valid_data, post_processing=process)\n",
    "\n",
    "collate_fn = pp_collate_fn(dataset_conf['time_col'], dataset_conf['event_col'], dataset_conf['event_cnt_col'], dataset_conf['id_col'])\n",
    "\n",
    "train_dl = torch.utils.data.DataLoader(\n",
    "                        dataset=train_ds,\n",
    "                        collate_fn=collate_fn,\n",
    "                        num_workers=4,\n",
    "                        batch_size=32)\n",
    "\n",
    "valid_dl = torch.utils.data.DataLoader(\n",
    "                        dataset=valid_ds,\n",
    "                        collate_fn=collate_fn,\n",
    "                        num_workers=4,\n",
    "                        batch_size=32)"
   ]
  },
  {
   "cell_type": "markdown",
   "id": "152bf29e",
   "metadata": {},
   "source": [
    "# <font size=\"6\">COTIC</font>"
   ]
  },
  {
   "cell_type": "code",
   "execution_count": 5,
   "id": "932d1f6c",
   "metadata": {},
   "outputs": [],
   "source": [
    "from src.models.components.cont_cnn import CCNN\n",
    "from src.models.components.cont_cnn import Kernel\n",
    "from src.models.components.cont_cnn import PredictionHead\n",
    "\n",
    "nb_filters = 16\n",
    "num_types = 432\n",
    "\n",
    "\n",
    "kernel = Kernel(hidden1=8, hidden2=4, hidden3=8, in_channels=nb_filters, out_channels=nb_filters)\n",
    "\n",
    "head = PredictionHead(in_channels=nb_filters, num_types=num_types)\n",
    "\n",
    "net = CCNN(in_channels=32, kernel_size=5, nb_filters=nb_filters, nb_layers=2,\n",
    "           num_types=num_types, kernel=kernel, head=head)"
   ]
  },
  {
   "cell_type": "code",
   "execution_count": 6,
   "id": "b3b04183",
   "metadata": {},
   "outputs": [
    {
     "name": "stderr",
     "output_type": "stream",
     "text": [
      "/home/morlov/.local/share/virtualenvs/pytorch-lifestream-1iBTwtzi/lib/python3.8/site-packages/pytorch_lightning/utilities/parsing.py:261: UserWarning: Attribute 'net' is an instance of `nn.Module` and is already saved during checkpointing. It is recommended to ignore them using `self.save_hyperparameters(ignore=['net'])`.\n",
      "  rank_zero_warn(\n"
     ]
    }
   ],
   "source": [
    "from src.models.base_model import BaseEventModule\n",
    "from src.metrics.cont_cnn import CCNNMetrics\n",
    "from src.utils.metrics import MetricsCore\n",
    "from src.utils.metrics import MAE, Accuracy\n",
    "import torch\n",
    "\n",
    "from omegaconf import OmegaConf, open_dict\n",
    "\n",
    "\n",
    "train_conf = OmegaConf.create({'optimizer': {\"name\": \"adam\", \"params\": {\"lr\": 0.01, \"weight_decay\": 1e-8}}, \n",
    "                               'scheduler': {\"milestones\": [40, 75], \"gamma\": 0.1, \"step\": None}})\n",
    "\n",
    "metrics = CCNNMetrics(return_time_metric = MAE(),\n",
    "                      event_type_metric = Accuracy(),\n",
    "                      type_loss_coeff = 1,\n",
    "                      time_loss_coeff = 10,\n",
    "                      sim_size = 40,\n",
    "                      reductions = {'log_likelihood': 'mean','type': 'sum', 'time': 'mean'}\n",
    "                     )\n",
    "\n",
    "model = BaseEventModule(net = net,\n",
    "                        metrics = metrics,\n",
    "                        optimizer = train_conf.optimizer,\n",
    "                        scheduler = train_conf.scheduler,\n",
    "                        head_start = 1)"
   ]
  },
  {
   "cell_type": "markdown",
   "id": "db6dd5e9-633d-4523-a826-3b0e7e0f7af0",
   "metadata": {},
   "source": [
    "# Generate and validate"
   ]
  },
  {
   "cell_type": "code",
   "execution_count": 7,
   "id": "18f1ecff-10ad-4ee1-8501-fa9a3a95701e",
   "metadata": {},
   "outputs": [
    {
     "data": {
      "text/plain": [
       "<All keys matched successfully>"
      ]
     },
     "execution_count": 7,
     "metadata": {},
     "output_type": "execute_result"
    }
   ],
   "source": [
    "model.load_state_dict(torch.load(\"cotic-alpha-battle.pt\"))"
   ]
  },
  {
   "cell_type": "markdown",
   "id": "be4dcc0e-cc53-4fcb-93b7-eb03ed88f3b7",
   "metadata": {},
   "source": [
    "# Predict next "
   ]
  },
  {
   "cell_type": "code",
   "execution_count": 8,
   "id": "1eb3a5e5",
   "metadata": {},
   "outputs": [],
   "source": [
    "device = torch.device('cuda' if torch.cuda.is_available() else 'cpu')"
   ]
  },
  {
   "cell_type": "code",
   "execution_count": 26,
   "id": "ead66bf9",
   "metadata": {},
   "outputs": [],
   "source": [
    "def generate_next(batch, model, device, sample=True):\n",
    "    \n",
    "    (times, types), lens, ids = batch\n",
    "    times, types = times.to(device), types.to(device)\n",
    "    n = times.size()[0]\n",
    "    idx = torch.arange(n)\n",
    "    \n",
    "    with torch.no_grad():\n",
    "        event_times_pred, event_types_pred = model.to(device)((times, types))[1]\n",
    "    \n",
    "    times = F.pad(input=times, pad=(0, 1), mode='constant', value=0)\n",
    "    types = F.pad(input=types, pad=(0, 1), mode='constant', value=0)\n",
    "    \n",
    "    if sample:\n",
    "        next_times = -event_times_pred.squeeze()[idx, lens+1].to(device) * torch.log(1 - torch.rand(n)).to(device) + times[idx, lens].to(device)\n",
    "        event_types_pred_softmax = torch.softmax(event_types_pred[idx, lens+1, :], dim=1)\n",
    "        next_types = torch.multinomial(event_types_pred_softmax, num_samples=1) + 1\n",
    "    else:\n",
    "        next_times = event_times_pred.squeeze()[idx, lens+1].to(device) + times[idx, lens].to(device)\n",
    "        event_types_pred_softmax = torch.softmax(event_types_pred[idx, lens+1, :], dim=1)\n",
    "        next_types = torch.argmax(event_types_pred_softmax, axis=1)  + 1\n",
    "    \n",
    "    times[idx, lens + 1] = next_times\n",
    "    types[idx, lens + 1] = next_types\n",
    "    lens = lens + 1\n",
    "    \n",
    "    return (times, types), lens, ids "
   ]
  },
  {
   "cell_type": "code",
   "execution_count": 27,
   "id": "834e8127-df62-4d81-8903-b29a4cc15705",
   "metadata": {},
   "outputs": [
    {
     "name": "stderr",
     "output_type": "stream",
     "text": [
      "13448it [01:35, 141.04it/s]"
     ]
    },
    {
     "name": "stdout",
     "output_type": "stream",
     "text": [
      "CPU times: user 1min 29s, sys: 3.87 s, total: 1min 33s\n",
      "Wall time: 1min 35s\n"
     ]
    },
    {
     "name": "stderr",
     "output_type": "stream",
     "text": [
      "\n"
     ]
    },
    {
     "data": {
      "text/html": [
       "<div>\n",
       "<style scoped>\n",
       "    .dataframe tbody tr th:only-of-type {\n",
       "        vertical-align: middle;\n",
       "    }\n",
       "\n",
       "    .dataframe tbody tr th {\n",
       "        vertical-align: top;\n",
       "    }\n",
       "\n",
       "    .dataframe thead th {\n",
       "        text-align: right;\n",
       "    }\n",
       "</style>\n",
       "<table border=\"1\" class=\"dataframe\">\n",
       "  <thead>\n",
       "    <tr style=\"text-align: right;\">\n",
       "      <th></th>\n",
       "      <th>app_id</th>\n",
       "      <th>time_pred</th>\n",
       "      <th>type_pred</th>\n",
       "      <th>pred_mcc</th>\n",
       "      <th>pred_amnt</th>\n",
       "    </tr>\n",
       "  </thead>\n",
       "  <tbody>\n",
       "    <tr>\n",
       "      <th>0</th>\n",
       "      <td>0</td>\n",
       "      <td>5956.907715</td>\n",
       "      <td>8</td>\n",
       "      <td>2</td>\n",
       "      <td>3</td>\n",
       "    </tr>\n",
       "    <tr>\n",
       "      <th>1</th>\n",
       "      <td>1</td>\n",
       "      <td>7565.460449</td>\n",
       "      <td>8</td>\n",
       "      <td>2</td>\n",
       "      <td>3</td>\n",
       "    </tr>\n",
       "    <tr>\n",
       "      <th>2</th>\n",
       "      <td>2</td>\n",
       "      <td>6523.470215</td>\n",
       "      <td>8</td>\n",
       "      <td>2</td>\n",
       "      <td>3</td>\n",
       "    </tr>\n",
       "    <tr>\n",
       "      <th>3</th>\n",
       "      <td>4</td>\n",
       "      <td>3629.863525</td>\n",
       "      <td>36</td>\n",
       "      <td>9</td>\n",
       "      <td>3</td>\n",
       "    </tr>\n",
       "    <tr>\n",
       "      <th>4</th>\n",
       "      <td>6</td>\n",
       "      <td>5206.506836</td>\n",
       "      <td>4</td>\n",
       "      <td>1</td>\n",
       "      <td>3</td>\n",
       "    </tr>\n",
       "  </tbody>\n",
       "</table>\n",
       "</div>"
      ],
      "text/plain": [
       "   app_id    time_pred  type_pred  pred_mcc  pred_amnt\n",
       "0       0  5956.907715          8         2          3\n",
       "1       1  7565.460449          8         2          3\n",
       "2       2  6523.470215          8         2          3\n",
       "3       4  3629.863525         36         9          3\n",
       "4       6  5206.506836          4         1          3"
      ]
     },
     "execution_count": 27,
     "metadata": {},
     "output_type": "execute_result"
    }
   ],
   "source": [
    "%%time\n",
    "times, types, ids = [], [], []\n",
    "\n",
    "torch.multiprocessing.set_sharing_strategy('file_system') \n",
    "\n",
    "for batch in tqdm(train_dl):\n",
    "    (tm, tp), ln, app_ids  = generate_next(batch, model, device, sample=False)\n",
    "    batch_size = ln.shape[0]\n",
    "    times.append(tm[torch.arange(batch_size), ln].cpu().numpy())\n",
    "    types.append(tp[torch.arange(batch_size), ln].cpu().numpy())\n",
    "    ids.append(app_ids)\n",
    "            \n",
    "df_pred = pd.DataFrame()\n",
    "df_pred['app_id'] = np.concatenate(ids)\n",
    "df_pred['time_pred'] = np.concatenate(times) * 11753 - 1\n",
    "df_pred['type_pred'] = np.concatenate(types)\n",
    "\n",
    "df_pred['pred_mcc'] = (df_pred['type_pred'] - 1) // 4 + 1\n",
    "df_pred['pred_amnt'] = (df_pred['type_pred'] - 1) % 4\n",
    "df_pred.head()"
   ]
  },
  {
   "cell_type": "code",
   "execution_count": 28,
   "id": "dfc090c9-704e-42ca-9642-4fe73ee26d35",
   "metadata": {},
   "outputs": [
    {
     "data": {
      "text/plain": [
       "8      130468\n",
       "4      100508\n",
       "1       98858\n",
       "13      35375\n",
       "9       11986\n",
       "        ...  \n",
       "212         1\n",
       "284         1\n",
       "240         1\n",
       "224         1\n",
       "387         1\n",
       "Name: type_pred, Length: 97, dtype: int64"
      ]
     },
     "execution_count": 28,
     "metadata": {},
     "output_type": "execute_result"
    }
   ],
   "source": [
    "df_pred['type_pred'].value_counts()"
   ]
  },
  {
   "cell_type": "code",
   "execution_count": 25,
   "id": "1c2911c6-5772-4a36-bc79-b22c8646b1bd",
   "metadata": {},
   "outputs": [
    {
     "data": {
      "text/plain": [
       "8      66950\n",
       "4      41495\n",
       "1      40828\n",
       "13     16636\n",
       "3      16263\n",
       "       ...  \n",
       "414        5\n",
       "319        4\n",
       "318        2\n",
       "341        2\n",
       "312        1\n",
       "Name: type_act, Length: 429, dtype: int64"
      ]
     },
     "execution_count": 25,
     "metadata": {},
     "output_type": "execute_result"
    }
   ],
   "source": [
    "df_act['type_act'].value_counts()"
   ]
  },
  {
   "cell_type": "markdown",
   "id": "2d719181-0419-4844-965e-e0cffc60bf8c",
   "metadata": {},
   "source": [
    "# Actual next"
   ]
  },
  {
   "cell_type": "code",
   "execution_count": 16,
   "id": "4cf194f1-dccd-40c4-802f-727fd76e2786",
   "metadata": {},
   "outputs": [
    {
     "name": "stderr",
     "output_type": "stream",
     "text": [
      "13429it [00:25, 524.84it/s]\n"
     ]
    },
    {
     "name": "stdout",
     "output_type": "stream",
     "text": [
      "CPU times: user 5.93 s, sys: 2.64 s, total: 8.57 s\n",
      "Wall time: 25.9 s\n"
     ]
    },
    {
     "data": {
      "text/html": [
       "<div>\n",
       "<style scoped>\n",
       "    .dataframe tbody tr th:only-of-type {\n",
       "        vertical-align: middle;\n",
       "    }\n",
       "\n",
       "    .dataframe tbody tr th {\n",
       "        vertical-align: top;\n",
       "    }\n",
       "\n",
       "    .dataframe thead th {\n",
       "        text-align: right;\n",
       "    }\n",
       "</style>\n",
       "<table border=\"1\" class=\"dataframe\">\n",
       "  <thead>\n",
       "    <tr style=\"text-align: right;\">\n",
       "      <th></th>\n",
       "      <th>app_id</th>\n",
       "      <th>time_act</th>\n",
       "      <th>type_act</th>\n",
       "      <th>act_mcc</th>\n",
       "      <th>act_amnt</th>\n",
       "    </tr>\n",
       "  </thead>\n",
       "  <tbody>\n",
       "    <tr>\n",
       "      <th>0</th>\n",
       "      <td>0</td>\n",
       "      <td>5895.999512</td>\n",
       "      <td>7</td>\n",
       "      <td>2</td>\n",
       "      <td>2</td>\n",
       "    </tr>\n",
       "    <tr>\n",
       "      <th>1</th>\n",
       "      <td>1</td>\n",
       "      <td>7559.000000</td>\n",
       "      <td>8</td>\n",
       "      <td>2</td>\n",
       "      <td>3</td>\n",
       "    </tr>\n",
       "    <tr>\n",
       "      <th>2</th>\n",
       "      <td>2</td>\n",
       "      <td>6635.999512</td>\n",
       "      <td>110</td>\n",
       "      <td>28</td>\n",
       "      <td>1</td>\n",
       "    </tr>\n",
       "    <tr>\n",
       "      <th>3</th>\n",
       "      <td>4</td>\n",
       "      <td>3652.000000</td>\n",
       "      <td>36</td>\n",
       "      <td>9</td>\n",
       "      <td>3</td>\n",
       "    </tr>\n",
       "    <tr>\n",
       "      <th>4</th>\n",
       "      <td>6</td>\n",
       "      <td>5219.000000</td>\n",
       "      <td>232</td>\n",
       "      <td>58</td>\n",
       "      <td>3</td>\n",
       "    </tr>\n",
       "  </tbody>\n",
       "</table>\n",
       "</div>"
      ],
      "text/plain": [
       "   app_id     time_act  type_act  act_mcc  act_amnt\n",
       "0       0  5895.999512         7        2         2\n",
       "1       1  7559.000000         8        2         3\n",
       "2       2  6635.999512       110       28         1\n",
       "3       4  3652.000000        36        9         3\n",
       "4       6  5219.000000       232       58         3"
      ]
     },
     "execution_count": 16,
     "metadata": {},
     "output_type": "execute_result"
    }
   ],
   "source": [
    "%%time\n",
    "times, types, ids = [], [], []\n",
    "\n",
    "\n",
    "for batch in tqdm(valid_dl):\n",
    "    (tm, tp), ln, app_ids  = batch\n",
    "    batch_size = ln.shape[0]\n",
    "    times.append(tm[torch.arange(batch_size), 0].cpu().numpy())\n",
    "    types.append(tp[torch.arange(batch_size), 0].cpu().numpy())\n",
    "    ids.append(app_ids)\n",
    "            \n",
    "df_act = pd.DataFrame()\n",
    "df_act['app_id'] = np.concatenate(ids)\n",
    "df_act['time_act'] = np.concatenate(times) * 11753 - 1\n",
    "df_act['type_act'] = np.concatenate(types)\n",
    "\n",
    "df_act['act_mcc'] = (df_act['type_act'] - 1) // 4 + 1\n",
    "df_act['act_amnt'] = (df_act['type_act'] - 1) % 4\n",
    "df_act.head()"
   ]
  },
  {
   "cell_type": "markdown",
   "id": "b8c61f62-bdf9-4621-8b65-110fa0713571",
   "metadata": {},
   "source": [
    "# Compare"
   ]
  },
  {
   "cell_type": "code",
   "execution_count": 29,
   "id": "65544691-6a95-45ef-9849-d52806623436",
   "metadata": {},
   "outputs": [
    {
     "data": {
      "text/plain": [
       "((429711, 9), (429711, 5), (430309, 5))"
      ]
     },
     "execution_count": 29,
     "metadata": {},
     "output_type": "execute_result"
    }
   ],
   "source": [
    "df = df_act.merge(df_pred, on=\"app_id\")\n",
    "df.shape, df_act.shape, df_pred.shape"
   ]
  },
  {
   "cell_type": "code",
   "execution_count": 30,
   "id": "e9a7a6c6-bb78-48a0-ac51-f8ca2c5e38dd",
   "metadata": {},
   "outputs": [
    {
     "name": "stdout",
     "output_type": "stream",
     "text": [
      "Time MAE: 33.295925\n",
      "Type accuracy: 0.2153982560371971\n",
      "Amnt accuracy: 0.5532485786959143\n",
      "MCC accuracy: 0.3192797019392103\n"
     ]
    }
   ],
   "source": [
    "from sklearn.metrics import mean_absolute_error, accuracy_score, confusion_matrix\n",
    "\n",
    "print('Time MAE:', mean_absolute_error(df['time_act'], df['time_pred']))\n",
    "print('Type accuracy:', accuracy_score(df['type_act'], df['type_pred']))\n",
    "print('Amnt accuracy:', accuracy_score(df['act_amnt'], df['pred_amnt']))\n",
    "print('MCC accuracy:', accuracy_score(df['act_mcc'], df['pred_mcc']))"
   ]
  },
  {
   "cell_type": "markdown",
   "id": "6c236e53-c1be-4844-9cfa-a32fbc41c670",
   "metadata": {},
   "source": [
    "# Analyze generated times and types"
   ]
  },
  {
   "cell_type": "code",
   "execution_count": 42,
   "id": "82bd02f5-5225-4688-a707-0f209a29863e",
   "metadata": {},
   "outputs": [
    {
     "name": "stderr",
     "output_type": "stream",
     "text": [
      "5809it [00:38, 150.36it/s]"
     ]
    },
    {
     "name": "stdout",
     "output_type": "stream",
     "text": [
      "CPU times: user 32.1 s, sys: 4.7 s, total: 36.8 s\n",
      "Wall time: 38.7 s\n"
     ]
    },
    {
     "name": "stderr",
     "output_type": "stream",
     "text": [
      "\n"
     ]
    }
   ],
   "source": [
    "%%time\n",
    "n_steps = 5\n",
    "\n",
    "prev_times, prev_types, times, types, next_times, next_types, lens = [], [], [], [], [], [], []\n",
    "\n",
    "for batch in tqdm(valid_dl):\n",
    "    \n",
    "    (tm, tp), ln  = generate_next(batch, model, device)\n",
    "    \n",
    "    times.append(tm[torch.arange(16), ln-1].cpu().numpy())\n",
    "    types.append(tp[torch.arange(16), ln-1].cpu().numpy())\n",
    "    next_times.append(tm[torch.arange(16), ln].cpu().numpy())\n",
    "    next_types.append(tp[torch.arange(16), ln].cpu().numpy())\n",
    "    prev_times.append(tm[torch.arange(16), ln-2].cpu().numpy())\n",
    "    prev_types.append(tp[torch.arange(16), ln-2].cpu().numpy())\n",
    "    lens.append(ln)\n",
    "        \n"
   ]
  },
  {
   "cell_type": "code",
   "execution_count": 43,
   "id": "cb843ee4-11cf-40a6-b331-3a78b80448c1",
   "metadata": {},
   "outputs": [
    {
     "data": {
      "text/html": [
       "<div>\n",
       "<style scoped>\n",
       "    .dataframe tbody tr th:only-of-type {\n",
       "        vertical-align: middle;\n",
       "    }\n",
       "\n",
       "    .dataframe tbody tr th {\n",
       "        vertical-align: top;\n",
       "    }\n",
       "\n",
       "    .dataframe thead th {\n",
       "        text-align: right;\n",
       "    }\n",
       "</style>\n",
       "<table border=\"1\" class=\"dataframe\">\n",
       "  <thead>\n",
       "    <tr style=\"text-align: right;\">\n",
       "      <th></th>\n",
       "      <th>lens</th>\n",
       "      <th>prev_times</th>\n",
       "      <th>times</th>\n",
       "      <th>next_times</th>\n",
       "      <th>prev_types</th>\n",
       "      <th>types</th>\n",
       "      <th>next_types</th>\n",
       "      <th>prev_diff</th>\n",
       "      <th>next_diff</th>\n",
       "    </tr>\n",
       "  </thead>\n",
       "  <tbody>\n",
       "    <tr>\n",
       "      <th>0</th>\n",
       "      <td>462</td>\n",
       "      <td>6649</td>\n",
       "      <td>6649</td>\n",
       "      <td>6660</td>\n",
       "      <td>0</td>\n",
       "      <td>0</td>\n",
       "      <td>31</td>\n",
       "      <td>0</td>\n",
       "      <td>11</td>\n",
       "    </tr>\n",
       "    <tr>\n",
       "      <th>1</th>\n",
       "      <td>240</td>\n",
       "      <td>8428</td>\n",
       "      <td>8492</td>\n",
       "      <td>8525</td>\n",
       "      <td>4</td>\n",
       "      <td>26</td>\n",
       "      <td>25</td>\n",
       "      <td>64</td>\n",
       "      <td>33</td>\n",
       "    </tr>\n",
       "    <tr>\n",
       "      <th>2</th>\n",
       "      <td>331</td>\n",
       "      <td>8406</td>\n",
       "      <td>8406</td>\n",
       "      <td>8410</td>\n",
       "      <td>57</td>\n",
       "      <td>0</td>\n",
       "      <td>157</td>\n",
       "      <td>0</td>\n",
       "      <td>4</td>\n",
       "    </tr>\n",
       "    <tr>\n",
       "      <th>3</th>\n",
       "      <td>296</td>\n",
       "      <td>8566</td>\n",
       "      <td>8566</td>\n",
       "      <td>8568</td>\n",
       "      <td>1</td>\n",
       "      <td>1</td>\n",
       "      <td>1</td>\n",
       "      <td>0</td>\n",
       "      <td>2</td>\n",
       "    </tr>\n",
       "    <tr>\n",
       "      <th>4</th>\n",
       "      <td>121</td>\n",
       "      <td>6852</td>\n",
       "      <td>7500</td>\n",
       "      <td>7720</td>\n",
       "      <td>5</td>\n",
       "      <td>5</td>\n",
       "      <td>4</td>\n",
       "      <td>648</td>\n",
       "      <td>220</td>\n",
       "    </tr>\n",
       "  </tbody>\n",
       "</table>\n",
       "</div>"
      ],
      "text/plain": [
       "   lens  prev_times  times  next_times  prev_types  types  next_types  \\\n",
       "0   462        6649   6649        6660           0      0          31   \n",
       "1   240        8428   8492        8525           4     26          25   \n",
       "2   331        8406   8406        8410          57      0         157   \n",
       "3   296        8566   8566        8568           1      1           1   \n",
       "4   121        6852   7500        7720           5      5           4   \n",
       "\n",
       "   prev_diff  next_diff  \n",
       "0          0         11  \n",
       "1         64         33  \n",
       "2          0          4  \n",
       "3          0          2  \n",
       "4        648        220  "
      ]
     },
     "execution_count": 43,
     "metadata": {},
     "output_type": "execute_result"
    }
   ],
   "source": [
    "df_res = pd.DataFrame()\n",
    "\n",
    "df_res['lens'] = np.concatenate(lens)\n",
    "df_res['prev_times'] = np.concatenate(prev_times)\n",
    "df_res['times'] = np.concatenate(times)\n",
    "df_res['next_times'] = np.concatenate(next_times)\n",
    "df_res['prev_types'] = np.concatenate(prev_types)\n",
    "df_res['types'] = np.concatenate(types)\n",
    "df_res['next_types'] = np.concatenate(next_types)\n",
    "\n",
    "df_res['prev_diff'] = df_res['times'] - df_res['prev_times']\n",
    "df_res['next_diff'] = df_res['next_times'] - df_res['times']\n",
    "df_res.head()"
   ]
  },
  {
   "cell_type": "code",
   "execution_count": 44,
   "id": "5de8aae6-98d1-4a07-a2ce-07c8e8e57641",
   "metadata": {},
   "outputs": [
    {
     "data": {
      "image/png": "[encoded data removed]",
      "text/plain": [
       "<Figure size 640x480 with 1 Axes>"
      ]
     },
     "metadata": {},
     "output_type": "display_data"
    }
   ],
   "source": [
    "df_res['lens'].hist()\n",
    "plt.show()"
   ]
  },
  {
   "cell_type": "code",
   "execution_count": 45,
   "id": "c9621213-577e-45bd-aac5-0bd1704fad1e",
   "metadata": {},
   "outputs": [
    {
     "data": {
      "image/png": "[encoded data removed]",
      "text/plain": [
       "<Figure size 640x480 with 1 Axes>"
      ]
     },
     "metadata": {},
     "output_type": "display_data"
    },
    {
     "name": "stdout",
     "output_type": "stream",
     "text": [
      "7311.544736615597 7434.210965742813 7466.25276510587\n"
     ]
    }
   ],
   "source": [
    "df_res['times'].hist(bins=50, legend='cur', density=True, histtype=u'step')\n",
    "df_res['prev_times'].hist(bins=50, legend='prev', density=True, histtype=u'step')\n",
    "df_res['next_times'].hist(bins=50, legend='next', density=True, histtype=u'step')\n",
    "plt.show()\n",
    "\n",
    "print(df_res['prev_times'].mean(), df_res['times'].mean(), df_res['next_times'].mean())"
   ]
  },
  {
   "cell_type": "code",
   "execution_count": 46,
   "id": "cb386cc1-603b-4104-96cd-58f240c7d340",
   "metadata": {},
   "outputs": [
    {
     "data": {
      "image/png": "[encoded data removed]",
      "text/plain": [
       "<Figure size 640x480 with 1 Axes>"
      ]
     },
     "metadata": {},
     "output_type": "display_data"
    }
   ],
   "source": [
    "plt.xscale('log')\n",
    "(df_res['prev_diff']).hist(bins=100, legend='prev')\n",
    "(df_res['next_diff']).hist(bins=100, legend='next')\n",
    "plt.show()"
   ]
  },
  {
   "cell_type": "markdown",
   "id": "4892cc94-4ae0-4622-9035-f0b03ee35076",
   "metadata": {},
   "source": [
    "# Predict next time and types quality"
   ]
  },
  {
   "cell_type": "code",
   "execution_count": 56,
   "id": "8bd1f6b0-fdcf-42c1-b1b0-943ace0bdef2",
   "metadata": {},
   "outputs": [
    {
     "name": "stderr",
     "output_type": "stream",
     "text": [
      "5809it [00:38, 152.61it/s]"
     ]
    },
    {
     "name": "stdout",
     "output_type": "stream",
     "text": [
      "CPU times: user 29.6 s, sys: 7.21 s, total: 36.8 s\n",
      "Wall time: 38.1 s\n"
     ]
    },
    {
     "name": "stderr",
     "output_type": "stream",
     "text": [
      "\n"
     ]
    }
   ],
   "source": [
    "%%time\n",
    "ds_next = []\n",
    "\n",
    "actual_times, predicted_times, actual_types, predicted_types = [], [], [], []\n",
    "\n",
    "for batch in tqdm(valid_dl):\n",
    "    \n",
    "    (tm, tp), ln  = batch\n",
    "    actual_times.append(tm[torch.arange(16), ln].cpu().numpy())\n",
    "    actual_types.append(tp[torch.arange(16), ln].cpu().numpy())\n",
    "    \n",
    "    tm[torch.arange(16), ln] = 0\n",
    "    tp[torch.arange(16), ln] = 0\n",
    "    ln -= 1\n",
    "    batch = (tm, tp), ln\n",
    "    \n",
    "    (tm, tp), ln  = generate_next(batch, model, device, sample=False)\n",
    "    predicted_times.append(tm[torch.arange(16), ln].cpu().numpy())\n",
    "    predicted_types.append(tp[torch.arange(16), ln].cpu().numpy())"
   ]
  },
  {
   "cell_type": "code",
   "execution_count": 48,
   "id": "c948a8a0-57e1-44d0-940a-3b066d24ef00",
   "metadata": {},
   "outputs": [
    {
     "data": {
      "text/html": [
       "<div>\n",
       "<style scoped>\n",
       "    .dataframe tbody tr th:only-of-type {\n",
       "        vertical-align: middle;\n",
       "    }\n",
       "\n",
       "    .dataframe tbody tr th {\n",
       "        vertical-align: top;\n",
       "    }\n",
       "\n",
       "    .dataframe thead th {\n",
       "        text-align: right;\n",
       "    }\n",
       "</style>\n",
       "<table border=\"1\" class=\"dataframe\">\n",
       "  <thead>\n",
       "    <tr style=\"text-align: right;\">\n",
       "      <th></th>\n",
       "      <th>actual_times</th>\n",
       "      <th>actual_types</th>\n",
       "      <th>predicted_times</th>\n",
       "      <th>predicted_types</th>\n",
       "      <th>time_diff</th>\n",
       "      <th>actual_mcc</th>\n",
       "      <th>actual_amnt</th>\n",
       "      <th>predicted_mcc</th>\n",
       "      <th>predicted_amnt</th>\n",
       "    </tr>\n",
       "  </thead>\n",
       "  <tbody>\n",
       "    <tr>\n",
       "      <th>0</th>\n",
       "      <td>6649</td>\n",
       "      <td>0</td>\n",
       "      <td>6655</td>\n",
       "      <td>0</td>\n",
       "      <td>6</td>\n",
       "      <td>1</td>\n",
       "      <td>0</td>\n",
       "      <td>1</td>\n",
       "      <td>0</td>\n",
       "    </tr>\n",
       "    <tr>\n",
       "      <th>1</th>\n",
       "      <td>8492</td>\n",
       "      <td>26</td>\n",
       "      <td>8437</td>\n",
       "      <td>25</td>\n",
       "      <td>-55</td>\n",
       "      <td>9</td>\n",
       "      <td>2</td>\n",
       "      <td>9</td>\n",
       "      <td>1</td>\n",
       "    </tr>\n",
       "    <tr>\n",
       "      <th>2</th>\n",
       "      <td>8406</td>\n",
       "      <td>0</td>\n",
       "      <td>8415</td>\n",
       "      <td>8</td>\n",
       "      <td>9</td>\n",
       "      <td>1</td>\n",
       "      <td>0</td>\n",
       "      <td>3</td>\n",
       "      <td>2</td>\n",
       "    </tr>\n",
       "    <tr>\n",
       "      <th>3</th>\n",
       "      <td>8566</td>\n",
       "      <td>1</td>\n",
       "      <td>8571</td>\n",
       "      <td>1</td>\n",
       "      <td>5</td>\n",
       "      <td>1</td>\n",
       "      <td>1</td>\n",
       "      <td>1</td>\n",
       "      <td>1</td>\n",
       "    </tr>\n",
       "    <tr>\n",
       "      <th>4</th>\n",
       "      <td>7500</td>\n",
       "      <td>5</td>\n",
       "      <td>6954</td>\n",
       "      <td>4</td>\n",
       "      <td>-546</td>\n",
       "      <td>2</td>\n",
       "      <td>2</td>\n",
       "      <td>2</td>\n",
       "      <td>1</td>\n",
       "    </tr>\n",
       "  </tbody>\n",
       "</table>\n",
       "</div>"
      ],
      "text/plain": [
       "   actual_times  actual_types  predicted_times  predicted_types  time_diff  \\\n",
       "0          6649             0             6655                0          6   \n",
       "1          8492            26             8437               25        -55   \n",
       "2          8406             0             8415                8          9   \n",
       "3          8566             1             8571                1          5   \n",
       "4          7500             5             6954                4       -546   \n",
       "\n",
       "   actual_mcc  actual_amnt  predicted_mcc  predicted_amnt  \n",
       "0           1            0              1               0  \n",
       "1           9            2              9               1  \n",
       "2           1            0              3               2  \n",
       "3           1            1              1               1  \n",
       "4           2            2              2               1  "
      ]
     },
     "execution_count": 48,
     "metadata": {},
     "output_type": "execute_result"
    }
   ],
   "source": [
    "df_res = pd.DataFrame()\n",
    "\n",
    "df_res['actual_times'] = np.concatenate(actual_times)\n",
    "df_res['actual_types'] = np.concatenate(actual_types)\n",
    "df_res['predicted_times'] = np.concatenate(predicted_times)\n",
    "df_res['predicted_types'] = np.concatenate(predicted_types)\n",
    "df_res['time_diff'] = df_res['predicted_times'] - df_res['actual_times'] \n",
    "\n",
    "df_res['actual_mcc'] = df_res['actual_types'] // 3 + 1\n",
    "df_res['actual_amnt'] = df_res['actual_types'] % 3\n",
    "\n",
    "df_res['predicted_mcc'] = df_res['predicted_types'] // 3 + 1\n",
    "df_res['predicted_amnt'] = df_res['predicted_types'] % 3\n",
    "\n",
    "\n",
    "df_res.head()"
   ]
  },
  {
   "cell_type": "code",
   "execution_count": 49,
   "id": "829c55a8-563e-4912-bb41-a19c2a6d867a",
   "metadata": {},
   "outputs": [
    {
     "data": {
      "image/png": "[encoded data removed]",
      "text/plain": [
       "<Figure size 640x480 with 1 Axes>"
      ]
     },
     "metadata": {},
     "output_type": "display_data"
    }
   ],
   "source": [
    "df_res['time_diff'].hist(bins=100)\n",
    "plt.show()"
   ]
  },
  {
   "cell_type": "code",
   "execution_count": 50,
   "id": "e3a9826f-edd9-42cf-8290-b991699087fb",
   "metadata": {},
   "outputs": [
    {
     "name": "stdout",
     "output_type": "stream",
     "text": [
      "Time MAE: 110.39942330865898\n",
      "Type accuracy: 0.09204467206059563\n",
      "Amnt accuracy: 0.2554226200723016\n",
      "MCC accuracy: 0.3931937510759167\n"
     ]
    }
   ],
   "source": [
    "from sklearn.metrics import mean_absolute_error, accuracy_score, confusion_matrix\n",
    "\n",
    "print('Time MAE:', mean_absolute_error(df_res['actual_times'], df_res['predicted_times']))\n",
    "print('Type accuracy:', accuracy_score(df_res['actual_types'], df_res['predicted_types']))\n",
    "print('Amnt accuracy:', accuracy_score(df_res['actual_amnt'], df_res['predicted_amnt']))\n",
    "print('MCC accuracy:', accuracy_score(df_res['actual_mcc'], df_res['predicted_mcc']))"
   ]
  },
  {
   "cell_type": "code",
   "execution_count": 51,
   "id": "59aef87a-ae51-4755-b678-f41a8b549b04",
   "metadata": {},
   "outputs": [
    {
     "data": {
      "text/plain": [
       "array([[0.48747722, 0.27863711, 0.23388566],\n",
       "       [0.49123078, 0.36560922, 0.14316   ],\n",
       "       [0.25628974, 0.68030596, 0.06340429]])"
      ]
     },
     "execution_count": 51,
     "metadata": {},
     "output_type": "execute_result"
    }
   ],
   "source": [
    "confusion_matrix(df_res['actual_amnt'], df_res['predicted_amnt'], normalize='true')"
   ]
  },
  {
   "cell_type": "code",
   "execution_count": 52,
   "id": "6a94e03e-3973-4b47-b91b-aa6c6f9a6172",
   "metadata": {},
   "outputs": [
    {
     "data": {
      "text/plain": [
       "array([[0.63102028, 0.2634136 , 0.05043304, ..., 0.        , 0.        ,\n",
       "        0.        ],\n",
       "       [0.19616935, 0.72688172, 0.02718414, ..., 0.        , 0.        ,\n",
       "        0.        ],\n",
       "       [0.47816286, 0.38461538, 0.04451958, ..., 0.        , 0.        ,\n",
       "        0.        ],\n",
       "       ...,\n",
       "       [0.        , 0.5       , 0.16666667, ..., 0.        , 0.        ,\n",
       "        0.        ],\n",
       "       [0.56      , 0.44      , 0.        , ..., 0.        , 0.        ,\n",
       "        0.        ],\n",
       "       [0.35399674, 0.4730832 , 0.04404568, ..., 0.        , 0.        ,\n",
       "        0.        ]])"
      ]
     },
     "execution_count": 52,
     "metadata": {},
     "output_type": "execute_result"
    }
   ],
   "source": [
    "confusion_matrix(df_res['actual_mcc'], df_res['predicted_mcc'],  normalize='true')"
   ]
  },
  {
   "cell_type": "markdown",
   "id": "270ecf5c-78fe-4d6c-8c13-82c2992ce35d",
   "metadata": {},
   "source": [
    "# Levinstein"
   ]
  },
  {
   "cell_type": "code",
   "execution_count": null,
   "id": "209e93bf",
   "metadata": {},
   "outputs": [],
   "source": [
    "def metric(real_trx, generated_trx):\n",
    "    return lev(real_trx, generated_trx)\n",
    "\n",
    "def evaluate(train_df, valid_df, model, n):\n",
    "    score = 0\n",
    "    \n",
    "    for i in range(n): \n",
    "        \n",
    "        if i == 0:\n",
    "            batch = train_df[:][-1] #ластовые транзакции из трейна\n",
    "        else:\n",
    "            batch = valid[:][i]\n",
    "            \n",
    "        real = valid[:][i + 1]\n",
    "        \n",
    "        generated_trx = generate_next(batch, model)\n",
    "        \n",
    "        if i == 0:\n",
    "            print('first trxs:', 'real:', real_trx, 'generated:', generated_trx)\n",
    "            \n",
    "        score += metric(real_trx, generated_trx)\n",
    "\n",
    "    print('metric:', metric(real_trx, generated_trx))\n",
    "    return score"
   ]
  },
  {
   "cell_type": "code",
   "execution_count": null,
   "id": "7fb0d046",
   "metadata": {},
   "outputs": [],
   "source": [
    "evaluate(train_df, valid_df, model, n=3)"
   ]
  }
 ],
 "metadata": {
  "kernelspec": {
   "display_name": "ptls",
   "language": "python",
   "name": "ptls"
  },
  "language_info": {
   "codemirror_mode": {
    "name": "ipython",
    "version": 3
   },
   "file_extension": ".py",
   "mimetype": "text/x-python",
   "name": "python",
   "nbconvert_exporter": "python",
   "pygments_lexer": "ipython3",
   "version": "3.8.10"
  }
 },
 "nbformat": 4,
 "nbformat_minor": 5
}
