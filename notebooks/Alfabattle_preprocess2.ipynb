{
 "cells": [
  {
   "cell_type": "code",
   "execution_count": 1,
   "id": "35f312f6-cae3-49b8-b723-4df286b4c2f7",
   "metadata": {},
   "outputs": [],
   "source": [
    "import pandas as pd\n",
    "import numpy as np"
   ]
  },
  {
   "cell_type": "code",
   "execution_count": 2,
   "id": "fee336c8-0dd8-4615-8765-58ff3900491c",
   "metadata": {},
   "outputs": [
    {
     "name": "stdout",
     "output_type": "stream",
     "text": [
      "(270450065, 20)\n",
      "CPU times: user 41.3 s, sys: 1min 7s, total: 1min 48s\n",
      "Wall time: 8.4 s\n"
     ]
    },
    {
     "data": {
      "text/html": [
       "<div>\n",
       "<style scoped>\n",
       "    .dataframe tbody tr th:only-of-type {\n",
       "        vertical-align: middle;\n",
       "    }\n",
       "\n",
       "    .dataframe tbody tr th {\n",
       "        vertical-align: top;\n",
       "    }\n",
       "\n",
       "    .dataframe thead th {\n",
       "        text-align: right;\n",
       "    }\n",
       "</style>\n",
       "<table border=\"1\" class=\"dataframe\">\n",
       "  <thead>\n",
       "    <tr style=\"text-align: right;\">\n",
       "      <th></th>\n",
       "      <th>app_id</th>\n",
       "      <th>amnt</th>\n",
       "      <th>currency</th>\n",
       "      <th>operation_kind</th>\n",
       "      <th>card_type</th>\n",
       "      <th>operation_type</th>\n",
       "      <th>operation_type_group</th>\n",
       "      <th>ecommerce_flag</th>\n",
       "      <th>payment_system</th>\n",
       "      <th>income_flag</th>\n",
       "      <th>mcc</th>\n",
       "      <th>country</th>\n",
       "      <th>city</th>\n",
       "      <th>mcc_category</th>\n",
       "      <th>day_of_week</th>\n",
       "      <th>hour</th>\n",
       "      <th>days_before</th>\n",
       "      <th>weekofyear</th>\n",
       "      <th>hour_diff</th>\n",
       "      <th>transaction_number</th>\n",
       "    </tr>\n",
       "  </thead>\n",
       "  <tbody>\n",
       "    <tr>\n",
       "      <th>0</th>\n",
       "      <td>0</td>\n",
       "      <td>0.465425</td>\n",
       "      <td>1</td>\n",
       "      <td>4</td>\n",
       "      <td>98</td>\n",
       "      <td>4</td>\n",
       "      <td>2</td>\n",
       "      <td>3</td>\n",
       "      <td>7</td>\n",
       "      <td>3</td>\n",
       "      <td>2</td>\n",
       "      <td>1</td>\n",
       "      <td>37</td>\n",
       "      <td>2</td>\n",
       "      <td>4</td>\n",
       "      <td>19</td>\n",
       "      <td>351</td>\n",
       "      <td>34</td>\n",
       "      <td>-1</td>\n",
       "      <td>1</td>\n",
       "    </tr>\n",
       "    <tr>\n",
       "      <th>1</th>\n",
       "      <td>0</td>\n",
       "      <td>0.000000</td>\n",
       "      <td>1</td>\n",
       "      <td>2</td>\n",
       "      <td>98</td>\n",
       "      <td>7</td>\n",
       "      <td>1</td>\n",
       "      <td>3</td>\n",
       "      <td>7</td>\n",
       "      <td>3</td>\n",
       "      <td>2</td>\n",
       "      <td>1</td>\n",
       "      <td>49</td>\n",
       "      <td>2</td>\n",
       "      <td>4</td>\n",
       "      <td>20</td>\n",
       "      <td>351</td>\n",
       "      <td>34</td>\n",
       "      <td>0</td>\n",
       "      <td>2</td>\n",
       "    </tr>\n",
       "    <tr>\n",
       "      <th>2</th>\n",
       "      <td>0</td>\n",
       "      <td>0.521152</td>\n",
       "      <td>1</td>\n",
       "      <td>2</td>\n",
       "      <td>98</td>\n",
       "      <td>3</td>\n",
       "      <td>1</td>\n",
       "      <td>3</td>\n",
       "      <td>7</td>\n",
       "      <td>3</td>\n",
       "      <td>2</td>\n",
       "      <td>1</td>\n",
       "      <td>37</td>\n",
       "      <td>2</td>\n",
       "      <td>4</td>\n",
       "      <td>20</td>\n",
       "      <td>351</td>\n",
       "      <td>34</td>\n",
       "      <td>0</td>\n",
       "      <td>3</td>\n",
       "    </tr>\n",
       "    <tr>\n",
       "      <th>3</th>\n",
       "      <td>0</td>\n",
       "      <td>0.356078</td>\n",
       "      <td>1</td>\n",
       "      <td>1</td>\n",
       "      <td>5</td>\n",
       "      <td>2</td>\n",
       "      <td>1</td>\n",
       "      <td>3</td>\n",
       "      <td>7</td>\n",
       "      <td>3</td>\n",
       "      <td>10</td>\n",
       "      <td>1</td>\n",
       "      <td>49</td>\n",
       "      <td>7</td>\n",
       "      <td>2</td>\n",
       "      <td>0</td>\n",
       "      <td>348</td>\n",
       "      <td>34</td>\n",
       "      <td>52</td>\n",
       "      <td>4</td>\n",
       "    </tr>\n",
       "    <tr>\n",
       "      <th>4</th>\n",
       "      <td>0</td>\n",
       "      <td>0.000000</td>\n",
       "      <td>1</td>\n",
       "      <td>2</td>\n",
       "      <td>98</td>\n",
       "      <td>7</td>\n",
       "      <td>1</td>\n",
       "      <td>3</td>\n",
       "      <td>7</td>\n",
       "      <td>3</td>\n",
       "      <td>2</td>\n",
       "      <td>1</td>\n",
       "      <td>49</td>\n",
       "      <td>2</td>\n",
       "      <td>4</td>\n",
       "      <td>16</td>\n",
       "      <td>337</td>\n",
       "      <td>53</td>\n",
       "      <td>280</td>\n",
       "      <td>5</td>\n",
       "    </tr>\n",
       "  </tbody>\n",
       "</table>\n",
       "</div>"
      ],
      "text/plain": [
       "   app_id      amnt  currency  operation_kind  card_type  operation_type  \\\n",
       "0       0  0.465425         1               4         98               4   \n",
       "1       0  0.000000         1               2         98               7   \n",
       "2       0  0.521152         1               2         98               3   \n",
       "3       0  0.356078         1               1          5               2   \n",
       "4       0  0.000000         1               2         98               7   \n",
       "\n",
       "   operation_type_group  ecommerce_flag  payment_system  income_flag  mcc  \\\n",
       "0                     2               3               7            3    2   \n",
       "1                     1               3               7            3    2   \n",
       "2                     1               3               7            3    2   \n",
       "3                     1               3               7            3   10   \n",
       "4                     1               3               7            3    2   \n",
       "\n",
       "   country  city  mcc_category  day_of_week  hour  days_before  weekofyear  \\\n",
       "0        1    37             2            4    19          351          34   \n",
       "1        1    49             2            4    20          351          34   \n",
       "2        1    37             2            4    20          351          34   \n",
       "3        1    49             7            2     0          348          34   \n",
       "4        1    49             2            4    16          337          53   \n",
       "\n",
       "   hour_diff  transaction_number  \n",
       "0         -1                   1  \n",
       "1          0                   2  \n",
       "2          0                   3  \n",
       "3         52                   4  \n",
       "4        280                   5  "
      ]
     },
     "execution_count": 2,
     "metadata": {},
     "output_type": "execute_result"
    }
   ],
   "source": [
    "%%time\n",
    "# df = pd.read_parquet('src/ptls-experiments/scenario_alpha_battle/data/train_transactions_contest.parquet')\n",
    "df = pd.read_parquet('/home/antklen/data/alfabattle/alfabattle2_train_transactions_contest/train_transactions_contest')\n",
    "print(df.shape)\n",
    "df.head()"
   ]
  },
  {
   "cell_type": "markdown",
   "id": "a46c60f6-739a-41e5-8594-d759e6b04474",
   "metadata": {},
   "source": [
    "## Explore hour_diff distribution"
   ]
  },
  {
   "cell_type": "markdown",
   "id": "2f57bddd-229e-490c-959b-81b1f81abba1",
   "metadata": {},
   "source": [
    "Возьмем выборку пользователей, чтобы быстрее производить вычисления."
   ]
  },
  {
   "cell_type": "code",
   "execution_count": 3,
   "id": "ebd64b97-66c4-41bf-8701-3d351d77eaac",
   "metadata": {},
   "outputs": [
    {
     "name": "stdout",
     "output_type": "stream",
     "text": [
      "(8459267, 20)\n"
     ]
    }
   ],
   "source": [
    "app_ids = df.app_id.unique()\n",
    "app_ids = np.random.choice(app_ids, size=30000, replace=False)\n",
    "df2 = df[df.app_id.isin(app_ids)]\n",
    "print(df2.shape)"
   ]
  },
  {
   "cell_type": "markdown",
   "id": "32699d1d-e457-4337-bd9a-5197e1954951",
   "metadata": {},
   "source": [
    "Распределение hour_diff - медиана 5, верхний квартиль - 21"
   ]
  },
  {
   "cell_type": "code",
   "execution_count": 4,
   "id": "439e83b8-eeee-4400-9fb9-9c6adfbfd122",
   "metadata": {},
   "outputs": [
    {
     "data": {
      "text/plain": [
       "count    8.459267e+06\n",
       "mean     2.658384e+01\n",
       "std      8.890295e+01\n",
       "min     -1.000000e+00\n",
       "25%      1.000000e+00\n",
       "50%      5.000000e+00\n",
       "75%      2.100000e+01\n",
       "max      8.203000e+03\n",
       "Name: hour_diff, dtype: float64"
      ]
     },
     "execution_count": 4,
     "metadata": {},
     "output_type": "execute_result"
    }
   ],
   "source": [
    "df2.hour_diff.describe()"
   ]
  },
  {
   "cell_type": "markdown",
   "id": "14ea4277-d58e-4dac-bc26-7a0624c2a6f1",
   "metadata": {},
   "source": [
    "#### hour_diff by transaction number"
   ]
  },
  {
   "cell_type": "markdown",
   "id": "511fa24c-01f8-4b25-aaad-608b7c08bc14",
   "metadata": {},
   "source": [
    "Посмотрим, есть ли какая-то зависимость hour_diff от номера транзакции"
   ]
  },
  {
   "cell_type": "code",
   "execution_count": 5,
   "id": "043fe2a8-ca1b-4506-8884-e9475c30f993",
   "metadata": {},
   "outputs": [
    {
     "data": {
      "text/html": [
       "<div>\n",
       "<style scoped>\n",
       "    .dataframe tbody tr th:only-of-type {\n",
       "        vertical-align: middle;\n",
       "    }\n",
       "\n",
       "    .dataframe tbody tr th {\n",
       "        vertical-align: top;\n",
       "    }\n",
       "\n",
       "    .dataframe thead th {\n",
       "        text-align: right;\n",
       "    }\n",
       "</style>\n",
       "<table border=\"1\" class=\"dataframe\">\n",
       "  <thead>\n",
       "    <tr style=\"text-align: right;\">\n",
       "      <th></th>\n",
       "      <th>count</th>\n",
       "      <th>mean</th>\n",
       "      <th>std</th>\n",
       "      <th>min</th>\n",
       "      <th>25%</th>\n",
       "      <th>50%</th>\n",
       "      <th>75%</th>\n",
       "      <th>max</th>\n",
       "    </tr>\n",
       "    <tr>\n",
       "      <th>transaction_number</th>\n",
       "      <th></th>\n",
       "      <th></th>\n",
       "      <th></th>\n",
       "      <th></th>\n",
       "      <th></th>\n",
       "      <th></th>\n",
       "      <th></th>\n",
       "      <th></th>\n",
       "    </tr>\n",
       "  </thead>\n",
       "  <tbody>\n",
       "    <tr>\n",
       "      <th>1</th>\n",
       "      <td>30000.0</td>\n",
       "      <td>-1.000000</td>\n",
       "      <td>0.000000</td>\n",
       "      <td>-1.0</td>\n",
       "      <td>-1.0</td>\n",
       "      <td>-1.0</td>\n",
       "      <td>-1.0</td>\n",
       "      <td>-1.0</td>\n",
       "    </tr>\n",
       "    <tr>\n",
       "      <th>2</th>\n",
       "      <td>30000.0</td>\n",
       "      <td>150.984900</td>\n",
       "      <td>354.659355</td>\n",
       "      <td>0.0</td>\n",
       "      <td>1.0</td>\n",
       "      <td>22.0</td>\n",
       "      <td>137.0</td>\n",
       "      <td>8203.0</td>\n",
       "    </tr>\n",
       "    <tr>\n",
       "      <th>3</th>\n",
       "      <td>30000.0</td>\n",
       "      <td>140.092667</td>\n",
       "      <td>314.871989</td>\n",
       "      <td>0.0</td>\n",
       "      <td>1.0</td>\n",
       "      <td>22.0</td>\n",
       "      <td>118.0</td>\n",
       "      <td>6713.0</td>\n",
       "    </tr>\n",
       "    <tr>\n",
       "      <th>4</th>\n",
       "      <td>30000.0</td>\n",
       "      <td>128.987467</td>\n",
       "      <td>291.026973</td>\n",
       "      <td>0.0</td>\n",
       "      <td>1.0</td>\n",
       "      <td>20.0</td>\n",
       "      <td>101.0</td>\n",
       "      <td>6821.0</td>\n",
       "    </tr>\n",
       "    <tr>\n",
       "      <th>5</th>\n",
       "      <td>30000.0</td>\n",
       "      <td>127.548800</td>\n",
       "      <td>306.550810</td>\n",
       "      <td>0.0</td>\n",
       "      <td>1.0</td>\n",
       "      <td>20.0</td>\n",
       "      <td>96.0</td>\n",
       "      <td>7364.0</td>\n",
       "    </tr>\n",
       "    <tr>\n",
       "      <th>...</th>\n",
       "      <td>...</td>\n",
       "      <td>...</td>\n",
       "      <td>...</td>\n",
       "      <td>...</td>\n",
       "      <td>...</td>\n",
       "      <td>...</td>\n",
       "      <td>...</td>\n",
       "      <td>...</td>\n",
       "    </tr>\n",
       "    <tr>\n",
       "      <th>96</th>\n",
       "      <td>19899.0</td>\n",
       "      <td>29.841902</td>\n",
       "      <td>75.356967</td>\n",
       "      <td>0.0</td>\n",
       "      <td>1.0</td>\n",
       "      <td>8.0</td>\n",
       "      <td>25.0</td>\n",
       "      <td>2563.0</td>\n",
       "    </tr>\n",
       "    <tr>\n",
       "      <th>97</th>\n",
       "      <td>19839.0</td>\n",
       "      <td>29.578709</td>\n",
       "      <td>71.197304</td>\n",
       "      <td>0.0</td>\n",
       "      <td>1.0</td>\n",
       "      <td>7.0</td>\n",
       "      <td>25.0</td>\n",
       "      <td>2161.0</td>\n",
       "    </tr>\n",
       "    <tr>\n",
       "      <th>98</th>\n",
       "      <td>19772.0</td>\n",
       "      <td>29.896015</td>\n",
       "      <td>75.124003</td>\n",
       "      <td>0.0</td>\n",
       "      <td>1.0</td>\n",
       "      <td>7.0</td>\n",
       "      <td>25.0</td>\n",
       "      <td>2519.0</td>\n",
       "    </tr>\n",
       "    <tr>\n",
       "      <th>99</th>\n",
       "      <td>19694.0</td>\n",
       "      <td>29.353966</td>\n",
       "      <td>70.494186</td>\n",
       "      <td>0.0</td>\n",
       "      <td>1.0</td>\n",
       "      <td>7.0</td>\n",
       "      <td>25.0</td>\n",
       "      <td>2567.0</td>\n",
       "    </tr>\n",
       "    <tr>\n",
       "      <th>100</th>\n",
       "      <td>19623.0</td>\n",
       "      <td>29.299903</td>\n",
       "      <td>70.302328</td>\n",
       "      <td>0.0</td>\n",
       "      <td>1.0</td>\n",
       "      <td>7.0</td>\n",
       "      <td>25.0</td>\n",
       "      <td>1915.0</td>\n",
       "    </tr>\n",
       "  </tbody>\n",
       "</table>\n",
       "<p>100 rows × 8 columns</p>\n",
       "</div>"
      ],
      "text/plain": [
       "                      count        mean         std  min  25%   50%    75%  \\\n",
       "transaction_number                                                           \n",
       "1                   30000.0   -1.000000    0.000000 -1.0 -1.0  -1.0   -1.0   \n",
       "2                   30000.0  150.984900  354.659355  0.0  1.0  22.0  137.0   \n",
       "3                   30000.0  140.092667  314.871989  0.0  1.0  22.0  118.0   \n",
       "4                   30000.0  128.987467  291.026973  0.0  1.0  20.0  101.0   \n",
       "5                   30000.0  127.548800  306.550810  0.0  1.0  20.0   96.0   \n",
       "...                     ...         ...         ...  ...  ...   ...    ...   \n",
       "96                  19899.0   29.841902   75.356967  0.0  1.0   8.0   25.0   \n",
       "97                  19839.0   29.578709   71.197304  0.0  1.0   7.0   25.0   \n",
       "98                  19772.0   29.896015   75.124003  0.0  1.0   7.0   25.0   \n",
       "99                  19694.0   29.353966   70.494186  0.0  1.0   7.0   25.0   \n",
       "100                 19623.0   29.299903   70.302328  0.0  1.0   7.0   25.0   \n",
       "\n",
       "                       max  \n",
       "transaction_number          \n",
       "1                     -1.0  \n",
       "2                   8203.0  \n",
       "3                   6713.0  \n",
       "4                   6821.0  \n",
       "5                   7364.0  \n",
       "...                    ...  \n",
       "96                  2563.0  \n",
       "97                  2161.0  \n",
       "98                  2519.0  \n",
       "99                  2567.0  \n",
       "100                 1915.0  \n",
       "\n",
       "[100 rows x 8 columns]"
      ]
     },
     "execution_count": 5,
     "metadata": {},
     "output_type": "execute_result"
    }
   ],
   "source": [
    "desc_transaction_number = df2.groupby('transaction_number').hour_diff.describe()\n",
    "desc_transaction_number.head(100)"
   ]
  },
  {
   "cell_type": "code",
   "execution_count": 6,
   "id": "eae3f0f4-6c9f-49f8-8812-2acad4cb7e3a",
   "metadata": {},
   "outputs": [
    {
     "data": {
      "text/plain": [
       "<AxesSubplot:xlabel='transaction_number'>"
      ]
     },
     "execution_count": 6,
     "metadata": {},
     "output_type": "execute_result"
    },
    {
     "data": {
      "image/png": "[encoded data removed]",
      "text/plain": [
       "<Figure size 640x480 with 1 Axes>"
      ]
     },
     "metadata": {},
     "output_type": "display_data"
    }
   ],
   "source": [
    "desc_transaction_number.loc[2:500][['mean', '25%', '50%', '75%']].plot()"
   ]
  },
  {
   "cell_type": "markdown",
   "id": "e0155b33-2f97-4ed4-92b1-f5656c062f65",
   "metadata": {},
   "source": [
    "Для первых транзакций значения hour_df сильно больше, потом спадают и выходят на плато."
   ]
  },
  {
   "cell_type": "markdown",
   "id": "334a5a16-f26c-40c2-82a2-8e3f2ed05082",
   "metadata": {},
   "source": [
    "#### hour_diff by app_id"
   ]
  },
  {
   "cell_type": "markdown",
   "id": "5dfdede2-1011-4562-a907-0ad43a223313",
   "metadata": {},
   "source": [
    "Посмотрим, как распределены значения hour_diff для каждого пользователя по отдельности."
   ]
  },
  {
   "cell_type": "code",
   "execution_count": 7,
   "id": "0778bdc4-8a04-45ab-b654-fcf774020b26",
   "metadata": {},
   "outputs": [
    {
     "name": "stdout",
     "output_type": "stream",
     "text": [
      "CPU times: user 36.4 s, sys: 631 ms, total: 37.1 s\n",
      "Wall time: 37.1 s\n"
     ]
    }
   ],
   "source": [
    "%%time\n",
    "desc_app_id = df2.groupby('app_id').hour_diff.describe()"
   ]
  },
  {
   "cell_type": "code",
   "execution_count": 9,
   "id": "7a2d4f61-0e35-4e85-878e-68e8c6985aca",
   "metadata": {},
   "outputs": [
    {
     "data": {
      "text/html": [
       "<div>\n",
       "<style scoped>\n",
       "    .dataframe tbody tr th:only-of-type {\n",
       "        vertical-align: middle;\n",
       "    }\n",
       "\n",
       "    .dataframe tbody tr th {\n",
       "        vertical-align: top;\n",
       "    }\n",
       "\n",
       "    .dataframe thead th {\n",
       "        text-align: right;\n",
       "    }\n",
       "</style>\n",
       "<table border=\"1\" class=\"dataframe\">\n",
       "  <thead>\n",
       "    <tr style=\"text-align: right;\">\n",
       "      <th></th>\n",
       "      <th>count</th>\n",
       "      <th>mean</th>\n",
       "      <th>std</th>\n",
       "      <th>min</th>\n",
       "      <th>25%</th>\n",
       "      <th>50%</th>\n",
       "      <th>75%</th>\n",
       "      <th>max</th>\n",
       "    </tr>\n",
       "    <tr>\n",
       "      <th>app_id</th>\n",
       "      <th></th>\n",
       "      <th></th>\n",
       "      <th></th>\n",
       "      <th></th>\n",
       "      <th></th>\n",
       "      <th></th>\n",
       "      <th></th>\n",
       "      <th></th>\n",
       "    </tr>\n",
       "  </thead>\n",
       "  <tbody>\n",
       "    <tr>\n",
       "      <th>220203</th>\n",
       "      <td>56.0</td>\n",
       "      <td>128.607143</td>\n",
       "      <td>205.873013</td>\n",
       "      <td>-1.0</td>\n",
       "      <td>0.00</td>\n",
       "      <td>20.5</td>\n",
       "      <td>155.00</td>\n",
       "      <td>815.0</td>\n",
       "    </tr>\n",
       "    <tr>\n",
       "      <th>571731</th>\n",
       "      <td>292.0</td>\n",
       "      <td>29.263699</td>\n",
       "      <td>36.737796</td>\n",
       "      <td>-1.0</td>\n",
       "      <td>2.75</td>\n",
       "      <td>20.0</td>\n",
       "      <td>41.00</td>\n",
       "      <td>240.0</td>\n",
       "    </tr>\n",
       "    <tr>\n",
       "      <th>943001</th>\n",
       "      <td>641.0</td>\n",
       "      <td>13.068643</td>\n",
       "      <td>32.881534</td>\n",
       "      <td>-1.0</td>\n",
       "      <td>0.00</td>\n",
       "      <td>2.0</td>\n",
       "      <td>15.00</td>\n",
       "      <td>266.0</td>\n",
       "    </tr>\n",
       "    <tr>\n",
       "      <th>410029</th>\n",
       "      <td>413.0</td>\n",
       "      <td>19.920097</td>\n",
       "      <td>74.767088</td>\n",
       "      <td>-1.0</td>\n",
       "      <td>1.00</td>\n",
       "      <td>3.0</td>\n",
       "      <td>16.00</td>\n",
       "      <td>716.0</td>\n",
       "    </tr>\n",
       "    <tr>\n",
       "      <th>801960</th>\n",
       "      <td>109.0</td>\n",
       "      <td>78.513761</td>\n",
       "      <td>101.854436</td>\n",
       "      <td>-1.0</td>\n",
       "      <td>3.00</td>\n",
       "      <td>41.0</td>\n",
       "      <td>113.00</td>\n",
       "      <td>510.0</td>\n",
       "    </tr>\n",
       "    <tr>\n",
       "      <th>774539</th>\n",
       "      <td>210.0</td>\n",
       "      <td>40.052381</td>\n",
       "      <td>110.786886</td>\n",
       "      <td>-1.0</td>\n",
       "      <td>0.00</td>\n",
       "      <td>4.0</td>\n",
       "      <td>28.75</td>\n",
       "      <td>1127.0</td>\n",
       "    </tr>\n",
       "    <tr>\n",
       "      <th>356465</th>\n",
       "      <td>1516.0</td>\n",
       "      <td>5.631266</td>\n",
       "      <td>8.627260</td>\n",
       "      <td>-1.0</td>\n",
       "      <td>0.00</td>\n",
       "      <td>2.0</td>\n",
       "      <td>6.00</td>\n",
       "      <td>96.0</td>\n",
       "    </tr>\n",
       "    <tr>\n",
       "      <th>284947</th>\n",
       "      <td>16.0</td>\n",
       "      <td>486.937500</td>\n",
       "      <td>400.813418</td>\n",
       "      <td>-1.0</td>\n",
       "      <td>181.75</td>\n",
       "      <td>409.5</td>\n",
       "      <td>798.75</td>\n",
       "      <td>1319.0</td>\n",
       "    </tr>\n",
       "    <tr>\n",
       "      <th>858257</th>\n",
       "      <td>214.0</td>\n",
       "      <td>39.677570</td>\n",
       "      <td>55.560176</td>\n",
       "      <td>-1.0</td>\n",
       "      <td>2.00</td>\n",
       "      <td>22.5</td>\n",
       "      <td>49.75</td>\n",
       "      <td>348.0</td>\n",
       "    </tr>\n",
       "    <tr>\n",
       "      <th>234682</th>\n",
       "      <td>128.0</td>\n",
       "      <td>64.640625</td>\n",
       "      <td>213.108775</td>\n",
       "      <td>-1.0</td>\n",
       "      <td>0.00</td>\n",
       "      <td>4.0</td>\n",
       "      <td>45.00</td>\n",
       "      <td>2060.0</td>\n",
       "    </tr>\n",
       "  </tbody>\n",
       "</table>\n",
       "</div>"
      ],
      "text/plain": [
       "         count        mean         std  min     25%    50%     75%     max\n",
       "app_id                                                                    \n",
       "220203    56.0  128.607143  205.873013 -1.0    0.00   20.5  155.00   815.0\n",
       "571731   292.0   29.263699   36.737796 -1.0    2.75   20.0   41.00   240.0\n",
       "943001   641.0   13.068643   32.881534 -1.0    0.00    2.0   15.00   266.0\n",
       "410029   413.0   19.920097   74.767088 -1.0    1.00    3.0   16.00   716.0\n",
       "801960   109.0   78.513761  101.854436 -1.0    3.00   41.0  113.00   510.0\n",
       "774539   210.0   40.052381  110.786886 -1.0    0.00    4.0   28.75  1127.0\n",
       "356465  1516.0    5.631266    8.627260 -1.0    0.00    2.0    6.00    96.0\n",
       "284947    16.0  486.937500  400.813418 -1.0  181.75  409.5  798.75  1319.0\n",
       "858257   214.0   39.677570   55.560176 -1.0    2.00   22.5   49.75   348.0\n",
       "234682   128.0   64.640625  213.108775 -1.0    0.00    4.0   45.00  2060.0"
      ]
     },
     "execution_count": 9,
     "metadata": {},
     "output_type": "execute_result"
    }
   ],
   "source": [
    "desc_app_id.sample(10)"
   ]
  },
  {
   "cell_type": "code",
   "execution_count": 10,
   "id": "388b8e71-426f-4097-8db7-6bddc6957354",
   "metadata": {},
   "outputs": [
    {
     "data": {
      "text/html": [
       "<div>\n",
       "<style scoped>\n",
       "    .dataframe tbody tr th:only-of-type {\n",
       "        vertical-align: middle;\n",
       "    }\n",
       "\n",
       "    .dataframe tbody tr th {\n",
       "        vertical-align: top;\n",
       "    }\n",
       "\n",
       "    .dataframe thead th {\n",
       "        text-align: right;\n",
       "    }\n",
       "</style>\n",
       "<table border=\"1\" class=\"dataframe\">\n",
       "  <thead>\n",
       "    <tr style=\"text-align: right;\">\n",
       "      <th></th>\n",
       "      <th>count</th>\n",
       "      <th>mean</th>\n",
       "      <th>std</th>\n",
       "      <th>min</th>\n",
       "      <th>25%</th>\n",
       "      <th>50%</th>\n",
       "      <th>75%</th>\n",
       "      <th>max</th>\n",
       "    </tr>\n",
       "  </thead>\n",
       "  <tbody>\n",
       "    <tr>\n",
       "      <th>count</th>\n",
       "      <td>1.000000</td>\n",
       "      <td>-0.446812</td>\n",
       "      <td>-0.470801</td>\n",
       "      <td>NaN</td>\n",
       "      <td>-0.186579</td>\n",
       "      <td>-0.303088</td>\n",
       "      <td>-0.416310</td>\n",
       "      <td>-0.393780</td>\n",
       "    </tr>\n",
       "    <tr>\n",
       "      <th>mean</th>\n",
       "      <td>-0.446812</td>\n",
       "      <td>1.000000</td>\n",
       "      <td>0.796122</td>\n",
       "      <td>NaN</td>\n",
       "      <td>0.697089</td>\n",
       "      <td>0.878849</td>\n",
       "      <td>0.945426</td>\n",
       "      <td>0.493394</td>\n",
       "    </tr>\n",
       "    <tr>\n",
       "      <th>std</th>\n",
       "      <td>-0.470801</td>\n",
       "      <td>0.796122</td>\n",
       "      <td>1.000000</td>\n",
       "      <td>NaN</td>\n",
       "      <td>0.273104</td>\n",
       "      <td>0.474752</td>\n",
       "      <td>0.665252</td>\n",
       "      <td>0.830777</td>\n",
       "    </tr>\n",
       "    <tr>\n",
       "      <th>min</th>\n",
       "      <td>NaN</td>\n",
       "      <td>NaN</td>\n",
       "      <td>NaN</td>\n",
       "      <td>NaN</td>\n",
       "      <td>NaN</td>\n",
       "      <td>NaN</td>\n",
       "      <td>NaN</td>\n",
       "      <td>NaN</td>\n",
       "    </tr>\n",
       "    <tr>\n",
       "      <th>25%</th>\n",
       "      <td>-0.186579</td>\n",
       "      <td>0.697089</td>\n",
       "      <td>0.273104</td>\n",
       "      <td>NaN</td>\n",
       "      <td>1.000000</td>\n",
       "      <td>0.810569</td>\n",
       "      <td>0.618939</td>\n",
       "      <td>0.123829</td>\n",
       "    </tr>\n",
       "    <tr>\n",
       "      <th>50%</th>\n",
       "      <td>-0.303088</td>\n",
       "      <td>0.878849</td>\n",
       "      <td>0.474752</td>\n",
       "      <td>NaN</td>\n",
       "      <td>0.810569</td>\n",
       "      <td>1.000000</td>\n",
       "      <td>0.863286</td>\n",
       "      <td>0.220392</td>\n",
       "    </tr>\n",
       "    <tr>\n",
       "      <th>75%</th>\n",
       "      <td>-0.416310</td>\n",
       "      <td>0.945426</td>\n",
       "      <td>0.665252</td>\n",
       "      <td>NaN</td>\n",
       "      <td>0.618939</td>\n",
       "      <td>0.863286</td>\n",
       "      <td>1.000000</td>\n",
       "      <td>0.340973</td>\n",
       "    </tr>\n",
       "    <tr>\n",
       "      <th>max</th>\n",
       "      <td>-0.393780</td>\n",
       "      <td>0.493394</td>\n",
       "      <td>0.830777</td>\n",
       "      <td>NaN</td>\n",
       "      <td>0.123829</td>\n",
       "      <td>0.220392</td>\n",
       "      <td>0.340973</td>\n",
       "      <td>1.000000</td>\n",
       "    </tr>\n",
       "  </tbody>\n",
       "</table>\n",
       "</div>"
      ],
      "text/plain": [
       "          count      mean       std  min       25%       50%       75%  \\\n",
       "count  1.000000 -0.446812 -0.470801  NaN -0.186579 -0.303088 -0.416310   \n",
       "mean  -0.446812  1.000000  0.796122  NaN  0.697089  0.878849  0.945426   \n",
       "std   -0.470801  0.796122  1.000000  NaN  0.273104  0.474752  0.665252   \n",
       "min         NaN       NaN       NaN  NaN       NaN       NaN       NaN   \n",
       "25%   -0.186579  0.697089  0.273104  NaN  1.000000  0.810569  0.618939   \n",
       "50%   -0.303088  0.878849  0.474752  NaN  0.810569  1.000000  0.863286   \n",
       "75%   -0.416310  0.945426  0.665252  NaN  0.618939  0.863286  1.000000   \n",
       "max   -0.393780  0.493394  0.830777  NaN  0.123829  0.220392  0.340973   \n",
       "\n",
       "            max  \n",
       "count -0.393780  \n",
       "mean   0.493394  \n",
       "std    0.830777  \n",
       "min         NaN  \n",
       "25%    0.123829  \n",
       "50%    0.220392  \n",
       "75%    0.340973  \n",
       "max    1.000000  "
      ]
     },
     "execution_count": 10,
     "metadata": {},
     "output_type": "execute_result"
    }
   ],
   "source": [
    "desc_app_id.corr()"
   ]
  },
  {
   "cell_type": "markdown",
   "id": "1f133b3c-68e7-4509-a1a7-955a7a5fcb45",
   "metadata": {},
   "source": [
    "Есть явная корреляция - чем больше количество транзакций у пользователя, тем меньше интервалы между ними, что более чем логично."
   ]
  },
  {
   "cell_type": "code",
   "execution_count": 11,
   "id": "914d93fe-bd1b-4254-ac40-ad1452712366",
   "metadata": {},
   "outputs": [
    {
     "data": {
      "text/plain": [
       "count    30000.000000\n",
       "mean        57.935917\n",
       "std        141.134138\n",
       "min          0.000000\n",
       "25%          5.000000\n",
       "50%         13.500000\n",
       "75%         26.000000\n",
       "max       1504.000000\n",
       "Name: 50%, dtype: float64"
      ]
     },
     "execution_count": 11,
     "metadata": {},
     "output_type": "execute_result"
    }
   ],
   "source": [
    "desc_app_id['50%'].describe()"
   ]
  },
  {
   "cell_type": "markdown",
   "id": "ac24af79-b70e-48f8-9cb5-219a923d5183",
   "metadata": {},
   "source": [
    "#### Split by hour_summed"
   ]
  },
  {
   "cell_type": "markdown",
   "id": "6825489b-d4ed-4b6a-9a33-2cb1f569c672",
   "metadata": {},
   "source": [
    "Посмотрим на распределение hour_diff при сплите \"по времени\", через кумулятивное значение hour_diff."
   ]
  },
  {
   "cell_type": "code",
   "execution_count": 12,
   "id": "0fff8e26-7161-439b-984e-0e405dbc3a1f",
   "metadata": {
    "tags": []
   },
   "outputs": [],
   "source": [
    "df3 = df2.copy()\n",
    "\n",
    "df3['hour_summed'] = df3.groupby('app_id')['hour_diff'].cumsum() + 1\n",
    "df3['max_hour'] = df3.groupby('app_id')['hour_summed'].transform('max')\n",
    "df3['reversed_hour_summed'] = df3['max_hour'] - df3['hour_summed']"
   ]
  },
  {
   "cell_type": "markdown",
   "id": "5c6138d3-0b5d-4f2e-9c8e-48aae9c81619",
   "metadata": {},
   "source": [
    "Оставляем пользователей, у которых есть история за 2 месяца, в тест берем последний месяц"
   ]
  },
  {
   "cell_type": "code",
   "execution_count": 13,
   "id": "abf902f7-9abd-4d70-b466-902bdbc60248",
   "metadata": {},
   "outputs": [
    {
     "name": "stdout",
     "output_type": "stream",
     "text": [
      "(8447241, 23) 29662\n"
     ]
    }
   ],
   "source": [
    "df3 = df3[df3['max_hour'] >= 1500]\n",
    "print(df3.shape, df3.app_id.nunique())\n",
    "df3 = df3[df3['reversed_hour_summed'] < 720]\n",
    "df3['transaction_min'] = df3.groupby('app_id')['transaction_number'].transform('min')"
   ]
  },
  {
   "cell_type": "code",
   "execution_count": 14,
   "id": "07c93142-c21f-4ae2-976f-ac61558e5c6b",
   "metadata": {},
   "outputs": [
    {
     "data": {
      "text/plain": [
       "count    29662.000000\n",
       "mean       282.264750\n",
       "std        441.255555\n",
       "min          1.000000\n",
       "25%         29.000000\n",
       "50%        119.000000\n",
       "75%        384.000000\n",
       "max       8203.000000\n",
       "Name: hour_diff, dtype: float64"
      ]
     },
     "execution_count": 14,
     "metadata": {},
     "output_type": "execute_result"
    }
   ],
   "source": [
    "df3[df3.transaction_number == df3.transaction_min].hour_diff.describe()"
   ]
  },
  {
   "cell_type": "markdown",
   "id": "9b3a7a56-0c4d-4728-ba7f-9fd4586fdcdd",
   "metadata": {},
   "source": [
    "Распределение hour_diff для первой транзакции в тесте при таком сплите кардинально отличается от распределения по всем транзакциям!"
   ]
  },
  {
   "cell_type": "code",
   "execution_count": 15,
   "id": "10a60808-9c16-4389-99e7-f479155077ae",
   "metadata": {},
   "outputs": [
    {
     "data": {
      "text/plain": [
       "count    945390.000000\n",
       "mean         27.197557\n",
       "std         102.895578\n",
       "min           0.000000\n",
       "25%           1.000000\n",
       "50%           4.000000\n",
       "75%          20.000000\n",
       "max        8203.000000\n",
       "Name: hour_diff, dtype: float64"
      ]
     },
     "execution_count": 15,
     "metadata": {},
     "output_type": "execute_result"
    }
   ],
   "source": [
    "df3.hour_diff.describe()"
   ]
  },
  {
   "cell_type": "markdown",
   "id": "d78fd1ea-2aeb-4381-b938-189bde8230b4",
   "metadata": {},
   "source": [
    "#### Split by transaction_number"
   ]
  },
  {
   "cell_type": "markdown",
   "id": "8fde009e-61ee-4694-b16e-c927af9edc44",
   "metadata": {},
   "source": [
    "Посмотрим на распределение hour_diff при сплите по количеству транзакций - последние N транзакций в тест.\n",
    "\n",
    "Оставляем пользователей, у которых есть 100 транзакций в истории, в тест берем последние 50."
   ]
  },
  {
   "cell_type": "code",
   "execution_count": 19,
   "id": "36569c58-d21d-42fb-abbc-b0a81b73961e",
   "metadata": {},
   "outputs": [
    {
     "name": "stdout",
     "output_type": "stream",
     "text": [
      "(7985397, 21) 19623\n"
     ]
    }
   ],
   "source": [
    "df4 = df2.copy()\n",
    "\n",
    "df4['transaction_max'] = df4.groupby('app_id').transaction_number.transform('max')\n",
    "df4 = df4[df4.transaction_max >= 100]\n",
    "print(df4.shape, df4.app_id.nunique())\n",
    "\n",
    "df4['reversed_transaction'] = df4['transaction_max'] - df4['transaction_number']\n",
    "\n",
    "df4 = df4[df4['reversed_transaction'] < 50]\n",
    "df4['transaction_min'] = df4.groupby('app_id')['transaction_number'].transform('min')"
   ]
  },
  {
   "cell_type": "code",
   "execution_count": 20,
   "id": "83f888f4-83f9-4673-96f8-e41d1cc7a377",
   "metadata": {},
   "outputs": [
    {
     "data": {
      "text/plain": [
       "count    19623.000000\n",
       "mean        27.462977\n",
       "std         77.067671\n",
       "min          0.000000\n",
       "25%          1.000000\n",
       "50%          6.000000\n",
       "75%         24.000000\n",
       "max       5902.000000\n",
       "Name: hour_diff, dtype: float64"
      ]
     },
     "execution_count": 20,
     "metadata": {},
     "output_type": "execute_result"
    }
   ],
   "source": [
    "df4[df4.transaction_number == df4.transaction_min].hour_diff.describe()"
   ]
  },
  {
   "cell_type": "markdown",
   "id": "e4baed51-ce4d-4bdf-8baf-78c4f1fb21b3",
   "metadata": {},
   "source": [
    "На этот раз распределение hour_diff для первой транзакции в тесте практически не отличается от распределения по всему датасету."
   ]
  },
  {
   "cell_type": "code",
   "execution_count": 21,
   "id": "9127d9b9-0ac1-4d4b-b87a-f731f4086930",
   "metadata": {},
   "outputs": [
    {
     "data": {
      "text/plain": [
       "count    981150.000000\n",
       "mean         28.639111\n",
       "std          73.368507\n",
       "min           0.000000\n",
       "25%           1.000000\n",
       "50%           6.000000\n",
       "75%          24.000000\n",
       "max        5902.000000\n",
       "Name: hour_diff, dtype: float64"
      ]
     },
     "execution_count": 21,
     "metadata": {},
     "output_type": "execute_result"
    }
   ],
   "source": [
    "df4.hour_diff.describe()"
   ]
  },
  {
   "cell_type": "markdown",
   "id": "bd5189d2-eb65-478f-a37a-848e5a73c49f",
   "metadata": {},
   "source": [
    "#### Random sampled transaction for each user"
   ]
  },
  {
   "cell_type": "markdown",
   "id": "b8c5e3a6-db35-40d7-b879-634d3b9990a2",
   "metadata": {},
   "source": [
    "Проверим еще один вариант - берем случайную транзакцию из последовательности каждого юзера (эта случайная транзакция может выступать в качестве начала теста).\n",
    "\n",
    "Оставляем пользователей, у которых есть 100 транзакций в истории, случайную транзакцию берем из интервала от 50 до 100 (минимум первые 50 транзакций в трейн)."
   ]
  },
  {
   "cell_type": "code",
   "execution_count": 22,
   "id": "b79317aa-5546-44a5-9631-ef9511509a3d",
   "metadata": {},
   "outputs": [
    {
     "name": "stdout",
     "output_type": "stream",
     "text": [
      "(7985397, 21) 19623\n"
     ]
    }
   ],
   "source": [
    "df5 = df2.copy()\n",
    "\n",
    "df5['transaction_max'] = df5.groupby('app_id').transaction_number.transform('max')\n",
    "df5 = df5[df5.transaction_max >= 100]\n",
    "print(df5.shape, df5.app_id.nunique())"
   ]
  },
  {
   "cell_type": "code",
   "execution_count": 23,
   "id": "b06e184c-adab-497c-bbc1-8b90d4d079d0",
   "metadata": {},
   "outputs": [
    {
     "name": "stdout",
     "output_type": "stream",
     "text": [
      "CPU times: user 1.6 s, sys: 166 ms, total: 1.76 s\n",
      "Wall time: 1.76 s\n"
     ]
    }
   ],
   "source": [
    "%%time\n",
    "sample = df5.groupby('app_id').apply(\n",
    "    lambda x: np.random.randint(50, x.transaction_max.iloc[0], size=1)[0]).rename('transaction_number').reset_index()"
   ]
  },
  {
   "cell_type": "code",
   "execution_count": 24,
   "id": "32c5d104-81bb-4ec3-b706-93636b337e6c",
   "metadata": {},
   "outputs": [
    {
     "name": "stdout",
     "output_type": "stream",
     "text": [
      "(19623, 20)\n"
     ]
    },
    {
     "data": {
      "text/html": [
       "<div>\n",
       "<style scoped>\n",
       "    .dataframe tbody tr th:only-of-type {\n",
       "        vertical-align: middle;\n",
       "    }\n",
       "\n",
       "    .dataframe tbody tr th {\n",
       "        vertical-align: top;\n",
       "    }\n",
       "\n",
       "    .dataframe thead th {\n",
       "        text-align: right;\n",
       "    }\n",
       "</style>\n",
       "<table border=\"1\" class=\"dataframe\">\n",
       "  <thead>\n",
       "    <tr style=\"text-align: right;\">\n",
       "      <th></th>\n",
       "      <th>app_id</th>\n",
       "      <th>amnt</th>\n",
       "      <th>currency</th>\n",
       "      <th>operation_kind</th>\n",
       "      <th>card_type</th>\n",
       "      <th>operation_type</th>\n",
       "      <th>operation_type_group</th>\n",
       "      <th>ecommerce_flag</th>\n",
       "      <th>payment_system</th>\n",
       "      <th>income_flag</th>\n",
       "      <th>mcc</th>\n",
       "      <th>country</th>\n",
       "      <th>city</th>\n",
       "      <th>mcc_category</th>\n",
       "      <th>day_of_week</th>\n",
       "      <th>hour</th>\n",
       "      <th>days_before</th>\n",
       "      <th>weekofyear</th>\n",
       "      <th>hour_diff</th>\n",
       "      <th>transaction_number</th>\n",
       "    </tr>\n",
       "  </thead>\n",
       "  <tbody>\n",
       "    <tr>\n",
       "      <th>0</th>\n",
       "      <td>2</td>\n",
       "      <td>0.429281</td>\n",
       "      <td>1</td>\n",
       "      <td>2</td>\n",
       "      <td>51</td>\n",
       "      <td>7</td>\n",
       "      <td>1</td>\n",
       "      <td>1</td>\n",
       "      <td>1</td>\n",
       "      <td>1</td>\n",
       "      <td>2</td>\n",
       "      <td>1</td>\n",
       "      <td>46</td>\n",
       "      <td>2</td>\n",
       "      <td>1</td>\n",
       "      <td>15</td>\n",
       "      <td>216</td>\n",
       "      <td>2</td>\n",
       "      <td>240</td>\n",
       "      <td>88</td>\n",
       "    </tr>\n",
       "    <tr>\n",
       "      <th>1</th>\n",
       "      <td>42</td>\n",
       "      <td>0.367687</td>\n",
       "      <td>1</td>\n",
       "      <td>1</td>\n",
       "      <td>17</td>\n",
       "      <td>2</td>\n",
       "      <td>1</td>\n",
       "      <td>1</td>\n",
       "      <td>2</td>\n",
       "      <td>1</td>\n",
       "      <td>34</td>\n",
       "      <td>1</td>\n",
       "      <td>1</td>\n",
       "      <td>12</td>\n",
       "      <td>4</td>\n",
       "      <td>18</td>\n",
       "      <td>312</td>\n",
       "      <td>36</td>\n",
       "      <td>0</td>\n",
       "      <td>63</td>\n",
       "    </tr>\n",
       "    <tr>\n",
       "      <th>2</th>\n",
       "      <td>79</td>\n",
       "      <td>0.367607</td>\n",
       "      <td>1</td>\n",
       "      <td>1</td>\n",
       "      <td>35</td>\n",
       "      <td>2</td>\n",
       "      <td>1</td>\n",
       "      <td>2</td>\n",
       "      <td>2</td>\n",
       "      <td>1</td>\n",
       "      <td>68</td>\n",
       "      <td>1</td>\n",
       "      <td>163</td>\n",
       "      <td>17</td>\n",
       "      <td>5</td>\n",
       "      <td>20</td>\n",
       "      <td>292</td>\n",
       "      <td>28</td>\n",
       "      <td>19</td>\n",
       "      <td>284</td>\n",
       "    </tr>\n",
       "    <tr>\n",
       "      <th>3</th>\n",
       "      <td>123</td>\n",
       "      <td>0.302325</td>\n",
       "      <td>1</td>\n",
       "      <td>1</td>\n",
       "      <td>54</td>\n",
       "      <td>2</td>\n",
       "      <td>1</td>\n",
       "      <td>1</td>\n",
       "      <td>2</td>\n",
       "      <td>1</td>\n",
       "      <td>1</td>\n",
       "      <td>1</td>\n",
       "      <td>59</td>\n",
       "      <td>1</td>\n",
       "      <td>5</td>\n",
       "      <td>14</td>\n",
       "      <td>26</td>\n",
       "      <td>51</td>\n",
       "      <td>44</td>\n",
       "      <td>168</td>\n",
       "    </tr>\n",
       "    <tr>\n",
       "      <th>4</th>\n",
       "      <td>127</td>\n",
       "      <td>0.522181</td>\n",
       "      <td>1</td>\n",
       "      <td>4</td>\n",
       "      <td>5</td>\n",
       "      <td>4</td>\n",
       "      <td>2</td>\n",
       "      <td>1</td>\n",
       "      <td>3</td>\n",
       "      <td>2</td>\n",
       "      <td>2</td>\n",
       "      <td>1</td>\n",
       "      <td>2</td>\n",
       "      <td>2</td>\n",
       "      <td>5</td>\n",
       "      <td>19</td>\n",
       "      <td>96</td>\n",
       "      <td>17</td>\n",
       "      <td>6</td>\n",
       "      <td>65</td>\n",
       "    </tr>\n",
       "  </tbody>\n",
       "</table>\n",
       "</div>"
      ],
      "text/plain": [
       "   app_id      amnt  currency  operation_kind  card_type  operation_type  \\\n",
       "0       2  0.429281         1               2         51               7   \n",
       "1      42  0.367687         1               1         17               2   \n",
       "2      79  0.367607         1               1         35               2   \n",
       "3     123  0.302325         1               1         54               2   \n",
       "4     127  0.522181         1               4          5               4   \n",
       "\n",
       "   operation_type_group  ecommerce_flag  payment_system  income_flag  mcc  \\\n",
       "0                     1               1               1            1    2   \n",
       "1                     1               1               2            1   34   \n",
       "2                     1               2               2            1   68   \n",
       "3                     1               1               2            1    1   \n",
       "4                     2               1               3            2    2   \n",
       "\n",
       "   country  city  mcc_category  day_of_week  hour  days_before  weekofyear  \\\n",
       "0        1    46             2            1    15          216           2   \n",
       "1        1     1            12            4    18          312          36   \n",
       "2        1   163            17            5    20          292          28   \n",
       "3        1    59             1            5    14           26          51   \n",
       "4        1     2             2            5    19           96          17   \n",
       "\n",
       "   hour_diff  transaction_number  \n",
       "0        240                  88  \n",
       "1          0                  63  \n",
       "2         19                 284  \n",
       "3         44                 168  \n",
       "4          6                  65  "
      ]
     },
     "execution_count": 24,
     "metadata": {},
     "output_type": "execute_result"
    }
   ],
   "source": [
    "sample = pd.merge(df2, sample)\n",
    "print(sample.shape)\n",
    "sample.head()"
   ]
  },
  {
   "cell_type": "code",
   "execution_count": 25,
   "id": "dd4b3b37-2a55-4462-bc76-175589cb9d29",
   "metadata": {},
   "outputs": [
    {
     "data": {
      "text/plain": [
       "count    19623.000000\n",
       "mean        27.424043\n",
       "std         67.411993\n",
       "min          0.000000\n",
       "25%          1.000000\n",
       "50%          6.000000\n",
       "75%         24.000000\n",
       "max       1693.000000\n",
       "Name: hour_diff, dtype: float64"
      ]
     },
     "execution_count": 25,
     "metadata": {},
     "output_type": "execute_result"
    }
   ],
   "source": [
    "sample.hour_diff.describe()"
   ]
  },
  {
   "cell_type": "markdown",
   "id": "0c788241-0eb5-43a0-a364-0be8344f4961",
   "metadata": {},
   "source": [
    "Распределение hour_diff для первой транзакции в тесте слабо отличается от распределения по всему датасету."
   ]
  },
  {
   "cell_type": "code",
   "execution_count": 29,
   "id": "fd82c546-daf6-4367-be14-64aa250ac6e3",
   "metadata": {},
   "outputs": [
    {
     "data": {
      "text/plain": [
       "count    7.985397e+06\n",
       "mean     1.949454e+01\n",
       "std      5.481619e+01\n",
       "min     -1.000000e+00\n",
       "25%      1.000000e+00\n",
       "50%      4.000000e+00\n",
       "75%      2.000000e+01\n",
       "max      6.117000e+03\n",
       "Name: hour_diff, dtype: float64"
      ]
     },
     "execution_count": 29,
     "metadata": {},
     "output_type": "execute_result"
    }
   ],
   "source": [
    "df5.hour_diff.describe()"
   ]
  },
  {
   "cell_type": "markdown",
   "id": "a085b655-e2d8-4105-b25a-0ae41ce9e45e",
   "metadata": {},
   "source": [
    "#### Split for sample of users"
   ]
  },
  {
   "cell_type": "markdown",
   "id": "cc535712-d5ad-47d2-b49f-01c56d4567a7",
   "metadata": {},
   "source": [
    "Протестируем сплит на сэмпле юзеров, чтобы понять, какое количество пользователей теряется."
   ]
  },
  {
   "cell_type": "code",
   "execution_count": 30,
   "id": "9edf998e-19af-4ca3-86ff-48251ea87e02",
   "metadata": {},
   "outputs": [],
   "source": [
    "MIN_NUMBER_OF_TRANSACTIONS = 100\n",
    "VALIDATION_TRANSACTIONS = 50"
   ]
  },
  {
   "cell_type": "code",
   "execution_count": 31,
   "id": "a89a9351-11ec-4ed7-bf8e-29017b6e5af8",
   "metadata": {},
   "outputs": [
    {
     "name": "stdout",
     "output_type": "stream",
     "text": [
      "(8459267, 20) 30000\n",
      "(7985397, 21) 19623\n"
     ]
    }
   ],
   "source": [
    "df6 = df2.copy()\n",
    "\n",
    "print(df6.shape, df6.app_id.nunique())\n",
    "df6['transaction_max'] = df6.groupby('app_id').transaction_number.transform('max')\n",
    "df6 = df6[df6.transaction_max >= MIN_NUMBER_OF_TRANSACTIONS]\n",
    "print(df6.shape, df6.app_id.nunique())\n",
    "\n",
    "df6['reversed_transaction'] = df6['transaction_max'] - df6['transaction_number']"
   ]
  },
  {
   "cell_type": "code",
   "execution_count": 32,
   "id": "2d501696-ce5b-431f-b759-83663cee5040",
   "metadata": {},
   "outputs": [
    {
     "name": "stdout",
     "output_type": "stream",
     "text": [
      "(7004247, 22) (981150, 22)\n"
     ]
    }
   ],
   "source": [
    "train_df = df6[df6['reversed_transaction'] >= VALIDATION_TRANSACTIONS]\n",
    "valid_df = df6[df6['reversed_transaction'] < VALIDATION_TRANSACTIONS]\n",
    "print(train_df.shape, valid_df.shape)"
   ]
  },
  {
   "cell_type": "code",
   "execution_count": 33,
   "id": "34833928-5db9-4023-91de-169e6c590e98",
   "metadata": {},
   "outputs": [
    {
     "name": "stderr",
     "output_type": "stream",
     "text": [
      "/tmp/ipykernel_13970/1467607442.py:1: SettingWithCopyWarning: \n",
      "A value is trying to be set on a copy of a slice from a DataFrame.\n",
      "Try using .loc[row_indexer,col_indexer] = value instead\n",
      "\n",
      "See the caveats in the documentation: https://pandas.pydata.org/pandas-docs/stable/user_guide/indexing.html#returning-a-view-versus-a-copy\n",
      "  valid_df['hour_summed'] = valid_df.groupby('app_id')['hour_diff'].cumsum()\n"
     ]
    }
   ],
   "source": [
    "valid_df['hour_summed'] = valid_df.groupby('app_id')['hour_diff'].cumsum()\n",
    "hour_max = valid_df.groupby('app_id').hour_summed.max()"
   ]
  },
  {
   "cell_type": "code",
   "execution_count": 34,
   "id": "8b07a267-eb6a-4e17-8b09-4f6bbb7c11bd",
   "metadata": {},
   "outputs": [
    {
     "data": {
      "text/plain": [
       "(13212, 6411)"
      ]
     },
     "execution_count": 34,
     "metadata": {},
     "output_type": "execute_result"
    }
   ],
   "source": [
    "(hour_max >= 720).sum(), (hour_max < 720).sum()"
   ]
  },
  {
   "cell_type": "markdown",
   "id": "f9d840f5-beed-454f-8dcb-5cd558bedabf",
   "metadata": {},
   "source": [
    "## Final Split"
   ]
  },
  {
   "cell_type": "markdown",
   "id": "705b4b63-cfc0-4798-b960-e65f8b734183",
   "metadata": {},
   "source": [
    "Сплит всего датасета."
   ]
  },
  {
   "cell_type": "code",
   "execution_count": 35,
   "id": "7184e3e8-0e21-4960-9810-c22199b5e76a",
   "metadata": {},
   "outputs": [],
   "source": [
    "MIN_NUMBER_OF_TRANSACTIONS = 100\n",
    "VALIDATION_TRANSACTIONS = 50\n",
    "VALIDATION_NUM_HOURS = 24 * 30"
   ]
  },
  {
   "cell_type": "code",
   "execution_count": 36,
   "id": "4869cd52-8541-4cc2-a8ee-c79b264fb969",
   "metadata": {},
   "outputs": [
    {
     "name": "stdout",
     "output_type": "stream",
     "text": [
      "CPU times: user 4.99 s, sys: 3.07 s, total: 8.06 s\n",
      "Wall time: 8.06 s\n"
     ]
    }
   ],
   "source": [
    "%%time\n",
    "df['transaction_max'] = df.groupby('app_id').transaction_number.transform('max')"
   ]
  },
  {
   "cell_type": "markdown",
   "id": "e1bb777c-0e56-411f-9b11-c592237a19ec",
   "metadata": {},
   "source": [
    "Оставляем пользователей, у которых есть заданное количество транзакций."
   ]
  },
  {
   "cell_type": "code",
   "execution_count": 37,
   "id": "ea945fc7-9c57-4c95-92d3-15b1ea08935b",
   "metadata": {},
   "outputs": [
    {
     "name": "stdout",
     "output_type": "stream",
     "text": [
      "(270450065, 21) 963811\n",
      "(255394648, 21) 634036\n",
      "CPU times: user 26.2 s, sys: 23 s, total: 49.3 s\n",
      "Wall time: 48.8 s\n"
     ]
    }
   ],
   "source": [
    "%%time\n",
    "print(df.shape, df.app_id.nunique())\n",
    "df = df[df.transaction_max >= MIN_NUMBER_OF_TRANSACTIONS]\n",
    "print(df.shape, df.app_id.nunique())"
   ]
  },
  {
   "cell_type": "code",
   "execution_count": 38,
   "id": "5394c11c-5e93-46c9-ab04-fc43889f1c0c",
   "metadata": {},
   "outputs": [
    {
     "name": "stdout",
     "output_type": "stream",
     "text": [
      "CPU times: user 644 ms, sys: 353 ms, total: 997 ms\n",
      "Wall time: 452 ms\n"
     ]
    }
   ],
   "source": [
    "%%time\n",
    "df['reversed_transaction'] = df['transaction_max'] - df['transaction_number']"
   ]
  },
  {
   "cell_type": "markdown",
   "id": "09fff473-7878-4b23-80a2-2783f82c3c2a",
   "metadata": {},
   "source": [
    "Берем последние транзакции в валидацию, первые в трейн."
   ]
  },
  {
   "cell_type": "code",
   "execution_count": 39,
   "id": "73a37e46-b50f-4f08-bd94-f8becdcce425",
   "metadata": {},
   "outputs": [
    {
     "name": "stdout",
     "output_type": "stream",
     "text": [
      "(223692848, 22) (31701800, 22)\n",
      "CPU times: user 23.8 s, sys: 10.8 s, total: 34.6 s\n",
      "Wall time: 33.8 s\n"
     ]
    }
   ],
   "source": [
    "%%time\n",
    "train_df = df[df['reversed_transaction'] >= VALIDATION_TRANSACTIONS]\n",
    "valid_df = df[df['reversed_transaction'] < VALIDATION_TRANSACTIONS]\n",
    "print(train_df.shape, valid_df.shape)"
   ]
  },
  {
   "cell_type": "code",
   "execution_count": 40,
   "id": "9707e9ad-410b-4ed2-82f5-02c0847309be",
   "metadata": {},
   "outputs": [
    {
     "name": "stderr",
     "output_type": "stream",
     "text": [
      "<timed exec>:1: SettingWithCopyWarning: \n",
      "A value is trying to be set on a copy of a slice from a DataFrame.\n",
      "Try using .loc[row_indexer,col_indexer] = value instead\n",
      "\n",
      "See the caveats in the documentation: https://pandas.pydata.org/pandas-docs/stable/user_guide/indexing.html#returning-a-view-versus-a-copy\n"
     ]
    },
    {
     "name": "stdout",
     "output_type": "stream",
     "text": [
      "CPU times: user 1.15 s, sys: 260 ms, total: 1.41 s\n",
      "Wall time: 1.4 s\n"
     ]
    }
   ],
   "source": [
    "%%time\n",
    "valid_df['hour_summed'] = valid_df.groupby('app_id')['hour_diff'].cumsum()\n",
    "hour_summed_max = valid_df.groupby('app_id').hour_summed.max()"
   ]
  },
  {
   "cell_type": "code",
   "execution_count": 41,
   "id": "aa9c54a3-486a-417b-b725-de0ab902684e",
   "metadata": {},
   "outputs": [
    {
     "data": {
      "text/plain": [
       "(430309, 203727)"
      ]
     },
     "execution_count": 41,
     "metadata": {},
     "output_type": "execute_result"
    }
   ],
   "source": [
    "(hour_summed_max >= VALIDATION_NUM_HOURS).sum(), (hour_summed_max < VALIDATION_NUM_HOURS).sum()"
   ]
  },
  {
   "cell_type": "markdown",
   "id": "de92569f-af5f-41d3-a594-100183d25b76",
   "metadata": {},
   "source": [
    "Оставляем только тех пользователей, у которых в валидации есть история минимум за месяц.\n",
    "\n",
    "После этого оставляем в валидации историю только за месяц, более длинную не берем."
   ]
  },
  {
   "cell_type": "code",
   "execution_count": 42,
   "id": "ce91277e-795d-4cc7-b128-7281acdf0b36",
   "metadata": {},
   "outputs": [
    {
     "name": "stdout",
     "output_type": "stream",
     "text": [
      "(95046149, 22) (11183197, 23)\n",
      "CPU times: user 8.84 s, sys: 2.76 s, total: 11.6 s\n",
      "Wall time: 11.5 s\n"
     ]
    }
   ],
   "source": [
    "%%time\n",
    "app_ids = hour_summed_max[hour_summed_max >= VALIDATION_NUM_HOURS].index\n",
    "\n",
    "train_df = train_df[train_df.app_id.isin(app_ids)]\n",
    "valid_df = valid_df[valid_df.app_id.isin(app_ids)]\n",
    "valid_df = valid_df[valid_df.hour_summed <= VALIDATION_NUM_HOURS]\n",
    "print(train_df.shape, valid_df.shape)"
   ]
  },
  {
   "cell_type": "code",
   "execution_count": null,
   "id": "fffbfbff-5610-4a94-8977-016113a61894",
   "metadata": {},
   "outputs": [],
   "source": []
  },
  {
   "cell_type": "markdown",
   "id": "76024ade-b94d-4a5f-9b25-d6099196549c",
   "metadata": {},
   "source": [
    "Посмотрим на статистики получившегося датасета."
   ]
  },
  {
   "cell_type": "code",
   "execution_count": 43,
   "id": "7eecf8f5-ecc9-4a9e-b883-65895fdae50d",
   "metadata": {},
   "outputs": [
    {
     "data": {
      "text/plain": [
       "<AxesSubplot:>"
      ]
     },
     "execution_count": 43,
     "metadata": {},
     "output_type": "execute_result"
    },
    {
     "data": {
      "image/png": "[encoded data removed]",
      "text/plain": [
       "<Figure size 640x480 with 1 Axes>"
      ]
     },
     "metadata": {},
     "output_type": "display_data"
    }
   ],
   "source": [
    "valid_df.groupby('app_id').size().hist(bins=50)"
   ]
  },
  {
   "cell_type": "code",
   "execution_count": 45,
   "id": "907fdf26-c2f7-44ed-b953-b8079e795739",
   "metadata": {},
   "outputs": [],
   "source": [
    "valid_df['transaction_min'] = valid_df.groupby('app_id')['transaction_number'].transform('min')"
   ]
  },
  {
   "cell_type": "code",
   "execution_count": 46,
   "id": "1d7a4964-909d-4b31-9854-000b06b92341",
   "metadata": {},
   "outputs": [
    {
     "data": {
      "text/plain": [
       "count    429711.000000\n",
       "mean         33.739544\n",
       "std          67.746008\n",
       "min           0.000000\n",
       "25%           1.000000\n",
       "50%          12.000000\n",
       "75%          31.000000\n",
       "max         720.000000\n",
       "Name: hour_diff, dtype: float64"
      ]
     },
     "execution_count": 46,
     "metadata": {},
     "output_type": "execute_result"
    }
   ],
   "source": [
    "valid_df[valid_df.transaction_number == valid_df.transaction_min].hour_diff.describe()"
   ]
  },
  {
   "cell_type": "code",
   "execution_count": 47,
   "id": "ec5c7085-8c8f-487f-b4bc-053d0059c709",
   "metadata": {},
   "outputs": [
    {
     "data": {
      "text/plain": [
       "count    1.118320e+07\n",
       "mean     2.460099e+01\n",
       "std      4.700374e+01\n",
       "min      0.000000e+00\n",
       "25%      1.000000e+00\n",
       "50%      8.000000e+00\n",
       "75%      2.500000e+01\n",
       "max      7.200000e+02\n",
       "Name: hour_diff, dtype: float64"
      ]
     },
     "execution_count": 47,
     "metadata": {},
     "output_type": "execute_result"
    }
   ],
   "source": [
    "valid_df.hour_diff.describe()"
   ]
  },
  {
   "cell_type": "code",
   "execution_count": 48,
   "id": "d5c997a8-3b64-43a3-aa41-e2b4979832b5",
   "metadata": {},
   "outputs": [
    {
     "data": {
      "text/plain": [
       "count    9.504615e+07\n",
       "mean     2.735514e+01\n",
       "std      6.734940e+01\n",
       "min     -1.000000e+00\n",
       "25%      1.000000e+00\n",
       "50%      7.000000e+00\n",
       "75%      2.500000e+01\n",
       "max      6.932000e+03\n",
       "Name: hour_diff, dtype: float64"
      ]
     },
     "execution_count": 48,
     "metadata": {},
     "output_type": "execute_result"
    }
   ],
   "source": [
    "train_df.hour_diff.describe()"
   ]
  },
  {
   "cell_type": "code",
   "execution_count": null,
   "id": "27decdd9-81c9-4fe6-9d2b-b0b0389547b7",
   "metadata": {},
   "outputs": [],
   "source": []
  },
  {
   "cell_type": "code",
   "execution_count": 30,
   "id": "9de732e3-e938-4c37-a205-c8b38c17e944",
   "metadata": {},
   "outputs": [
    {
     "name": "stderr",
     "output_type": "stream",
     "text": [
      "<timed exec>:1: FutureWarning: Indexing with multiple keys (implicitly converted to a tuple of keys) will be deprecated, use a list instead.\n"
     ]
    },
    {
     "name": "stdout",
     "output_type": "stream",
     "text": [
      "CPU times: user 1min 19s, sys: 11.3 s, total: 1min 30s\n",
      "Wall time: 1min 30s\n"
     ]
    }
   ],
   "source": [
    "%%time\n",
    "train = train_df.groupby('app_id')['mcc', 'amnt', 'hour_diff',\n",
    "                                   'day_of_week', 'hour', 'weekofyear'].agg(list).reset_index()"
   ]
  },
  {
   "cell_type": "code",
   "execution_count": 31,
   "id": "becf1b5c-887d-44d3-8f6a-e4a5d78a8f96",
   "metadata": {},
   "outputs": [
    {
     "name": "stderr",
     "output_type": "stream",
     "text": [
      "<timed exec>:1: FutureWarning: Indexing with multiple keys (implicitly converted to a tuple of keys) will be deprecated, use a list instead.\n"
     ]
    },
    {
     "name": "stdout",
     "output_type": "stream",
     "text": [
      "CPU times: user 32.8 s, sys: 3.19 s, total: 36 s\n",
      "Wall time: 35.9 s\n"
     ]
    }
   ],
   "source": [
    "%%time\n",
    "valid = valid_df.groupby('app_id')['mcc', 'amnt', 'hour_diff',\n",
    "                                   'day_of_week', 'hour', 'weekofyear'].agg(list).reset_index()"
   ]
  },
  {
   "cell_type": "code",
   "execution_count": 39,
   "id": "568c450b-4697-430e-af17-3700e3750c68",
   "metadata": {},
   "outputs": [
    {
     "name": "stderr",
     "output_type": "stream",
     "text": [
      "IOStream.flush timed out\n"
     ]
    },
    {
     "name": "stdout",
     "output_type": "stream",
     "text": [
      "CPU times: user 45.9 s, sys: 9.09 s, total: 55 s\n",
      "Wall time: 53.9 s\n"
     ]
    }
   ],
   "source": [
    "%%time\n",
    "train.to_parquet('data/train.parquet', index=False)\n",
    "valid.to_parquet('data/valid.parquet', index=False)"
   ]
  },
  {
   "cell_type": "code",
   "execution_count": null,
   "id": "c7c8232c-15e9-4e30-82a0-b4e741ffd04d",
   "metadata": {},
   "outputs": [
    {
     "name": "stdout",
     "output_type": "stream",
     "text": [
      "total 4.7G\n",
      "-rw-rw-r-- 1 antklen antklen 1.9G Aug 14 12:55 alfa_train.parquet\n",
      "-rw-rw-r-- 1 antklen antklen  45K Aug 14 13:50 mcc_quantiles.csv\n",
      "-rw-rw-r-- 1 antklen antklen 111M Aug 15 10:11 test1.parquet\n",
      "-rw-rw-r-- 1 antklen antklen 1.7G Aug 15 10:11 train1.parquet\n",
      "-rw-rw-r-- 1 antklen antklen 797M Aug 21 14:06 train.parquet\n",
      "-rw-rw-r-- 1 antklen antklen 111M Aug 15 10:11 val1.parquet\n",
      "-rw-rw-r-- 1 antklen antklen  99M Aug 21 14:06 valid.parquet\n"
     ]
    }
   ],
   "source": [
    "!ls -lh data/"
   ]
  },
  {
   "cell_type": "code",
   "execution_count": null,
   "id": "646b4353-bda4-4424-9e4d-7d407fcaf716",
   "metadata": {},
   "outputs": [],
   "source": []
  }
 ],
 "metadata": {
  "kernelspec": {
   "display_name": "Python 3 (ipykernel)",
   "language": "python",
   "name": "python3"
  },
  "language_info": {
   "codemirror_mode": {
    "name": "ipython",
    "version": 3
   },
   "file_extension": ".py",
   "mimetype": "text/x-python",
   "name": "python",
   "nbconvert_exporter": "python",
   "pygments_lexer": "ipython3",
   "version": "3.9.13"
  }
 },
 "nbformat": 4,
 "nbformat_minor": 5
}
