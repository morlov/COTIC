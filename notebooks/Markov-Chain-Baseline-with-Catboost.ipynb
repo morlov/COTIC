{
 "cells": [
  {
   "cell_type": "markdown",
   "id": "0dca24f4",
   "metadata": {},
   "source": [
    "# <font size=\"6\">Libraries</font>"
   ]
  },
  {
   "cell_type": "code",
   "execution_count": 2,
   "id": "36ddcaa6",
   "metadata": {},
   "outputs": [
    {
     "name": "stdout",
     "output_type": "stream",
     "text": [
      "torch version: 1.9.1+cu111\n"
     ]
    }
   ],
   "source": [
    "import torch\n",
    "from torch.optim import Adam\n",
    "from torch.optim.lr_scheduler import StepLR\n",
    "import torch.nn.functional as F\n",
    "import os, sys\n",
    "from tqdm import tqdm\n",
    "\n",
    "parent_dir = os.path.abspath('..')\n",
    "if parent_dir not in sys.path:\n",
    "    sys.path.append(parent_dir)\n",
    "\n",
    "print('torch version:', torch.__version__)\n",
    "\n",
    "# import ptls\n",
    "# from ptls.data_load import IterableChain\n",
    "# from ptls.data_load.iterable_processing import SeqLenFilter\n",
    "# from ptls.data_load.iterable_processing.to_torch_tensor import ToTorch\n",
    "# from ptls.data_load.iterable_processing_dataset import IterableProcessingDataset\n",
    "# from ptls.data_load.datasets.parquet_dataset import ParquetDataset, ParquetFiles\n",
    "\n",
    "# import pytorch_lightning as pl\n",
    "\n",
    "from glob import glob\n",
    "\n",
    "import sklearn\n",
    "from sklearn.model_selection import train_test_split\n",
    "\n",
    "import os, sys\n",
    "\n",
    "# from COTIC.src import utils\n",
    "\n",
    "import pandas as pd\n",
    "import numpy as np\n",
    "import matplotlib.pyplot as plt\n",
    "\n",
    "# parent_dir = os.path.abspath('..')\n",
    "# if parent_dir not in sys.path:\n",
    "#     sys.path.append(parent_dir)\n",
    "\n",
    "# log = utils.get_logger(__name__)\n",
    "\n",
    "%load_ext autoreload\n",
    "%autoreload 2"
   ]
  },
  {
   "cell_type": "markdown",
   "id": "f4c9cf82",
   "metadata": {},
   "source": [
    "# <font size=\"5\">dataset</font>"
   ]
  },
  {
   "cell_type": "code",
   "execution_count": 3,
   "id": "3e12dce7",
   "metadata": {},
   "outputs": [],
   "source": [
    "train_df = pd.read_parquet('data/train.parquet')\n",
    "valid_df = pd.read_parquet('data/valid.parquet')"
   ]
  },
  {
   "cell_type": "code",
   "execution_count": 4,
   "id": "e87fe6b5",
   "metadata": {},
   "outputs": [],
   "source": [
    "last_transactions = train_df.groupby('app_id').tail(1)"
   ]
  },
  {
   "cell_type": "code",
   "execution_count": 74,
   "id": "648e2b01",
   "metadata": {},
   "outputs": [
    {
     "data": {
      "text/html": [
       "<div>\n",
       "<style scoped>\n",
       "    .dataframe tbody tr th:only-of-type {\n",
       "        vertical-align: middle;\n",
       "    }\n",
       "\n",
       "    .dataframe tbody tr th {\n",
       "        vertical-align: top;\n",
       "    }\n",
       "\n",
       "    .dataframe thead th {\n",
       "        text-align: right;\n",
       "    }\n",
       "</style>\n",
       "<table border=\"1\" class=\"dataframe\">\n",
       "  <thead>\n",
       "    <tr style=\"text-align: right;\">\n",
       "      <th></th>\n",
       "      <th>app_id</th>\n",
       "      <th>amnt</th>\n",
       "      <th>mcc</th>\n",
       "      <th>hour_diff</th>\n",
       "      <th>transaction_number</th>\n",
       "      <th>time</th>\n",
       "      <th>amnt_bins</th>\n",
       "      <th>amnt_mcc_bins</th>\n",
       "      <th>transaction_max</th>\n",
       "      <th>reversed_transaction</th>\n",
       "      <th>amnt_mcc_bins_shift</th>\n",
       "    </tr>\n",
       "  </thead>\n",
       "  <tbody>\n",
       "    <tr>\n",
       "      <th>0</th>\n",
       "      <td>0</td>\n",
       "      <td>0.465425</td>\n",
       "      <td>2</td>\n",
       "      <td>-1</td>\n",
       "      <td>1</td>\n",
       "      <td>0</td>\n",
       "      <td>3</td>\n",
       "      <td>8</td>\n",
       "      <td>181</td>\n",
       "      <td>180</td>\n",
       "      <td>5.0</td>\n",
       "    </tr>\n",
       "    <tr>\n",
       "      <th>1</th>\n",
       "      <td>0</td>\n",
       "      <td>0.000000</td>\n",
       "      <td>2</td>\n",
       "      <td>0</td>\n",
       "      <td>2</td>\n",
       "      <td>0</td>\n",
       "      <td>0</td>\n",
       "      <td>5</td>\n",
       "      <td>181</td>\n",
       "      <td>179</td>\n",
       "      <td>8.0</td>\n",
       "    </tr>\n",
       "    <tr>\n",
       "      <th>2</th>\n",
       "      <td>0</td>\n",
       "      <td>0.521152</td>\n",
       "      <td>2</td>\n",
       "      <td>0</td>\n",
       "      <td>3</td>\n",
       "      <td>0</td>\n",
       "      <td>3</td>\n",
       "      <td>8</td>\n",
       "      <td>181</td>\n",
       "      <td>178</td>\n",
       "      <td>40.0</td>\n",
       "    </tr>\n",
       "    <tr>\n",
       "      <th>3</th>\n",
       "      <td>0</td>\n",
       "      <td>0.356078</td>\n",
       "      <td>10</td>\n",
       "      <td>52</td>\n",
       "      <td>4</td>\n",
       "      <td>52</td>\n",
       "      <td>3</td>\n",
       "      <td>40</td>\n",
       "      <td>181</td>\n",
       "      <td>177</td>\n",
       "      <td>5.0</td>\n",
       "    </tr>\n",
       "    <tr>\n",
       "      <th>4</th>\n",
       "      <td>0</td>\n",
       "      <td>0.000000</td>\n",
       "      <td>2</td>\n",
       "      <td>280</td>\n",
       "      <td>5</td>\n",
       "      <td>332</td>\n",
       "      <td>0</td>\n",
       "      <td>5</td>\n",
       "      <td>181</td>\n",
       "      <td>176</td>\n",
       "      <td>8.0</td>\n",
       "    </tr>\n",
       "    <tr>\n",
       "      <th>...</th>\n",
       "      <td>...</td>\n",
       "      <td>...</td>\n",
       "      <td>...</td>\n",
       "      <td>...</td>\n",
       "      <td>...</td>\n",
       "      <td>...</td>\n",
       "      <td>...</td>\n",
       "      <td>...</td>\n",
       "      <td>...</td>\n",
       "      <td>...</td>\n",
       "      <td>...</td>\n",
       "    </tr>\n",
       "    <tr>\n",
       "      <th>95046144</th>\n",
       "      <td>1003049</td>\n",
       "      <td>0.227264</td>\n",
       "      <td>108</td>\n",
       "      <td>0</td>\n",
       "      <td>55</td>\n",
       "      <td>3802</td>\n",
       "      <td>0</td>\n",
       "      <td>429</td>\n",
       "      <td>109</td>\n",
       "      <td>54</td>\n",
       "      <td>228.0</td>\n",
       "    </tr>\n",
       "    <tr>\n",
       "      <th>95046145</th>\n",
       "      <td>1003049</td>\n",
       "      <td>0.387565</td>\n",
       "      <td>57</td>\n",
       "      <td>0</td>\n",
       "      <td>56</td>\n",
       "      <td>3802</td>\n",
       "      <td>3</td>\n",
       "      <td>228</td>\n",
       "      <td>109</td>\n",
       "      <td>53</td>\n",
       "      <td>1.0</td>\n",
       "    </tr>\n",
       "    <tr>\n",
       "      <th>95046146</th>\n",
       "      <td>1003049</td>\n",
       "      <td>0.273395</td>\n",
       "      <td>1</td>\n",
       "      <td>1</td>\n",
       "      <td>57</td>\n",
       "      <td>3803</td>\n",
       "      <td>0</td>\n",
       "      <td>1</td>\n",
       "      <td>109</td>\n",
       "      <td>52</td>\n",
       "      <td>5.0</td>\n",
       "    </tr>\n",
       "    <tr>\n",
       "      <th>95046147</th>\n",
       "      <td>1003049</td>\n",
       "      <td>0.258972</td>\n",
       "      <td>2</td>\n",
       "      <td>19</td>\n",
       "      <td>58</td>\n",
       "      <td>3822</td>\n",
       "      <td>0</td>\n",
       "      <td>5</td>\n",
       "      <td>109</td>\n",
       "      <td>51</td>\n",
       "      <td>8.0</td>\n",
       "    </tr>\n",
       "    <tr>\n",
       "      <th>95046148</th>\n",
       "      <td>1003049</td>\n",
       "      <td>0.387677</td>\n",
       "      <td>2</td>\n",
       "      <td>243</td>\n",
       "      <td>59</td>\n",
       "      <td>4065</td>\n",
       "      <td>3</td>\n",
       "      <td>8</td>\n",
       "      <td>109</td>\n",
       "      <td>50</td>\n",
       "      <td>NaN</td>\n",
       "    </tr>\n",
       "  </tbody>\n",
       "</table>\n",
       "<p>95046149 rows × 11 columns</p>\n",
       "</div>"
      ],
      "text/plain": [
       "           app_id      amnt  mcc  hour_diff  transaction_number  time  \\\n",
       "0               0  0.465425    2         -1                   1     0   \n",
       "1               0  0.000000    2          0                   2     0   \n",
       "2               0  0.521152    2          0                   3     0   \n",
       "3               0  0.356078   10         52                   4    52   \n",
       "4               0  0.000000    2        280                   5   332   \n",
       "...           ...       ...  ...        ...                 ...   ...   \n",
       "95046144  1003049  0.227264  108          0                  55  3802   \n",
       "95046145  1003049  0.387565   57          0                  56  3802   \n",
       "95046146  1003049  0.273395    1          1                  57  3803   \n",
       "95046147  1003049  0.258972    2         19                  58  3822   \n",
       "95046148  1003049  0.387677    2        243                  59  4065   \n",
       "\n",
       "          amnt_bins  amnt_mcc_bins  transaction_max  reversed_transaction  \\\n",
       "0                 3              8              181                   180   \n",
       "1                 0              5              181                   179   \n",
       "2                 3              8              181                   178   \n",
       "3                 3             40              181                   177   \n",
       "4                 0              5              181                   176   \n",
       "...             ...            ...              ...                   ...   \n",
       "95046144          0            429              109                    54   \n",
       "95046145          3            228              109                    53   \n",
       "95046146          0              1              109                    52   \n",
       "95046147          0              5              109                    51   \n",
       "95046148          3              8              109                    50   \n",
       "\n",
       "          amnt_mcc_bins_shift  \n",
       "0                         5.0  \n",
       "1                         8.0  \n",
       "2                        40.0  \n",
       "3                         5.0  \n",
       "4                         8.0  \n",
       "...                       ...  \n",
       "95046144                228.0  \n",
       "95046145                  1.0  \n",
       "95046146                  5.0  \n",
       "95046147                  8.0  \n",
       "95046148                  NaN  \n",
       "\n",
       "[95046149 rows x 11 columns]"
      ]
     },
     "execution_count": 74,
     "metadata": {},
     "output_type": "execute_result"
    }
   ],
   "source": [
    "train_df"
   ]
  },
  {
   "cell_type": "markdown",
   "id": "4a16c960",
   "metadata": {},
   "source": [
    "# <font size=\"6\">Markov Chain Model</font>"
   ]
  },
  {
   "cell_type": "code",
   "execution_count": 83,
   "id": "361c9c0e",
   "metadata": {},
   "outputs": [
    {
     "name": "stderr",
     "output_type": "stream",
     "text": [
      "Default metric period is 5 because MAE is/are not implemented for GPU\n"
     ]
    },
    {
     "name": "stdout",
     "output_type": "stream",
     "text": [
      "0:\tlearn: 25.8221319\ttotal: 253ms\tremaining: 2m 6s\n",
      "100:\tlearn: 25.8094324\ttotal: 25.1s\tremaining: 1m 39s\n",
      "200:\tlearn: 25.7963800\ttotal: 49.9s\tremaining: 1m 14s\n",
      "300:\tlearn: 25.7837451\ttotal: 1m 14s\tremaining: 49.4s\n",
      "400:\tlearn: 25.7712072\ttotal: 1m 39s\tremaining: 24.6s\n",
      "499:\tlearn: 25.7587555\ttotal: 2m 4s\tremaining: 0us\n"
     ]
    },
    {
     "data": {
      "text/plain": [
       "<catboost.core.CatBoostRegressor at 0x7f70f29c7f90>"
      ]
     },
     "execution_count": 83,
     "metadata": {},
     "output_type": "execute_result"
    }
   ],
   "source": [
    "import catboost\n",
    "from catboost import CatBoostRegressor\n",
    "\n",
    "regressor = CatBoostRegressor(\n",
    "    iterations=500,\n",
    "    depth=3,\n",
    "    verbose=100,\n",
    "    task_type='GPU',\n",
    "    loss_function='MAE',\n",
    "    eval_metric='MAE',\n",
    "    early_stopping_rounds=100\n",
    ")\n",
    "\n",
    "regressor.fit(train_df[['amnt_mcc_bins', 'amnt', 'mcc', 'transaction_number']],\n",
    "              train_df['hour_diff'])"
   ]
  },
  {
   "cell_type": "code",
   "execution_count": 84,
   "id": "50f72179",
   "metadata": {},
   "outputs": [],
   "source": [
    "class MarkovChainModel():\n",
    "    def __init__(self, dataset, regressor, user_id_column='app_id'):\n",
    "        self.dataset = dataset\n",
    "        self.user_id_column = user_id_column\n",
    "        self.regressor = regressor\n",
    "        \n",
    "        self.transition_matrix = self.build_transition_matrix()\n",
    "        self.predicted_time_avg = self.dataset.groupby(user_id_column)['hour_diff'].mean().to_dict()\n",
    "\n",
    "    def forward(self, _type, user_id):\n",
    "\n",
    "        return [self.transition_matrix[_type]]\n",
    "                \n",
    "    def build_transition_matrix(self):\n",
    "        self.dataset['amnt_mcc_bins_shift'] = self.dataset.groupby(self.user_id_column)['amnt_mcc_bins'].shift(-1)\n",
    "        transition_matrix = self.dataset.groupby('amnt_mcc_bins')['amnt_mcc_bins_shift'].apply(lambda x: x.mode().iloc[0] if not x.mode().empty else None).to_dict()\n",
    "        \n",
    "        return transition_matrix\n",
    "    \n",
    "markov_model = MarkovChainModel(train_df, regressor)"
   ]
  },
  {
   "cell_type": "code",
   "execution_count": 100,
   "id": "e09cdaab",
   "metadata": {},
   "outputs": [
    {
     "data": {
      "text/plain": [
       "array([7.09925657, 7.09925657, 7.09925657, ..., 7.09925657, 7.09925657,\n",
       "       7.09925657])"
      ]
     },
     "execution_count": 100,
     "metadata": {},
     "output_type": "execute_result"
    }
   ],
   "source": [
    "predicted_times = regressor.predict(valid_df[['amnt_mcc_bins', 'amnt', 'mcc', 'transaction_number']].values.reshape(-1, 4))\n",
    "predicted_times"
   ]
  },
  {
   "cell_type": "code",
   "execution_count": 101,
   "id": "e6c60844",
   "metadata": {},
   "outputs": [
    {
     "name": "stdout",
     "output_type": "stream",
     "text": [
      "CPU times: user 35.1 s, sys: 257 ms, total: 35.3 s\n",
      "Wall time: 35.3 s\n"
     ]
    }
   ],
   "source": [
    "%%time\n",
    "\n",
    "predicted_transactions = pd.DataFrame()\n",
    "valid_counts = valid_df['app_id'].value_counts().to_dict()\n",
    "predicted_types = []\n",
    "\n",
    "for _, last_transaction in last_transactions.iterrows():\n",
    "    user_id = last_transaction['app_id']\n",
    "    last_type = last_transaction['amnt_mcc_bins']\n",
    "    num_transactions = valid_counts.get(user_id, 0)\n",
    "    \n",
    "    for _ in range(num_transactions):\n",
    "        predicted_transaction = markov_model.forward(last_type, user_id)\n",
    "        \n",
    "        predicted_types.append(predicted_transaction[0])\n",
    "        \n",
    "        last_type = predicted_transaction[0]"
   ]
  },
  {
   "cell_type": "code",
   "execution_count": 102,
   "id": "95fd522b",
   "metadata": {},
   "outputs": [],
   "source": [
    "valid_df['predicted_type'] = predicted_types\n",
    "valid_df['times_pred'] = predicted_times\n",
    "\n",
    "valid_df['pred_mcc'] = (valid_df['predicted_type'] - 1) // 4 + 1\n",
    "valid_df['pred_amnt'] = (valid_df['predicted_type'] - 1) % 4"
   ]
  },
  {
   "cell_type": "markdown",
   "id": "c9d9b098",
   "metadata": {},
   "source": [
    "# <font size=\"6\">Metrics</font>"
   ]
  },
  {
   "cell_type": "code",
   "execution_count": 104,
   "id": "fa0f0a9f",
   "metadata": {},
   "outputs": [
    {
     "name": "stdout",
     "output_type": "stream",
     "text": [
      "Time MAE: 22.905798208210882\n",
      "Type accuracy: 0.14486412069822252\n",
      "Amnt accuracy: 0.4834462810589852\n",
      "MCC accuracy: 0.25024221606755204\n"
     ]
    }
   ],
   "source": [
    "from sklearn.metrics import mean_absolute_error, accuracy_score\n",
    "\n",
    "print('Time MAE:', mean_absolute_error(valid_df['hour_diff'], valid_df['times_pred']))\n",
    "print('Type accuracy:', accuracy_score(valid_df['amnt_mcc_bins'], valid_df['predicted_type']))\n",
    "print('Amnt accuracy:', accuracy_score(valid_df['amnt_bins'], valid_df['pred_amnt']))\n",
    "print('MCC accuracy:', accuracy_score(valid_df['mcc'], valid_df['pred_mcc']))"
   ]
  }
 ],
 "metadata": {
  "kernelspec": {
   "display_name": "Python 3 (ipykernel)",
   "language": "python",
   "name": "python3"
  },
  "language_info": {
   "codemirror_mode": {
    "name": "ipython",
    "version": 3
   },
   "file_extension": ".py",
   "mimetype": "text/x-python",
   "name": "python",
   "nbconvert_exporter": "python",
   "pygments_lexer": "ipython3",
   "version": "3.7.12"
  }
 },
 "nbformat": 4,
 "nbformat_minor": 5
}
