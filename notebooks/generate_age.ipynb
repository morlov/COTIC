{
 "cells": [
  {
   "cell_type": "code",
   "execution_count": 1,
   "id": "596977bb-4a6a-4310-bc96-45d895360dd5",
   "metadata": {},
   "outputs": [],
   "source": [
    "import os, sys\n",
    "\n",
    "parent_dir = os.path.abspath('..')\n",
    "if parent_dir not in sys.path:\n",
    "    sys.path.append(parent_dir)\n",
    "\n",
    "from src import utils\n",
    "\n",
    "log = utils.get_logger(__name__)"
   ]
  },
  {
   "cell_type": "code",
   "execution_count": 2,
   "id": "48f3f5b2-f6cd-4035-b117-c3afcd38ac8f",
   "metadata": {},
   "outputs": [],
   "source": [
    "%load_ext autoreload\n",
    "%autoreload 2"
   ]
  },
  {
   "cell_type": "markdown",
   "id": "4ab7a498-6e59-4a2a-b382-e70aaf95b8fd",
   "metadata": {},
   "source": [
    "## Data Modules"
   ]
  },
  {
   "cell_type": "code",
   "execution_count": 188,
   "id": "875b7a67-21f0-4cf6-a7a9-1eabf7d6bf15",
   "metadata": {},
   "outputs": [],
   "source": [
    "import torch\n",
    "import numpy as np\n",
    "from glob import glob\n",
    "\n",
    "\n",
    "from ptls.data_load import IterableChain\n",
    "from ptls.data_load.iterable_processing import SeqLenFilter\n",
    "from ptls.data_load.iterable_processing.to_torch_tensor import ToTorch\n",
    "from ptls.data_load.iterable_processing_dataset import IterableProcessingDataset\n",
    "from ptls.data_load.datasets.parquet_dataset import ParquetDataset, ParquetFiles\n",
    "\n",
    "dataset_conf = {\n",
    "    'min_seq_len': 10,\n",
    "    'event_col': 'small_group',\n",
    "    'time_col' : 'event_time',\n",
    "    'event_cnt_col': 'trx_count',\n",
    "    'num_types': 250,\n",
    "    'target_col': 'target',\n",
    "    }\n",
    "\n",
    "train_data = glob('/home/morlov/ptls-experiments/scenario_age_pred/data/train_trx_file.parquet')\n",
    "valid_data = glob('/home/morlov/ptls-experiments/scenario_age_pred/data/test_trx_file.parquet')\n",
    "\n",
    "            \n",
    "class TimeProc(IterableProcessingDataset):\n",
    "    \n",
    "    def __init__(self, time_col, tmin, tmax):\n",
    "        super().__init__()\n",
    "        self._time_col = time_col\n",
    "        self.tmin, self.tmax = tmin, tmax\n",
    "        \n",
    "    def __iter__(self):\n",
    "        for rec in self._src:\n",
    "            features = rec[0] if type(rec) is tuple else rec\n",
    "            rec[self._time_col] = np.array((features[self._time_col]-self.tmin)/(self.tmax-self.tmin))\n",
    "            yield rec\n",
    "            \n",
    "\n",
    "def pp_collate_fn(time_col, event_col, event_cnt_col, return_len=False):\n",
    "\n",
    "    def fn(batch):\n",
    "        es, ts, ls = [], [], []\n",
    "        for rec in batch:\n",
    "            ts.append(rec[time_col])\n",
    "            es.append(rec[event_col])\n",
    "            ls.append(rec[event_cnt_col] - 1)\n",
    "            \n",
    "        ret = [torch.nn.utils.rnn.pad_sequence(ts, batch_first=True), \n",
    "               torch.nn.utils.rnn.pad_sequence(es, batch_first=True).long()]\n",
    "        \n",
    "        if return_len:\n",
    "            return ret, torch.tensor(ls)\n",
    "        else:\n",
    "            return ret\n",
    "            \n",
    "    return fn\n",
    "\n",
    "process = IterableChain(\n",
    "            SeqLenFilter(min_seq_len=dataset_conf['min_seq_len']),\n",
    "            TimeProc(dataset_conf['time_col'], 0, 1000),\n",
    "            ToTorch()\n",
    ")\n",
    "   \n",
    "train_ds = ParquetDataset(train_data, post_processing=process)\n",
    "valid_ds = ParquetDataset(valid_data, post_processing=process)\n",
    "\n",
    "collate_fn = pp_collate_fn(dataset_conf['time_col'], dataset_conf['event_col'], dataset_conf['event_cnt_col'])\n",
    "\n",
    "train_dl = torch.utils.data.DataLoader(\n",
    "                        dataset=train_ds,\n",
    "                        collate_fn=collate_fn,\n",
    "                        num_workers=4,\n",
    "                        batch_size=32)\n",
    "\n",
    "valid_dl = torch.utils.data.DataLoader(\n",
    "                        dataset=valid_ds,\n",
    "                        collate_fn=collate_fn,\n",
    "                        num_workers=4,\n",
    "                        batch_size=32)"
   ]
  },
  {
   "cell_type": "markdown",
   "id": "76ec2314-d5cb-4c34-be77-2b163497366f",
   "metadata": {},
   "source": [
    "## COTIC"
   ]
  },
  {
   "cell_type": "code",
   "execution_count": 4,
   "id": "a29ce714-e507-49f3-975d-c5c33b0b9206",
   "metadata": {},
   "outputs": [],
   "source": [
    "from src.models.components.cont_cnn import CCNN\n",
    "from src.models.components.cont_cnn import Kernel\n",
    "from src.models.components.cont_cnn import PredictionHead\n",
    "\n",
    "\n",
    "nb_filters = 16\n",
    "num_types = dataset_conf['num_types'] \n",
    "\n",
    "kernel = Kernel(hidden1=8, hidden2=4, hidden3=8, in_channels=nb_filters, out_channels=nb_filters)\n",
    "\n",
    "head = PredictionHead(in_channels=nb_filters, num_types=num_types)\n",
    "\n",
    "net = CCNN(in_channels=32, kernel_size=5, nb_filters=nb_filters, nb_layers=9,\n",
    "           num_types=num_types, kernel=kernel, head=head)"
   ]
  },
  {
   "cell_type": "markdown",
   "id": "d8ad1afc-f05f-44d3-b709-c5b8ea20c543",
   "metadata": {},
   "source": [
    "## Event Module"
   ]
  },
  {
   "cell_type": "code",
   "execution_count": 5,
   "id": "5d59bc80-0a73-4ac2-aa49-1db37cf46b52",
   "metadata": {},
   "outputs": [
    {
     "name": "stderr",
     "output_type": "stream",
     "text": [
      "/home/morlov/.local/share/virtualenvs/pytorch-lifestream-1iBTwtzi/lib/python3.8/site-packages/pytorch_lightning/utilities/parsing.py:261: UserWarning: Attribute 'net' is an instance of `nn.Module` and is already saved during checkpointing. It is recommended to ignore them using `self.save_hyperparameters(ignore=['net'])`.\n",
      "  rank_zero_warn(\n"
     ]
    }
   ],
   "source": [
    "from src.models.base_model import BaseEventModule\n",
    "from src.metrics.cont_cnn import CCNNMetrics\n",
    "from src.utils.metrics import MetricsCore\n",
    "from src.utils.metrics import MAE, Accuracy\n",
    "import torch\n",
    "\n",
    "from omegaconf import OmegaConf,open_dict\n",
    "\n",
    "\n",
    "train_conf = OmegaConf.create({'optimizer': {\"name\": \"adam\", \"params\": {\"lr\": 0.01, \"weight_decay\": 1e-8}}, \n",
    "                               'scheduler': {\"milestones\": [40, 75], \"gamma\": 0.1, \"step\": None}})\n",
    "\n",
    "\n",
    "metrics = CCNNMetrics(return_time_metric = MAE(),\n",
    "                      event_type_metric = Accuracy(),\n",
    "                      type_loss_coeff = 1,\n",
    "                      time_loss_coeff = 10,\n",
    "                      sim_size = 40,\n",
    "                      reductions = {'log_likelihood': 'mean','type': 'sum', 'time': 'mean'}\n",
    "                     )\n",
    "\n",
    "# Init lightning model\n",
    "model = BaseEventModule(net = net,\n",
    "                        metrics = metrics,\n",
    "                        optimizer = train_conf.optimizer,\n",
    "                        scheduler = train_conf.scheduler,\n",
    "                        head_start = 1)"
   ]
  },
  {
   "cell_type": "markdown",
   "id": "57fe9ee2-763d-425f-834c-ecf11b0b2bcc",
   "metadata": {},
   "source": [
    "## Wavenet"
   ]
  },
  {
   "cell_type": "code",
   "execution_count": 6,
   "id": "405bed8a-0075-4d94-952e-108038c2daec",
   "metadata": {},
   "outputs": [],
   "source": [
    "# from src.models.base_model import BaseEventModule\n",
    "# from src.metrics.baselines.wavenet import WNMetrics\n",
    "# from src.models.components.baselines.wavenet import WaveNet\n",
    "# from src.utils.metrics import MetricsCore\n",
    "# from src.utils.metrics import MAE, Accuracy\n",
    "# import torch\n",
    "\n",
    "# from omegaconf import OmegaConf,open_dict\n",
    "\n",
    "\n",
    "\n",
    "# metrics = WNMetrics(return_time_metric = MAE(), event_type_metric = Accuracy())\n",
    "        \n",
    "# wn_conf = OmegaConf.create({'optimizer': {\"name\": \"adam\", \"params\": {\"lr\": 0.01, \"weight_decay\": 1e-5}}})\n",
    "\n",
    "# net = WaveNet(in_channels=32, num_types=250, hyperparams={'nb_layers': 9, 'kernel_size': 5, 'nb_filters': 16})\n",
    "\n",
    "# wn_model = BaseEventModule(net = net,\n",
    "#                            metrics = metrics,\n",
    "#                            optimizer = wn_conf.optimizer,\n",
    "#                            head_start = 1)"
   ]
  },
  {
   "cell_type": "markdown",
   "id": "d69724dc-911e-4f7c-bc96-7e4d22ca6e21",
   "metadata": {},
   "source": [
    "## Callbacks and Loggers"
   ]
  },
  {
   "cell_type": "code",
   "execution_count": 7,
   "id": "c4557c39-bd33-4f8a-bd89-4a182e072aae",
   "metadata": {},
   "outputs": [],
   "source": [
    "# Init lightning callbacks\n",
    "from pytorch_lightning.callbacks import RichModelSummary, RichProgressBar, EarlyStopping, ModelCheckpoint\n",
    "from pytorch_lightning.loggers.tensorboard import TensorBoardLogger\n",
    "\n",
    "model_checkpoint = ModelCheckpoint(monitor=\"val/log_likelihood\", mode=\"max\",  save_top_k=1,  save_last=True,\n",
    "                                   verbose=False, dirpath=\"checkpoints/\", filename=\"epoch_{epoch:03d}\",\n",
    "                                   auto_insert_metric_name=False)  \n",
    "\n",
    "early_stopping = EarlyStopping(monitor=\"val/log_likelihood\", mode=\"max\", patience=100, min_delta=0)\n",
    "model_summary = RichModelSummary(max_depth=-1)\n",
    "rich_progress_bar = RichProgressBar()\n",
    "\n",
    "callbacks = [model_checkpoint, early_stopping, model_summary, rich_progress_bar]\n",
    "\n",
    "\n",
    "tensorboard = TensorBoardLogger(save_dir=\"tensorboard\", prefix=\"\", default_hp_metric=True, log_graph=False)\n",
    "logger = [tensorboard]"
   ]
  },
  {
   "cell_type": "markdown",
   "id": "5596f550-92e0-4955-a840-7bfaa70e4d05",
   "metadata": {},
   "source": [
    "## Trainer"
   ]
  },
  {
   "cell_type": "code",
   "execution_count": null,
   "id": "14f87df1-77c9-4b55-808f-40850fc88734",
   "metadata": {},
   "outputs": [
    {
     "name": "stderr",
     "output_type": "stream",
     "text": [
      "Trainer already configured with model summary callbacks: [<class 'pytorch_lightning.callbacks.rich_model_summary.RichModelSummary'>]. Skipping setting a default `ModelSummary` callback.\n",
      "GPU available: True, used: True\n",
      "TPU available: False, using: 0 TPU cores\n",
      "IPU available: False, using: 0 IPUs\n",
      "HPU available: False, using: 0 HPUs\n",
      "/home/morlov/.local/share/virtualenvs/pytorch-lifestream-1iBTwtzi/lib/python3.8/site-packages/pytorch_lightning/callbacks/model_checkpoint.py:611: UserWarning: Checkpoint directory /home/morlov/COTIC/notebooks/checkpoints exists and is not empty.\n",
      "  rank_zero_warn(f\"Checkpoint directory {dirpath} exists and is not empty.\")\n"
     ]
    },
    {
     "name": "stdout",
     "output_type": "stream",
     "text": [
      "logger.version = 6\n"
     ]
    },
    {
     "name": "stderr",
     "output_type": "stream",
     "text": [
      "LOCAL_RANK: 0 - CUDA_VISIBLE_DEVICES: [0,1]\n"
     ]
    },
    {
     "data": {
      "text/html": [
       "<pre style=\"white-space:pre;overflow-x:auto;line-height:normal;font-family:Menlo,'DejaVu Sans Mono',consolas,'Courier New',monospace\">┏━━━━━┳━━━━━━━━━━━━━━━━━━━━━━━━━━━━━━━━━━━┳━━━━━━━━━━━━━━━━┳━━━━━━━━┓\n",
       "┃<span style=\"color: #800080; text-decoration-color: #800080; font-weight: bold\">     </span>┃<span style=\"color: #800080; text-decoration-color: #800080; font-weight: bold\"> Name                              </span>┃<span style=\"color: #800080; text-decoration-color: #800080; font-weight: bold\"> Type           </span>┃<span style=\"color: #800080; text-decoration-color: #800080; font-weight: bold\"> Params </span>┃\n",
       "┡━━━━━╇━━━━━━━━━━━━━━━━━━━━━━━━━━━━━━━━━━━╇━━━━━━━━━━━━━━━━╇━━━━━━━━┩\n",
       "│<span style=\"color: #7f7f7f; text-decoration-color: #7f7f7f\"> 0   </span>│ net                               │ CCNN           │ 79.7 K │\n",
       "│<span style=\"color: #7f7f7f; text-decoration-color: #7f7f7f\"> 1   </span>│ net.event_emb                     │ Embedding      │  8.1 K │\n",
       "│<span style=\"color: #7f7f7f; text-decoration-color: #7f7f7f\"> 2   </span>│ net.convs                         │ ModuleList     │ 28.1 K │\n",
       "│<span style=\"color: #7f7f7f; text-decoration-color: #7f7f7f\"> 3   </span>│ net.convs.0                       │ ContConv1d     │  5.5 K │\n",
       "│<span style=\"color: #7f7f7f; text-decoration-color: #7f7f7f\"> 4   </span>│ net.convs.0.kernel                │ Kernel         │  4.9 K │\n",
       "│<span style=\"color: #7f7f7f; text-decoration-color: #7f7f7f\"> 5   </span>│ net.convs.0.kernel.layer_1        │ Linear         │    264 │\n",
       "│<span style=\"color: #7f7f7f; text-decoration-color: #7f7f7f\"> 6   </span>│ net.convs.0.kernel.relu_1         │ ReLU           │      0 │\n",
       "│<span style=\"color: #7f7f7f; text-decoration-color: #7f7f7f\"> 7   </span>│ net.convs.0.kernel.layer_2        │ Linear         │     36 │\n",
       "│<span style=\"color: #7f7f7f; text-decoration-color: #7f7f7f\"> 8   </span>│ net.convs.0.kernel.relu_2         │ ReLU           │      0 │\n",
       "│<span style=\"color: #7f7f7f; text-decoration-color: #7f7f7f\"> 9   </span>│ net.convs.0.kernel.layer_3        │ Linear         │     40 │\n",
       "│<span style=\"color: #7f7f7f; text-decoration-color: #7f7f7f\"> 10  </span>│ net.convs.0.kernel.relu_3         │ ReLU           │      0 │\n",
       "│<span style=\"color: #7f7f7f; text-decoration-color: #7f7f7f\"> 11  </span>│ net.convs.0.kernel.layer_4        │ Linear         │  4.6 K │\n",
       "│<span style=\"color: #7f7f7f; text-decoration-color: #7f7f7f\"> 12  </span>│ net.convs.0.skip_connection       │ Conv1d         │    528 │\n",
       "│<span style=\"color: #7f7f7f; text-decoration-color: #7f7f7f\"> 13  </span>│ net.convs.0.leaky_relu            │ LeakyReLU      │      0 │\n",
       "│<span style=\"color: #7f7f7f; text-decoration-color: #7f7f7f\"> 14  </span>│ net.convs.0.norm                  │ BatchNorm1d    │     32 │\n",
       "│<span style=\"color: #7f7f7f; text-decoration-color: #7f7f7f\"> 15  </span>│ net.convs.1                       │ ContConv1d     │  2.8 K │\n",
       "│<span style=\"color: #7f7f7f; text-decoration-color: #7f7f7f\"> 16  </span>│ net.convs.1.kernel                │ Kernel         │  2.5 K │\n",
       "│<span style=\"color: #7f7f7f; text-decoration-color: #7f7f7f\"> 17  </span>│ net.convs.1.kernel.layer_1        │ Linear         │    136 │\n",
       "│<span style=\"color: #7f7f7f; text-decoration-color: #7f7f7f\"> 18  </span>│ net.convs.1.kernel.relu_1         │ ReLU           │      0 │\n",
       "│<span style=\"color: #7f7f7f; text-decoration-color: #7f7f7f\"> 19  </span>│ net.convs.1.kernel.layer_2        │ Linear         │     36 │\n",
       "│<span style=\"color: #7f7f7f; text-decoration-color: #7f7f7f\"> 20  </span>│ net.convs.1.kernel.relu_2         │ ReLU           │      0 │\n",
       "│<span style=\"color: #7f7f7f; text-decoration-color: #7f7f7f\"> 21  </span>│ net.convs.1.kernel.layer_3        │ Linear         │     40 │\n",
       "│<span style=\"color: #7f7f7f; text-decoration-color: #7f7f7f\"> 22  </span>│ net.convs.1.kernel.relu_3         │ ReLU           │      0 │\n",
       "│<span style=\"color: #7f7f7f; text-decoration-color: #7f7f7f\"> 23  </span>│ net.convs.1.kernel.layer_4        │ Linear         │  2.3 K │\n",
       "│<span style=\"color: #7f7f7f; text-decoration-color: #7f7f7f\"> 24  </span>│ net.convs.1.skip_connection       │ Conv1d         │    272 │\n",
       "│<span style=\"color: #7f7f7f; text-decoration-color: #7f7f7f\"> 25  </span>│ net.convs.1.leaky_relu            │ LeakyReLU      │      0 │\n",
       "│<span style=\"color: #7f7f7f; text-decoration-color: #7f7f7f\"> 26  </span>│ net.convs.1.norm                  │ BatchNorm1d    │     32 │\n",
       "│<span style=\"color: #7f7f7f; text-decoration-color: #7f7f7f\"> 27  </span>│ net.convs.2                       │ ContConv1d     │  2.8 K │\n",
       "│<span style=\"color: #7f7f7f; text-decoration-color: #7f7f7f\"> 28  </span>│ net.convs.2.kernel                │ Kernel         │  2.5 K │\n",
       "│<span style=\"color: #7f7f7f; text-decoration-color: #7f7f7f\"> 29  </span>│ net.convs.2.kernel.layer_1        │ Linear         │    136 │\n",
       "│<span style=\"color: #7f7f7f; text-decoration-color: #7f7f7f\"> 30  </span>│ net.convs.2.kernel.relu_1         │ ReLU           │      0 │\n",
       "│<span style=\"color: #7f7f7f; text-decoration-color: #7f7f7f\"> 31  </span>│ net.convs.2.kernel.layer_2        │ Linear         │     36 │\n",
       "│<span style=\"color: #7f7f7f; text-decoration-color: #7f7f7f\"> 32  </span>│ net.convs.2.kernel.relu_2         │ ReLU           │      0 │\n",
       "│<span style=\"color: #7f7f7f; text-decoration-color: #7f7f7f\"> 33  </span>│ net.convs.2.kernel.layer_3        │ Linear         │     40 │\n",
       "│<span style=\"color: #7f7f7f; text-decoration-color: #7f7f7f\"> 34  </span>│ net.convs.2.kernel.relu_3         │ ReLU           │      0 │\n",
       "│<span style=\"color: #7f7f7f; text-decoration-color: #7f7f7f\"> 35  </span>│ net.convs.2.kernel.layer_4        │ Linear         │  2.3 K │\n",
       "│<span style=\"color: #7f7f7f; text-decoration-color: #7f7f7f\"> 36  </span>│ net.convs.2.skip_connection       │ Conv1d         │    272 │\n",
       "│<span style=\"color: #7f7f7f; text-decoration-color: #7f7f7f\"> 37  </span>│ net.convs.2.leaky_relu            │ LeakyReLU      │      0 │\n",
       "│<span style=\"color: #7f7f7f; text-decoration-color: #7f7f7f\"> 38  </span>│ net.convs.2.norm                  │ BatchNorm1d    │     32 │\n",
       "│<span style=\"color: #7f7f7f; text-decoration-color: #7f7f7f\"> 39  </span>│ net.convs.3                       │ ContConv1d     │  2.8 K │\n",
       "│<span style=\"color: #7f7f7f; text-decoration-color: #7f7f7f\"> 40  </span>│ net.convs.3.kernel                │ Kernel         │  2.5 K │\n",
       "│<span style=\"color: #7f7f7f; text-decoration-color: #7f7f7f\"> 41  </span>│ net.convs.3.kernel.layer_1        │ Linear         │    136 │\n",
       "│<span style=\"color: #7f7f7f; text-decoration-color: #7f7f7f\"> 42  </span>│ net.convs.3.kernel.relu_1         │ ReLU           │      0 │\n",
       "│<span style=\"color: #7f7f7f; text-decoration-color: #7f7f7f\"> 43  </span>│ net.convs.3.kernel.layer_2        │ Linear         │     36 │\n",
       "│<span style=\"color: #7f7f7f; text-decoration-color: #7f7f7f\"> 44  </span>│ net.convs.3.kernel.relu_2         │ ReLU           │      0 │\n",
       "│<span style=\"color: #7f7f7f; text-decoration-color: #7f7f7f\"> 45  </span>│ net.convs.3.kernel.layer_3        │ Linear         │     40 │\n",
       "│<span style=\"color: #7f7f7f; text-decoration-color: #7f7f7f\"> 46  </span>│ net.convs.3.kernel.relu_3         │ ReLU           │      0 │\n",
       "│<span style=\"color: #7f7f7f; text-decoration-color: #7f7f7f\"> 47  </span>│ net.convs.3.kernel.layer_4        │ Linear         │  2.3 K │\n",
       "│<span style=\"color: #7f7f7f; text-decoration-color: #7f7f7f\"> 48  </span>│ net.convs.3.skip_connection       │ Conv1d         │    272 │\n",
       "│<span style=\"color: #7f7f7f; text-decoration-color: #7f7f7f\"> 49  </span>│ net.convs.3.leaky_relu            │ LeakyReLU      │      0 │\n",
       "│<span style=\"color: #7f7f7f; text-decoration-color: #7f7f7f\"> 50  </span>│ net.convs.3.norm                  │ BatchNorm1d    │     32 │\n",
       "│<span style=\"color: #7f7f7f; text-decoration-color: #7f7f7f\"> 51  </span>│ net.convs.4                       │ ContConv1d     │  2.8 K │\n",
       "│<span style=\"color: #7f7f7f; text-decoration-color: #7f7f7f\"> 52  </span>│ net.convs.4.kernel                │ Kernel         │  2.5 K │\n",
       "│<span style=\"color: #7f7f7f; text-decoration-color: #7f7f7f\"> 53  </span>│ net.convs.4.kernel.layer_1        │ Linear         │    136 │\n",
       "│<span style=\"color: #7f7f7f; text-decoration-color: #7f7f7f\"> 54  </span>│ net.convs.4.kernel.relu_1         │ ReLU           │      0 │\n",
       "│<span style=\"color: #7f7f7f; text-decoration-color: #7f7f7f\"> 55  </span>│ net.convs.4.kernel.layer_2        │ Linear         │     36 │\n",
       "│<span style=\"color: #7f7f7f; text-decoration-color: #7f7f7f\"> 56  </span>│ net.convs.4.kernel.relu_2         │ ReLU           │      0 │\n",
       "│<span style=\"color: #7f7f7f; text-decoration-color: #7f7f7f\"> 57  </span>│ net.convs.4.kernel.layer_3        │ Linear         │     40 │\n",
       "│<span style=\"color: #7f7f7f; text-decoration-color: #7f7f7f\"> 58  </span>│ net.convs.4.kernel.relu_3         │ ReLU           │      0 │\n",
       "│<span style=\"color: #7f7f7f; text-decoration-color: #7f7f7f\"> 59  </span>│ net.convs.4.kernel.layer_4        │ Linear         │  2.3 K │\n",
       "│<span style=\"color: #7f7f7f; text-decoration-color: #7f7f7f\"> 60  </span>│ net.convs.4.skip_connection       │ Conv1d         │    272 │\n",
       "│<span style=\"color: #7f7f7f; text-decoration-color: #7f7f7f\"> 61  </span>│ net.convs.4.leaky_relu            │ LeakyReLU      │      0 │\n",
       "│<span style=\"color: #7f7f7f; text-decoration-color: #7f7f7f\"> 62  </span>│ net.convs.4.norm                  │ BatchNorm1d    │     32 │\n",
       "│<span style=\"color: #7f7f7f; text-decoration-color: #7f7f7f\"> 63  </span>│ net.convs.5                       │ ContConv1d     │  2.8 K │\n",
       "│<span style=\"color: #7f7f7f; text-decoration-color: #7f7f7f\"> 64  </span>│ net.convs.5.kernel                │ Kernel         │  2.5 K │\n",
       "│<span style=\"color: #7f7f7f; text-decoration-color: #7f7f7f\"> 65  </span>│ net.convs.5.kernel.layer_1        │ Linear         │    136 │\n",
       "│<span style=\"color: #7f7f7f; text-decoration-color: #7f7f7f\"> 66  </span>│ net.convs.5.kernel.relu_1         │ ReLU           │      0 │\n",
       "│<span style=\"color: #7f7f7f; text-decoration-color: #7f7f7f\"> 67  </span>│ net.convs.5.kernel.layer_2        │ Linear         │     36 │\n",
       "│<span style=\"color: #7f7f7f; text-decoration-color: #7f7f7f\"> 68  </span>│ net.convs.5.kernel.relu_2         │ ReLU           │      0 │\n",
       "│<span style=\"color: #7f7f7f; text-decoration-color: #7f7f7f\"> 69  </span>│ net.convs.5.kernel.layer_3        │ Linear         │     40 │\n",
       "│<span style=\"color: #7f7f7f; text-decoration-color: #7f7f7f\"> 70  </span>│ net.convs.5.kernel.relu_3         │ ReLU           │      0 │\n",
       "│<span style=\"color: #7f7f7f; text-decoration-color: #7f7f7f\"> 71  </span>│ net.convs.5.kernel.layer_4        │ Linear         │  2.3 K │\n",
       "│<span style=\"color: #7f7f7f; text-decoration-color: #7f7f7f\"> 72  </span>│ net.convs.5.skip_connection       │ Conv1d         │    272 │\n",
       "│<span style=\"color: #7f7f7f; text-decoration-color: #7f7f7f\"> 73  </span>│ net.convs.5.leaky_relu            │ LeakyReLU      │      0 │\n",
       "│<span style=\"color: #7f7f7f; text-decoration-color: #7f7f7f\"> 74  </span>│ net.convs.5.norm                  │ BatchNorm1d    │     32 │\n",
       "│<span style=\"color: #7f7f7f; text-decoration-color: #7f7f7f\"> 75  </span>│ net.convs.6                       │ ContConv1d     │  2.8 K │\n",
       "│<span style=\"color: #7f7f7f; text-decoration-color: #7f7f7f\"> 76  </span>│ net.convs.6.kernel                │ Kernel         │  2.5 K │\n",
       "│<span style=\"color: #7f7f7f; text-decoration-color: #7f7f7f\"> 77  </span>│ net.convs.6.kernel.layer_1        │ Linear         │    136 │\n",
       "│<span style=\"color: #7f7f7f; text-decoration-color: #7f7f7f\"> 78  </span>│ net.convs.6.kernel.relu_1         │ ReLU           │      0 │\n",
       "│<span style=\"color: #7f7f7f; text-decoration-color: #7f7f7f\"> 79  </span>│ net.convs.6.kernel.layer_2        │ Linear         │     36 │\n",
       "│<span style=\"color: #7f7f7f; text-decoration-color: #7f7f7f\"> 80  </span>│ net.convs.6.kernel.relu_2         │ ReLU           │      0 │\n",
       "│<span style=\"color: #7f7f7f; text-decoration-color: #7f7f7f\"> 81  </span>│ net.convs.6.kernel.layer_3        │ Linear         │     40 │\n",
       "│<span style=\"color: #7f7f7f; text-decoration-color: #7f7f7f\"> 82  </span>│ net.convs.6.kernel.relu_3         │ ReLU           │      0 │\n",
       "│<span style=\"color: #7f7f7f; text-decoration-color: #7f7f7f\"> 83  </span>│ net.convs.6.kernel.layer_4        │ Linear         │  2.3 K │\n",
       "│<span style=\"color: #7f7f7f; text-decoration-color: #7f7f7f\"> 84  </span>│ net.convs.6.skip_connection       │ Conv1d         │    272 │\n",
       "│<span style=\"color: #7f7f7f; text-decoration-color: #7f7f7f\"> 85  </span>│ net.convs.6.leaky_relu            │ LeakyReLU      │      0 │\n",
       "│<span style=\"color: #7f7f7f; text-decoration-color: #7f7f7f\"> 86  </span>│ net.convs.6.norm                  │ BatchNorm1d    │     32 │\n",
       "│<span style=\"color: #7f7f7f; text-decoration-color: #7f7f7f\"> 87  </span>│ net.convs.7                       │ ContConv1d     │  2.8 K │\n",
       "│<span style=\"color: #7f7f7f; text-decoration-color: #7f7f7f\"> 88  </span>│ net.convs.7.kernel                │ Kernel         │  2.5 K │\n",
       "│<span style=\"color: #7f7f7f; text-decoration-color: #7f7f7f\"> 89  </span>│ net.convs.7.kernel.layer_1        │ Linear         │    136 │\n",
       "│<span style=\"color: #7f7f7f; text-decoration-color: #7f7f7f\"> 90  </span>│ net.convs.7.kernel.relu_1         │ ReLU           │      0 │\n",
       "│<span style=\"color: #7f7f7f; text-decoration-color: #7f7f7f\"> 91  </span>│ net.convs.7.kernel.layer_2        │ Linear         │     36 │\n",
       "│<span style=\"color: #7f7f7f; text-decoration-color: #7f7f7f\"> 92  </span>│ net.convs.7.kernel.relu_2         │ ReLU           │      0 │\n",
       "│<span style=\"color: #7f7f7f; text-decoration-color: #7f7f7f\"> 93  </span>│ net.convs.7.kernel.layer_3        │ Linear         │     40 │\n",
       "│<span style=\"color: #7f7f7f; text-decoration-color: #7f7f7f\"> 94  </span>│ net.convs.7.kernel.relu_3         │ ReLU           │      0 │\n",
       "│<span style=\"color: #7f7f7f; text-decoration-color: #7f7f7f\"> 95  </span>│ net.convs.7.kernel.layer_4        │ Linear         │  2.3 K │\n",
       "│<span style=\"color: #7f7f7f; text-decoration-color: #7f7f7f\"> 96  </span>│ net.convs.7.skip_connection       │ Conv1d         │    272 │\n",
       "│<span style=\"color: #7f7f7f; text-decoration-color: #7f7f7f\"> 97  </span>│ net.convs.7.leaky_relu            │ LeakyReLU      │      0 │\n",
       "│<span style=\"color: #7f7f7f; text-decoration-color: #7f7f7f\"> 98  </span>│ net.convs.7.norm                  │ BatchNorm1d    │     32 │\n",
       "│<span style=\"color: #7f7f7f; text-decoration-color: #7f7f7f\"> 99  </span>│ net.convs.8                       │ ContConv1d     │  2.8 K │\n",
       "│<span style=\"color: #7f7f7f; text-decoration-color: #7f7f7f\"> 100 </span>│ net.convs.8.kernel                │ Kernel         │  2.5 K │\n",
       "│<span style=\"color: #7f7f7f; text-decoration-color: #7f7f7f\"> 101 </span>│ net.convs.8.kernel.layer_1        │ Linear         │    136 │\n",
       "│<span style=\"color: #7f7f7f; text-decoration-color: #7f7f7f\"> 102 </span>│ net.convs.8.kernel.relu_1         │ ReLU           │      0 │\n",
       "│<span style=\"color: #7f7f7f; text-decoration-color: #7f7f7f\"> 103 </span>│ net.convs.8.kernel.layer_2        │ Linear         │     36 │\n",
       "│<span style=\"color: #7f7f7f; text-decoration-color: #7f7f7f\"> 104 </span>│ net.convs.8.kernel.relu_2         │ ReLU           │      0 │\n",
       "│<span style=\"color: #7f7f7f; text-decoration-color: #7f7f7f\"> 105 </span>│ net.convs.8.kernel.layer_3        │ Linear         │     40 │\n",
       "│<span style=\"color: #7f7f7f; text-decoration-color: #7f7f7f\"> 106 </span>│ net.convs.8.kernel.relu_3         │ ReLU           │      0 │\n",
       "│<span style=\"color: #7f7f7f; text-decoration-color: #7f7f7f\"> 107 </span>│ net.convs.8.kernel.layer_4        │ Linear         │  2.3 K │\n",
       "│<span style=\"color: #7f7f7f; text-decoration-color: #7f7f7f\"> 108 </span>│ net.convs.8.skip_connection       │ Conv1d         │    272 │\n",
       "│<span style=\"color: #7f7f7f; text-decoration-color: #7f7f7f\"> 109 </span>│ net.convs.8.leaky_relu            │ LeakyReLU      │      0 │\n",
       "│<span style=\"color: #7f7f7f; text-decoration-color: #7f7f7f\"> 110 </span>│ net.convs.8.norm                  │ BatchNorm1d    │     32 │\n",
       "│<span style=\"color: #7f7f7f; text-decoration-color: #7f7f7f\"> 111 </span>│ net.final_list                    │ ModuleList     │  6.8 K │\n",
       "│<span style=\"color: #7f7f7f; text-decoration-color: #7f7f7f\"> 112 </span>│ net.final_list.0                  │ ContConv1dSim  │  2.5 K │\n",
       "│<span style=\"color: #7f7f7f; text-decoration-color: #7f7f7f\"> 113 </span>│ net.final_list.0.kernel           │ Kernel         │  2.5 K │\n",
       "│<span style=\"color: #7f7f7f; text-decoration-color: #7f7f7f\"> 114 </span>│ net.final_list.0.kernel.layer_1   │ Linear         │    136 │\n",
       "│<span style=\"color: #7f7f7f; text-decoration-color: #7f7f7f\"> 115 </span>│ net.final_list.0.kernel.relu_1    │ ReLU           │      0 │\n",
       "│<span style=\"color: #7f7f7f; text-decoration-color: #7f7f7f\"> 116 </span>│ net.final_list.0.kernel.layer_2   │ Linear         │     36 │\n",
       "│<span style=\"color: #7f7f7f; text-decoration-color: #7f7f7f\"> 117 </span>│ net.final_list.0.kernel.relu_2    │ ReLU           │      0 │\n",
       "│<span style=\"color: #7f7f7f; text-decoration-color: #7f7f7f\"> 118 </span>│ net.final_list.0.kernel.layer_3   │ Linear         │     40 │\n",
       "│<span style=\"color: #7f7f7f; text-decoration-color: #7f7f7f\"> 119 </span>│ net.final_list.0.kernel.relu_3    │ ReLU           │      0 │\n",
       "│<span style=\"color: #7f7f7f; text-decoration-color: #7f7f7f\"> 120 </span>│ net.final_list.0.kernel.layer_4   │ Linear         │  2.3 K │\n",
       "│<span style=\"color: #7f7f7f; text-decoration-color: #7f7f7f\"> 121 </span>│ net.final_list.0.norm             │ LayerNorm      │     32 │\n",
       "│<span style=\"color: #7f7f7f; text-decoration-color: #7f7f7f\"> 122 </span>│ net.final_list.1                  │ LeakyReLU      │      0 │\n",
       "│<span style=\"color: #7f7f7f; text-decoration-color: #7f7f7f\"> 123 </span>│ net.final_list.2                  │ Linear         │  4.2 K │\n",
       "│<span style=\"color: #7f7f7f; text-decoration-color: #7f7f7f\"> 124 </span>│ net.final_list.3                  │ Softplus       │      0 │\n",
       "│<span style=\"color: #7f7f7f; text-decoration-color: #7f7f7f\"> 125 </span>│ net.head                          │ PredictionHead │ 36.7 K │\n",
       "│<span style=\"color: #7f7f7f; text-decoration-color: #7f7f7f\"> 126 </span>│ net.head.return_time_prediction   │ Sequential     │  2.3 K │\n",
       "│<span style=\"color: #7f7f7f; text-decoration-color: #7f7f7f\"> 127 </span>│ net.head.return_time_prediction.0 │ Linear         │  2.2 K │\n",
       "│<span style=\"color: #7f7f7f; text-decoration-color: #7f7f7f\"> 128 </span>│ net.head.return_time_prediction.1 │ ReLU           │      0 │\n",
       "│<span style=\"color: #7f7f7f; text-decoration-color: #7f7f7f\"> 129 </span>│ net.head.return_time_prediction.2 │ Linear         │    129 │\n",
       "│<span style=\"color: #7f7f7f; text-decoration-color: #7f7f7f\"> 130 </span>│ net.head.event_type_prediction    │ Sequential     │ 34.4 K │\n",
       "│<span style=\"color: #7f7f7f; text-decoration-color: #7f7f7f\"> 131 </span>│ net.head.event_type_prediction.0  │ Linear         │  2.2 K │\n",
       "│<span style=\"color: #7f7f7f; text-decoration-color: #7f7f7f\"> 132 </span>│ net.head.event_type_prediction.1  │ ReLU           │      0 │\n",
       "│<span style=\"color: #7f7f7f; text-decoration-color: #7f7f7f\"> 133 </span>│ net.head.event_type_prediction.2  │ Linear         │ 32.2 K │\n",
       "└─────┴───────────────────────────────────┴────────────────┴────────┘\n",
       "</pre>\n"
      ],
      "text/plain": [
       "┏━━━━━┳━━━━━━━━━━━━━━━━━━━━━━━━━━━━━━━━━━━┳━━━━━━━━━━━━━━━━┳━━━━━━━━┓\n",
       "┃\u001b[1;35m \u001b[0m\u001b[1;35m   \u001b[0m\u001b[1;35m \u001b[0m┃\u001b[1;35m \u001b[0m\u001b[1;35mName                             \u001b[0m\u001b[1;35m \u001b[0m┃\u001b[1;35m \u001b[0m\u001b[1;35mType          \u001b[0m\u001b[1;35m \u001b[0m┃\u001b[1;35m \u001b[0m\u001b[1;35mParams\u001b[0m\u001b[1;35m \u001b[0m┃\n",
       "┡━━━━━╇━━━━━━━━━━━━━━━━━━━━━━━━━━━━━━━━━━━╇━━━━━━━━━━━━━━━━╇━━━━━━━━┩\n",
       "│\u001b[2m \u001b[0m\u001b[2m0  \u001b[0m\u001b[2m \u001b[0m│ net                               │ CCNN           │ 79.7 K │\n",
       "│\u001b[2m \u001b[0m\u001b[2m1  \u001b[0m\u001b[2m \u001b[0m│ net.event_emb                     │ Embedding      │  8.1 K │\n",
       "│\u001b[2m \u001b[0m\u001b[2m2  \u001b[0m\u001b[2m \u001b[0m│ net.convs                         │ ModuleList     │ 28.1 K │\n",
       "│\u001b[2m \u001b[0m\u001b[2m3  \u001b[0m\u001b[2m \u001b[0m│ net.convs.0                       │ ContConv1d     │  5.5 K │\n",
       "│\u001b[2m \u001b[0m\u001b[2m4  \u001b[0m\u001b[2m \u001b[0m│ net.convs.0.kernel                │ Kernel         │  4.9 K │\n",
       "│\u001b[2m \u001b[0m\u001b[2m5  \u001b[0m\u001b[2m \u001b[0m│ net.convs.0.kernel.layer_1        │ Linear         │    264 │\n",
       "│\u001b[2m \u001b[0m\u001b[2m6  \u001b[0m\u001b[2m \u001b[0m│ net.convs.0.kernel.relu_1         │ ReLU           │      0 │\n",
       "│\u001b[2m \u001b[0m\u001b[2m7  \u001b[0m\u001b[2m \u001b[0m│ net.convs.0.kernel.layer_2        │ Linear         │     36 │\n",
       "│\u001b[2m \u001b[0m\u001b[2m8  \u001b[0m\u001b[2m \u001b[0m│ net.convs.0.kernel.relu_2         │ ReLU           │      0 │\n",
       "│\u001b[2m \u001b[0m\u001b[2m9  \u001b[0m\u001b[2m \u001b[0m│ net.convs.0.kernel.layer_3        │ Linear         │     40 │\n",
       "│\u001b[2m \u001b[0m\u001b[2m10 \u001b[0m\u001b[2m \u001b[0m│ net.convs.0.kernel.relu_3         │ ReLU           │      0 │\n",
       "│\u001b[2m \u001b[0m\u001b[2m11 \u001b[0m\u001b[2m \u001b[0m│ net.convs.0.kernel.layer_4        │ Linear         │  4.6 K │\n",
       "│\u001b[2m \u001b[0m\u001b[2m12 \u001b[0m\u001b[2m \u001b[0m│ net.convs.0.skip_connection       │ Conv1d         │    528 │\n",
       "│\u001b[2m \u001b[0m\u001b[2m13 \u001b[0m\u001b[2m \u001b[0m│ net.convs.0.leaky_relu            │ LeakyReLU      │      0 │\n",
       "│\u001b[2m \u001b[0m\u001b[2m14 \u001b[0m\u001b[2m \u001b[0m│ net.convs.0.norm                  │ BatchNorm1d    │     32 │\n",
       "│\u001b[2m \u001b[0m\u001b[2m15 \u001b[0m\u001b[2m \u001b[0m│ net.convs.1                       │ ContConv1d     │  2.8 K │\n",
       "│\u001b[2m \u001b[0m\u001b[2m16 \u001b[0m\u001b[2m \u001b[0m│ net.convs.1.kernel                │ Kernel         │  2.5 K │\n",
       "│\u001b[2m \u001b[0m\u001b[2m17 \u001b[0m\u001b[2m \u001b[0m│ net.convs.1.kernel.layer_1        │ Linear         │    136 │\n",
       "│\u001b[2m \u001b[0m\u001b[2m18 \u001b[0m\u001b[2m \u001b[0m│ net.convs.1.kernel.relu_1         │ ReLU           │      0 │\n",
       "│\u001b[2m \u001b[0m\u001b[2m19 \u001b[0m\u001b[2m \u001b[0m│ net.convs.1.kernel.layer_2        │ Linear         │     36 │\n",
       "│\u001b[2m \u001b[0m\u001b[2m20 \u001b[0m\u001b[2m \u001b[0m│ net.convs.1.kernel.relu_2         │ ReLU           │      0 │\n",
       "│\u001b[2m \u001b[0m\u001b[2m21 \u001b[0m\u001b[2m \u001b[0m│ net.convs.1.kernel.layer_3        │ Linear         │     40 │\n",
       "│\u001b[2m \u001b[0m\u001b[2m22 \u001b[0m\u001b[2m \u001b[0m│ net.convs.1.kernel.relu_3         │ ReLU           │      0 │\n",
       "│\u001b[2m \u001b[0m\u001b[2m23 \u001b[0m\u001b[2m \u001b[0m│ net.convs.1.kernel.layer_4        │ Linear         │  2.3 K │\n",
       "│\u001b[2m \u001b[0m\u001b[2m24 \u001b[0m\u001b[2m \u001b[0m│ net.convs.1.skip_connection       │ Conv1d         │    272 │\n",
       "│\u001b[2m \u001b[0m\u001b[2m25 \u001b[0m\u001b[2m \u001b[0m│ net.convs.1.leaky_relu            │ LeakyReLU      │      0 │\n",
       "│\u001b[2m \u001b[0m\u001b[2m26 \u001b[0m\u001b[2m \u001b[0m│ net.convs.1.norm                  │ BatchNorm1d    │     32 │\n",
       "│\u001b[2m \u001b[0m\u001b[2m27 \u001b[0m\u001b[2m \u001b[0m│ net.convs.2                       │ ContConv1d     │  2.8 K │\n",
       "│\u001b[2m \u001b[0m\u001b[2m28 \u001b[0m\u001b[2m \u001b[0m│ net.convs.2.kernel                │ Kernel         │  2.5 K │\n",
       "│\u001b[2m \u001b[0m\u001b[2m29 \u001b[0m\u001b[2m \u001b[0m│ net.convs.2.kernel.layer_1        │ Linear         │    136 │\n",
       "│\u001b[2m \u001b[0m\u001b[2m30 \u001b[0m\u001b[2m \u001b[0m│ net.convs.2.kernel.relu_1         │ ReLU           │      0 │\n",
       "│\u001b[2m \u001b[0m\u001b[2m31 \u001b[0m\u001b[2m \u001b[0m│ net.convs.2.kernel.layer_2        │ Linear         │     36 │\n",
       "│\u001b[2m \u001b[0m\u001b[2m32 \u001b[0m\u001b[2m \u001b[0m│ net.convs.2.kernel.relu_2         │ ReLU           │      0 │\n",
       "│\u001b[2m \u001b[0m\u001b[2m33 \u001b[0m\u001b[2m \u001b[0m│ net.convs.2.kernel.layer_3        │ Linear         │     40 │\n",
       "│\u001b[2m \u001b[0m\u001b[2m34 \u001b[0m\u001b[2m \u001b[0m│ net.convs.2.kernel.relu_3         │ ReLU           │      0 │\n",
       "│\u001b[2m \u001b[0m\u001b[2m35 \u001b[0m\u001b[2m \u001b[0m│ net.convs.2.kernel.layer_4        │ Linear         │  2.3 K │\n",
       "│\u001b[2m \u001b[0m\u001b[2m36 \u001b[0m\u001b[2m \u001b[0m│ net.convs.2.skip_connection       │ Conv1d         │    272 │\n",
       "│\u001b[2m \u001b[0m\u001b[2m37 \u001b[0m\u001b[2m \u001b[0m│ net.convs.2.leaky_relu            │ LeakyReLU      │      0 │\n",
       "│\u001b[2m \u001b[0m\u001b[2m38 \u001b[0m\u001b[2m \u001b[0m│ net.convs.2.norm                  │ BatchNorm1d    │     32 │\n",
       "│\u001b[2m \u001b[0m\u001b[2m39 \u001b[0m\u001b[2m \u001b[0m│ net.convs.3                       │ ContConv1d     │  2.8 K │\n",
       "│\u001b[2m \u001b[0m\u001b[2m40 \u001b[0m\u001b[2m \u001b[0m│ net.convs.3.kernel                │ Kernel         │  2.5 K │\n",
       "│\u001b[2m \u001b[0m\u001b[2m41 \u001b[0m\u001b[2m \u001b[0m│ net.convs.3.kernel.layer_1        │ Linear         │    136 │\n",
       "│\u001b[2m \u001b[0m\u001b[2m42 \u001b[0m\u001b[2m \u001b[0m│ net.convs.3.kernel.relu_1         │ ReLU           │      0 │\n",
       "│\u001b[2m \u001b[0m\u001b[2m43 \u001b[0m\u001b[2m \u001b[0m│ net.convs.3.kernel.layer_2        │ Linear         │     36 │\n",
       "│\u001b[2m \u001b[0m\u001b[2m44 \u001b[0m\u001b[2m \u001b[0m│ net.convs.3.kernel.relu_2         │ ReLU           │      0 │\n",
       "│\u001b[2m \u001b[0m\u001b[2m45 \u001b[0m\u001b[2m \u001b[0m│ net.convs.3.kernel.layer_3        │ Linear         │     40 │\n",
       "│\u001b[2m \u001b[0m\u001b[2m46 \u001b[0m\u001b[2m \u001b[0m│ net.convs.3.kernel.relu_3         │ ReLU           │      0 │\n",
       "│\u001b[2m \u001b[0m\u001b[2m47 \u001b[0m\u001b[2m \u001b[0m│ net.convs.3.kernel.layer_4        │ Linear         │  2.3 K │\n",
       "│\u001b[2m \u001b[0m\u001b[2m48 \u001b[0m\u001b[2m \u001b[0m│ net.convs.3.skip_connection       │ Conv1d         │    272 │\n",
       "│\u001b[2m \u001b[0m\u001b[2m49 \u001b[0m\u001b[2m \u001b[0m│ net.convs.3.leaky_relu            │ LeakyReLU      │      0 │\n",
       "│\u001b[2m \u001b[0m\u001b[2m50 \u001b[0m\u001b[2m \u001b[0m│ net.convs.3.norm                  │ BatchNorm1d    │     32 │\n",
       "│\u001b[2m \u001b[0m\u001b[2m51 \u001b[0m\u001b[2m \u001b[0m│ net.convs.4                       │ ContConv1d     │  2.8 K │\n",
       "│\u001b[2m \u001b[0m\u001b[2m52 \u001b[0m\u001b[2m \u001b[0m│ net.convs.4.kernel                │ Kernel         │  2.5 K │\n",
       "│\u001b[2m \u001b[0m\u001b[2m53 \u001b[0m\u001b[2m \u001b[0m│ net.convs.4.kernel.layer_1        │ Linear         │    136 │\n",
       "│\u001b[2m \u001b[0m\u001b[2m54 \u001b[0m\u001b[2m \u001b[0m│ net.convs.4.kernel.relu_1         │ ReLU           │      0 │\n",
       "│\u001b[2m \u001b[0m\u001b[2m55 \u001b[0m\u001b[2m \u001b[0m│ net.convs.4.kernel.layer_2        │ Linear         │     36 │\n",
       "│\u001b[2m \u001b[0m\u001b[2m56 \u001b[0m\u001b[2m \u001b[0m│ net.convs.4.kernel.relu_2         │ ReLU           │      0 │\n",
       "│\u001b[2m \u001b[0m\u001b[2m57 \u001b[0m\u001b[2m \u001b[0m│ net.convs.4.kernel.layer_3        │ Linear         │     40 │\n",
       "│\u001b[2m \u001b[0m\u001b[2m58 \u001b[0m\u001b[2m \u001b[0m│ net.convs.4.kernel.relu_3         │ ReLU           │      0 │\n",
       "│\u001b[2m \u001b[0m\u001b[2m59 \u001b[0m\u001b[2m \u001b[0m│ net.convs.4.kernel.layer_4        │ Linear         │  2.3 K │\n",
       "│\u001b[2m \u001b[0m\u001b[2m60 \u001b[0m\u001b[2m \u001b[0m│ net.convs.4.skip_connection       │ Conv1d         │    272 │\n",
       "│\u001b[2m \u001b[0m\u001b[2m61 \u001b[0m\u001b[2m \u001b[0m│ net.convs.4.leaky_relu            │ LeakyReLU      │      0 │\n",
       "│\u001b[2m \u001b[0m\u001b[2m62 \u001b[0m\u001b[2m \u001b[0m│ net.convs.4.norm                  │ BatchNorm1d    │     32 │\n",
       "│\u001b[2m \u001b[0m\u001b[2m63 \u001b[0m\u001b[2m \u001b[0m│ net.convs.5                       │ ContConv1d     │  2.8 K │\n",
       "│\u001b[2m \u001b[0m\u001b[2m64 \u001b[0m\u001b[2m \u001b[0m│ net.convs.5.kernel                │ Kernel         │  2.5 K │\n",
       "│\u001b[2m \u001b[0m\u001b[2m65 \u001b[0m\u001b[2m \u001b[0m│ net.convs.5.kernel.layer_1        │ Linear         │    136 │\n",
       "│\u001b[2m \u001b[0m\u001b[2m66 \u001b[0m\u001b[2m \u001b[0m│ net.convs.5.kernel.relu_1         │ ReLU           │      0 │\n",
       "│\u001b[2m \u001b[0m\u001b[2m67 \u001b[0m\u001b[2m \u001b[0m│ net.convs.5.kernel.layer_2        │ Linear         │     36 │\n",
       "│\u001b[2m \u001b[0m\u001b[2m68 \u001b[0m\u001b[2m \u001b[0m│ net.convs.5.kernel.relu_2         │ ReLU           │      0 │\n",
       "│\u001b[2m \u001b[0m\u001b[2m69 \u001b[0m\u001b[2m \u001b[0m│ net.convs.5.kernel.layer_3        │ Linear         │     40 │\n",
       "│\u001b[2m \u001b[0m\u001b[2m70 \u001b[0m\u001b[2m \u001b[0m│ net.convs.5.kernel.relu_3         │ ReLU           │      0 │\n",
       "│\u001b[2m \u001b[0m\u001b[2m71 \u001b[0m\u001b[2m \u001b[0m│ net.convs.5.kernel.layer_4        │ Linear         │  2.3 K │\n",
       "│\u001b[2m \u001b[0m\u001b[2m72 \u001b[0m\u001b[2m \u001b[0m│ net.convs.5.skip_connection       │ Conv1d         │    272 │\n",
       "│\u001b[2m \u001b[0m\u001b[2m73 \u001b[0m\u001b[2m \u001b[0m│ net.convs.5.leaky_relu            │ LeakyReLU      │      0 │\n",
       "│\u001b[2m \u001b[0m\u001b[2m74 \u001b[0m\u001b[2m \u001b[0m│ net.convs.5.norm                  │ BatchNorm1d    │     32 │\n",
       "│\u001b[2m \u001b[0m\u001b[2m75 \u001b[0m\u001b[2m \u001b[0m│ net.convs.6                       │ ContConv1d     │  2.8 K │\n",
       "│\u001b[2m \u001b[0m\u001b[2m76 \u001b[0m\u001b[2m \u001b[0m│ net.convs.6.kernel                │ Kernel         │  2.5 K │\n",
       "│\u001b[2m \u001b[0m\u001b[2m77 \u001b[0m\u001b[2m \u001b[0m│ net.convs.6.kernel.layer_1        │ Linear         │    136 │\n",
       "│\u001b[2m \u001b[0m\u001b[2m78 \u001b[0m\u001b[2m \u001b[0m│ net.convs.6.kernel.relu_1         │ ReLU           │      0 │\n",
       "│\u001b[2m \u001b[0m\u001b[2m79 \u001b[0m\u001b[2m \u001b[0m│ net.convs.6.kernel.layer_2        │ Linear         │     36 │\n",
       "│\u001b[2m \u001b[0m\u001b[2m80 \u001b[0m\u001b[2m \u001b[0m│ net.convs.6.kernel.relu_2         │ ReLU           │      0 │\n",
       "│\u001b[2m \u001b[0m\u001b[2m81 \u001b[0m\u001b[2m \u001b[0m│ net.convs.6.kernel.layer_3        │ Linear         │     40 │\n",
       "│\u001b[2m \u001b[0m\u001b[2m82 \u001b[0m\u001b[2m \u001b[0m│ net.convs.6.kernel.relu_3         │ ReLU           │      0 │\n",
       "│\u001b[2m \u001b[0m\u001b[2m83 \u001b[0m\u001b[2m \u001b[0m│ net.convs.6.kernel.layer_4        │ Linear         │  2.3 K │\n",
       "│\u001b[2m \u001b[0m\u001b[2m84 \u001b[0m\u001b[2m \u001b[0m│ net.convs.6.skip_connection       │ Conv1d         │    272 │\n",
       "│\u001b[2m \u001b[0m\u001b[2m85 \u001b[0m\u001b[2m \u001b[0m│ net.convs.6.leaky_relu            │ LeakyReLU      │      0 │\n",
       "│\u001b[2m \u001b[0m\u001b[2m86 \u001b[0m\u001b[2m \u001b[0m│ net.convs.6.norm                  │ BatchNorm1d    │     32 │\n",
       "│\u001b[2m \u001b[0m\u001b[2m87 \u001b[0m\u001b[2m \u001b[0m│ net.convs.7                       │ ContConv1d     │  2.8 K │\n",
       "│\u001b[2m \u001b[0m\u001b[2m88 \u001b[0m\u001b[2m \u001b[0m│ net.convs.7.kernel                │ Kernel         │  2.5 K │\n",
       "│\u001b[2m \u001b[0m\u001b[2m89 \u001b[0m\u001b[2m \u001b[0m│ net.convs.7.kernel.layer_1        │ Linear         │    136 │\n",
       "│\u001b[2m \u001b[0m\u001b[2m90 \u001b[0m\u001b[2m \u001b[0m│ net.convs.7.kernel.relu_1         │ ReLU           │      0 │\n",
       "│\u001b[2m \u001b[0m\u001b[2m91 \u001b[0m\u001b[2m \u001b[0m│ net.convs.7.kernel.layer_2        │ Linear         │     36 │\n",
       "│\u001b[2m \u001b[0m\u001b[2m92 \u001b[0m\u001b[2m \u001b[0m│ net.convs.7.kernel.relu_2         │ ReLU           │      0 │\n",
       "│\u001b[2m \u001b[0m\u001b[2m93 \u001b[0m\u001b[2m \u001b[0m│ net.convs.7.kernel.layer_3        │ Linear         │     40 │\n",
       "│\u001b[2m \u001b[0m\u001b[2m94 \u001b[0m\u001b[2m \u001b[0m│ net.convs.7.kernel.relu_3         │ ReLU           │      0 │\n",
       "│\u001b[2m \u001b[0m\u001b[2m95 \u001b[0m\u001b[2m \u001b[0m│ net.convs.7.kernel.layer_4        │ Linear         │  2.3 K │\n",
       "│\u001b[2m \u001b[0m\u001b[2m96 \u001b[0m\u001b[2m \u001b[0m│ net.convs.7.skip_connection       │ Conv1d         │    272 │\n",
       "│\u001b[2m \u001b[0m\u001b[2m97 \u001b[0m\u001b[2m \u001b[0m│ net.convs.7.leaky_relu            │ LeakyReLU      │      0 │\n",
       "│\u001b[2m \u001b[0m\u001b[2m98 \u001b[0m\u001b[2m \u001b[0m│ net.convs.7.norm                  │ BatchNorm1d    │     32 │\n",
       "│\u001b[2m \u001b[0m\u001b[2m99 \u001b[0m\u001b[2m \u001b[0m│ net.convs.8                       │ ContConv1d     │  2.8 K │\n",
       "│\u001b[2m \u001b[0m\u001b[2m100\u001b[0m\u001b[2m \u001b[0m│ net.convs.8.kernel                │ Kernel         │  2.5 K │\n",
       "│\u001b[2m \u001b[0m\u001b[2m101\u001b[0m\u001b[2m \u001b[0m│ net.convs.8.kernel.layer_1        │ Linear         │    136 │\n",
       "│\u001b[2m \u001b[0m\u001b[2m102\u001b[0m\u001b[2m \u001b[0m│ net.convs.8.kernel.relu_1         │ ReLU           │      0 │\n",
       "│\u001b[2m \u001b[0m\u001b[2m103\u001b[0m\u001b[2m \u001b[0m│ net.convs.8.kernel.layer_2        │ Linear         │     36 │\n",
       "│\u001b[2m \u001b[0m\u001b[2m104\u001b[0m\u001b[2m \u001b[0m│ net.convs.8.kernel.relu_2         │ ReLU           │      0 │\n",
       "│\u001b[2m \u001b[0m\u001b[2m105\u001b[0m\u001b[2m \u001b[0m│ net.convs.8.kernel.layer_3        │ Linear         │     40 │\n",
       "│\u001b[2m \u001b[0m\u001b[2m106\u001b[0m\u001b[2m \u001b[0m│ net.convs.8.kernel.relu_3         │ ReLU           │      0 │\n",
       "│\u001b[2m \u001b[0m\u001b[2m107\u001b[0m\u001b[2m \u001b[0m│ net.convs.8.kernel.layer_4        │ Linear         │  2.3 K │\n",
       "│\u001b[2m \u001b[0m\u001b[2m108\u001b[0m\u001b[2m \u001b[0m│ net.convs.8.skip_connection       │ Conv1d         │    272 │\n",
       "│\u001b[2m \u001b[0m\u001b[2m109\u001b[0m\u001b[2m \u001b[0m│ net.convs.8.leaky_relu            │ LeakyReLU      │      0 │\n",
       "│\u001b[2m \u001b[0m\u001b[2m110\u001b[0m\u001b[2m \u001b[0m│ net.convs.8.norm                  │ BatchNorm1d    │     32 │\n",
       "│\u001b[2m \u001b[0m\u001b[2m111\u001b[0m\u001b[2m \u001b[0m│ net.final_list                    │ ModuleList     │  6.8 K │\n",
       "│\u001b[2m \u001b[0m\u001b[2m112\u001b[0m\u001b[2m \u001b[0m│ net.final_list.0                  │ ContConv1dSim  │  2.5 K │\n",
       "│\u001b[2m \u001b[0m\u001b[2m113\u001b[0m\u001b[2m \u001b[0m│ net.final_list.0.kernel           │ Kernel         │  2.5 K │\n",
       "│\u001b[2m \u001b[0m\u001b[2m114\u001b[0m\u001b[2m \u001b[0m│ net.final_list.0.kernel.layer_1   │ Linear         │    136 │\n",
       "│\u001b[2m \u001b[0m\u001b[2m115\u001b[0m\u001b[2m \u001b[0m│ net.final_list.0.kernel.relu_1    │ ReLU           │      0 │\n",
       "│\u001b[2m \u001b[0m\u001b[2m116\u001b[0m\u001b[2m \u001b[0m│ net.final_list.0.kernel.layer_2   │ Linear         │     36 │\n",
       "│\u001b[2m \u001b[0m\u001b[2m117\u001b[0m\u001b[2m \u001b[0m│ net.final_list.0.kernel.relu_2    │ ReLU           │      0 │\n",
       "│\u001b[2m \u001b[0m\u001b[2m118\u001b[0m\u001b[2m \u001b[0m│ net.final_list.0.kernel.layer_3   │ Linear         │     40 │\n",
       "│\u001b[2m \u001b[0m\u001b[2m119\u001b[0m\u001b[2m \u001b[0m│ net.final_list.0.kernel.relu_3    │ ReLU           │      0 │\n",
       "│\u001b[2m \u001b[0m\u001b[2m120\u001b[0m\u001b[2m \u001b[0m│ net.final_list.0.kernel.layer_4   │ Linear         │  2.3 K │\n",
       "│\u001b[2m \u001b[0m\u001b[2m121\u001b[0m\u001b[2m \u001b[0m│ net.final_list.0.norm             │ LayerNorm      │     32 │\n",
       "│\u001b[2m \u001b[0m\u001b[2m122\u001b[0m\u001b[2m \u001b[0m│ net.final_list.1                  │ LeakyReLU      │      0 │\n",
       "│\u001b[2m \u001b[0m\u001b[2m123\u001b[0m\u001b[2m \u001b[0m│ net.final_list.2                  │ Linear         │  4.2 K │\n",
       "│\u001b[2m \u001b[0m\u001b[2m124\u001b[0m\u001b[2m \u001b[0m│ net.final_list.3                  │ Softplus       │      0 │\n",
       "│\u001b[2m \u001b[0m\u001b[2m125\u001b[0m\u001b[2m \u001b[0m│ net.head                          │ PredictionHead │ 36.7 K │\n",
       "│\u001b[2m \u001b[0m\u001b[2m126\u001b[0m\u001b[2m \u001b[0m│ net.head.return_time_prediction   │ Sequential     │  2.3 K │\n",
       "│\u001b[2m \u001b[0m\u001b[2m127\u001b[0m\u001b[2m \u001b[0m│ net.head.return_time_prediction.0 │ Linear         │  2.2 K │\n",
       "│\u001b[2m \u001b[0m\u001b[2m128\u001b[0m\u001b[2m \u001b[0m│ net.head.return_time_prediction.1 │ ReLU           │      0 │\n",
       "│\u001b[2m \u001b[0m\u001b[2m129\u001b[0m\u001b[2m \u001b[0m│ net.head.return_time_prediction.2 │ Linear         │    129 │\n",
       "│\u001b[2m \u001b[0m\u001b[2m130\u001b[0m\u001b[2m \u001b[0m│ net.head.event_type_prediction    │ Sequential     │ 34.4 K │\n",
       "│\u001b[2m \u001b[0m\u001b[2m131\u001b[0m\u001b[2m \u001b[0m│ net.head.event_type_prediction.0  │ Linear         │  2.2 K │\n",
       "│\u001b[2m \u001b[0m\u001b[2m132\u001b[0m\u001b[2m \u001b[0m│ net.head.event_type_prediction.1  │ ReLU           │      0 │\n",
       "│\u001b[2m \u001b[0m\u001b[2m133\u001b[0m\u001b[2m \u001b[0m│ net.head.event_type_prediction.2  │ Linear         │ 32.2 K │\n",
       "└─────┴───────────────────────────────────┴────────────────┴────────┘\n"
      ]
     },
     "metadata": {},
     "output_type": "display_data"
    },
    {
     "data": {
      "text/html": [
       "<pre style=\"white-space:pre;overflow-x:auto;line-height:normal;font-family:Menlo,'DejaVu Sans Mono',consolas,'Courier New',monospace\"><span style=\"font-weight: bold\">Trainable params</span>: 79.7 K                                                                                           \n",
       "<span style=\"font-weight: bold\">Non-trainable params</span>: 0                                                                                            \n",
       "<span style=\"font-weight: bold\">Total params</span>: 79.7 K                                                                                               \n",
       "<span style=\"font-weight: bold\">Total estimated model params size (MB)</span>: 0                                                                          \n",
       "</pre>\n"
      ],
      "text/plain": [
       "\u001b[1mTrainable params\u001b[0m: 79.7 K                                                                                           \n",
       "\u001b[1mNon-trainable params\u001b[0m: 0                                                                                            \n",
       "\u001b[1mTotal params\u001b[0m: 79.7 K                                                                                               \n",
       "\u001b[1mTotal estimated model params size (MB)\u001b[0m: 0                                                                          \n"
      ]
     },
     "metadata": {},
     "output_type": "display_data"
    },
    {
     "data": {
      "application/vnd.jupyter.widget-view+json": {
       "model_id": "bb3b49cc4cab49609118dbd484fc5923",
       "version_major": 2,
       "version_minor": 0
      },
      "text/plain": [
       "Output()"
      ]
     },
     "metadata": {},
     "output_type": "display_data"
    }
   ],
   "source": [
    "from pytorch_lightning import Trainer\n",
    "\n",
    "trainer = Trainer(gpus=[0], \n",
    "                  max_steps=10000,\n",
    "                  limit_val_batches=100,\n",
    "                  val_check_interval=1000,\n",
    "                  accumulate_grad_batches=10, \n",
    "                  gradient_clip_val=1,\n",
    "                  callbacks=callbacks, \n",
    "                  logger=logger)\n",
    "\n",
    "# Train the model\n",
    "log.info(\"Starting training!\")\n",
    "print(f'logger.version = {trainer.logger.version}')\n",
    "trainer.fit(model, train_dl, valid_dl)"
   ]
  },
  {
   "cell_type": "code",
   "execution_count": 9,
   "id": "cad69446-a828-4b47-ab17-85abfeb6e5d1",
   "metadata": {},
   "outputs": [],
   "source": [
    "torch.save(model.state_dict(), \"cotic-age.pt\")"
   ]
  },
  {
   "cell_type": "markdown",
   "id": "0e257113-3bfd-46b5-8048-1850a388211b",
   "metadata": {},
   "source": [
    "# Downstream"
   ]
  },
  {
   "cell_type": "code",
   "execution_count": 10,
   "id": "9bbaabf9-0b6f-4773-891f-ffcdf387baf6",
   "metadata": {},
   "outputs": [
    {
     "data": {
      "text/plain": [
       "<All keys matched successfully>"
      ]
     },
     "execution_count": 10,
     "metadata": {},
     "output_type": "execute_result"
    }
   ],
   "source": [
    "model.load_state_dict(torch.load(\"cotic-age.pt\"))"
   ]
  },
  {
   "cell_type": "code",
   "execution_count": 189,
   "id": "9f255f47-2932-4676-a460-4f4d4ab5bc68",
   "metadata": {},
   "outputs": [],
   "source": [
    "valid_ds = ParquetDataset(valid_data, post_processing=process)\n",
    "\n",
    "valid_dl = torch.utils.data.DataLoader(\n",
    "                        dataset=valid_ds,\n",
    "                        collate_fn=pp_collate_fn(dataset_conf['time_col'], \n",
    "                                                 dataset_conf['event_col'], \n",
    "                                                 dataset_conf['event_cnt_col'],\n",
    "                                                 return_len=True), \n",
    "                        num_workers=8,\n",
    "                        batch_size=128)"
   ]
  },
  {
   "cell_type": "code",
   "execution_count": 190,
   "id": "5985a1e8-6178-433b-baa8-9941b92a2cc7",
   "metadata": {},
   "outputs": [],
   "source": [
    "def generate_next(batch, model):\n",
    "    \n",
    "    batch, lens = batch\n",
    "    times, types = batch\n",
    "    n = times.size()[0]\n",
    "    idx = torch.arange(n)\n",
    "    \n",
    "    with torch.no_grad():\n",
    "        event_times_pred, event_types_pred = model(batch)[1]\n",
    "    \n",
    "    times = F.pad(input=times, pad=(0, 1), mode='constant', value=0)\n",
    "    types = F.pad(input=types, pad=(0, 1), mode='constant', value=0)\n",
    "    \n",
    "    next_times = -event_times_pred.squeeze()[idx, lens+1] * torch.log(1 - torch.rand(n)) + times[idx, lens]\n",
    "    event_types_pred_softmax = torch.softmax(event_types_pred[idx, lens+1, :], dim=1)\n",
    "    next_types = torch.multinomial(event_types_pred_softmax, num_samples=1).T\n",
    "    \n",
    "    times[idx, lens + 1] = next_times\n",
    "    types[idx, lens + 1] = next_types\n",
    "    lens = lens + 1\n",
    "    \n",
    "    return (times, types), lens"
   ]
  },
  {
   "cell_type": "code",
   "execution_count": 191,
   "id": "f0a68784-5382-4b96-b700-cb73116ad4e0",
   "metadata": {},
   "outputs": [],
   "source": [
    "batch = next(iter(valid_dl))\n",
    "batch_, lens = batch\n",
    "times, types = batch_"
   ]
  },
  {
   "cell_type": "code",
   "execution_count": 192,
   "id": "ec9ba0dd-e6c5-42af-b8e7-7aeb888eb4a2",
   "metadata": {},
   "outputs": [
    {
     "data": {
      "text/plain": [
       "(torch.Size([128, 1147]), torch.Size([128, 1147]))"
      ]
     },
     "execution_count": 192,
     "metadata": {},
     "output_type": "execute_result"
    }
   ],
   "source": [
    "times.shape, types.shape"
   ]
  },
  {
   "cell_type": "code",
   "execution_count": 224,
   "id": "52657496-7294-4326-974c-d03e17265086",
   "metadata": {},
   "outputs": [],
   "source": [
    "new_batch  = generate_next(batch, model)\n",
    "new_batch  = generate_next(new_batch, model)\n",
    "new_batch  = generate_next(new_batch, model)\n",
    "new_batch_, new_lens = new_batch\n",
    "new_times, new_types = new_batch_"
   ]
  },
  {
   "cell_type": "code",
   "execution_count": 225,
   "id": "79e75475-b4c0-4949-866f-6716235f3198",
   "metadata": {},
   "outputs": [
    {
     "data": {
      "text/plain": [
       "(torch.Size([128, 1150]), torch.Size([128, 1150]))"
      ]
     },
     "execution_count": 225,
     "metadata": {},
     "output_type": "execute_result"
    }
   ],
   "source": [
    "new_times.shape, new_types.shape"
   ]
  },
  {
   "cell_type": "code",
   "execution_count": 231,
   "id": "f9fcc2d7-557c-4569-aa0e-f16ab522c100",
   "metadata": {},
   "outputs": [],
   "source": [
    "n = 9"
   ]
  },
  {
   "cell_type": "code",
   "execution_count": 232,
   "id": "73a38dd3-b3af-4088-829a-62420e5870e9",
   "metadata": {},
   "outputs": [
    {
     "data": {
      "text/plain": [
       "(tensor([0.7290, 0.0000, 0.0000, 0.0000, 0.0000]),\n",
       " tensor([0.7290, 0.7320, 0.7322, 0.7338, 0.0000]))"
      ]
     },
     "execution_count": 232,
     "metadata": {},
     "output_type": "execute_result"
    }
   ],
   "source": [
    "times[n, lens[n]:lens[n]+5], new_times[n, lens[n]:lens[n]+5]"
   ]
  },
  {
   "cell_type": "code",
   "execution_count": 233,
   "id": "dcf5af3f-d4d5-4889-8f9a-9922d2c77358",
   "metadata": {},
   "outputs": [
    {
     "data": {
      "text/plain": [
       "(tensor([2, 0, 0, 0, 0]), tensor([ 2,  7, 11, 13,  0]))"
      ]
     },
     "execution_count": 233,
     "metadata": {},
     "output_type": "execute_result"
    }
   ],
   "source": [
    "types[n, lens[n]:lens[n]+5], new_types[n, lens[n]:lens[n]+5]"
   ]
  }
 ],
 "metadata": {
  "kernelspec": {
   "display_name": "ptls",
   "language": "python",
   "name": "ptls"
  },
  "language_info": {
   "codemirror_mode": {
    "name": "ipython",
    "version": 3
   },
   "file_extension": ".py",
   "mimetype": "text/x-python",
   "name": "python",
   "nbconvert_exporter": "python",
   "pygments_lexer": "ipython3",
   "version": "3.8.10"
  }
 },
 "nbformat": 4,
 "nbformat_minor": 5
}
