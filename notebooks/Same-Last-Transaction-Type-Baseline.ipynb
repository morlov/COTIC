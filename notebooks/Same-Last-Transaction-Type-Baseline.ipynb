{
 "cells": [
  {
   "cell_type": "markdown",
   "id": "97e72ca3",
   "metadata": {},
   "source": [
    "# <font size=\"6\">Libraries</font>"
   ]
  },
  {
   "cell_type": "code",
   "execution_count": 14,
   "id": "d3f22f6d",
   "metadata": {},
   "outputs": [],
   "source": [
    "import pandas as pd\n",
    "import numpy as np"
   ]
  },
  {
   "cell_type": "markdown",
   "id": "2ab561a6",
   "metadata": {},
   "source": [
    "# <font size=\"6\">dataset</font>"
   ]
  },
  {
   "cell_type": "code",
   "execution_count": 2,
   "id": "08401a02",
   "metadata": {},
   "outputs": [],
   "source": [
    "train_df = pd.read_parquet('data/train.parquet')\n",
    "valid_df = pd.read_parquet('data/valid.parquet')\n",
    "\n",
    "train_df = train_df[['app_id', 'amnt_mcc_bins', 'hour_diff']]"
   ]
  },
  {
   "cell_type": "code",
   "execution_count": 3,
   "id": "7945a109",
   "metadata": {},
   "outputs": [],
   "source": [
    "last_transactions = train_df.groupby('app_id').tail(1)"
   ]
  },
  {
   "cell_type": "code",
   "execution_count": 4,
   "id": "6e396177",
   "metadata": {},
   "outputs": [
    {
     "data": {
      "text/html": [
       "<div>\n",
       "<style scoped>\n",
       "    .dataframe tbody tr th:only-of-type {\n",
       "        vertical-align: middle;\n",
       "    }\n",
       "\n",
       "    .dataframe tbody tr th {\n",
       "        vertical-align: top;\n",
       "    }\n",
       "\n",
       "    .dataframe thead th {\n",
       "        text-align: right;\n",
       "    }\n",
       "</style>\n",
       "<table border=\"1\" class=\"dataframe\">\n",
       "  <thead>\n",
       "    <tr style=\"text-align: right;\">\n",
       "      <th></th>\n",
       "      <th>app_id</th>\n",
       "      <th>amnt_mcc_bins</th>\n",
       "      <th>hour_diff</th>\n",
       "    </tr>\n",
       "  </thead>\n",
       "  <tbody>\n",
       "    <tr>\n",
       "      <th>130</th>\n",
       "      <td>0</td>\n",
       "      <td>8</td>\n",
       "      <td>42</td>\n",
       "    </tr>\n",
       "    <tr>\n",
       "      <th>436</th>\n",
       "      <td>1</td>\n",
       "      <td>77</td>\n",
       "      <td>4</td>\n",
       "    </tr>\n",
       "    <tr>\n",
       "      <th>615</th>\n",
       "      <td>2</td>\n",
       "      <td>8</td>\n",
       "      <td>31</td>\n",
       "    </tr>\n",
       "    <tr>\n",
       "      <th>682</th>\n",
       "      <td>4</td>\n",
       "      <td>36</td>\n",
       "      <td>26</td>\n",
       "    </tr>\n",
       "    <tr>\n",
       "      <th>892</th>\n",
       "      <td>6</td>\n",
       "      <td>11</td>\n",
       "      <td>3</td>\n",
       "    </tr>\n",
       "    <tr>\n",
       "      <th>...</th>\n",
       "      <td>...</td>\n",
       "      <td>...</td>\n",
       "      <td>...</td>\n",
       "    </tr>\n",
       "    <tr>\n",
       "      <th>95045500</th>\n",
       "      <td>1003041</td>\n",
       "      <td>13</td>\n",
       "      <td>0</td>\n",
       "    </tr>\n",
       "    <tr>\n",
       "      <th>95045710</th>\n",
       "      <td>1003044</td>\n",
       "      <td>16</td>\n",
       "      <td>0</td>\n",
       "    </tr>\n",
       "    <tr>\n",
       "      <th>95045920</th>\n",
       "      <td>1003047</td>\n",
       "      <td>69</td>\n",
       "      <td>5</td>\n",
       "    </tr>\n",
       "    <tr>\n",
       "      <th>95046089</th>\n",
       "      <td>1003048</td>\n",
       "      <td>8</td>\n",
       "      <td>41</td>\n",
       "    </tr>\n",
       "    <tr>\n",
       "      <th>95046148</th>\n",
       "      <td>1003049</td>\n",
       "      <td>8</td>\n",
       "      <td>243</td>\n",
       "    </tr>\n",
       "  </tbody>\n",
       "</table>\n",
       "<p>430309 rows × 3 columns</p>\n",
       "</div>"
      ],
      "text/plain": [
       "           app_id  amnt_mcc_bins  hour_diff\n",
       "130             0              8         42\n",
       "436             1             77          4\n",
       "615             2              8         31\n",
       "682             4             36         26\n",
       "892             6             11          3\n",
       "...           ...            ...        ...\n",
       "95045500  1003041             13          0\n",
       "95045710  1003044             16          0\n",
       "95045920  1003047             69          5\n",
       "95046089  1003048              8         41\n",
       "95046148  1003049              8        243\n",
       "\n",
       "[430309 rows x 3 columns]"
      ]
     },
     "execution_count": 4,
     "metadata": {},
     "output_type": "execute_result"
    }
   ],
   "source": [
    "last_transactions"
   ]
  },
  {
   "cell_type": "markdown",
   "id": "5b6791f2",
   "metadata": {},
   "source": [
    "# <font size=\"6\">Model</font>"
   ]
  },
  {
   "cell_type": "code",
   "execution_count": 25,
   "id": "01b4e4e6",
   "metadata": {},
   "outputs": [
    {
     "data": {
      "text/plain": [
       "array([ 0,  1,  2,  3,  4,  5,  6,  7,  8,  9, 10, 11, 12, 13, 14, 15, 16,\n",
       "       17, 18, 19, 20, 21, 22, 23, 24, 25, 26, 27, 28, 29, 30, 31, 32, 33,\n",
       "       34, 35, 36, 37, 38, 39, 40, 41, 42, 43, 44, 45, 46, 47, 48, 49, 50])"
      ]
     },
     "execution_count": 25,
     "metadata": {},
     "output_type": "execute_result"
    }
   ],
   "source": [
    "last_transactions = last_transactions.fillna(0)\n",
    "last_transactions['num_transactions'] = last_transactions['num_transactions'].astype(int)\n",
    "np.unique(last_transactions['num_transactions'])"
   ]
  },
  {
   "cell_type": "code",
   "execution_count": 26,
   "id": "65dfd77a",
   "metadata": {},
   "outputs": [
    {
     "data": {
      "text/html": [
       "<div>\n",
       "<style scoped>\n",
       "    .dataframe tbody tr th:only-of-type {\n",
       "        vertical-align: middle;\n",
       "    }\n",
       "\n",
       "    .dataframe tbody tr th {\n",
       "        vertical-align: top;\n",
       "    }\n",
       "\n",
       "    .dataframe thead th {\n",
       "        text-align: right;\n",
       "    }\n",
       "</style>\n",
       "<table border=\"1\" class=\"dataframe\">\n",
       "  <thead>\n",
       "    <tr style=\"text-align: right;\">\n",
       "      <th></th>\n",
       "      <th>app_id</th>\n",
       "      <th>amnt_mcc_bins</th>\n",
       "      <th>hour_diff</th>\n",
       "      <th>num_transactions</th>\n",
       "    </tr>\n",
       "  </thead>\n",
       "  <tbody>\n",
       "    <tr>\n",
       "      <th>130</th>\n",
       "      <td>0</td>\n",
       "      <td>8</td>\n",
       "      <td>42</td>\n",
       "      <td>19</td>\n",
       "    </tr>\n",
       "    <tr>\n",
       "      <th>436</th>\n",
       "      <td>1</td>\n",
       "      <td>77</td>\n",
       "      <td>4</td>\n",
       "      <td>30</td>\n",
       "    </tr>\n",
       "    <tr>\n",
       "      <th>615</th>\n",
       "      <td>2</td>\n",
       "      <td>8</td>\n",
       "      <td>31</td>\n",
       "      <td>15</td>\n",
       "    </tr>\n",
       "    <tr>\n",
       "      <th>682</th>\n",
       "      <td>4</td>\n",
       "      <td>36</td>\n",
       "      <td>26</td>\n",
       "      <td>11</td>\n",
       "    </tr>\n",
       "    <tr>\n",
       "      <th>892</th>\n",
       "      <td>6</td>\n",
       "      <td>11</td>\n",
       "      <td>3</td>\n",
       "      <td>25</td>\n",
       "    </tr>\n",
       "    <tr>\n",
       "      <th>...</th>\n",
       "      <td>...</td>\n",
       "      <td>...</td>\n",
       "      <td>...</td>\n",
       "      <td>...</td>\n",
       "    </tr>\n",
       "    <tr>\n",
       "      <th>95045500</th>\n",
       "      <td>1003041</td>\n",
       "      <td>13</td>\n",
       "      <td>0</td>\n",
       "      <td>36</td>\n",
       "    </tr>\n",
       "    <tr>\n",
       "      <th>95045710</th>\n",
       "      <td>1003044</td>\n",
       "      <td>16</td>\n",
       "      <td>0</td>\n",
       "      <td>35</td>\n",
       "    </tr>\n",
       "    <tr>\n",
       "      <th>95045920</th>\n",
       "      <td>1003047</td>\n",
       "      <td>69</td>\n",
       "      <td>5</td>\n",
       "      <td>17</td>\n",
       "    </tr>\n",
       "    <tr>\n",
       "      <th>95046089</th>\n",
       "      <td>1003048</td>\n",
       "      <td>8</td>\n",
       "      <td>41</td>\n",
       "      <td>30</td>\n",
       "    </tr>\n",
       "    <tr>\n",
       "      <th>95046148</th>\n",
       "      <td>1003049</td>\n",
       "      <td>8</td>\n",
       "      <td>243</td>\n",
       "      <td>38</td>\n",
       "    </tr>\n",
       "  </tbody>\n",
       "</table>\n",
       "<p>430309 rows × 4 columns</p>\n",
       "</div>"
      ],
      "text/plain": [
       "           app_id  amnt_mcc_bins  hour_diff  num_transactions\n",
       "130             0              8         42                19\n",
       "436             1             77          4                30\n",
       "615             2              8         31                15\n",
       "682             4             36         26                11\n",
       "892             6             11          3                25\n",
       "...           ...            ...        ...               ...\n",
       "95045500  1003041             13          0                36\n",
       "95045710  1003044             16          0                35\n",
       "95045920  1003047             69          5                17\n",
       "95046089  1003048              8         41                30\n",
       "95046148  1003049              8        243                38\n",
       "\n",
       "[430309 rows x 4 columns]"
      ]
     },
     "execution_count": 26,
     "metadata": {},
     "output_type": "execute_result"
    }
   ],
   "source": [
    "last_transactions"
   ]
  },
  {
   "cell_type": "code",
   "execution_count": 28,
   "id": "3713c8a2",
   "metadata": {},
   "outputs": [
    {
     "name": "stdout",
     "output_type": "stream",
     "text": [
      "CPU times: user 1.89 s, sys: 219 ms, total: 2.11 s\n",
      "Wall time: 2.11 s\n"
     ]
    }
   ],
   "source": [
    "%%time\n",
    "\n",
    "predicted_transactions = pd.DataFrame()\n",
    "valid_counts = valid_df['app_id'].value_counts().to_dict()\n",
    "\n",
    "last_transactions['num_transactions'] = last_transactions['app_id'].map(valid_counts)\n",
    "last_transactions = last_transactions.fillna(0)\n",
    "last_transactions['num_transactions'] = last_transactions['num_transactions'].astype(int)\n",
    "   \n",
    "repeated_df = last_transactions.loc[np.repeat(last_transactions.index.values,\n",
    "                                              last_transactions['num_transactions'])].reset_index(drop=True)\n",
    "\n",
    "repeated_df = repeated_df.drop(columns=['num_transactions'])"
   ]
  },
  {
   "cell_type": "code",
   "execution_count": 30,
   "id": "d1149cc4",
   "metadata": {},
   "outputs": [],
   "source": [
    "valid_df['predicted_type'] = repeated_df['amnt_mcc_bins']\n",
    "\n",
    "valid_df['pred_mcc'] = (valid_df['predicted_type'] - 1) // 4 + 1\n",
    "valid_df['pred_amnt'] = (valid_df['predicted_type'] - 1) % 4"
   ]
  },
  {
   "cell_type": "markdown",
   "id": "340fb4ae",
   "metadata": {},
   "source": [
    "# <font size=\"6\">Metrics</font>"
   ]
  },
  {
   "cell_type": "code",
   "execution_count": 33,
   "id": "430bbf0b",
   "metadata": {},
   "outputs": [
    {
     "name": "stdout",
     "output_type": "stream",
     "text": [
      "Mae score: 0.0796393017130969\n",
      "Type accuracy: 0.113121140582608\n",
      "Amnt accuracy: 0.42970842774208484\n",
      "MCC accuracy: 0.2064992685007695\n"
     ]
    }
   ],
   "source": [
    "from sklearn.metrics import mean_absolute_error, accuracy_score\n",
    "\n",
    "print('Mae score:', accuracy_score(valid_df['hour_diff'], repeated_df['hour_diff']))\n",
    "print('Type accuracy:', accuracy_score(valid_df['amnt_mcc_bins'], valid_df['predicted_type']))\n",
    "print('Amnt accuracy:', accuracy_score(valid_df['amnt_bins'], valid_df['pred_amnt']))\n",
    "print('MCC accuracy:', accuracy_score(valid_df['mcc'], valid_df['pred_mcc']))"
   ]
  }
 ],
 "metadata": {
  "kernelspec": {
   "display_name": "Python 3 (ipykernel)",
   "language": "python",
   "name": "python3"
  },
  "language_info": {
   "codemirror_mode": {
    "name": "ipython",
    "version": 3
   },
   "file_extension": ".py",
   "mimetype": "text/x-python",
   "name": "python",
   "nbconvert_exporter": "python",
   "pygments_lexer": "ipython3",
   "version": "3.7.12"
  }
 },
 "nbformat": 4,
 "nbformat_minor": 5
}
