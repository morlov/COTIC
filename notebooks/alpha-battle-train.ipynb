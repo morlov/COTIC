{
 "cells": [
  {
   "cell_type": "markdown",
   "id": "b5d031bc",
   "metadata": {},
   "source": [
    "# <font size=\"6\">Libraries</font>"
   ]
  },
  {
   "cell_type": "code",
   "execution_count": 1,
   "id": "cdebf79f-5313-490c-b0c7-d005b137af24",
   "metadata": {},
   "outputs": [],
   "source": [
    "%load_ext autoreload\n",
    "%autoreload 2"
   ]
  },
  {
   "cell_type": "code",
   "execution_count": 2,
   "id": "9f903fb3",
   "metadata": {},
   "outputs": [
    {
     "name": "stdout",
     "output_type": "stream",
     "text": [
      "torch version: 1.12.1+cu102\n",
      "The autoreload extension is already loaded. To reload it, use:\n",
      "  %reload_ext autoreload\n"
     ]
    }
   ],
   "source": [
    "import torch\n",
    "from torch.optim import Adam\n",
    "from torch.optim.lr_scheduler import StepLR\n",
    "import torch.nn.functional as F\n",
    "import os, sys\n",
    "from tqdm import tqdm\n",
    "\n",
    "parent_dir = os.path.abspath('..')\n",
    "if parent_dir not in sys.path:\n",
    "    sys.path.append(parent_dir)\n",
    "\n",
    "print('torch version:', torch.__version__)\n",
    "\n",
    "import ptls\n",
    "from ptls.data_load import IterableChain\n",
    "from ptls.data_load.iterable_processing import SeqLenFilter\n",
    "from ptls.data_load.iterable_processing.to_torch_tensor import ToTorch\n",
    "from ptls.data_load.iterable_processing_dataset import IterableProcessingDataset\n",
    "from ptls.data_load.datasets.parquet_dataset import ParquetDataset, ParquetFiles\n",
    "\n",
    "import pytorch_lightning as pl\n",
    "\n",
    "from glob import glob\n",
    "\n",
    "import sklearn\n",
    "from sklearn.model_selection import train_test_split\n",
    "\n",
    "import os, sys\n",
    "\n",
    "from src import utils\n",
    "\n",
    "import pandas as pd\n",
    "import numpy as np\n",
    "import matplotlib.pyplot as plt\n",
    "\n",
    "parent_dir = os.path.abspath('..')\n",
    "if parent_dir not in sys.path:\n",
    "    sys.path.append(parent_dir)\n",
    "\n",
    "log = utils.get_logger(__name__)\n",
    "\n",
    "%load_ext autoreload\n",
    "%autoreload 2"
   ]
  },
  {
   "cell_type": "markdown",
   "id": "bd38c791-c291-46bd-91f2-c4e56f5e3e51",
   "metadata": {},
   "source": [
    "# Train model"
   ]
  },
  {
   "cell_type": "markdown",
   "id": "be78fb09",
   "metadata": {},
   "source": [
    "# <font size=\"5\">data conf</font>"
   ]
  },
  {
   "cell_type": "code",
   "execution_count": 3,
   "id": "0f42a2c0",
   "metadata": {},
   "outputs": [],
   "source": [
    "dataset_conf = {\n",
    "    # 'min_seq_len': min(dataset['trx_count'].unique()),\n",
    "    'min_seq_len': 1,\n",
    "    'max_seq_len': 1500,\n",
    "    'event_col': 'amnt_mcc_bins',\n",
    "    # 'amount_log': 'amnt',\n",
    "    'event_cnt_col': 'trx_count',\n",
    "    'time_col': 'time',\n",
    "}"
   ]
  },
  {
   "cell_type": "markdown",
   "id": "0231f623",
   "metadata": {},
   "source": [
    "# <font size=\"5\">dataloaders</font>"
   ]
  },
  {
   "cell_type": "code",
   "execution_count": 4,
   "id": "a3f3fa9b",
   "metadata": {},
   "outputs": [
    {
     "name": "stderr",
     "output_type": "stream",
     "text": [
      "/home/morlov/.local/share/virtualenvs/pytorch-lifestream-1iBTwtzi/lib/python3.8/site-packages/ptls/data_load/datasets/parquet_dataset.py:106: UserWarning: `post_processing` parameter is deprecated, use `i_filters`\n",
      "  warnings.warn('`post_processing` parameter is deprecated, use `i_filters`')\n"
     ]
    }
   ],
   "source": [
    "train_data = glob('data/train.parquet')\n",
    "\n",
    "class TimeProc(IterableProcessingDataset):\n",
    "    \n",
    "    def __init__(self, time_col, tmin, tmax):\n",
    "        super().__init__()\n",
    "        self._time_col = time_col\n",
    "        self.tmin, self.tmax = tmin, tmax\n",
    "        \n",
    "    def __iter__(self):\n",
    "        for rec in self._src:\n",
    "            features = rec[0] if type(rec) is tuple else rec\n",
    "            rec[self._time_col] = np.array((features[self._time_col] - self.tmin) / (self.tmax-self.tmin))\n",
    "            yield rec\n",
    "            \n",
    "\n",
    "def pp_collate_fn(time_col, event_col, event_cnt_col, return_len=False):\n",
    "\n",
    "    def fn(batch):\n",
    "        es, ts, ls = [], [], []\n",
    "        \n",
    "            \n",
    "        for rec in batch:\n",
    "            ts.append(rec[time_col])\n",
    "            es.append(rec[event_col])\n",
    "            ls.append(rec[event_cnt_col] - 1)\n",
    "            \n",
    "        ret = [torch.nn.utils.rnn.pad_sequence(ts, batch_first=True), \n",
    "               torch.nn.utils.rnn.pad_sequence(es, batch_first=True).long()]\n",
    "        \n",
    "        if return_len:\n",
    "            return ret, torch.tensor(ls)\n",
    "        else:\n",
    "            return ret\n",
    "            \n",
    "    return fn\n",
    "\n",
    "process = IterableChain(\n",
    "            SeqLenFilter(min_seq_len=dataset_conf['min_seq_len'], max_seq_len=dataset_conf['max_seq_len']),\n",
    "            TimeProc(dataset_conf['time_col'], -1, 11752),\n",
    "            ToTorch()\n",
    ")\n",
    "   \n",
    "train_ds = ParquetDataset(train_data, post_processing=process)\n",
    "\n",
    "collate_fn = pp_collate_fn(dataset_conf['time_col'], dataset_conf['event_col'], dataset_conf['event_cnt_col'])\n",
    "\n",
    "train_dl = torch.utils.data.DataLoader(\n",
    "                        dataset=train_ds,\n",
    "                        collate_fn=collate_fn,\n",
    "                        num_workers=4,\n",
    "                        batch_size=32)"
   ]
  },
  {
   "cell_type": "markdown",
   "id": "152bf29e",
   "metadata": {},
   "source": [
    "# <font size=\"6\">COTIC</font>"
   ]
  },
  {
   "cell_type": "code",
   "execution_count": 5,
   "id": "932d1f6c",
   "metadata": {},
   "outputs": [],
   "source": [
    "from src.models.components.cont_cnn import CCNN\n",
    "from src.models.components.cont_cnn import Kernel\n",
    "from src.models.components.cont_cnn import PredictionHead\n",
    "\n",
    "nb_filters = 16\n",
    "num_types = 432\n",
    "\n",
    "\n",
    "kernel = Kernel(hidden1=8, hidden2=8, hidden3=8, in_channels=nb_filters, out_channels=nb_filters)\n",
    "\n",
    "head = PredictionHead(in_channels=nb_filters, num_types=num_types)\n",
    "\n",
    "net = CCNN(in_channels=32, kernel_size=5, nb_filters=nb_filters, nb_layers=2,\n",
    "           num_types=num_types, kernel=kernel, head=head)"
   ]
  },
  {
   "cell_type": "code",
   "execution_count": 6,
   "id": "b3b04183",
   "metadata": {},
   "outputs": [
    {
     "name": "stderr",
     "output_type": "stream",
     "text": [
      "/home/morlov/.local/share/virtualenvs/pytorch-lifestream-1iBTwtzi/lib/python3.8/site-packages/pytorch_lightning/utilities/parsing.py:261: UserWarning: Attribute 'net' is an instance of `nn.Module` and is already saved during checkpointing. It is recommended to ignore them using `self.save_hyperparameters(ignore=['net'])`.\n",
      "  rank_zero_warn(\n"
     ]
    }
   ],
   "source": [
    "from src.models.base_model import BaseEventModule\n",
    "from src.metrics.cont_cnn import CCNNMetrics\n",
    "from src.utils.metrics import MetricsCore\n",
    "from src.utils.metrics import MAE, Accuracy\n",
    "import torch\n",
    "\n",
    "from omegaconf import OmegaConf, open_dict\n",
    "\n",
    "\n",
    "train_conf = OmegaConf.create({'optimizer': {\"name\": \"adam\", \"params\": {\"lr\": 0.01, \"weight_decay\": 1e-8}}, \n",
    "                               'scheduler': {\"milestones\": [40, 75], \"gamma\": 0.1, \"step\": None}})\n",
    "\n",
    "metrics = CCNNMetrics(return_time_metric = MAE(),\n",
    "                      event_type_metric = Accuracy(),\n",
    "                      type_loss_coeff = 1,\n",
    "                      time_loss_coeff = 10,\n",
    "                      sim_size = 40,\n",
    "                      reductions = {'log_likelihood': 'mean','type': 'sum', 'time': 'mean'}\n",
    "                     )\n",
    "\n",
    "model = BaseEventModule(net = net,\n",
    "                        metrics = metrics,\n",
    "                        optimizer = train_conf.optimizer,\n",
    "                        scheduler = train_conf.scheduler,\n",
    "                        head_start = 1)"
   ]
  },
  {
   "cell_type": "code",
   "execution_count": 7,
   "id": "5c81eb85",
   "metadata": {},
   "outputs": [],
   "source": [
    "from pytorch_lightning.callbacks import RichModelSummary, RichProgressBar, EarlyStopping, ModelCheckpoint\n",
    "from pytorch_lightning.loggers.tensorboard import TensorBoardLogger\n",
    "\n",
    "model_checkpoint = ModelCheckpoint(monitor=\"val/log_likelihood\", mode=\"max\",  save_top_k=1,  save_last=True,\n",
    "                                   verbose=False, dirpath=\"checkpoints/\", filename=\"epoch_{epoch:03d}\",\n",
    "                                   auto_insert_metric_name=False)  \n",
    "\n",
    "early_stopping = EarlyStopping(monitor=\"val/log_likelihood\", mode=\"max\", patience=100, min_delta=0)\n",
    "model_summary = RichModelSummary(max_depth=-1)\n",
    "rich_progress_bar = RichProgressBar()\n",
    "\n",
    "callbacks = [model_checkpoint, early_stopping, model_summary, rich_progress_bar]\n",
    "\n",
    "\n",
    "tensorboard = TensorBoardLogger(save_dir=\"tensorboard\", prefix=\"\", default_hp_metric=True, log_graph=False)\n",
    "logger = [tensorboard]"
   ]
  },
  {
   "cell_type": "markdown",
   "id": "391dc512",
   "metadata": {},
   "source": [
    "# <font size=\"6\">Fitting</font>"
   ]
  },
  {
   "cell_type": "code",
   "execution_count": 8,
   "id": "ea59a901",
   "metadata": {},
   "outputs": [
    {
     "name": "stderr",
     "output_type": "stream",
     "text": [
      "Trainer already configured with model summary callbacks: [<class 'pytorch_lightning.callbacks.rich_model_summary.RichModelSummary'>]. Skipping setting a default `ModelSummary` callback.\n",
      "GPU available: True, used: True\n",
      "TPU available: False, using: 0 TPU cores\n",
      "IPU available: False, using: 0 IPUs\n",
      "HPU available: False, using: 0 HPUs\n"
     ]
    },
    {
     "name": "stdout",
     "output_type": "stream",
     "text": [
      "logger.version = 19\n"
     ]
    },
    {
     "name": "stderr",
     "output_type": "stream",
     "text": [
      "/home/morlov/.local/share/virtualenvs/pytorch-lifestream-1iBTwtzi/lib/python3.8/site-packages/pytorch_lightning/trainer/configuration_validator.py:133: UserWarning: You defined a `validation_step` but have no `val_dataloader`. Skipping val loop.\n",
      "  rank_zero_warn(\"You defined a `validation_step` but have no `val_dataloader`. Skipping val loop.\")\n",
      "/home/morlov/.local/share/virtualenvs/pytorch-lifestream-1iBTwtzi/lib/python3.8/site-packages/pytorch_lightning/callbacks/model_checkpoint.py:611: UserWarning: Checkpoint directory /home/morlov/COTIC/notebooks/checkpoints exists and is not empty.\n",
      "  rank_zero_warn(f\"Checkpoint directory {dirpath} exists and is not empty.\")\n",
      "LOCAL_RANK: 0 - CUDA_VISIBLE_DEVICES: [0,1]\n"
     ]
    },
    {
     "data": {
      "text/html": [
       "<pre style=\"white-space:pre;overflow-x:auto;line-height:normal;font-family:Menlo,'DejaVu Sans Mono',consolas,'Courier New',monospace\">┏━━━━┳━━━━━━━━━━━━━━━━━━━━━━━━━━━━━━━━━━━┳━━━━━━━━━━━━━━━━┳━━━━━━━━┓\n",
       "┃<span style=\"color: #800080; text-decoration-color: #800080; font-weight: bold\">    </span>┃<span style=\"color: #800080; text-decoration-color: #800080; font-weight: bold\"> Name                              </span>┃<span style=\"color: #800080; text-decoration-color: #800080; font-weight: bold\"> Type           </span>┃<span style=\"color: #800080; text-decoration-color: #800080; font-weight: bold\"> Params </span>┃\n",
       "┡━━━━╇━━━━━━━━━━━━━━━━━━━━━━━━━━━━━━━━━━━╇━━━━━━━━━━━━━━━━╇━━━━━━━━┩\n",
       "│<span style=\"color: #7f7f7f; text-decoration-color: #7f7f7f\"> 0  </span>│ net                               │ CCNN           │ 92.5 K │\n",
       "│<span style=\"color: #7f7f7f; text-decoration-color: #7f7f7f\"> 1  </span>│ net.event_emb                     │ Embedding      │ 13.9 K │\n",
       "│<span style=\"color: #7f7f7f; text-decoration-color: #7f7f7f\"> 2  </span>│ net.convs                         │ ModuleList     │  8.5 K │\n",
       "│<span style=\"color: #7f7f7f; text-decoration-color: #7f7f7f\"> 3  </span>│ net.convs.0                       │ ContConv1d     │  5.6 K │\n",
       "│<span style=\"color: #7f7f7f; text-decoration-color: #7f7f7f\"> 4  </span>│ net.convs.0.kernel                │ Kernel         │  5.0 K │\n",
       "│<span style=\"color: #7f7f7f; text-decoration-color: #7f7f7f\"> 5  </span>│ net.convs.0.kernel.layer_1        │ Linear         │    264 │\n",
       "│<span style=\"color: #7f7f7f; text-decoration-color: #7f7f7f\"> 6  </span>│ net.convs.0.kernel.relu_1         │ ReLU           │      0 │\n",
       "│<span style=\"color: #7f7f7f; text-decoration-color: #7f7f7f\"> 7  </span>│ net.convs.0.kernel.layer_2        │ Linear         │     72 │\n",
       "│<span style=\"color: #7f7f7f; text-decoration-color: #7f7f7f\"> 8  </span>│ net.convs.0.kernel.relu_2         │ ReLU           │      0 │\n",
       "│<span style=\"color: #7f7f7f; text-decoration-color: #7f7f7f\"> 9  </span>│ net.convs.0.kernel.layer_3        │ Linear         │     72 │\n",
       "│<span style=\"color: #7f7f7f; text-decoration-color: #7f7f7f\"> 10 </span>│ net.convs.0.kernel.relu_3         │ ReLU           │      0 │\n",
       "│<span style=\"color: #7f7f7f; text-decoration-color: #7f7f7f\"> 11 </span>│ net.convs.0.kernel.layer_4        │ Linear         │  4.6 K │\n",
       "│<span style=\"color: #7f7f7f; text-decoration-color: #7f7f7f\"> 12 </span>│ net.convs.0.skip_connection       │ Conv1d         │    528 │\n",
       "│<span style=\"color: #7f7f7f; text-decoration-color: #7f7f7f\"> 13 </span>│ net.convs.0.leaky_relu            │ LeakyReLU      │      0 │\n",
       "│<span style=\"color: #7f7f7f; text-decoration-color: #7f7f7f\"> 14 </span>│ net.convs.0.norm                  │ BatchNorm1d    │     32 │\n",
       "│<span style=\"color: #7f7f7f; text-decoration-color: #7f7f7f\"> 15 </span>│ net.convs.1                       │ ContConv1d     │  2.9 K │\n",
       "│<span style=\"color: #7f7f7f; text-decoration-color: #7f7f7f\"> 16 </span>│ net.convs.1.kernel                │ Kernel         │  2.6 K │\n",
       "│<span style=\"color: #7f7f7f; text-decoration-color: #7f7f7f\"> 17 </span>│ net.convs.1.kernel.layer_1        │ Linear         │    136 │\n",
       "│<span style=\"color: #7f7f7f; text-decoration-color: #7f7f7f\"> 18 </span>│ net.convs.1.kernel.relu_1         │ ReLU           │      0 │\n",
       "│<span style=\"color: #7f7f7f; text-decoration-color: #7f7f7f\"> 19 </span>│ net.convs.1.kernel.layer_2        │ Linear         │     72 │\n",
       "│<span style=\"color: #7f7f7f; text-decoration-color: #7f7f7f\"> 20 </span>│ net.convs.1.kernel.relu_2         │ ReLU           │      0 │\n",
       "│<span style=\"color: #7f7f7f; text-decoration-color: #7f7f7f\"> 21 </span>│ net.convs.1.kernel.layer_3        │ Linear         │     72 │\n",
       "│<span style=\"color: #7f7f7f; text-decoration-color: #7f7f7f\"> 22 </span>│ net.convs.1.kernel.relu_3         │ ReLU           │      0 │\n",
       "│<span style=\"color: #7f7f7f; text-decoration-color: #7f7f7f\"> 23 </span>│ net.convs.1.kernel.layer_4        │ Linear         │  2.3 K │\n",
       "│<span style=\"color: #7f7f7f; text-decoration-color: #7f7f7f\"> 24 </span>│ net.convs.1.skip_connection       │ Conv1d         │    272 │\n",
       "│<span style=\"color: #7f7f7f; text-decoration-color: #7f7f7f\"> 25 </span>│ net.convs.1.leaky_relu            │ LeakyReLU      │      0 │\n",
       "│<span style=\"color: #7f7f7f; text-decoration-color: #7f7f7f\"> 26 </span>│ net.convs.1.norm                  │ BatchNorm1d    │     32 │\n",
       "│<span style=\"color: #7f7f7f; text-decoration-color: #7f7f7f\"> 27 </span>│ net.final_list                    │ ModuleList     │ 10.0 K │\n",
       "│<span style=\"color: #7f7f7f; text-decoration-color: #7f7f7f\"> 28 </span>│ net.final_list.0                  │ ContConv1dSim  │  2.6 K │\n",
       "│<span style=\"color: #7f7f7f; text-decoration-color: #7f7f7f\"> 29 </span>│ net.final_list.0.kernel           │ Kernel         │  2.6 K │\n",
       "│<span style=\"color: #7f7f7f; text-decoration-color: #7f7f7f\"> 30 </span>│ net.final_list.0.kernel.layer_1   │ Linear         │    136 │\n",
       "│<span style=\"color: #7f7f7f; text-decoration-color: #7f7f7f\"> 31 </span>│ net.final_list.0.kernel.relu_1    │ ReLU           │      0 │\n",
       "│<span style=\"color: #7f7f7f; text-decoration-color: #7f7f7f\"> 32 </span>│ net.final_list.0.kernel.layer_2   │ Linear         │     72 │\n",
       "│<span style=\"color: #7f7f7f; text-decoration-color: #7f7f7f\"> 33 </span>│ net.final_list.0.kernel.relu_2    │ ReLU           │      0 │\n",
       "│<span style=\"color: #7f7f7f; text-decoration-color: #7f7f7f\"> 34 </span>│ net.final_list.0.kernel.layer_3   │ Linear         │     72 │\n",
       "│<span style=\"color: #7f7f7f; text-decoration-color: #7f7f7f\"> 35 </span>│ net.final_list.0.kernel.relu_3    │ ReLU           │      0 │\n",
       "│<span style=\"color: #7f7f7f; text-decoration-color: #7f7f7f\"> 36 </span>│ net.final_list.0.kernel.layer_4   │ Linear         │  2.3 K │\n",
       "│<span style=\"color: #7f7f7f; text-decoration-color: #7f7f7f\"> 37 </span>│ net.final_list.0.norm             │ LayerNorm      │     32 │\n",
       "│<span style=\"color: #7f7f7f; text-decoration-color: #7f7f7f\"> 38 </span>│ net.final_list.1                  │ LeakyReLU      │      0 │\n",
       "│<span style=\"color: #7f7f7f; text-decoration-color: #7f7f7f\"> 39 </span>│ net.final_list.2                  │ Linear         │  7.3 K │\n",
       "│<span style=\"color: #7f7f7f; text-decoration-color: #7f7f7f\"> 40 </span>│ net.final_list.3                  │ Softplus       │      0 │\n",
       "│<span style=\"color: #7f7f7f; text-decoration-color: #7f7f7f\"> 41 </span>│ net.head                          │ PredictionHead │ 60.2 K │\n",
       "│<span style=\"color: #7f7f7f; text-decoration-color: #7f7f7f\"> 42 </span>│ net.head.return_time_prediction   │ Sequential     │  2.3 K │\n",
       "│<span style=\"color: #7f7f7f; text-decoration-color: #7f7f7f\"> 43 </span>│ net.head.return_time_prediction.0 │ Linear         │  2.2 K │\n",
       "│<span style=\"color: #7f7f7f; text-decoration-color: #7f7f7f\"> 44 </span>│ net.head.return_time_prediction.1 │ ReLU           │      0 │\n",
       "│<span style=\"color: #7f7f7f; text-decoration-color: #7f7f7f\"> 45 </span>│ net.head.return_time_prediction.2 │ Linear         │    129 │\n",
       "│<span style=\"color: #7f7f7f; text-decoration-color: #7f7f7f\"> 46 </span>│ net.head.event_type_prediction    │ Sequential     │ 57.9 K │\n",
       "│<span style=\"color: #7f7f7f; text-decoration-color: #7f7f7f\"> 47 </span>│ net.head.event_type_prediction.0  │ Linear         │  2.2 K │\n",
       "│<span style=\"color: #7f7f7f; text-decoration-color: #7f7f7f\"> 48 </span>│ net.head.event_type_prediction.1  │ ReLU           │      0 │\n",
       "│<span style=\"color: #7f7f7f; text-decoration-color: #7f7f7f\"> 49 </span>│ net.head.event_type_prediction.2  │ Linear         │ 55.7 K │\n",
       "└────┴───────────────────────────────────┴────────────────┴────────┘\n",
       "</pre>\n"
      ],
      "text/plain": [
       "┏━━━━┳━━━━━━━━━━━━━━━━━━━━━━━━━━━━━━━━━━━┳━━━━━━━━━━━━━━━━┳━━━━━━━━┓\n",
       "┃\u001b[1;35m \u001b[0m\u001b[1;35m  \u001b[0m\u001b[1;35m \u001b[0m┃\u001b[1;35m \u001b[0m\u001b[1;35mName                             \u001b[0m\u001b[1;35m \u001b[0m┃\u001b[1;35m \u001b[0m\u001b[1;35mType          \u001b[0m\u001b[1;35m \u001b[0m┃\u001b[1;35m \u001b[0m\u001b[1;35mParams\u001b[0m\u001b[1;35m \u001b[0m┃\n",
       "┡━━━━╇━━━━━━━━━━━━━━━━━━━━━━━━━━━━━━━━━━━╇━━━━━━━━━━━━━━━━╇━━━━━━━━┩\n",
       "│\u001b[2m \u001b[0m\u001b[2m0 \u001b[0m\u001b[2m \u001b[0m│ net                               │ CCNN           │ 92.5 K │\n",
       "│\u001b[2m \u001b[0m\u001b[2m1 \u001b[0m\u001b[2m \u001b[0m│ net.event_emb                     │ Embedding      │ 13.9 K │\n",
       "│\u001b[2m \u001b[0m\u001b[2m2 \u001b[0m\u001b[2m \u001b[0m│ net.convs                         │ ModuleList     │  8.5 K │\n",
       "│\u001b[2m \u001b[0m\u001b[2m3 \u001b[0m\u001b[2m \u001b[0m│ net.convs.0                       │ ContConv1d     │  5.6 K │\n",
       "│\u001b[2m \u001b[0m\u001b[2m4 \u001b[0m\u001b[2m \u001b[0m│ net.convs.0.kernel                │ Kernel         │  5.0 K │\n",
       "│\u001b[2m \u001b[0m\u001b[2m5 \u001b[0m\u001b[2m \u001b[0m│ net.convs.0.kernel.layer_1        │ Linear         │    264 │\n",
       "│\u001b[2m \u001b[0m\u001b[2m6 \u001b[0m\u001b[2m \u001b[0m│ net.convs.0.kernel.relu_1         │ ReLU           │      0 │\n",
       "│\u001b[2m \u001b[0m\u001b[2m7 \u001b[0m\u001b[2m \u001b[0m│ net.convs.0.kernel.layer_2        │ Linear         │     72 │\n",
       "│\u001b[2m \u001b[0m\u001b[2m8 \u001b[0m\u001b[2m \u001b[0m│ net.convs.0.kernel.relu_2         │ ReLU           │      0 │\n",
       "│\u001b[2m \u001b[0m\u001b[2m9 \u001b[0m\u001b[2m \u001b[0m│ net.convs.0.kernel.layer_3        │ Linear         │     72 │\n",
       "│\u001b[2m \u001b[0m\u001b[2m10\u001b[0m\u001b[2m \u001b[0m│ net.convs.0.kernel.relu_3         │ ReLU           │      0 │\n",
       "│\u001b[2m \u001b[0m\u001b[2m11\u001b[0m\u001b[2m \u001b[0m│ net.convs.0.kernel.layer_4        │ Linear         │  4.6 K │\n",
       "│\u001b[2m \u001b[0m\u001b[2m12\u001b[0m\u001b[2m \u001b[0m│ net.convs.0.skip_connection       │ Conv1d         │    528 │\n",
       "│\u001b[2m \u001b[0m\u001b[2m13\u001b[0m\u001b[2m \u001b[0m│ net.convs.0.leaky_relu            │ LeakyReLU      │      0 │\n",
       "│\u001b[2m \u001b[0m\u001b[2m14\u001b[0m\u001b[2m \u001b[0m│ net.convs.0.norm                  │ BatchNorm1d    │     32 │\n",
       "│\u001b[2m \u001b[0m\u001b[2m15\u001b[0m\u001b[2m \u001b[0m│ net.convs.1                       │ ContConv1d     │  2.9 K │\n",
       "│\u001b[2m \u001b[0m\u001b[2m16\u001b[0m\u001b[2m \u001b[0m│ net.convs.1.kernel                │ Kernel         │  2.6 K │\n",
       "│\u001b[2m \u001b[0m\u001b[2m17\u001b[0m\u001b[2m \u001b[0m│ net.convs.1.kernel.layer_1        │ Linear         │    136 │\n",
       "│\u001b[2m \u001b[0m\u001b[2m18\u001b[0m\u001b[2m \u001b[0m│ net.convs.1.kernel.relu_1         │ ReLU           │      0 │\n",
       "│\u001b[2m \u001b[0m\u001b[2m19\u001b[0m\u001b[2m \u001b[0m│ net.convs.1.kernel.layer_2        │ Linear         │     72 │\n",
       "│\u001b[2m \u001b[0m\u001b[2m20\u001b[0m\u001b[2m \u001b[0m│ net.convs.1.kernel.relu_2         │ ReLU           │      0 │\n",
       "│\u001b[2m \u001b[0m\u001b[2m21\u001b[0m\u001b[2m \u001b[0m│ net.convs.1.kernel.layer_3        │ Linear         │     72 │\n",
       "│\u001b[2m \u001b[0m\u001b[2m22\u001b[0m\u001b[2m \u001b[0m│ net.convs.1.kernel.relu_3         │ ReLU           │      0 │\n",
       "│\u001b[2m \u001b[0m\u001b[2m23\u001b[0m\u001b[2m \u001b[0m│ net.convs.1.kernel.layer_4        │ Linear         │  2.3 K │\n",
       "│\u001b[2m \u001b[0m\u001b[2m24\u001b[0m\u001b[2m \u001b[0m│ net.convs.1.skip_connection       │ Conv1d         │    272 │\n",
       "│\u001b[2m \u001b[0m\u001b[2m25\u001b[0m\u001b[2m \u001b[0m│ net.convs.1.leaky_relu            │ LeakyReLU      │      0 │\n",
       "│\u001b[2m \u001b[0m\u001b[2m26\u001b[0m\u001b[2m \u001b[0m│ net.convs.1.norm                  │ BatchNorm1d    │     32 │\n",
       "│\u001b[2m \u001b[0m\u001b[2m27\u001b[0m\u001b[2m \u001b[0m│ net.final_list                    │ ModuleList     │ 10.0 K │\n",
       "│\u001b[2m \u001b[0m\u001b[2m28\u001b[0m\u001b[2m \u001b[0m│ net.final_list.0                  │ ContConv1dSim  │  2.6 K │\n",
       "│\u001b[2m \u001b[0m\u001b[2m29\u001b[0m\u001b[2m \u001b[0m│ net.final_list.0.kernel           │ Kernel         │  2.6 K │\n",
       "│\u001b[2m \u001b[0m\u001b[2m30\u001b[0m\u001b[2m \u001b[0m│ net.final_list.0.kernel.layer_1   │ Linear         │    136 │\n",
       "│\u001b[2m \u001b[0m\u001b[2m31\u001b[0m\u001b[2m \u001b[0m│ net.final_list.0.kernel.relu_1    │ ReLU           │      0 │\n",
       "│\u001b[2m \u001b[0m\u001b[2m32\u001b[0m\u001b[2m \u001b[0m│ net.final_list.0.kernel.layer_2   │ Linear         │     72 │\n",
       "│\u001b[2m \u001b[0m\u001b[2m33\u001b[0m\u001b[2m \u001b[0m│ net.final_list.0.kernel.relu_2    │ ReLU           │      0 │\n",
       "│\u001b[2m \u001b[0m\u001b[2m34\u001b[0m\u001b[2m \u001b[0m│ net.final_list.0.kernel.layer_3   │ Linear         │     72 │\n",
       "│\u001b[2m \u001b[0m\u001b[2m35\u001b[0m\u001b[2m \u001b[0m│ net.final_list.0.kernel.relu_3    │ ReLU           │      0 │\n",
       "│\u001b[2m \u001b[0m\u001b[2m36\u001b[0m\u001b[2m \u001b[0m│ net.final_list.0.kernel.layer_4   │ Linear         │  2.3 K │\n",
       "│\u001b[2m \u001b[0m\u001b[2m37\u001b[0m\u001b[2m \u001b[0m│ net.final_list.0.norm             │ LayerNorm      │     32 │\n",
       "│\u001b[2m \u001b[0m\u001b[2m38\u001b[0m\u001b[2m \u001b[0m│ net.final_list.1                  │ LeakyReLU      │      0 │\n",
       "│\u001b[2m \u001b[0m\u001b[2m39\u001b[0m\u001b[2m \u001b[0m│ net.final_list.2                  │ Linear         │  7.3 K │\n",
       "│\u001b[2m \u001b[0m\u001b[2m40\u001b[0m\u001b[2m \u001b[0m│ net.final_list.3                  │ Softplus       │      0 │\n",
       "│\u001b[2m \u001b[0m\u001b[2m41\u001b[0m\u001b[2m \u001b[0m│ net.head                          │ PredictionHead │ 60.2 K │\n",
       "│\u001b[2m \u001b[0m\u001b[2m42\u001b[0m\u001b[2m \u001b[0m│ net.head.return_time_prediction   │ Sequential     │  2.3 K │\n",
       "│\u001b[2m \u001b[0m\u001b[2m43\u001b[0m\u001b[2m \u001b[0m│ net.head.return_time_prediction.0 │ Linear         │  2.2 K │\n",
       "│\u001b[2m \u001b[0m\u001b[2m44\u001b[0m\u001b[2m \u001b[0m│ net.head.return_time_prediction.1 │ ReLU           │      0 │\n",
       "│\u001b[2m \u001b[0m\u001b[2m45\u001b[0m\u001b[2m \u001b[0m│ net.head.return_time_prediction.2 │ Linear         │    129 │\n",
       "│\u001b[2m \u001b[0m\u001b[2m46\u001b[0m\u001b[2m \u001b[0m│ net.head.event_type_prediction    │ Sequential     │ 57.9 K │\n",
       "│\u001b[2m \u001b[0m\u001b[2m47\u001b[0m\u001b[2m \u001b[0m│ net.head.event_type_prediction.0  │ Linear         │  2.2 K │\n",
       "│\u001b[2m \u001b[0m\u001b[2m48\u001b[0m\u001b[2m \u001b[0m│ net.head.event_type_prediction.1  │ ReLU           │      0 │\n",
       "│\u001b[2m \u001b[0m\u001b[2m49\u001b[0m\u001b[2m \u001b[0m│ net.head.event_type_prediction.2  │ Linear         │ 55.7 K │\n",
       "└────┴───────────────────────────────────┴────────────────┴────────┘\n"
      ]
     },
     "metadata": {},
     "output_type": "display_data"
    },
    {
     "data": {
      "text/html": [
       "<pre style=\"white-space:pre;overflow-x:auto;line-height:normal;font-family:Menlo,'DejaVu Sans Mono',consolas,'Courier New',monospace\"><span style=\"font-weight: bold\">Trainable params</span>: 92.5 K                                                                                           \n",
       "<span style=\"font-weight: bold\">Non-trainable params</span>: 0                                                                                            \n",
       "<span style=\"font-weight: bold\">Total params</span>: 92.5 K                                                                                               \n",
       "<span style=\"font-weight: bold\">Total estimated model params size (MB)</span>: 0                                                                          \n",
       "</pre>\n"
      ],
      "text/plain": [
       "\u001b[1mTrainable params\u001b[0m: 92.5 K                                                                                           \n",
       "\u001b[1mNon-trainable params\u001b[0m: 0                                                                                            \n",
       "\u001b[1mTotal params\u001b[0m: 92.5 K                                                                                               \n",
       "\u001b[1mTotal estimated model params size (MB)\u001b[0m: 0                                                                          \n"
      ]
     },
     "metadata": {},
     "output_type": "display_data"
    },
    {
     "data": {
      "application/vnd.jupyter.widget-view+json": {
       "model_id": "97207cfd2f4c49d5954aee32ff5857d7",
       "version_major": 2,
       "version_minor": 0
      },
      "text/plain": [
       "Output()"
      ]
     },
     "metadata": {},
     "output_type": "display_data"
    },
    {
     "data": {
      "text/html": [
       "<pre style=\"white-space:pre;overflow-x:auto;line-height:normal;font-family:Menlo,'DejaVu Sans Mono',consolas,'Courier New',monospace\">/home/morlov/.local/share/virtualenvs/pytorch-lifestream-1iBTwtzi/lib/python3.8/site-packages/pytorch_lightning/tra\n",
       "iner/trainer.py:726: UserWarning: Detected KeyboardInterrupt, attempting graceful shutdown...\n",
       "  rank_zero_warn(\"Detected KeyboardInterrupt, attempting graceful shutdown...\")\n",
       "</pre>\n"
      ],
      "text/plain": [
       "/home/morlov/.local/share/virtualenvs/pytorch-lifestream-1iBTwtzi/lib/python3.8/site-packages/pytorch_lightning/tra\n",
       "iner/trainer.py:726: UserWarning: Detected KeyboardInterrupt, attempting graceful shutdown...\n",
       "  rank_zero_warn(\"Detected KeyboardInterrupt, attempting graceful shutdown...\")\n"
      ]
     },
     "metadata": {},
     "output_type": "display_data"
    },
    {
     "data": {
      "text/html": [
       "<pre style=\"white-space:pre;overflow-x:auto;line-height:normal;font-family:Menlo,'DejaVu Sans Mono',consolas,'Courier New',monospace\"></pre>\n"
      ],
      "text/plain": []
     },
     "metadata": {},
     "output_type": "display_data"
    },
    {
     "data": {
      "text/html": [
       "<pre style=\"white-space:pre;overflow-x:auto;line-height:normal;font-family:Menlo,'DejaVu Sans Mono',consolas,'Courier New',monospace\">\n",
       "</pre>\n"
      ],
      "text/plain": [
       "\n"
      ]
     },
     "metadata": {},
     "output_type": "display_data"
    }
   ],
   "source": [
    "from pytorch_lightning import Trainer\n",
    "\n",
    "trainer = Trainer(gpus=[0],\n",
    "                  max_epochs=10,\n",
    "                  limit_val_batches=100,\n",
    "                  val_check_interval=1000,\n",
    "                  accumulate_grad_batches=10,\n",
    "                  gradient_clip_val=1,\n",
    "                  callbacks=callbacks,\n",
    "                  logger=logger)\n",
    "\n",
    "# Train the model\n",
    "log.info(\"Starting training!\")\n",
    "print(f'logger.version = {trainer.logger.version}')\n",
    "trainer.fit(model, train_dl)"
   ]
  },
  {
   "cell_type": "code",
   "execution_count": 9,
   "id": "7c2b58c8-fd20-4ea1-8808-e3f77b94fb75",
   "metadata": {},
   "outputs": [
    {
     "name": "stderr",
     "output_type": "stream",
     "text": [
      "\n",
      "KeyboardInterrupt\n",
      "\n"
     ]
    }
   ],
   "source": [
    "torch.save(model.state_dict(), \"cotic-alpha-battle.pt\")"
   ]
  },
  {
   "cell_type": "code",
   "execution_count": null,
   "id": "2324b8c7-13b2-44de-bd5a-9be7c09722ef",
   "metadata": {},
   "outputs": [],
   "source": []
  }
 ],
 "metadata": {
  "kernelspec": {
   "display_name": "ptls",
   "language": "python",
   "name": "ptls"
  },
  "language_info": {
   "codemirror_mode": {
    "name": "ipython",
    "version": 3
   },
   "file_extension": ".py",
   "mimetype": "text/x-python",
   "name": "python",
   "nbconvert_exporter": "python",
   "pygments_lexer": "ipython3",
   "version": "3.8.10"
  }
 },
 "nbformat": 4,
 "nbformat_minor": 5
}
