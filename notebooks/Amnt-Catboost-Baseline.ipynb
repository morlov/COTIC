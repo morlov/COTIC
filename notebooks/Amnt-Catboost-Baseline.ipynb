{
 "cells": [
  {
   "cell_type": "markdown",
   "id": "396ab2e9",
   "metadata": {},
   "source": [
    "# <font size=\"6\">Libraries</font>"
   ]
  },
  {
   "cell_type": "code",
   "execution_count": 1,
   "id": "bfdc5868",
   "metadata": {},
   "outputs": [],
   "source": [
    "import pandas as pd"
   ]
  },
  {
   "cell_type": "markdown",
   "id": "b8392edd",
   "metadata": {},
   "source": [
    "# <font size=\"6\">dataset</font>"
   ]
  },
  {
   "cell_type": "code",
   "execution_count": 34,
   "id": "05a76ca3",
   "metadata": {},
   "outputs": [],
   "source": [
    "train_df = pd.read_parquet('data/train.parquet')\n",
    "valid_df = pd.read_parquet('data/valid.parquet')"
   ]
  },
  {
   "cell_type": "code",
   "execution_count": 35,
   "id": "ac05c45f",
   "metadata": {},
   "outputs": [],
   "source": [
    "last_transactions = train_df.groupby('app_id').tail(1)"
   ]
  },
  {
   "cell_type": "markdown",
   "id": "4ff9fb8e",
   "metadata": {},
   "source": [
    "# <font size=\"6\">Model</font>"
   ]
  },
  {
   "cell_type": "code",
   "execution_count": 37,
   "id": "01c550c0",
   "metadata": {},
   "outputs": [
    {
     "name": "stderr",
     "output_type": "stream",
     "text": [
      "Default metric period is 5 because MAE is/are not implemented for GPU\n"
     ]
    },
    {
     "name": "stdout",
     "output_type": "stream",
     "text": [
      "0:\tlearn: 0.0715132\ttotal: 269ms\tremaining: 2m 14s\n",
      "100:\tlearn: 0.0575328\ttotal: 27.7s\tremaining: 1m 49s\n",
      "200:\tlearn: 0.0564707\ttotal: 55.9s\tremaining: 1m 23s\n",
      "300:\tlearn: 0.0560213\ttotal: 1m 24s\tremaining: 55.9s\n",
      "400:\tlearn: 0.0558414\ttotal: 1m 53s\tremaining: 28s\n",
      "499:\tlearn: 0.0558018\ttotal: 2m 22s\tremaining: 0us\n"
     ]
    },
    {
     "data": {
      "text/plain": [
       "<catboost.core.CatBoostRegressor at 0x7f31ec03dc50>"
      ]
     },
     "execution_count": 37,
     "metadata": {},
     "output_type": "execute_result"
    }
   ],
   "source": [
    "import catboost\n",
    "from catboost import CatBoostRegressor\n",
    "\n",
    "regressor = CatBoostRegressor(\n",
    "    iterations=500,\n",
    "    depth=3,\n",
    "    verbose=100,\n",
    "    task_type='GPU',\n",
    "    loss_function='MAE',\n",
    "    eval_metric='MAE',\n",
    "    early_stopping_rounds=100\n",
    ")\n",
    "\n",
    "regressor.fit(train_df[['mcc', 'transaction_number', 'hour_diff']],\n",
    "              train_df['amnt'])"
   ]
  },
  {
   "cell_type": "code",
   "execution_count": 39,
   "id": "b53400bf",
   "metadata": {},
   "outputs": [],
   "source": [
    "class MostCommonMCCPredictor:\n",
    "    def __init__(self):\n",
    "        self.most_common_mcc = {}\n",
    "\n",
    "    def fit(self, data):\n",
    "        self.most_common_mcc = data.groupby('app_id')['mcc'].apply(lambda x: x.mode().iloc[0]).to_dict()\n",
    "\n",
    "    def forward(self, app_id):\n",
    "        \n",
    "        return self.most_common_mcc.get(app_id, None)\n",
    "\n",
    "    \n",
    "model = MostCommonMCCPredictor()\n",
    "\n",
    "model.fit(train_df[['app_id', 'mcc']])"
   ]
  },
  {
   "cell_type": "code",
   "execution_count": 40,
   "id": "2e17c216",
   "metadata": {},
   "outputs": [
    {
     "name": "stdout",
     "output_type": "stream",
     "text": [
      "CPU times: user 37.5 s, sys: 305 ms, total: 37.8 s\n",
      "Wall time: 37.8 s\n"
     ]
    }
   ],
   "source": [
    "%%time\n",
    "\n",
    "predicted_transactions = pd.DataFrame()\n",
    "valid_counts = valid_df['app_id'].value_counts().to_dict()\n",
    "predicted_types = []\n",
    "\n",
    "for _, last_transaction in last_transactions.iterrows():\n",
    "    user_id = last_transaction['app_id']\n",
    "    last_type = last_transaction['mcc']\n",
    "    num_transactions = valid_counts.get(user_id, 0)\n",
    "    \n",
    "    for _ in range(num_transactions):\n",
    "        predicted_type = model.forward(user_id)\n",
    "        \n",
    "        predicted_types.append(predicted_type)"
   ]
  },
  {
   "cell_type": "code",
   "execution_count": 44,
   "id": "4c3d92ee",
   "metadata": {},
   "outputs": [],
   "source": [
    "valid_df['pred_mcc'] = predicted_types\n",
    "predicted_amount = regressor.predict(valid_df[['mcc', 'transaction_number', 'hour_diff']].values.reshape(-1, 3))\n",
    "\n",
    "valid_df['pred_amnt'] = predicted_amount\n",
    "\n",
    "valid_df['pred_amnt'] = pd.qcut(valid_df['pred_amnt'], q=[0, .33, .66, 1.], labels=False)"
   ]
  },
  {
   "cell_type": "markdown",
   "id": "c77a71e4",
   "metadata": {},
   "source": [
    "# <font size=\"6\">Metrics</font>"
   ]
  },
  {
   "cell_type": "code",
   "execution_count": 54,
   "id": "c9456889",
   "metadata": {},
   "outputs": [
    {
     "name": "stdout",
     "output_type": "stream",
     "text": [
      "Amnt accuracy: 0.2218262809820841\n",
      "MCC accuracy: 0.3167607617034735\n"
     ]
    }
   ],
   "source": [
    "from sklearn.metrics import mean_absolute_error, accuracy_score\n",
    "\n",
    "print('Amnt accuracy:', accuracy_score(valid_df['amnt_bins'], valid_df['pred_amnt']))\n",
    "print('MCC accuracy:', accuracy_score(valid_df['mcc'], valid_df['pred_mcc']))"
   ]
  }
 ],
 "metadata": {
  "kernelspec": {
   "display_name": "Python 3 (ipykernel)",
   "language": "python",
   "name": "python3"
  },
  "language_info": {
   "codemirror_mode": {
    "name": "ipython",
    "version": 3
   },
   "file_extension": ".py",
   "mimetype": "text/x-python",
   "name": "python",
   "nbconvert_exporter": "python",
   "pygments_lexer": "ipython3",
   "version": "3.7.12"
  }
 },
 "nbformat": 4,
 "nbformat_minor": 5
}
