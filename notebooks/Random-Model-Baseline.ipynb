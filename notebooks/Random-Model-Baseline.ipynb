{
 "cells": [
  {
   "cell_type": "markdown",
   "id": "7c374cd9",
   "metadata": {},
   "source": [
    "# <font size=\"6\">Libraries</font>"
   ]
  },
  {
   "cell_type": "code",
   "execution_count": 11,
   "id": "689b10a7",
   "metadata": {},
   "outputs": [
    {
     "name": "stdout",
     "output_type": "stream",
     "text": [
      "torch version: 1.12.1+cu102\n",
      "The autoreload extension is already loaded. To reload it, use:\n",
      "  %reload_ext autoreload\n"
     ]
    }
   ],
   "source": [
    "import torch\n",
    "from torch.optim import Adam\n",
    "from torch.optim.lr_scheduler import StepLR\n",
    "import torch.nn.functional as F\n",
    "import os, sys\n",
    "from tqdm import tqdm\n",
    "\n",
    "parent_dir = os.path.abspath('..')\n",
    "if parent_dir not in sys.path:\n",
    "    sys.path.append(parent_dir)\n",
    "\n",
    "print('torch version:', torch.__version__)\n",
    "\n",
    "import ptls\n",
    "from ptls.data_load import IterableChain\n",
    "from ptls.data_load.iterable_processing import SeqLenFilter\n",
    "from ptls.data_load.iterable_processing.to_torch_tensor import ToTorch\n",
    "from ptls.data_load.iterable_processing_dataset import IterableProcessingDataset\n",
    "from ptls.data_load.datasets.parquet_dataset import ParquetDataset, ParquetFiles\n",
    "\n",
    "import pytorch_lightning as pl\n",
    "\n",
    "from glob import glob\n",
    "\n",
    "import sklearn\n",
    "from sklearn.model_selection import train_test_split\n",
    "\n",
    "import os, sys\n",
    "\n",
    "from COTIC.src import utils\n",
    "\n",
    "import pandas as pd\n",
    "import numpy as np\n",
    "import matplotlib.pyplot as plt\n",
    "\n",
    "parent_dir = os.path.abspath('..')\n",
    "if parent_dir not in sys.path:\n",
    "    sys.path.append(parent_dir)\n",
    "\n",
    "log = utils.get_logger(__name__)\n",
    "\n",
    "%load_ext autoreload\n",
    "%autoreload 2"
   ]
  },
  {
   "cell_type": "markdown",
   "id": "3bb7e347",
   "metadata": {},
   "source": [
    "# <font size=\"5\">dataset</font>"
   ]
  },
  {
   "cell_type": "code",
   "execution_count": 12,
   "id": "96f08179",
   "metadata": {},
   "outputs": [],
   "source": [
    "train_df = pd.read_parquet('data/train.parquet')\n",
    "valid_df = pd.read_parquet('data/valid.parquet')"
   ]
  },
  {
   "cell_type": "code",
   "execution_count": 13,
   "id": "9e132652",
   "metadata": {},
   "outputs": [],
   "source": [
    "last_transactions = train_df.groupby('app_id').tail(1)"
   ]
  },
  {
   "cell_type": "markdown",
   "id": "217bd925",
   "metadata": {},
   "source": [
    "# <font size=\"6\">Random model</font>"
   ]
  },
  {
   "cell_type": "markdown",
   "id": "c7832f49",
   "metadata": {},
   "source": [
    "# <font size=\"3\">В качестве предикта выдаёт одну рандомную транзакцию данного пользователя из train_df</font>"
   ]
  },
  {
   "cell_type": "code",
   "execution_count": 14,
   "id": "901c96b4",
   "metadata": {},
   "outputs": [],
   "source": [
    "class RandomModel():\n",
    "    def __init__(self, dataset, user_id_column='app_id'):\n",
    "        self.user_id_column = user_id_column\n",
    "        self.user_transactions = {user_id: group for user_id, group in dataset.groupby(user_id_column)}\n",
    "        \n",
    "    def forward(self, transaction):\n",
    "        user_id = transaction[self.user_id_column]\n",
    "        \n",
    "        return self.user_transactions[user_id].sample(n=1).iloc[0]\n",
    "    \n",
    "random_model = RandomModel(train_df, user_id_column='app_id')"
   ]
  },
  {
   "cell_type": "markdown",
   "id": "6ba08d26",
   "metadata": {},
   "source": [
    "# <font size=\"6\">Predicting</font>"
   ]
  },
  {
   "cell_type": "code",
   "execution_count": 25,
   "id": "5b09a4f8",
   "metadata": {},
   "outputs": [],
   "source": [
    "valid_counts = valid_df['app_id'].value_counts().to_dict()\n",
    "predicted_transactions = []"
   ]
  },
  {
   "cell_type": "code",
   "execution_count": 26,
   "id": "492d1588",
   "metadata": {},
   "outputs": [
    {
     "name": "stdout",
     "output_type": "stream",
     "text": [
      "transaction number: 10000 / 430309\n",
      "transaction number: 20000 / 430309\n",
      "transaction number: 30000 / 430309\n",
      "transaction number: 40000 / 430309\n",
      "transaction number: 50000 / 430309\n",
      "transaction number: 60000 / 430309\n",
      "transaction number: 70000 / 430309\n",
      "transaction number: 80000 / 430309\n",
      "transaction number: 90000 / 430309\n",
      "transaction number: 100000 / 430309\n",
      "transaction number: 110000 / 430309\n",
      "transaction number: 120000 / 430309\n",
      "transaction number: 130000 / 430309\n",
      "transaction number: 140000 / 430309\n",
      "transaction number: 150000 / 430309\n",
      "transaction number: 160000 / 430309\n",
      "transaction number: 170000 / 430309\n",
      "transaction number: 180000 / 430309\n",
      "transaction number: 190000 / 430309\n",
      "transaction number: 200000 / 430309\n",
      "transaction number: 210000 / 430309\n",
      "transaction number: 220000 / 430309\n",
      "transaction number: 230000 / 430309\n",
      "transaction number: 240000 / 430309\n",
      "transaction number: 250000 / 430309\n",
      "transaction number: 260000 / 430309\n",
      "transaction number: 270000 / 430309\n",
      "transaction number: 280000 / 430309\n",
      "transaction number: 290000 / 430309\n",
      "transaction number: 300000 / 430309\n",
      "transaction number: 310000 / 430309\n",
      "transaction number: 320000 / 430309\n",
      "transaction number: 330000 / 430309\n",
      "transaction number: 340000 / 430309\n",
      "transaction number: 350000 / 430309\n",
      "transaction number: 360000 / 430309\n",
      "transaction number: 370000 / 430309\n",
      "transaction number: 380000 / 430309\n",
      "transaction number: 390000 / 430309\n",
      "transaction number: 400000 / 430309\n",
      "transaction number: 410000 / 430309\n",
      "transaction number: 420000 / 430309\n",
      "transaction number: 430000 / 430309\n",
      "CPU times: user 59min 53s, sys: 2min 16s, total: 1h 2min 9s\n",
      "Wall time: 1h 1min 57s\n"
     ]
    }
   ],
   "source": [
    "%%time\n",
    "\n",
    "for _, last_transaction in last_transactions.iterrows():\n",
    "    user_id = last_transaction['app_id']\n",
    "    num_transactions = valid_counts.get(user_id, 0)\n",
    "    \n",
    "    for _ in range(num_transactions):\n",
    "        next_transaction = random_model.forward(last_transaction)\n",
    "        last_transaction = next_transaction\n",
    "\n",
    "        predicted_transactions.append(next_transaction)\n",
    "    \n",
    "predicted_transactions = pd.DataFrame(predicted_transactions).reset_index(drop=True)"
   ]
  },
  {
   "cell_type": "markdown",
   "id": "94a5f8be",
   "metadata": {},
   "source": [
    "# <font size=\"6\">Metrics</font>"
   ]
  },
  {
   "cell_type": "code",
   "execution_count": 27,
   "id": "ba564b67",
   "metadata": {},
   "outputs": [
    {
     "name": "stdout",
     "output_type": "stream",
     "text": [
      "Time MAE: 41.91192786821157\n",
      "Type accuracy: 0.09903581238889023\n",
      "Amnt accuracy: 0.42221236020433156\n",
      "MCC accuracy: 0.18485706725903156\n"
     ]
    }
   ],
   "source": [
    "from sklearn.metrics import mean_absolute_error, accuracy_score\n",
    "\n",
    "print('Time MAE:', mean_absolute_error(valid_df['hour_diff'], predicted_transactions['hour_diff']))\n",
    "print('Type accuracy:', accuracy_score(valid_df['amnt_mcc_bins'], predicted_transactions['amnt_mcc_bins']))\n",
    "print('Amnt accuracy:', accuracy_score(valid_df['amnt_bins'], predicted_transactions['amnt_bins']))\n",
    "print('MCC accuracy:', accuracy_score(valid_df['mcc'], predicted_transactions['mcc']))"
   ]
  }
 ],
 "metadata": {
  "kernelspec": {
   "display_name": "ptls-experiments",
   "language": "python",
   "name": "ptls-experiments"
  },
  "language_info": {
   "codemirror_mode": {
    "name": "ipython",
    "version": 3
   },
   "file_extension": ".py",
   "mimetype": "text/x-python",
   "name": "python",
   "nbconvert_exporter": "python",
   "pygments_lexer": "ipython3",
   "version": "3.8.17"
  }
 },
 "nbformat": 4,
 "nbformat_minor": 5
}
