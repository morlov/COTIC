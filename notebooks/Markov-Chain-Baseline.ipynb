{
 "cells": [
  {
   "cell_type": "markdown",
   "id": "401d9483",
   "metadata": {},
   "source": [
    "# <font size=\"6\">Libraries</font>"
   ]
  },
  {
   "cell_type": "code",
   "execution_count": 1,
   "id": "c9975902",
   "metadata": {},
   "outputs": [
    {
     "name": "stdout",
     "output_type": "stream",
     "text": [
      "torch version: 1.12.1+cu102\n"
     ]
    }
   ],
   "source": [
    "import torch\n",
    "from torch.optim import Adam\n",
    "from torch.optim.lr_scheduler import StepLR\n",
    "import torch.nn.functional as F\n",
    "import os, sys\n",
    "from tqdm import tqdm\n",
    "\n",
    "parent_dir = os.path.abspath('..')\n",
    "if parent_dir not in sys.path:\n",
    "    sys.path.append(parent_dir)\n",
    "\n",
    "print('torch version:', torch.__version__)\n",
    "\n",
    "import ptls\n",
    "from ptls.data_load import IterableChain\n",
    "from ptls.data_load.iterable_processing import SeqLenFilter\n",
    "from ptls.data_load.iterable_processing.to_torch_tensor import ToTorch\n",
    "from ptls.data_load.iterable_processing_dataset import IterableProcessingDataset\n",
    "from ptls.data_load.datasets.parquet_dataset import ParquetDataset, ParquetFiles\n",
    "\n",
    "import pytorch_lightning as pl\n",
    "\n",
    "from glob import glob\n",
    "\n",
    "import sklearn\n",
    "from sklearn.model_selection import train_test_split\n",
    "\n",
    "import os, sys\n",
    "\n",
    "from COTIC.src import utils\n",
    "\n",
    "import pandas as pd\n",
    "import numpy as np\n",
    "import matplotlib.pyplot as plt\n",
    "\n",
    "parent_dir = os.path.abspath('..')\n",
    "if parent_dir not in sys.path:\n",
    "    sys.path.append(parent_dir)\n",
    "\n",
    "log = utils.get_logger(__name__)\n",
    "\n",
    "%load_ext autoreload\n",
    "%autoreload 2"
   ]
  },
  {
   "cell_type": "markdown",
   "id": "a61ca3ec",
   "metadata": {},
   "source": [
    "# <font size=\"5\">dataset</font>"
   ]
  },
  {
   "cell_type": "code",
   "execution_count": 2,
   "id": "772fe5e8",
   "metadata": {},
   "outputs": [],
   "source": [
    "train_df = pd.read_parquet('data/train.parquet')\n",
    "valid_df = pd.read_parquet('data/valid.parquet')"
   ]
  },
  {
   "cell_type": "code",
   "execution_count": 3,
   "id": "5f703024",
   "metadata": {},
   "outputs": [],
   "source": [
    "last_transactions = train_df.groupby('app_id').tail(1)"
   ]
  },
  {
   "cell_type": "markdown",
   "id": "90f6d792",
   "metadata": {},
   "source": [
    "# <font size=\"6\">Markov Chain Model</font>"
   ]
  },
  {
   "cell_type": "code",
   "execution_count": 4,
   "id": "02f46fb9",
   "metadata": {},
   "outputs": [],
   "source": [
    "class MarkovChainModel():\n",
    "    def __init__(self, dataset, user_id_column='app_id'):\n",
    "        self.dataset = dataset\n",
    "        self.user_id_column = user_id_column\n",
    "        \n",
    "        self.transition_matrix = self.build_transition_matrix()\n",
    "        self.predicted_time_avg = self.dataset.groupby(user_id_column)['hour_diff'].mean().to_dict()\n",
    "\n",
    "    def forward(self, _type, user_id):\n",
    "        \n",
    "        return [self.transition_matrix[_type], self.predicted_time_avg[user_id]]\n",
    "                \n",
    "    def build_transition_matrix(self):\n",
    "        self.dataset['amnt_mcc_bins_shift'] = self.dataset.groupby(self.user_id_column)['amnt_mcc_bins'].shift(-1)\n",
    "        transition_matrix = self.dataset.groupby('amnt_mcc_bins')['amnt_mcc_bins_shift'].apply(lambda x: x.mode().iloc[0] if not x.mode().empty else None).to_dict()\n",
    "        \n",
    "        return transition_matrix\n",
    "    \n",
    "markov_model = MarkovChainModel(train_df)"
   ]
  },
  {
   "cell_type": "code",
   "execution_count": 5,
   "id": "2b906d67",
   "metadata": {},
   "outputs": [
    {
     "name": "stdout",
     "output_type": "stream",
     "text": [
      "CPU times: user 35.3 s, sys: 219 ms, total: 35.6 s\n",
      "Wall time: 35.6 s\n"
     ]
    }
   ],
   "source": [
    "%%time\n",
    "\n",
    "predicted_transactions = pd.DataFrame()\n",
    "valid_counts = valid_df['app_id'].value_counts().to_dict()\n",
    "predicted_types = []\n",
    "predicted_times = []\n",
    "\n",
    "for _, last_transaction in last_transactions.iterrows():\n",
    "    user_id = last_transaction['app_id']\n",
    "    last_type = last_transaction['amnt_mcc_bins']\n",
    "    num_transactions = valid_counts.get(user_id, 0)\n",
    "    \n",
    "    for _ in range(num_transactions):\n",
    "        predicted_transaction = markov_model.forward(last_type, user_id)\n",
    "        \n",
    "        predicted_types.append(predicted_transaction[0])\n",
    "        predicted_times.append(predicted_transaction[1])\n",
    "        \n",
    "        last_type = predicted_transaction[0]"
   ]
  },
  {
   "cell_type": "code",
   "execution_count": 6,
   "id": "e61bc944",
   "metadata": {},
   "outputs": [],
   "source": [
    "valid_df['predicted_type'] = predicted_types\n",
    "valid_df['times_pred'] = predicted_times\n",
    "\n",
    "valid_df['pred_mcc'] = (valid_df['predicted_type'] - 1) // 4 + 1\n",
    "valid_df['pred_amnt'] = (valid_df['predicted_type'] - 1) % 4"
   ]
  },
  {
   "cell_type": "markdown",
   "id": "0dbf1cca",
   "metadata": {},
   "source": [
    "# <font size=\"6\">Metrics</font>"
   ]
  },
  {
   "cell_type": "code",
   "execution_count": 7,
   "id": "8ea3bc6b",
   "metadata": {},
   "outputs": [
    {
     "name": "stdout",
     "output_type": "stream",
     "text": [
      "Time MAE: 31.77129087252648\n",
      "Type accuracy: 0.14486412069822252\n",
      "Amnt accuracy: 0.4834462810589852\n",
      "MCC accuracy: 0.25024221606755204\n"
     ]
    }
   ],
   "source": [
    "from sklearn.metrics import mean_absolute_error, accuracy_score\n",
    "\n",
    "print('Time MAE:', mean_absolute_error(valid_df['hour_diff'], valid_df['times_pred']))\n",
    "print('Type accuracy:', accuracy_score(valid_df['amnt_mcc_bins'], valid_df['predicted_type']))\n",
    "print('Amnt accuracy:', accuracy_score(valid_df['amnt_bins'], valid_df['pred_amnt']))\n",
    "print('MCC accuracy:', accuracy_score(valid_df['mcc'], valid_df['pred_mcc']))"
   ]
  }
 ],
 "metadata": {
  "kernelspec": {
   "display_name": "ptls-experiments",
   "language": "python",
   "name": "ptls-experiments"
  },
  "language_info": {
   "codemirror_mode": {
    "name": "ipython",
    "version": 3
   },
   "file_extension": ".py",
   "mimetype": "text/x-python",
   "name": "python",
   "nbconvert_exporter": "python",
   "pygments_lexer": "ipython3",
   "version": "3.8.17"
  }
 },
 "nbformat": 4,
 "nbformat_minor": 5
}
