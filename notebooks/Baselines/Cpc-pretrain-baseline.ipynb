{
 "cells": [
  {
   "cell_type": "code",
   "execution_count": 1,
   "id": "45c552db",
   "metadata": {},
   "outputs": [],
   "source": [
    "%load_ext autoreload\n",
    "%autoreload 2\n",
    "\n",
    "import logging\n",
    "import torch\n",
    "import pytorch_lightning as pl\n",
    "import warnings\n",
    "\n",
    "warnings.filterwarnings('ignore')\n",
    "logging.getLogger(\"pytorch_lightning\").setLevel(logging.ERROR)"
   ]
  },
  {
   "cell_type": "code",
   "execution_count": 2,
   "id": "c6fe3d34",
   "metadata": {},
   "outputs": [],
   "source": [
    "import torch\n",
    "import ptls\n",
    "import pandas as pd\n",
    "import numpy as np\n",
    "\n",
    "import pytorch_lightning as pl\n",
    "\n",
    "import catboost\n",
    "from catboost import CatBoostClassifier\n",
    "from catboost import CatBoostRegressor\n",
    "\n",
    "from ptls.frames import PtlsDataModule, coles\n",
    "from ptls.frames.coles import split_strategy\n",
    "from ptls.data_load import datasets\n",
    "from ptls.data_load.datasets import ParquetFiles\n",
    "from ptls.data_load.datasets import MemoryMapDataset, parquet_file_scan, ParquetDataset\n",
    "from ptls.data_load.iterable_processing import SeqLenFilter, FeatureFilter\n",
    "from ptls.frames.coles import CoLESModule\n",
    "from ptls.nn.trx_encoder import TrxEncoder\n",
    "from ptls.nn.seq_encoder import RnnSeqEncoder\n",
    "from ptls.nn.head import Head\n",
    "from ptls.frames.coles.losses import ContrastiveLoss\n",
    "from ptls.frames.coles import sampling_strategies\n",
    "\n",
    "from pytorch_lightning.loggers import TensorBoardLogger\n",
    "\n",
    "import sklearn\n",
    "from sklearn.metrics import mean_absolute_error, accuracy_score\n",
    "\n",
    "from functools import partial"
   ]
  },
  {
   "cell_type": "markdown",
   "id": "2d3d56ef",
   "metadata": {},
   "source": [
    "# <font size=\"5\">data module</font>"
   ]
  },
  {
   "cell_type": "code",
   "execution_count": 4,
   "id": "d1fae76d",
   "metadata": {},
   "outputs": [],
   "source": [
    "from ptls.frames import coles\n",
    "from ptls.data_load import datasets\n",
    "from ptls.frames import PtlsDataModule\n",
    "from ptls.frames.coles import losses, sampling_strategies\n",
    "from ptls.frames.coles import split_strategy\n",
    "\n",
    "data_module = PtlsDataModule(\n",
    "    train_data=ptls.frames.coles.ColesDataset(\n",
    "        splitter=split_strategy.SampleSlices(split_count=5, cnt_min=20, cnt_max=60),\n",
    "        data=ptls.data_load.datasets.AugmentationDataset(\n",
    "            data=MemoryMapDataset(\n",
    "                data=ParquetDataset(\n",
    "                    i_filters=[SeqLenFilter(min_seq_len=30), FeatureFilter()],\n",
    "                    data_files=parquet_file_scan(file_path='train_agg_without_last.parquet',\n",
    "                                                 valid_rate=0,\n",
    "                                                 return_part='train')\n",
    "                )\n",
    "            ),\n",
    "            f_augmentations=[ptls.data_load.augmentations.DropoutTrx(trx_dropout=0.01)]\n",
    "        )\n",
    "    ),\n",
    "train_batch_size=256,\n",
    "train_num_workers=8,\n",
    ")"
   ]
  },
  {
   "cell_type": "markdown",
   "id": "30e8e891",
   "metadata": {},
   "source": [
    "# <font size=\"5\">Load config & model</font>"
   ]
  },
  {
   "cell_type": "code",
   "execution_count": 5,
   "id": "f12697a3",
   "metadata": {},
   "outputs": [],
   "source": [
    "from omegaconf import OmegaConf\n",
    "conf = OmegaConf.load('cpc.yaml')"
   ]
  },
  {
   "cell_type": "code",
   "execution_count": 6,
   "id": "a003ffe5",
   "metadata": {},
   "outputs": [
    {
     "name": "stdout",
     "output_type": "stream",
     "text": [
      "_target_: ptls.frames.PtlsDataModule\n",
      "train_data:\n",
      "  _target_: ptls.frames.cpc.CpcIterableDataset\n",
      "  min_len: 600\n",
      "  max_len: 800\n",
      "  data: ${dataset_unsupervised.train}\n",
      "valid_data:\n",
      "  _target_: ptls.frames.cpc.CpcIterableDataset\n",
      "  min_len: 600\n",
      "  max_len: 800\n",
      "  data: ${dataset_unsupervised.valid}\n",
      "train_batch_size: 256\n",
      "train_num_workers: 8\n",
      "valid_batch_size: 256\n",
      "valid_num_workers: 16\n",
      "\n"
     ]
    }
   ],
   "source": [
    "print(OmegaConf.to_yaml(conf.data_module))"
   ]
  },
  {
   "cell_type": "code",
   "execution_count": 7,
   "id": "801ddbff",
   "metadata": {},
   "outputs": [],
   "source": [
    "import hydra\n",
    "model = hydra.utils.instantiate(conf.pl_module)"
   ]
  },
  {
   "cell_type": "markdown",
   "id": "6696d08e",
   "metadata": {},
   "source": [
    "# <font size=\"5\">training</font>"
   ]
  },
  {
   "cell_type": "code",
   "execution_count": 8,
   "id": "257af63f",
   "metadata": {},
   "outputs": [
    {
     "name": "stdout",
     "output_type": "stream",
     "text": [
      "gpus: 1\n",
      "auto_select_gpus: false\n",
      "max_epochs: 15\n",
      "deterministic: true\n",
      "\n"
     ]
    }
   ],
   "source": [
    "trainer_params = conf.trainer\n",
    "trainer_params['max_epochs'] = 15\n",
    "print(OmegaConf.to_yaml(trainer_params))"
   ]
  },
  {
   "cell_type": "code",
   "execution_count": 9,
   "id": "02aa1505",
   "metadata": {},
   "outputs": [],
   "source": [
    "import pytorch_lightning as pl\n",
    "from pytorch_lightning.callbacks import LearningRateMonitor\n",
    "from pytorch_lightning.callbacks import ModelCheckpoint\n",
    "from pytorch_lightning.loggers import TensorBoardLogger\n",
    "\n",
    "trainer_params = conf.trainer\n",
    "logger = TensorBoardLogger('src/ptls-experiments/scenario_alpha_battle/lightning_logs',\n",
    "                           name='coles-baseline-alpha-battle')\n",
    "trainer = pl.Trainer(**trainer_params, logger=logger)"
   ]
  },
  {
   "cell_type": "code",
   "execution_count": 10,
   "id": "1d3aaa14",
   "metadata": {},
   "outputs": [
    {
     "name": "stdout",
     "output_type": "stream",
     "text": [
      "logger.version = 17\n"
     ]
    },
    {
     "data": {
      "application/vnd.jupyter.widget-view+json": {
       "model_id": "76fa42c16c3d4ebb9b6b7e2d90071eb3",
       "version_major": 2,
       "version_minor": 0
      },
      "text/plain": [
       "Training: 0it [00:00, ?it/s]"
      ]
     },
     "metadata": {},
     "output_type": "display_data"
    },
    {
     "name": "stdout",
     "output_type": "stream",
     "text": [
      "{'loss': tensor(3.1582), 'seq_len': tensor(39.6306)}\n",
      "CPU times: user 56min 19s, sys: 34min 11s, total: 1h 30min 31s\n",
      "Wall time: 1h 25min 42s\n"
     ]
    }
   ],
   "source": [
    "%%time\n",
    "print(f'logger.version = {trainer.logger.version}')\n",
    "trainer.fit(model, data_module)\n",
    "print(trainer.logged_metrics)"
   ]
  },
  {
   "cell_type": "markdown",
   "id": "29cb89ed",
   "metadata": {},
   "source": [
    "# <font size=\"5\">save model</font>"
   ]
  },
  {
   "cell_type": "code",
   "execution_count": 11,
   "id": "662204e2",
   "metadata": {},
   "outputs": [],
   "source": [
    "torch.save(model.state_dict(), \"models_alpha_battle/cpc_pretrain_without_last.pth\")"
   ]
  }
 ],
 "metadata": {
  "kernelspec": {
   "display_name": "ptls-experiments",
   "language": "python",
   "name": "ptls-experiments"
  },
  "language_info": {
   "codemirror_mode": {
    "name": "ipython",
    "version": 3
   },
   "file_extension": ".py",
   "mimetype": "text/x-python",
   "name": "python",
   "nbconvert_exporter": "python",
   "pygments_lexer": "ipython3",
   "version": "3.8.18"
  }
 },
 "nbformat": 4,
 "nbformat_minor": 5
}
