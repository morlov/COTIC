{
 "cells": [
  {
   "cell_type": "markdown",
   "id": "9e735ce9",
   "metadata": {},
   "source": [
    "# <font size=\"6\">Libraries</font>"
   ]
  },
  {
   "cell_type": "code",
   "execution_count": 1,
   "id": "7aa21e91",
   "metadata": {},
   "outputs": [],
   "source": [
    "import pandas as pd\n",
    "import numpy as np"
   ]
  },
  {
   "cell_type": "markdown",
   "id": "abaef99e",
   "metadata": {},
   "source": [
    "# <font size=\"5\">dataset</font>"
   ]
  },
  {
   "cell_type": "code",
   "execution_count": 2,
   "id": "67ed5619",
   "metadata": {},
   "outputs": [],
   "source": [
    "train_df = pd.read_parquet('data/train.parquet').drop(columns=['transaction_number',\n",
    "                                                               'reversed_transaction', \n",
    "                                                               'transaction_max',\n",
    "                                                               'time'])\n",
    "\n",
    "valid_df = pd.read_parquet('data/valid.parquet').drop(columns=['transaction_number',\n",
    "                                                               'reversed_transaction', \n",
    "                                                               'transaction_max',\n",
    "                                                               'time'])"
   ]
  },
  {
   "cell_type": "code",
   "execution_count": 3,
   "id": "3e23228b",
   "metadata": {},
   "outputs": [],
   "source": [
    "train_df['mcc_next'] = train_df.groupby(['app_id'])['mcc'].shift(-1)\n",
    "train_df['amnt_next'] = train_df.groupby(['app_id'])['amnt'].shift(-1)\n",
    "train_df['hour_diff_next'] = train_df.groupby(['app_id'])['hour_diff'].shift(-1)\n",
    "train_df['amnt_bins_next'] = train_df.groupby(['app_id'])['amnt_bins'].shift(-1)\n",
    "train_df['amnt_mcc_bins_next'] = train_df.groupby(['app_id'])['amnt_mcc_bins'].shift(-1)\n",
    "\n",
    "valid_df['mcc_next'] = valid_df.groupby(['app_id'])['mcc'].shift(-1)\n",
    "valid_df['amnt_next'] = valid_df.groupby(['app_id'])['amnt'].shift(-1)\n",
    "valid_df['hour_diff_next'] = valid_df.groupby(['app_id'])['hour_diff'].shift(-1)\n",
    "valid_df['amnt_bins_next'] = valid_df.groupby(['app_id'])['amnt_bins'].shift(-1)\n",
    "valid_df['amnt_mcc_bins_next'] = valid_df.groupby(['app_id'])['amnt_mcc_bins'].shift(-1)"
   ]
  },
  {
   "cell_type": "code",
   "execution_count": 4,
   "id": "b690df87",
   "metadata": {},
   "outputs": [],
   "source": [
    "last_transactions_train = train_df.groupby('app_id').tail(1)\n",
    "\n",
    "train_df = train_df.drop(last_transactions_train.index)\n",
    "\n",
    "train_df = train_df.dropna()"
   ]
  },
  {
   "cell_type": "code",
   "execution_count": 5,
   "id": "b6d40ac7",
   "metadata": {},
   "outputs": [],
   "source": [
    "first_transactions_valid = valid_df.groupby('app_id').head(1)\n",
    "first_transactions_valid = first_transactions_valid.dropna()"
   ]
  },
  {
   "cell_type": "markdown",
   "id": "e329f605",
   "metadata": {},
   "source": [
    "# <font size=\"6\">Markov Chain Model</font>"
   ]
  },
  {
   "cell_type": "code",
   "execution_count": 15,
   "id": "aa657cd0",
   "metadata": {},
   "outputs": [],
   "source": [
    "class MarkovChainModel():\n",
    "    def __init__(self, dataset, user_id_column='app_id'):\n",
    "        self.dataset = dataset\n",
    "        self.user_id_column = user_id_column\n",
    "        \n",
    "        self.transition_matrix = self.build_transition_matrix()\n",
    "\n",
    "    def forward(self, _type):\n",
    "        return self.transition_matrix[_type]\n",
    "                \n",
    "    def build_transition_matrix(self):\n",
    "        self.dataset['amnt_mcc_bins_shift'] = self.dataset.groupby(self.user_id_column)['amnt_mcc_bins'].shift(-1)\n",
    "        transition_matrix = self.dataset.groupby('amnt_mcc_bins')['amnt_mcc_bins_shift'].apply(lambda x: x.mode().iloc[0] if not x.mode().empty else None).to_dict()\n",
    "\n",
    "        return transition_matrix\n",
    "    \n",
    "markov_model = MarkovChainModel(train_df)"
   ]
  },
  {
   "cell_type": "code",
   "execution_count": 25,
   "id": "6c4c91c8",
   "metadata": {},
   "outputs": [
    {
     "name": "stdout",
     "output_type": "stream",
     "text": [
      "CPU times: user 23.4 s, sys: 17.8 ms, total: 23.4 s\n",
      "Wall time: 23.4 s\n"
     ]
    }
   ],
   "source": [
    "%%time\n",
    "    \n",
    "predicted_types = []\n",
    "    \n",
    "for _, last_transaction in last_transactions_train.iterrows():\n",
    "    user_id = last_transaction['app_id']\n",
    "    last_type = last_transaction['amnt_mcc_bins']\n",
    "    \n",
    "    predicted_type = markov_model.forward(last_type)\n",
    "    \n",
    "    predicted_types.append(predicted_type)"
   ]
  },
  {
   "cell_type": "code",
   "execution_count": 26,
   "id": "f9ac1f51",
   "metadata": {},
   "outputs": [],
   "source": [
    "predicted_types_df = pd.DataFrame({\"app_id\": last_transactions_train['app_id'].values,\n",
    "                                'pred_type': predicted_types})"
   ]
  },
  {
   "cell_type": "code",
   "execution_count": 28,
   "id": "bad2e63a",
   "metadata": {},
   "outputs": [],
   "source": [
    "dataframe = predicted_types_df.merge(first_transactions_valid, on='app_id', how='inner')"
   ]
  },
  {
   "cell_type": "code",
   "execution_count": 29,
   "id": "46940e9c",
   "metadata": {},
   "outputs": [],
   "source": [
    "dataframe['pred_mcc'] = (dataframe['pred_type'] - 1) // 4 + 1\n",
    "dataframe['pred_amnt'] = (dataframe['pred_type'] - 1) % 4"
   ]
  },
  {
   "cell_type": "markdown",
   "id": "8a66426a",
   "metadata": {},
   "source": [
    "# <font size=\"6\">Metrics</font>"
   ]
  },
  {
   "cell_type": "code",
   "execution_count": 30,
   "id": "2c0bf287",
   "metadata": {},
   "outputs": [
    {
     "name": "stdout",
     "output_type": "stream",
     "text": [
      "Type accuracy: 0.20407110305928056\n",
      "Amnt accuracy: 0.5350449180082926\n",
      "MCC accuracy: 0.31523616973590823\n"
     ]
    }
   ],
   "source": [
    "from sklearn.metrics import mean_absolute_error, accuracy_score\n",
    "\n",
    "print('Type accuracy:', accuracy_score(dataframe['amnt_mcc_bins'], dataframe['pred_type']))\n",
    "print('Amnt accuracy:', accuracy_score(dataframe['amnt_bins'], dataframe['pred_amnt']))\n",
    "print('MCC accuracy:', accuracy_score(dataframe['mcc'], dataframe['pred_mcc']))"
   ]
  }
 ],
 "metadata": {
  "kernelspec": {
   "display_name": "Python 3 (ipykernel)",
   "language": "python",
   "name": "python3"
  },
  "language_info": {
   "codemirror_mode": {
    "name": "ipython",
    "version": 3
   },
   "file_extension": ".py",
   "mimetype": "text/x-python",
   "name": "python",
   "nbconvert_exporter": "python",
   "pygments_lexer": "ipython3",
   "version": "3.7.12"
  }
 },
 "nbformat": 4,
 "nbformat_minor": 5
}
