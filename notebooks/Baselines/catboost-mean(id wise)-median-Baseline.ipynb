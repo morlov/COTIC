{
 "cells": [
  {
   "cell_type": "markdown",
   "id": "78575de1",
   "metadata": {},
   "source": [
    "# <font size=\"6\">Libraries</font>"
   ]
  },
  {
   "cell_type": "code",
   "execution_count": 22,
   "id": "0ba7b65a",
   "metadata": {},
   "outputs": [],
   "source": [
    "import pandas as pd\n",
    "import numpy as np\n",
    "import matplotlib.pyplot as plt"
   ]
  },
  {
   "cell_type": "markdown",
   "id": "69657f27",
   "metadata": {},
   "source": [
    "# <font size=\"5\">dataset</font>"
   ]
  },
  {
   "cell_type": "code",
   "execution_count": 23,
   "id": "5c0a2259",
   "metadata": {},
   "outputs": [],
   "source": [
    "train_df = pd.read_parquet('data/train.parquet').drop(columns=['transaction_number',\n",
    "                                                               'reversed_transaction', \n",
    "                                                               'transaction_max',\n",
    "                                                               'time'])\n",
    "\n",
    "valid_df = pd.read_parquet('data/valid.parquet').drop(columns=['transaction_number',\n",
    "                                                               'reversed_transaction', \n",
    "                                                               'transaction_max',\n",
    "                                                               'time'])"
   ]
  },
  {
   "cell_type": "code",
   "execution_count": 24,
   "id": "fae6d142",
   "metadata": {},
   "outputs": [
    {
     "data": {
      "text/plain": [
       "(430309, 429711)"
      ]
     },
     "execution_count": 24,
     "metadata": {},
     "output_type": "execute_result"
    }
   ],
   "source": [
    "len(np.unique(train_df['app_id'])), len(np.unique(valid_df['app_id']))"
   ]
  },
  {
   "cell_type": "code",
   "execution_count": 25,
   "id": "35fb8de8",
   "metadata": {
    "scrolled": true
   },
   "outputs": [
    {
     "data": {
      "text/html": [
       "<div>\n",
       "<style scoped>\n",
       "    .dataframe tbody tr th:only-of-type {\n",
       "        vertical-align: middle;\n",
       "    }\n",
       "\n",
       "    .dataframe tbody tr th {\n",
       "        vertical-align: top;\n",
       "    }\n",
       "\n",
       "    .dataframe thead th {\n",
       "        text-align: right;\n",
       "    }\n",
       "</style>\n",
       "<table border=\"1\" class=\"dataframe\">\n",
       "  <thead>\n",
       "    <tr style=\"text-align: right;\">\n",
       "      <th></th>\n",
       "      <th>app_id</th>\n",
       "      <th>amnt</th>\n",
       "      <th>mcc</th>\n",
       "      <th>hour_diff</th>\n",
       "      <th>amnt_bins</th>\n",
       "      <th>amnt_mcc_bins</th>\n",
       "    </tr>\n",
       "  </thead>\n",
       "  <tbody>\n",
       "    <tr>\n",
       "      <th>0</th>\n",
       "      <td>0</td>\n",
       "      <td>0.465425</td>\n",
       "      <td>2</td>\n",
       "      <td>-1</td>\n",
       "      <td>3</td>\n",
       "      <td>8</td>\n",
       "    </tr>\n",
       "    <tr>\n",
       "      <th>1</th>\n",
       "      <td>0</td>\n",
       "      <td>0.000000</td>\n",
       "      <td>2</td>\n",
       "      <td>0</td>\n",
       "      <td>0</td>\n",
       "      <td>5</td>\n",
       "    </tr>\n",
       "    <tr>\n",
       "      <th>2</th>\n",
       "      <td>0</td>\n",
       "      <td>0.521152</td>\n",
       "      <td>2</td>\n",
       "      <td>0</td>\n",
       "      <td>3</td>\n",
       "      <td>8</td>\n",
       "    </tr>\n",
       "    <tr>\n",
       "      <th>3</th>\n",
       "      <td>0</td>\n",
       "      <td>0.356078</td>\n",
       "      <td>10</td>\n",
       "      <td>52</td>\n",
       "      <td>3</td>\n",
       "      <td>40</td>\n",
       "    </tr>\n",
       "    <tr>\n",
       "      <th>4</th>\n",
       "      <td>0</td>\n",
       "      <td>0.000000</td>\n",
       "      <td>2</td>\n",
       "      <td>280</td>\n",
       "      <td>0</td>\n",
       "      <td>5</td>\n",
       "    </tr>\n",
       "    <tr>\n",
       "      <th>...</th>\n",
       "      <td>...</td>\n",
       "      <td>...</td>\n",
       "      <td>...</td>\n",
       "      <td>...</td>\n",
       "      <td>...</td>\n",
       "      <td>...</td>\n",
       "    </tr>\n",
       "    <tr>\n",
       "      <th>95046144</th>\n",
       "      <td>1003049</td>\n",
       "      <td>0.227264</td>\n",
       "      <td>108</td>\n",
       "      <td>0</td>\n",
       "      <td>0</td>\n",
       "      <td>429</td>\n",
       "    </tr>\n",
       "    <tr>\n",
       "      <th>95046145</th>\n",
       "      <td>1003049</td>\n",
       "      <td>0.387565</td>\n",
       "      <td>57</td>\n",
       "      <td>0</td>\n",
       "      <td>3</td>\n",
       "      <td>228</td>\n",
       "    </tr>\n",
       "    <tr>\n",
       "      <th>95046146</th>\n",
       "      <td>1003049</td>\n",
       "      <td>0.273395</td>\n",
       "      <td>1</td>\n",
       "      <td>1</td>\n",
       "      <td>0</td>\n",
       "      <td>1</td>\n",
       "    </tr>\n",
       "    <tr>\n",
       "      <th>95046147</th>\n",
       "      <td>1003049</td>\n",
       "      <td>0.258972</td>\n",
       "      <td>2</td>\n",
       "      <td>19</td>\n",
       "      <td>0</td>\n",
       "      <td>5</td>\n",
       "    </tr>\n",
       "    <tr>\n",
       "      <th>95046148</th>\n",
       "      <td>1003049</td>\n",
       "      <td>0.387677</td>\n",
       "      <td>2</td>\n",
       "      <td>243</td>\n",
       "      <td>3</td>\n",
       "      <td>8</td>\n",
       "    </tr>\n",
       "  </tbody>\n",
       "</table>\n",
       "<p>95046149 rows × 6 columns</p>\n",
       "</div>"
      ],
      "text/plain": [
       "           app_id      amnt  mcc  hour_diff  amnt_bins  amnt_mcc_bins\n",
       "0               0  0.465425    2         -1          3              8\n",
       "1               0  0.000000    2          0          0              5\n",
       "2               0  0.521152    2          0          3              8\n",
       "3               0  0.356078   10         52          3             40\n",
       "4               0  0.000000    2        280          0              5\n",
       "...           ...       ...  ...        ...        ...            ...\n",
       "95046144  1003049  0.227264  108          0          0            429\n",
       "95046145  1003049  0.387565   57          0          3            228\n",
       "95046146  1003049  0.273395    1          1          0              1\n",
       "95046147  1003049  0.258972    2         19          0              5\n",
       "95046148  1003049  0.387677    2        243          3              8\n",
       "\n",
       "[95046149 rows x 6 columns]"
      ]
     },
     "execution_count": 25,
     "metadata": {},
     "output_type": "execute_result"
    }
   ],
   "source": [
    "train_df"
   ]
  },
  {
   "cell_type": "code",
   "execution_count": 26,
   "id": "baea65ec",
   "metadata": {},
   "outputs": [],
   "source": [
    "train_df['mcc_next'] = train_df.groupby(['app_id'])['mcc'].shift(-1)\n",
    "train_df['amnt_next'] = train_df.groupby(['app_id'])['amnt'].shift(-1)\n",
    "train_df['hour_diff_next'] = train_df.groupby(['app_id'])['hour_diff'].shift(-1)\n",
    "train_df['amnt_bins_next'] = train_df.groupby(['app_id'])['amnt_bins'].shift(-1)\n",
    "train_df['amnt_mcc_bins_next'] = train_df.groupby(['app_id'])['amnt_mcc_bins'].shift(-1)\n",
    "\n",
    "valid_df['mcc_next'] = valid_df.groupby(['app_id'])['mcc'].shift(-1)\n",
    "valid_df['amnt_next'] = valid_df.groupby(['app_id'])['amnt'].shift(-1)\n",
    "valid_df['hour_diff_next'] = valid_df.groupby(['app_id'])['hour_diff'].shift(-1)\n",
    "valid_df['amnt_bins_next'] = valid_df.groupby(['app_id'])['amnt_bins'].shift(-1)\n",
    "valid_df['amnt_mcc_bins_next'] = valid_df.groupby(['app_id'])['amnt_mcc_bins'].shift(-1)"
   ]
  },
  {
   "cell_type": "code",
   "execution_count": 27,
   "id": "2c2c614b",
   "metadata": {},
   "outputs": [],
   "source": [
    "last_transactions_train = train_df.groupby('app_id').tail(1)\n",
    "\n",
    "first_transactions_valid = valid_df.groupby('app_id').head(1)\n",
    "first_transactions_valid = first_transactions_valid.dropna()"
   ]
  },
  {
   "cell_type": "markdown",
   "id": "794ae11d",
   "metadata": {},
   "source": [
    "# <font size=\"6\">Catboost [MCC, amount] -> hour_diff</font>"
   ]
  },
  {
   "cell_type": "code",
   "execution_count": 27,
   "id": "5ae3fd13",
   "metadata": {},
   "outputs": [],
   "source": [
    "train_df = train_df.dropna()\n",
    "valid_df = valid_df.dropna()"
   ]
  },
  {
   "cell_type": "code",
   "execution_count": 29,
   "id": "e5adf2c8",
   "metadata": {},
   "outputs": [
    {
     "name": "stderr",
     "output_type": "stream",
     "text": [
      "Default metric period is 5 because MAE is/are not implemented for GPU\n"
     ]
    },
    {
     "name": "stdout",
     "output_type": "stream",
     "text": [
      "0:\tlearn: 25.9005792\ttotal: 637ms\tremaining: 21m 14s\n",
      "100:\tlearn: 25.7599056\ttotal: 1m 3s\tremaining: 19m 52s\n",
      "200:\tlearn: 25.6458369\ttotal: 2m 6s\tremaining: 18m 53s\n",
      "300:\tlearn: 25.5566117\ttotal: 3m 9s\tremaining: 17m 49s\n",
      "400:\tlearn: 25.4897382\ttotal: 4m 11s\tremaining: 16m 42s\n",
      "500:\tlearn: 25.4397292\ttotal: 5m 12s\tremaining: 15m 34s\n",
      "600:\tlearn: 25.4022826\ttotal: 6m 17s\tremaining: 14m 38s\n",
      "700:\tlearn: 25.3733886\ttotal: 7m 22s\tremaining: 13m 39s\n",
      "800:\tlearn: 25.3509315\ttotal: 8m 30s\tremaining: 12m 44s\n",
      "900:\tlearn: 25.3327710\ttotal: 9m 38s\tremaining: 11m 46s\n",
      "1000:\tlearn: 25.3187637\ttotal: 10m 50s\tremaining: 10m 49s\n",
      "1100:\tlearn: 25.3062824\ttotal: 12m 1s\tremaining: 9m 48s\n",
      "1200:\tlearn: 25.2954841\ttotal: 13m 13s\tremaining: 8m 48s\n",
      "1300:\tlearn: 25.2865472\ttotal: 14m 31s\tremaining: 7m 47s\n",
      "1400:\tlearn: 25.2782408\ttotal: 15m 52s\tremaining: 6m 47s\n",
      "1500:\tlearn: 25.2709219\ttotal: 17m 16s\tremaining: 5m 44s\n",
      "1600:\tlearn: 25.2647340\ttotal: 18m 43s\tremaining: 4m 39s\n",
      "1700:\tlearn: 25.2592307\ttotal: 20m 10s\tremaining: 3m 32s\n",
      "1800:\tlearn: 25.2541169\ttotal: 21m 36s\tremaining: 2m 23s\n",
      "1900:\tlearn: 25.2491358\ttotal: 23m\tremaining: 1m 11s\n",
      "1999:\tlearn: 25.2446904\ttotal: 24m 23s\tremaining: 0us\n"
     ]
    },
    {
     "data": {
      "text/plain": [
       "<catboost.core.CatBoostRegressor at 0x7fe377696990>"
      ]
     },
     "execution_count": 29,
     "metadata": {},
     "output_type": "execute_result"
    }
   ],
   "source": [
    "import catboost\n",
    "from catboost import CatBoostRegressor\n",
    "\n",
    "regressor = CatBoostRegressor(\n",
    "    learning_rate=1e-1,\n",
    "    iterations=2000,\n",
    "    depth=2,\n",
    "    verbose=100,\n",
    "    task_type='GPU',\n",
    "    loss_function='MAE',\n",
    "    eval_metric='MAE',\n",
    "    early_stopping_rounds=100\n",
    ")\n",
    "\n",
    "regressor.fit(train_df[['amnt', 'mcc', 'hour_diff', 'amnt_bins', 'amnt_mcc_bins']],\n",
    "              train_df['hour_diff_next'])"
   ]
  },
  {
   "cell_type": "code",
   "execution_count": 34,
   "id": "500bbc66",
   "metadata": {},
   "outputs": [],
   "source": [
    "predicted_times = regressor.predict(last_transactions_train[['amnt',\n",
    "                                                       'mcc', \n",
    "                                                       'hour_diff',\n",
    "                                                       'amnt_bins',\n",
    "                                                       'amnt_mcc_bins']].values.reshape(-1, 5))\n",
    "\n",
    "predicted_times = pd.DataFrame({'app_id': last_transactions_train['app_id'].values, 'time_pred': predicted_times})"
   ]
  },
  {
   "cell_type": "code",
   "execution_count": 35,
   "id": "00f69bc6",
   "metadata": {},
   "outputs": [],
   "source": [
    "dataframe = predicted_times.merge(first_transactions_valid, on='app_id', how='inner')"
   ]
  },
  {
   "cell_type": "code",
   "execution_count": 36,
   "id": "91627e7d",
   "metadata": {},
   "outputs": [
    {
     "name": "stdout",
     "output_type": "stream",
     "text": [
      "Time MAE: 30.785762689699595\n"
     ]
    }
   ],
   "source": [
    "from sklearn.metrics import mean_absolute_error, accuracy_score\n",
    "\n",
    "print('Time MAE:', mean_absolute_error(dataframe['hour_diff_next'], dataframe['time_pred']))"
   ]
  },
  {
   "cell_type": "markdown",
   "id": "74b29d5c",
   "metadata": {},
   "source": [
    "# <font size=\"6\">Linear regression [MCC, amnt] -> hour_diff </font>"
   ]
  },
  {
   "cell_type": "code",
   "execution_count": 7,
   "id": "dfe6b9df",
   "metadata": {
    "scrolled": false
   },
   "outputs": [
    {
     "data": {
      "text/plain": [
       "32.944784001344736"
      ]
     },
     "execution_count": 7,
     "metadata": {},
     "output_type": "execute_result"
    }
   ],
   "source": [
    "first_transactions_valid['hour_diff'].mean()"
   ]
  },
  {
   "cell_type": "code",
   "execution_count": 169,
   "id": "f9c43984",
   "metadata": {},
   "outputs": [
    {
     "name": "stderr",
     "output_type": "stream",
     "text": [
      "/home/user/conda/lib/python3.7/site-packages/sklearn/base.py:451: UserWarning: X does not have valid feature names, but LinearRegression was fitted with feature names\n",
      "  \"X does not have valid feature names, but\"\n"
     ]
    }
   ],
   "source": [
    "import sklearn\n",
    "from sklearn.linear_model import LinearRegression\n",
    "\n",
    "regressor = LinearRegression()\n",
    "\n",
    "regressor.fit(train_df[['amnt', 'mcc', 'hour_diff']],\n",
    "              train_df['hour_diff_next'])\n",
    "\n",
    "predicted_times = regressor.predict(last_transactions_train[['amnt', 'mcc', 'hour_diff']].values.reshape(-1, 3))\n",
    "predicted_times = pd.DataFrame({'app_id': last_transactions_train['app_id'].values, 'time_pred': predicted_times})"
   ]
  },
  {
   "cell_type": "code",
   "execution_count": 172,
   "id": "3e701ae8",
   "metadata": {},
   "outputs": [],
   "source": [
    "dataframe = predicted_times.merge(first_transactions_valid, on='app_id', how='inner')"
   ]
  },
  {
   "cell_type": "code",
   "execution_count": 173,
   "id": "b56bc6e2",
   "metadata": {},
   "outputs": [
    {
     "name": "stdout",
     "output_type": "stream",
     "text": [
      "Time MAE: 34.44031655887703\n"
     ]
    }
   ],
   "source": [
    "from sklearn.metrics import mean_absolute_error, accuracy_score\n",
    "\n",
    "print('Time MAE:', mean_absolute_error(dataframe['hour_diff_next'], dataframe['time_pred']))"
   ]
  },
  {
   "cell_type": "markdown",
   "id": "8c0eb3b4",
   "metadata": {},
   "source": [
    "# <font size=\"6\">Mean time по всему train датасету</font>"
   ]
  },
  {
   "cell_type": "code",
   "execution_count": null,
   "id": "224f2332",
   "metadata": {},
   "outputs": [],
   "source": [
    "train_df['hour_diff'].median()"
   ]
  },
  {
   "cell_type": "code",
   "execution_count": null,
   "id": "60594587",
   "metadata": {},
   "outputs": [],
   "source": [
    "first_transactions_valid['time_pred'] = train_df['hour_diff'].median()\n",
    "\n",
    "from sklearn.metrics import mean_absolute_error, accuracy_score\n",
    "\n",
    "print('Time MAE:', mean_absolute_error(first_transactions_valid['hour_diff'], first_transactions_valid['time_pred']))"
   ]
  },
  {
   "cell_type": "markdown",
   "id": "a842094d",
   "metadata": {},
   "source": [
    "# <font size=\"6\">Mean time по app_id train датасету</font>"
   ]
  },
  {
   "cell_type": "code",
   "execution_count": 18,
   "id": "3941b90e",
   "metadata": {},
   "outputs": [],
   "source": [
    "avg_time = train_df.groupby('app_id')['hour_diff'].median()\n",
    "\n",
    "avg_time = pd.DataFrame({'app_id': avg_time.index, 'hour_diff_pred': avg_time.values})"
   ]
  },
  {
   "cell_type": "code",
   "execution_count": 19,
   "id": "377cf985",
   "metadata": {},
   "outputs": [],
   "source": [
    "dataframe = avg_time.merge(first_transactions_valid, on='app_id', how='inner')"
   ]
  },
  {
   "cell_type": "code",
   "execution_count": 20,
   "id": "7d42584a",
   "metadata": {},
   "outputs": [
    {
     "data": {
      "text/html": [
       "<div>\n",
       "<style scoped>\n",
       "    .dataframe tbody tr th:only-of-type {\n",
       "        vertical-align: middle;\n",
       "    }\n",
       "\n",
       "    .dataframe tbody tr th {\n",
       "        vertical-align: top;\n",
       "    }\n",
       "\n",
       "    .dataframe thead th {\n",
       "        text-align: right;\n",
       "    }\n",
       "</style>\n",
       "<table border=\"1\" class=\"dataframe\">\n",
       "  <thead>\n",
       "    <tr style=\"text-align: right;\">\n",
       "      <th></th>\n",
       "      <th>app_id</th>\n",
       "      <th>hour_diff_pred</th>\n",
       "      <th>amnt</th>\n",
       "      <th>mcc</th>\n",
       "      <th>hour_diff</th>\n",
       "      <th>amnt_bins</th>\n",
       "      <th>amnt_mcc_bins</th>\n",
       "      <th>hour_summed</th>\n",
       "      <th>transaction_min</th>\n",
       "      <th>mcc_next</th>\n",
       "      <th>amnt_next</th>\n",
       "      <th>hour_diff_next</th>\n",
       "      <th>amnt_bins_next</th>\n",
       "      <th>amnt_mcc_bins_next</th>\n",
       "      <th>time_pred</th>\n",
       "    </tr>\n",
       "  </thead>\n",
       "  <tbody>\n",
       "    <tr>\n",
       "      <th>0</th>\n",
       "      <td>0</td>\n",
       "      <td>20.0</td>\n",
       "      <td>0.336345</td>\n",
       "      <td>2</td>\n",
       "      <td>0</td>\n",
       "      <td>2</td>\n",
       "      <td>7</td>\n",
       "      <td>0</td>\n",
       "      <td>132</td>\n",
       "      <td>20.0</td>\n",
       "      <td>0.359050</td>\n",
       "      <td>74.0</td>\n",
       "      <td>3.0</td>\n",
       "      <td>80.0</td>\n",
       "      <td>27.355142</td>\n",
       "    </tr>\n",
       "    <tr>\n",
       "      <th>1</th>\n",
       "      <td>1</td>\n",
       "      <td>12.0</td>\n",
       "      <td>0.439060</td>\n",
       "      <td>2</td>\n",
       "      <td>37</td>\n",
       "      <td>3</td>\n",
       "      <td>8</td>\n",
       "      <td>37</td>\n",
       "      <td>307</td>\n",
       "      <td>1.0</td>\n",
       "      <td>0.323313</td>\n",
       "      <td>0.0</td>\n",
       "      <td>1.0</td>\n",
       "      <td>2.0</td>\n",
       "      <td>27.355142</td>\n",
       "    </tr>\n",
       "    <tr>\n",
       "      <th>2</th>\n",
       "      <td>2</td>\n",
       "      <td>13.0</td>\n",
       "      <td>0.320805</td>\n",
       "      <td>28</td>\n",
       "      <td>156</td>\n",
       "      <td>1</td>\n",
       "      <td>110</td>\n",
       "      <td>156</td>\n",
       "      <td>180</td>\n",
       "      <td>2.0</td>\n",
       "      <td>0.485295</td>\n",
       "      <td>10.0</td>\n",
       "      <td>3.0</td>\n",
       "      <td>8.0</td>\n",
       "      <td>27.355142</td>\n",
       "    </tr>\n",
       "    <tr>\n",
       "      <th>3</th>\n",
       "      <td>4</td>\n",
       "      <td>9.0</td>\n",
       "      <td>0.387677</td>\n",
       "      <td>9</td>\n",
       "      <td>73</td>\n",
       "      <td>3</td>\n",
       "      <td>36</td>\n",
       "      <td>73</td>\n",
       "      <td>68</td>\n",
       "      <td>9.0</td>\n",
       "      <td>0.393020</td>\n",
       "      <td>0.0</td>\n",
       "      <td>3.0</td>\n",
       "      <td>36.0</td>\n",
       "      <td>27.355142</td>\n",
       "    </tr>\n",
       "    <tr>\n",
       "      <th>4</th>\n",
       "      <td>6</td>\n",
       "      <td>1.0</td>\n",
       "      <td>0.411448</td>\n",
       "      <td>58</td>\n",
       "      <td>24</td>\n",
       "      <td>3</td>\n",
       "      <td>232</td>\n",
       "      <td>24</td>\n",
       "      <td>211</td>\n",
       "      <td>8.0</td>\n",
       "      <td>0.384802</td>\n",
       "      <td>1.0</td>\n",
       "      <td>3.0</td>\n",
       "      <td>32.0</td>\n",
       "      <td>27.355142</td>\n",
       "    </tr>\n",
       "    <tr>\n",
       "      <th>...</th>\n",
       "      <td>...</td>\n",
       "      <td>...</td>\n",
       "      <td>...</td>\n",
       "      <td>...</td>\n",
       "      <td>...</td>\n",
       "      <td>...</td>\n",
       "      <td>...</td>\n",
       "      <td>...</td>\n",
       "      <td>...</td>\n",
       "      <td>...</td>\n",
       "      <td>...</td>\n",
       "      <td>...</td>\n",
       "      <td>...</td>\n",
       "      <td>...</td>\n",
       "      <td>...</td>\n",
       "    </tr>\n",
       "    <tr>\n",
       "      <th>428331</th>\n",
       "      <td>1003041</td>\n",
       "      <td>6.0</td>\n",
       "      <td>0.281539</td>\n",
       "      <td>3</td>\n",
       "      <td>17</td>\n",
       "      <td>0</td>\n",
       "      <td>9</td>\n",
       "      <td>17</td>\n",
       "      <td>274</td>\n",
       "      <td>1.0</td>\n",
       "      <td>0.216285</td>\n",
       "      <td>109.0</td>\n",
       "      <td>0.0</td>\n",
       "      <td>1.0</td>\n",
       "      <td>27.355142</td>\n",
       "    </tr>\n",
       "    <tr>\n",
       "      <th>428332</th>\n",
       "      <td>1003044</td>\n",
       "      <td>6.5</td>\n",
       "      <td>0.334992</td>\n",
       "      <td>4</td>\n",
       "      <td>0</td>\n",
       "      <td>2</td>\n",
       "      <td>15</td>\n",
       "      <td>0</td>\n",
       "      <td>211</td>\n",
       "      <td>3.0</td>\n",
       "      <td>0.333474</td>\n",
       "      <td>21.0</td>\n",
       "      <td>2.0</td>\n",
       "      <td>11.0</td>\n",
       "      <td>27.355142</td>\n",
       "    </tr>\n",
       "    <tr>\n",
       "      <th>428333</th>\n",
       "      <td>1003047</td>\n",
       "      <td>5.0</td>\n",
       "      <td>0.516270</td>\n",
       "      <td>15</td>\n",
       "      <td>42</td>\n",
       "      <td>3</td>\n",
       "      <td>60</td>\n",
       "      <td>42</td>\n",
       "      <td>211</td>\n",
       "      <td>15.0</td>\n",
       "      <td>0.498168</td>\n",
       "      <td>0.0</td>\n",
       "      <td>3.0</td>\n",
       "      <td>60.0</td>\n",
       "      <td>27.355142</td>\n",
       "    </tr>\n",
       "    <tr>\n",
       "      <th>428334</th>\n",
       "      <td>1003048</td>\n",
       "      <td>7.0</td>\n",
       "      <td>0.589482</td>\n",
       "      <td>12</td>\n",
       "      <td>143</td>\n",
       "      <td>3</td>\n",
       "      <td>48</td>\n",
       "      <td>143</td>\n",
       "      <td>170</td>\n",
       "      <td>2.0</td>\n",
       "      <td>0.583667</td>\n",
       "      <td>0.0</td>\n",
       "      <td>3.0</td>\n",
       "      <td>8.0</td>\n",
       "      <td>27.355142</td>\n",
       "    </tr>\n",
       "    <tr>\n",
       "      <th>428335</th>\n",
       "      <td>1003049</td>\n",
       "      <td>3.0</td>\n",
       "      <td>0.296461</td>\n",
       "      <td>8</td>\n",
       "      <td>3</td>\n",
       "      <td>0</td>\n",
       "      <td>29</td>\n",
       "      <td>3</td>\n",
       "      <td>60</td>\n",
       "      <td>4.0</td>\n",
       "      <td>0.301106</td>\n",
       "      <td>1.0</td>\n",
       "      <td>0.0</td>\n",
       "      <td>13.0</td>\n",
       "      <td>27.355142</td>\n",
       "    </tr>\n",
       "  </tbody>\n",
       "</table>\n",
       "<p>428336 rows × 15 columns</p>\n",
       "</div>"
      ],
      "text/plain": [
       "         app_id  hour_diff_pred      amnt  mcc  hour_diff  amnt_bins  \\\n",
       "0             0            20.0  0.336345    2          0          2   \n",
       "1             1            12.0  0.439060    2         37          3   \n",
       "2             2            13.0  0.320805   28        156          1   \n",
       "3             4             9.0  0.387677    9         73          3   \n",
       "4             6             1.0  0.411448   58         24          3   \n",
       "...         ...             ...       ...  ...        ...        ...   \n",
       "428331  1003041             6.0  0.281539    3         17          0   \n",
       "428332  1003044             6.5  0.334992    4          0          2   \n",
       "428333  1003047             5.0  0.516270   15         42          3   \n",
       "428334  1003048             7.0  0.589482   12        143          3   \n",
       "428335  1003049             3.0  0.296461    8          3          0   \n",
       "\n",
       "        amnt_mcc_bins  hour_summed  transaction_min  mcc_next  amnt_next  \\\n",
       "0                   7            0              132      20.0   0.359050   \n",
       "1                   8           37              307       1.0   0.323313   \n",
       "2                 110          156              180       2.0   0.485295   \n",
       "3                  36           73               68       9.0   0.393020   \n",
       "4                 232           24              211       8.0   0.384802   \n",
       "...               ...          ...              ...       ...        ...   \n",
       "428331              9           17              274       1.0   0.216285   \n",
       "428332             15            0              211       3.0   0.333474   \n",
       "428333             60           42              211      15.0   0.498168   \n",
       "428334             48          143              170       2.0   0.583667   \n",
       "428335             29            3               60       4.0   0.301106   \n",
       "\n",
       "        hour_diff_next  amnt_bins_next  amnt_mcc_bins_next  time_pred  \n",
       "0                 74.0             3.0                80.0  27.355142  \n",
       "1                  0.0             1.0                 2.0  27.355142  \n",
       "2                 10.0             3.0                 8.0  27.355142  \n",
       "3                  0.0             3.0                36.0  27.355142  \n",
       "4                  1.0             3.0                32.0  27.355142  \n",
       "...                ...             ...                 ...        ...  \n",
       "428331           109.0             0.0                 1.0  27.355142  \n",
       "428332            21.0             2.0                11.0  27.355142  \n",
       "428333             0.0             3.0                60.0  27.355142  \n",
       "428334             0.0             3.0                 8.0  27.355142  \n",
       "428335             1.0             0.0                13.0  27.355142  \n",
       "\n",
       "[428336 rows x 15 columns]"
      ]
     },
     "execution_count": 20,
     "metadata": {},
     "output_type": "execute_result"
    }
   ],
   "source": [
    "dataframe"
   ]
  },
  {
   "cell_type": "code",
   "execution_count": 21,
   "id": "7642f46d",
   "metadata": {},
   "outputs": [
    {
     "name": "stdout",
     "output_type": "stream",
     "text": [
      "Time MAE: 30.397406475290428\n"
     ]
    }
   ],
   "source": [
    "from sklearn.metrics import mean_absolute_error, accuracy_score\n",
    "\n",
    "print('Time MAE:', mean_absolute_error(dataframe['hour_diff_pred'], dataframe['hour_diff_next']))"
   ]
  }
 ],
 "metadata": {
  "kernelspec": {
   "display_name": "Python 3 (ipykernel)",
   "language": "python",
   "name": "python3"
  },
  "language_info": {
   "codemirror_mode": {
    "name": "ipython",
    "version": 3
   },
   "file_extension": ".py",
   "mimetype": "text/x-python",
   "name": "python",
   "nbconvert_exporter": "python",
   "pygments_lexer": "ipython3",
   "version": "3.7.12"
  }
 },
 "nbformat": 4,
 "nbformat_minor": 5
}
