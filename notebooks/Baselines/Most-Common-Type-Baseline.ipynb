{
 "cells": [
  {
   "cell_type": "markdown",
   "id": "50c644e9",
   "metadata": {},
   "source": [
    "# <font size=\"6\">Libraries</font>"
   ]
  },
  {
   "cell_type": "code",
   "execution_count": 1,
   "id": "1f0cf2a5",
   "metadata": {},
   "outputs": [],
   "source": [
    "import pandas as pd\n",
    "import numpy as np"
   ]
  },
  {
   "cell_type": "markdown",
   "id": "82225205",
   "metadata": {},
   "source": [
    "# <font size=\"6\">dataset</font>"
   ]
  },
  {
   "cell_type": "code",
   "execution_count": 2,
   "id": "1ae81437",
   "metadata": {},
   "outputs": [],
   "source": [
    "train_df = pd.read_parquet('data/train.parquet').drop(columns=['transaction_number',\n",
    "                                                               'reversed_transaction', \n",
    "                                                               'transaction_max',\n",
    "                                                               'time'])\n",
    "\n",
    "valid_df = pd.read_parquet('data/valid.parquet').drop(columns=['transaction_number',\n",
    "                                                               'reversed_transaction', \n",
    "                                                               'transaction_max',\n",
    "                                                               'time'])"
   ]
  },
  {
   "cell_type": "code",
   "execution_count": 3,
   "id": "526d5d44",
   "metadata": {},
   "outputs": [
    {
     "data": {
      "text/html": [
       "<div>\n",
       "<style scoped>\n",
       "    .dataframe tbody tr th:only-of-type {\n",
       "        vertical-align: middle;\n",
       "    }\n",
       "\n",
       "    .dataframe tbody tr th {\n",
       "        vertical-align: top;\n",
       "    }\n",
       "\n",
       "    .dataframe thead th {\n",
       "        text-align: right;\n",
       "    }\n",
       "</style>\n",
       "<table border=\"1\" class=\"dataframe\">\n",
       "  <thead>\n",
       "    <tr style=\"text-align: right;\">\n",
       "      <th></th>\n",
       "      <th>app_id</th>\n",
       "      <th>amnt</th>\n",
       "      <th>mcc</th>\n",
       "      <th>hour_diff</th>\n",
       "      <th>amnt_bins</th>\n",
       "      <th>amnt_mcc_bins</th>\n",
       "      <th>hour_summed</th>\n",
       "      <th>transaction_min</th>\n",
       "    </tr>\n",
       "  </thead>\n",
       "  <tbody>\n",
       "    <tr>\n",
       "      <th>0</th>\n",
       "      <td>0</td>\n",
       "      <td>0.336345</td>\n",
       "      <td>2</td>\n",
       "      <td>0</td>\n",
       "      <td>2</td>\n",
       "      <td>7</td>\n",
       "      <td>0</td>\n",
       "      <td>132</td>\n",
       "    </tr>\n",
       "    <tr>\n",
       "      <th>1</th>\n",
       "      <td>0</td>\n",
       "      <td>0.359050</td>\n",
       "      <td>20</td>\n",
       "      <td>74</td>\n",
       "      <td>3</td>\n",
       "      <td>80</td>\n",
       "      <td>74</td>\n",
       "      <td>132</td>\n",
       "    </tr>\n",
       "    <tr>\n",
       "      <th>2</th>\n",
       "      <td>0</td>\n",
       "      <td>0.383609</td>\n",
       "      <td>9</td>\n",
       "      <td>0</td>\n",
       "      <td>3</td>\n",
       "      <td>36</td>\n",
       "      <td>74</td>\n",
       "      <td>132</td>\n",
       "    </tr>\n",
       "    <tr>\n",
       "      <th>3</th>\n",
       "      <td>0</td>\n",
       "      <td>0.320248</td>\n",
       "      <td>2</td>\n",
       "      <td>23</td>\n",
       "      <td>1</td>\n",
       "      <td>6</td>\n",
       "      <td>97</td>\n",
       "      <td>132</td>\n",
       "    </tr>\n",
       "    <tr>\n",
       "      <th>4</th>\n",
       "      <td>0</td>\n",
       "      <td>0.367687</td>\n",
       "      <td>2</td>\n",
       "      <td>0</td>\n",
       "      <td>3</td>\n",
       "      <td>8</td>\n",
       "      <td>97</td>\n",
       "      <td>132</td>\n",
       "    </tr>\n",
       "    <tr>\n",
       "      <th>...</th>\n",
       "      <td>...</td>\n",
       "      <td>...</td>\n",
       "      <td>...</td>\n",
       "      <td>...</td>\n",
       "      <td>...</td>\n",
       "      <td>...</td>\n",
       "      <td>...</td>\n",
       "      <td>...</td>\n",
       "    </tr>\n",
       "    <tr>\n",
       "      <th>11183192</th>\n",
       "      <td>1003049</td>\n",
       "      <td>0.414108</td>\n",
       "      <td>8</td>\n",
       "      <td>3</td>\n",
       "      <td>3</td>\n",
       "      <td>32</td>\n",
       "      <td>239</td>\n",
       "      <td>60</td>\n",
       "    </tr>\n",
       "    <tr>\n",
       "      <th>11183193</th>\n",
       "      <td>1003049</td>\n",
       "      <td>0.251875</td>\n",
       "      <td>4</td>\n",
       "      <td>23</td>\n",
       "      <td>0</td>\n",
       "      <td>13</td>\n",
       "      <td>262</td>\n",
       "      <td>60</td>\n",
       "    </tr>\n",
       "    <tr>\n",
       "      <th>11183194</th>\n",
       "      <td>1003049</td>\n",
       "      <td>0.344112</td>\n",
       "      <td>1</td>\n",
       "      <td>1</td>\n",
       "      <td>2</td>\n",
       "      <td>3</td>\n",
       "      <td>263</td>\n",
       "      <td>60</td>\n",
       "    </tr>\n",
       "    <tr>\n",
       "      <th>11183195</th>\n",
       "      <td>1003049</td>\n",
       "      <td>0.307540</td>\n",
       "      <td>4</td>\n",
       "      <td>16</td>\n",
       "      <td>1</td>\n",
       "      <td>14</td>\n",
       "      <td>279</td>\n",
       "      <td>60</td>\n",
       "    </tr>\n",
       "    <tr>\n",
       "      <th>11183196</th>\n",
       "      <td>1003049</td>\n",
       "      <td>0.205720</td>\n",
       "      <td>4</td>\n",
       "      <td>0</td>\n",
       "      <td>0</td>\n",
       "      <td>13</td>\n",
       "      <td>279</td>\n",
       "      <td>60</td>\n",
       "    </tr>\n",
       "  </tbody>\n",
       "</table>\n",
       "<p>11183197 rows × 8 columns</p>\n",
       "</div>"
      ],
      "text/plain": [
       "           app_id      amnt  mcc  hour_diff  amnt_bins  amnt_mcc_bins  \\\n",
       "0               0  0.336345    2          0          2              7   \n",
       "1               0  0.359050   20         74          3             80   \n",
       "2               0  0.383609    9          0          3             36   \n",
       "3               0  0.320248    2         23          1              6   \n",
       "4               0  0.367687    2          0          3              8   \n",
       "...           ...       ...  ...        ...        ...            ...   \n",
       "11183192  1003049  0.414108    8          3          3             32   \n",
       "11183193  1003049  0.251875    4         23          0             13   \n",
       "11183194  1003049  0.344112    1          1          2              3   \n",
       "11183195  1003049  0.307540    4         16          1             14   \n",
       "11183196  1003049  0.205720    4          0          0             13   \n",
       "\n",
       "          hour_summed  transaction_min  \n",
       "0                   0              132  \n",
       "1                  74              132  \n",
       "2                  74              132  \n",
       "3                  97              132  \n",
       "4                  97              132  \n",
       "...               ...              ...  \n",
       "11183192          239               60  \n",
       "11183193          262               60  \n",
       "11183194          263               60  \n",
       "11183195          279               60  \n",
       "11183196          279               60  \n",
       "\n",
       "[11183197 rows x 8 columns]"
      ]
     },
     "execution_count": 3,
     "metadata": {},
     "output_type": "execute_result"
    }
   ],
   "source": [
    "valid_df"
   ]
  },
  {
   "cell_type": "code",
   "execution_count": 4,
   "id": "3f86533b",
   "metadata": {},
   "outputs": [
    {
     "data": {
      "text/plain": [
       "1      25674831\n",
       "2      14582198\n",
       "4       6393060\n",
       "3       5704688\n",
       "7       3891901\n",
       "         ...   \n",
       "100       32144\n",
       "103       28461\n",
       "106       26546\n",
       "105       21248\n",
       "91        18953\n",
       "Name: mcc, Length: 108, dtype: int64"
      ]
     },
     "execution_count": 4,
     "metadata": {},
     "output_type": "execute_result"
    }
   ],
   "source": [
    "train_df['mcc'].value_counts()"
   ]
  },
  {
   "cell_type": "code",
   "execution_count": null,
   "id": "4b193714-c340-490c-85c9-822913f3eab7",
   "metadata": {},
   "outputs": [],
   "source": []
  },
  {
   "cell_type": "code",
   "execution_count": 7,
   "id": "3afa3549",
   "metadata": {},
   "outputs": [],
   "source": [
    "train_df['mcc_next'] = train_df.groupby(['app_id'])['mcc'].shift(-1)\n",
    "train_df['amnt_next'] = train_df.groupby(['app_id'])['amnt'].shift(-1)\n",
    "train_df['hour_diff_next'] = train_df.groupby(['app_id'])['hour_diff'].shift(-1)\n",
    "train_df['amnt_bins_next'] = train_df.groupby(['app_id'])['amnt_bins'].shift(-1)\n",
    "train_df['amnt_mcc_bins_next'] = train_df.groupby(['app_id'])['amnt_mcc_bins'].shift(-1)\n",
    "\n",
    "valid_df['mcc_next'] = valid_df.groupby(['app_id'])['mcc'].shift(-1)\n",
    "valid_df['amnt_next'] = valid_df.groupby(['app_id'])['amnt'].shift(-1)\n",
    "valid_df['hour_diff_next'] = valid_df.groupby(['app_id'])['hour_diff'].shift(-1)\n",
    "valid_df['amnt_bins_next'] = valid_df.groupby(['app_id'])['amnt_bins'].shift(-1)\n",
    "valid_df['amnt_mcc_bins_next'] = valid_df.groupby(['app_id'])['amnt_mcc_bins'].shift(-1)"
   ]
  },
  {
   "cell_type": "code",
   "execution_count": 8,
   "id": "e708b15a",
   "metadata": {},
   "outputs": [],
   "source": [
    "last_transactions_train = train_df.groupby('app_id').tail(1)\n",
    "\n",
    "train_df = train_df.drop(last_transactions_train.index)\n",
    "\n",
    "# train_df = train_df.dropna()"
   ]
  },
  {
   "cell_type": "code",
   "execution_count": 14,
   "id": "69978a81",
   "metadata": {},
   "outputs": [],
   "source": [
    "first_transactions_valid = valid_df.groupby('app_id').head(1)\n",
    "# first_transactions_valid = first_transactions_valid.dropna()"
   ]
  },
  {
   "cell_type": "code",
   "execution_count": 31,
   "id": "15242660-ecdf-49ab-afb1-0f337a3e4b15",
   "metadata": {},
   "outputs": [
    {
     "data": {
      "text/plain": [
       "1      1375\n",
       "2      2192\n",
       "3      3215\n",
       "4      4182\n",
       "5      5136\n",
       "6      6034\n",
       "7      7091\n",
       "8      8138\n",
       "9      8680\n",
       "10     9020\n",
       "11     9864\n",
       "12    10178\n",
       "13    10504\n",
       "14    10610\n",
       "15    10876\n",
       "16    10976\n",
       "17    10919\n",
       "18    10995\n",
       "19    10910\n",
       "20    10854\n",
       "21    10784\n",
       "22    10665\n",
       "23    10695\n",
       "24    10567\n",
       "25    10584\n",
       "26    10440\n",
       "27    10341\n",
       "28    10178\n",
       "29    10145\n",
       "30     9845\n",
       "31     9789\n",
       "32     9429\n",
       "33     9413\n",
       "34     9197\n",
       "35     9164\n",
       "36     9192\n",
       "37     9041\n",
       "38     8866\n",
       "39     8512\n",
       "40     8482\n",
       "41     8322\n",
       "42     8024\n",
       "43     7972\n",
       "44     8099\n",
       "45     7820\n",
       "46     7799\n",
       "47     7736\n",
       "48     7993\n",
       "49     8255\n",
       "50      613\n",
       "Name: app_id, dtype: int64"
      ]
     },
     "execution_count": 31,
     "metadata": {},
     "output_type": "execute_result"
    }
   ],
   "source": [
    "# TODO: уточнить как собиралась валидаций, почему так мало юзеров, у кгог 50 транзакций\n",
    "\n",
    "valid_df['app_id'].value_counts().value_counts().sort_index()"
   ]
  },
  {
   "cell_type": "markdown",
   "id": "e70c543b",
   "metadata": {},
   "source": [
    "# <font size=\"6\">Model</font>"
   ]
  },
  {
   "cell_type": "code",
   "execution_count": 32,
   "id": "01806bb8",
   "metadata": {},
   "outputs": [],
   "source": [
    "class MostCommonMCCPredictor:\n",
    "    def __init__(self):\n",
    "        self.most_common_mcc = {}\n",
    "\n",
    "    def fit(self, data):\n",
    "        self.most_common_mcc = data.groupby('app_id')['amnt_mcc_bins'].apply(lambda x: x.mode().iloc[0]).to_dict()\n",
    "        \n",
    "        return self.most_common_mcc\n",
    "\n",
    "    def forward(self, app_id):\n",
    "        \n",
    "        return self.most_common_mcc.get(app_id, None)\n",
    "\n",
    "\n",
    "model = MostCommonMCCPredictor()\n",
    "\n",
    "most_common_mcc = model.fit(train_df)"
   ]
  },
  {
   "cell_type": "code",
   "execution_count": 41,
   "id": "7401c876-4ae0-4276-89c2-332c40ebe250",
   "metadata": {},
   "outputs": [
    {
     "data": {
      "text/plain": [
       "8      0.390050\n",
       "1      0.183817\n",
       "4      0.182776\n",
       "13     0.041238\n",
       "36     0.038984\n",
       "         ...   \n",
       "243    0.000002\n",
       "376    0.000002\n",
       "304    0.000002\n",
       "313    0.000002\n",
       "270    0.000002\n",
       "Length: 309, dtype: float64"
      ]
     },
     "execution_count": 41,
     "metadata": {},
     "output_type": "execute_result"
    }
   ],
   "source": [
    "# по юзеру\n",
    "pd.value_counts(list(most_common_mcc.values()), normalize=True)"
   ]
  },
  {
   "cell_type": "code",
   "execution_count": 43,
   "id": "d6f797a8-340d-43ba-a966-a4cf10c14c2e",
   "metadata": {},
   "outputs": [
    {
     "data": {
      "text/plain": [
       "8      0.141564\n",
       "1      0.101093\n",
       "4      0.097008\n",
       "3      0.037901\n",
       "13     0.036598\n",
       "         ...   \n",
       "341    0.000008\n",
       "318    0.000004\n",
       "317    0.000003\n",
       "319    0.000002\n",
       "312    0.000000\n",
       "Name: amnt_mcc_bins, Length: 430, dtype: float64"
      ]
     },
     "execution_count": 43,
     "metadata": {},
     "output_type": "execute_result"
    }
   ],
   "source": [
    "# по датасету\n",
    "train_df['amnt_mcc_bins'].value_counts(normalize=True).round(6)"
   ]
  },
  {
   "cell_type": "code",
   "execution_count": 45,
   "id": "9352790e-db40-4008-93ea-7e82fe6ec801",
   "metadata": {},
   "outputs": [
    {
     "data": {
      "text/html": [
       "<div>\n",
       "<style scoped>\n",
       "    .dataframe tbody tr th:only-of-type {\n",
       "        vertical-align: middle;\n",
       "    }\n",
       "\n",
       "    .dataframe tbody tr th {\n",
       "        vertical-align: top;\n",
       "    }\n",
       "\n",
       "    .dataframe thead th {\n",
       "        text-align: right;\n",
       "    }\n",
       "</style>\n",
       "<table border=\"1\" class=\"dataframe\">\n",
       "  <thead>\n",
       "    <tr style=\"text-align: right;\">\n",
       "      <th></th>\n",
       "      <th>app_id</th>\n",
       "      <th>amnt</th>\n",
       "      <th>mcc</th>\n",
       "      <th>hour_diff</th>\n",
       "      <th>amnt_bins</th>\n",
       "      <th>amnt_mcc_bins</th>\n",
       "      <th>mcc_next</th>\n",
       "      <th>amnt_next</th>\n",
       "      <th>hour_diff_next</th>\n",
       "      <th>amnt_bins_next</th>\n",
       "      <th>amnt_mcc_bins_next</th>\n",
       "    </tr>\n",
       "  </thead>\n",
       "  <tbody>\n",
       "    <tr>\n",
       "      <th>130</th>\n",
       "      <td>0</td>\n",
       "      <td>0.348838</td>\n",
       "      <td>2</td>\n",
       "      <td>42</td>\n",
       "      <td>3</td>\n",
       "      <td>8</td>\n",
       "      <td>NaN</td>\n",
       "      <td>NaN</td>\n",
       "      <td>NaN</td>\n",
       "      <td>NaN</td>\n",
       "      <td>NaN</td>\n",
       "    </tr>\n",
       "    <tr>\n",
       "      <th>436</th>\n",
       "      <td>1</td>\n",
       "      <td>0.297589</td>\n",
       "      <td>20</td>\n",
       "      <td>4</td>\n",
       "      <td>0</td>\n",
       "      <td>77</td>\n",
       "      <td>NaN</td>\n",
       "      <td>NaN</td>\n",
       "      <td>NaN</td>\n",
       "      <td>NaN</td>\n",
       "      <td>NaN</td>\n",
       "    </tr>\n",
       "    <tr>\n",
       "      <th>615</th>\n",
       "      <td>2</td>\n",
       "      <td>0.402386</td>\n",
       "      <td>2</td>\n",
       "      <td>31</td>\n",
       "      <td>3</td>\n",
       "      <td>8</td>\n",
       "      <td>NaN</td>\n",
       "      <td>NaN</td>\n",
       "      <td>NaN</td>\n",
       "      <td>NaN</td>\n",
       "      <td>NaN</td>\n",
       "    </tr>\n",
       "    <tr>\n",
       "      <th>682</th>\n",
       "      <td>4</td>\n",
       "      <td>0.621777</td>\n",
       "      <td>9</td>\n",
       "      <td>26</td>\n",
       "      <td>3</td>\n",
       "      <td>36</td>\n",
       "      <td>NaN</td>\n",
       "      <td>NaN</td>\n",
       "      <td>NaN</td>\n",
       "      <td>NaN</td>\n",
       "      <td>NaN</td>\n",
       "    </tr>\n",
       "    <tr>\n",
       "      <th>892</th>\n",
       "      <td>6</td>\n",
       "      <td>0.333474</td>\n",
       "      <td>3</td>\n",
       "      <td>3</td>\n",
       "      <td>2</td>\n",
       "      <td>11</td>\n",
       "      <td>NaN</td>\n",
       "      <td>NaN</td>\n",
       "      <td>NaN</td>\n",
       "      <td>NaN</td>\n",
       "      <td>NaN</td>\n",
       "    </tr>\n",
       "    <tr>\n",
       "      <th>...</th>\n",
       "      <td>...</td>\n",
       "      <td>...</td>\n",
       "      <td>...</td>\n",
       "      <td>...</td>\n",
       "      <td>...</td>\n",
       "      <td>...</td>\n",
       "      <td>...</td>\n",
       "      <td>...</td>\n",
       "      <td>...</td>\n",
       "      <td>...</td>\n",
       "      <td>...</td>\n",
       "    </tr>\n",
       "    <tr>\n",
       "      <th>95045500</th>\n",
       "      <td>1003041</td>\n",
       "      <td>0.299564</td>\n",
       "      <td>4</td>\n",
       "      <td>0</td>\n",
       "      <td>0</td>\n",
       "      <td>13</td>\n",
       "      <td>NaN</td>\n",
       "      <td>NaN</td>\n",
       "      <td>NaN</td>\n",
       "      <td>NaN</td>\n",
       "      <td>NaN</td>\n",
       "    </tr>\n",
       "    <tr>\n",
       "      <th>95045710</th>\n",
       "      <td>1003044</td>\n",
       "      <td>0.349617</td>\n",
       "      <td>4</td>\n",
       "      <td>0</td>\n",
       "      <td>3</td>\n",
       "      <td>16</td>\n",
       "      <td>NaN</td>\n",
       "      <td>NaN</td>\n",
       "      <td>NaN</td>\n",
       "      <td>NaN</td>\n",
       "      <td>NaN</td>\n",
       "    </tr>\n",
       "    <tr>\n",
       "      <th>95045920</th>\n",
       "      <td>1003047</td>\n",
       "      <td>0.229750</td>\n",
       "      <td>18</td>\n",
       "      <td>5</td>\n",
       "      <td>0</td>\n",
       "      <td>69</td>\n",
       "      <td>NaN</td>\n",
       "      <td>NaN</td>\n",
       "      <td>NaN</td>\n",
       "      <td>NaN</td>\n",
       "      <td>NaN</td>\n",
       "    </tr>\n",
       "    <tr>\n",
       "      <th>95046089</th>\n",
       "      <td>1003048</td>\n",
       "      <td>0.662458</td>\n",
       "      <td>2</td>\n",
       "      <td>41</td>\n",
       "      <td>3</td>\n",
       "      <td>8</td>\n",
       "      <td>NaN</td>\n",
       "      <td>NaN</td>\n",
       "      <td>NaN</td>\n",
       "      <td>NaN</td>\n",
       "      <td>NaN</td>\n",
       "    </tr>\n",
       "    <tr>\n",
       "      <th>95046148</th>\n",
       "      <td>1003049</td>\n",
       "      <td>0.387677</td>\n",
       "      <td>2</td>\n",
       "      <td>243</td>\n",
       "      <td>3</td>\n",
       "      <td>8</td>\n",
       "      <td>NaN</td>\n",
       "      <td>NaN</td>\n",
       "      <td>NaN</td>\n",
       "      <td>NaN</td>\n",
       "      <td>NaN</td>\n",
       "    </tr>\n",
       "  </tbody>\n",
       "</table>\n",
       "<p>430309 rows × 11 columns</p>\n",
       "</div>"
      ],
      "text/plain": [
       "           app_id      amnt  mcc  hour_diff  amnt_bins  amnt_mcc_bins  \\\n",
       "130             0  0.348838    2         42          3              8   \n",
       "436             1  0.297589   20          4          0             77   \n",
       "615             2  0.402386    2         31          3              8   \n",
       "682             4  0.621777    9         26          3             36   \n",
       "892             6  0.333474    3          3          2             11   \n",
       "...           ...       ...  ...        ...        ...            ...   \n",
       "95045500  1003041  0.299564    4          0          0             13   \n",
       "95045710  1003044  0.349617    4          0          3             16   \n",
       "95045920  1003047  0.229750   18          5          0             69   \n",
       "95046089  1003048  0.662458    2         41          3              8   \n",
       "95046148  1003049  0.387677    2        243          3              8   \n",
       "\n",
       "          mcc_next  amnt_next  hour_diff_next  amnt_bins_next  \\\n",
       "130            NaN        NaN             NaN             NaN   \n",
       "436            NaN        NaN             NaN             NaN   \n",
       "615            NaN        NaN             NaN             NaN   \n",
       "682            NaN        NaN             NaN             NaN   \n",
       "892            NaN        NaN             NaN             NaN   \n",
       "...            ...        ...             ...             ...   \n",
       "95045500       NaN        NaN             NaN             NaN   \n",
       "95045710       NaN        NaN             NaN             NaN   \n",
       "95045920       NaN        NaN             NaN             NaN   \n",
       "95046089       NaN        NaN             NaN             NaN   \n",
       "95046148       NaN        NaN             NaN             NaN   \n",
       "\n",
       "          amnt_mcc_bins_next  \n",
       "130                      NaN  \n",
       "436                      NaN  \n",
       "615                      NaN  \n",
       "682                      NaN  \n",
       "892                      NaN  \n",
       "...                      ...  \n",
       "95045500                 NaN  \n",
       "95045710                 NaN  \n",
       "95045920                 NaN  \n",
       "95046089                 NaN  \n",
       "95046148                 NaN  \n",
       "\n",
       "[430309 rows x 11 columns]"
      ]
     },
     "execution_count": 45,
     "metadata": {},
     "output_type": "execute_result"
    }
   ],
   "source": [
    "last_transactions_train"
   ]
  },
  {
   "cell_type": "code",
   "execution_count": 46,
   "id": "a78db1da",
   "metadata": {},
   "outputs": [
    {
     "name": "stdout",
     "output_type": "stream",
     "text": [
      "CPU times: user 24.7 s, sys: 26.5 ms, total: 24.7 s\n",
      "Wall time: 24.7 s\n"
     ]
    }
   ],
   "source": [
    "%%time\n",
    "    \n",
    "predicted_type = []\n",
    "    \n",
    "for _, last_transaction in last_transactions_train.iterrows():\n",
    "    user_id = last_transaction['app_id']\n",
    "    \n",
    "    next_transaction = model.forward(last_transaction['app_id'])\n",
    "    \n",
    "    predicted_type.append(next_transaction)\n",
    "    \n",
    "predicted_type = pd.DataFrame({'predicted_type': predicted_type}).reset_index(drop=True)"
   ]
  },
  {
   "cell_type": "code",
   "execution_count": 47,
   "id": "4f61a4ee",
   "metadata": {},
   "outputs": [
    {
     "data": {
      "text/html": [
       "<div>\n",
       "<style scoped>\n",
       "    .dataframe tbody tr th:only-of-type {\n",
       "        vertical-align: middle;\n",
       "    }\n",
       "\n",
       "    .dataframe tbody tr th {\n",
       "        vertical-align: top;\n",
       "    }\n",
       "\n",
       "    .dataframe thead th {\n",
       "        text-align: right;\n",
       "    }\n",
       "</style>\n",
       "<table border=\"1\" class=\"dataframe\">\n",
       "  <thead>\n",
       "    <tr style=\"text-align: right;\">\n",
       "      <th></th>\n",
       "      <th>predicted_type</th>\n",
       "      <th>app_id</th>\n",
       "      <th>pred_mcc</th>\n",
       "      <th>pred_amnt</th>\n",
       "    </tr>\n",
       "  </thead>\n",
       "  <tbody>\n",
       "    <tr>\n",
       "      <th>0</th>\n",
       "      <td>8</td>\n",
       "      <td>0</td>\n",
       "      <td>2</td>\n",
       "      <td>3</td>\n",
       "    </tr>\n",
       "    <tr>\n",
       "      <th>1</th>\n",
       "      <td>8</td>\n",
       "      <td>1</td>\n",
       "      <td>2</td>\n",
       "      <td>3</td>\n",
       "    </tr>\n",
       "    <tr>\n",
       "      <th>2</th>\n",
       "      <td>1</td>\n",
       "      <td>2</td>\n",
       "      <td>1</td>\n",
       "      <td>0</td>\n",
       "    </tr>\n",
       "    <tr>\n",
       "      <th>3</th>\n",
       "      <td>36</td>\n",
       "      <td>4</td>\n",
       "      <td>9</td>\n",
       "      <td>3</td>\n",
       "    </tr>\n",
       "    <tr>\n",
       "      <th>4</th>\n",
       "      <td>8</td>\n",
       "      <td>6</td>\n",
       "      <td>2</td>\n",
       "      <td>3</td>\n",
       "    </tr>\n",
       "    <tr>\n",
       "      <th>...</th>\n",
       "      <td>...</td>\n",
       "      <td>...</td>\n",
       "      <td>...</td>\n",
       "      <td>...</td>\n",
       "    </tr>\n",
       "    <tr>\n",
       "      <th>430304</th>\n",
       "      <td>1</td>\n",
       "      <td>1003041</td>\n",
       "      <td>1</td>\n",
       "      <td>0</td>\n",
       "    </tr>\n",
       "    <tr>\n",
       "      <th>430305</th>\n",
       "      <td>17</td>\n",
       "      <td>1003044</td>\n",
       "      <td>5</td>\n",
       "      <td>0</td>\n",
       "    </tr>\n",
       "    <tr>\n",
       "      <th>430306</th>\n",
       "      <td>16</td>\n",
       "      <td>1003047</td>\n",
       "      <td>4</td>\n",
       "      <td>3</td>\n",
       "    </tr>\n",
       "    <tr>\n",
       "      <th>430307</th>\n",
       "      <td>8</td>\n",
       "      <td>1003048</td>\n",
       "      <td>2</td>\n",
       "      <td>3</td>\n",
       "    </tr>\n",
       "    <tr>\n",
       "      <th>430308</th>\n",
       "      <td>8</td>\n",
       "      <td>1003049</td>\n",
       "      <td>2</td>\n",
       "      <td>3</td>\n",
       "    </tr>\n",
       "  </tbody>\n",
       "</table>\n",
       "<p>430309 rows × 4 columns</p>\n",
       "</div>"
      ],
      "text/plain": [
       "        predicted_type   app_id  pred_mcc  pred_amnt\n",
       "0                    8        0         2          3\n",
       "1                    8        1         2          3\n",
       "2                    1        2         1          0\n",
       "3                   36        4         9          3\n",
       "4                    8        6         2          3\n",
       "...                ...      ...       ...        ...\n",
       "430304               1  1003041         1          0\n",
       "430305              17  1003044         5          0\n",
       "430306              16  1003047         4          3\n",
       "430307               8  1003048         2          3\n",
       "430308               8  1003049         2          3\n",
       "\n",
       "[430309 rows x 4 columns]"
      ]
     },
     "execution_count": 47,
     "metadata": {},
     "output_type": "execute_result"
    }
   ],
   "source": [
    "predicted_type['app_id'] = last_transactions_train['app_id'].values\n",
    "predicted_type['pred_mcc'] = (predicted_type['predicted_type'] - 1) // 4 + 1\n",
    "predicted_type['pred_amnt'] = (predicted_type['predicted_type'] - 1) % 4\n",
    "\n",
    "predicted_type"
   ]
  },
  {
   "cell_type": "code",
   "execution_count": 48,
   "id": "b232e124",
   "metadata": {},
   "outputs": [],
   "source": [
    "dataframe = predicted_type.merge(first_transactions_valid, on='app_id', how='inner')"
   ]
  },
  {
   "cell_type": "code",
   "execution_count": 49,
   "id": "f4aa587e",
   "metadata": {},
   "outputs": [
    {
     "data": {
      "text/html": [
       "<div>\n",
       "<style scoped>\n",
       "    .dataframe tbody tr th:only-of-type {\n",
       "        vertical-align: middle;\n",
       "    }\n",
       "\n",
       "    .dataframe tbody tr th {\n",
       "        vertical-align: top;\n",
       "    }\n",
       "\n",
       "    .dataframe thead th {\n",
       "        text-align: right;\n",
       "    }\n",
       "</style>\n",
       "<table border=\"1\" class=\"dataframe\">\n",
       "  <thead>\n",
       "    <tr style=\"text-align: right;\">\n",
       "      <th></th>\n",
       "      <th>predicted_type</th>\n",
       "      <th>app_id</th>\n",
       "      <th>pred_mcc</th>\n",
       "      <th>pred_amnt</th>\n",
       "      <th>amnt</th>\n",
       "      <th>mcc</th>\n",
       "      <th>hour_diff</th>\n",
       "      <th>amnt_bins</th>\n",
       "      <th>amnt_mcc_bins</th>\n",
       "      <th>hour_summed</th>\n",
       "      <th>transaction_min</th>\n",
       "      <th>mcc_next</th>\n",
       "      <th>amnt_next</th>\n",
       "      <th>hour_diff_next</th>\n",
       "      <th>amnt_bins_next</th>\n",
       "      <th>amnt_mcc_bins_next</th>\n",
       "    </tr>\n",
       "  </thead>\n",
       "  <tbody>\n",
       "    <tr>\n",
       "      <th>0</th>\n",
       "      <td>8</td>\n",
       "      <td>0</td>\n",
       "      <td>2</td>\n",
       "      <td>3</td>\n",
       "      <td>0.336345</td>\n",
       "      <td>2</td>\n",
       "      <td>0</td>\n",
       "      <td>2</td>\n",
       "      <td>7</td>\n",
       "      <td>0</td>\n",
       "      <td>132</td>\n",
       "      <td>20.0</td>\n",
       "      <td>0.359050</td>\n",
       "      <td>74.0</td>\n",
       "      <td>3.0</td>\n",
       "      <td>80.0</td>\n",
       "    </tr>\n",
       "    <tr>\n",
       "      <th>1</th>\n",
       "      <td>8</td>\n",
       "      <td>1</td>\n",
       "      <td>2</td>\n",
       "      <td>3</td>\n",
       "      <td>0.439060</td>\n",
       "      <td>2</td>\n",
       "      <td>37</td>\n",
       "      <td>3</td>\n",
       "      <td>8</td>\n",
       "      <td>37</td>\n",
       "      <td>307</td>\n",
       "      <td>1.0</td>\n",
       "      <td>0.323313</td>\n",
       "      <td>0.0</td>\n",
       "      <td>1.0</td>\n",
       "      <td>2.0</td>\n",
       "    </tr>\n",
       "    <tr>\n",
       "      <th>2</th>\n",
       "      <td>1</td>\n",
       "      <td>2</td>\n",
       "      <td>1</td>\n",
       "      <td>0</td>\n",
       "      <td>0.320805</td>\n",
       "      <td>28</td>\n",
       "      <td>156</td>\n",
       "      <td>1</td>\n",
       "      <td>110</td>\n",
       "      <td>156</td>\n",
       "      <td>180</td>\n",
       "      <td>2.0</td>\n",
       "      <td>0.485295</td>\n",
       "      <td>10.0</td>\n",
       "      <td>3.0</td>\n",
       "      <td>8.0</td>\n",
       "    </tr>\n",
       "    <tr>\n",
       "      <th>3</th>\n",
       "      <td>36</td>\n",
       "      <td>4</td>\n",
       "      <td>9</td>\n",
       "      <td>3</td>\n",
       "      <td>0.387677</td>\n",
       "      <td>9</td>\n",
       "      <td>73</td>\n",
       "      <td>3</td>\n",
       "      <td>36</td>\n",
       "      <td>73</td>\n",
       "      <td>68</td>\n",
       "      <td>9.0</td>\n",
       "      <td>0.393020</td>\n",
       "      <td>0.0</td>\n",
       "      <td>3.0</td>\n",
       "      <td>36.0</td>\n",
       "    </tr>\n",
       "    <tr>\n",
       "      <th>4</th>\n",
       "      <td>8</td>\n",
       "      <td>6</td>\n",
       "      <td>2</td>\n",
       "      <td>3</td>\n",
       "      <td>0.411448</td>\n",
       "      <td>58</td>\n",
       "      <td>24</td>\n",
       "      <td>3</td>\n",
       "      <td>232</td>\n",
       "      <td>24</td>\n",
       "      <td>211</td>\n",
       "      <td>8.0</td>\n",
       "      <td>0.384802</td>\n",
       "      <td>1.0</td>\n",
       "      <td>3.0</td>\n",
       "      <td>32.0</td>\n",
       "    </tr>\n",
       "    <tr>\n",
       "      <th>...</th>\n",
       "      <td>...</td>\n",
       "      <td>...</td>\n",
       "      <td>...</td>\n",
       "      <td>...</td>\n",
       "      <td>...</td>\n",
       "      <td>...</td>\n",
       "      <td>...</td>\n",
       "      <td>...</td>\n",
       "      <td>...</td>\n",
       "      <td>...</td>\n",
       "      <td>...</td>\n",
       "      <td>...</td>\n",
       "      <td>...</td>\n",
       "      <td>...</td>\n",
       "      <td>...</td>\n",
       "      <td>...</td>\n",
       "    </tr>\n",
       "    <tr>\n",
       "      <th>429706</th>\n",
       "      <td>1</td>\n",
       "      <td>1003041</td>\n",
       "      <td>1</td>\n",
       "      <td>0</td>\n",
       "      <td>0.281539</td>\n",
       "      <td>3</td>\n",
       "      <td>17</td>\n",
       "      <td>0</td>\n",
       "      <td>9</td>\n",
       "      <td>17</td>\n",
       "      <td>274</td>\n",
       "      <td>1.0</td>\n",
       "      <td>0.216285</td>\n",
       "      <td>109.0</td>\n",
       "      <td>0.0</td>\n",
       "      <td>1.0</td>\n",
       "    </tr>\n",
       "    <tr>\n",
       "      <th>429707</th>\n",
       "      <td>17</td>\n",
       "      <td>1003044</td>\n",
       "      <td>5</td>\n",
       "      <td>0</td>\n",
       "      <td>0.334992</td>\n",
       "      <td>4</td>\n",
       "      <td>0</td>\n",
       "      <td>2</td>\n",
       "      <td>15</td>\n",
       "      <td>0</td>\n",
       "      <td>211</td>\n",
       "      <td>3.0</td>\n",
       "      <td>0.333474</td>\n",
       "      <td>21.0</td>\n",
       "      <td>2.0</td>\n",
       "      <td>11.0</td>\n",
       "    </tr>\n",
       "    <tr>\n",
       "      <th>429708</th>\n",
       "      <td>16</td>\n",
       "      <td>1003047</td>\n",
       "      <td>4</td>\n",
       "      <td>3</td>\n",
       "      <td>0.516270</td>\n",
       "      <td>15</td>\n",
       "      <td>42</td>\n",
       "      <td>3</td>\n",
       "      <td>60</td>\n",
       "      <td>42</td>\n",
       "      <td>211</td>\n",
       "      <td>15.0</td>\n",
       "      <td>0.498168</td>\n",
       "      <td>0.0</td>\n",
       "      <td>3.0</td>\n",
       "      <td>60.0</td>\n",
       "    </tr>\n",
       "    <tr>\n",
       "      <th>429709</th>\n",
       "      <td>8</td>\n",
       "      <td>1003048</td>\n",
       "      <td>2</td>\n",
       "      <td>3</td>\n",
       "      <td>0.589482</td>\n",
       "      <td>12</td>\n",
       "      <td>143</td>\n",
       "      <td>3</td>\n",
       "      <td>48</td>\n",
       "      <td>143</td>\n",
       "      <td>170</td>\n",
       "      <td>2.0</td>\n",
       "      <td>0.583667</td>\n",
       "      <td>0.0</td>\n",
       "      <td>3.0</td>\n",
       "      <td>8.0</td>\n",
       "    </tr>\n",
       "    <tr>\n",
       "      <th>429710</th>\n",
       "      <td>8</td>\n",
       "      <td>1003049</td>\n",
       "      <td>2</td>\n",
       "      <td>3</td>\n",
       "      <td>0.296461</td>\n",
       "      <td>8</td>\n",
       "      <td>3</td>\n",
       "      <td>0</td>\n",
       "      <td>29</td>\n",
       "      <td>3</td>\n",
       "      <td>60</td>\n",
       "      <td>4.0</td>\n",
       "      <td>0.301106</td>\n",
       "      <td>1.0</td>\n",
       "      <td>0.0</td>\n",
       "      <td>13.0</td>\n",
       "    </tr>\n",
       "  </tbody>\n",
       "</table>\n",
       "<p>429711 rows × 16 columns</p>\n",
       "</div>"
      ],
      "text/plain": [
       "        predicted_type   app_id  pred_mcc  pred_amnt      amnt  mcc  \\\n",
       "0                    8        0         2          3  0.336345    2   \n",
       "1                    8        1         2          3  0.439060    2   \n",
       "2                    1        2         1          0  0.320805   28   \n",
       "3                   36        4         9          3  0.387677    9   \n",
       "4                    8        6         2          3  0.411448   58   \n",
       "...                ...      ...       ...        ...       ...  ...   \n",
       "429706               1  1003041         1          0  0.281539    3   \n",
       "429707              17  1003044         5          0  0.334992    4   \n",
       "429708              16  1003047         4          3  0.516270   15   \n",
       "429709               8  1003048         2          3  0.589482   12   \n",
       "429710               8  1003049         2          3  0.296461    8   \n",
       "\n",
       "        hour_diff  amnt_bins  amnt_mcc_bins  hour_summed  transaction_min  \\\n",
       "0               0          2              7            0              132   \n",
       "1              37          3              8           37              307   \n",
       "2             156          1            110          156              180   \n",
       "3              73          3             36           73               68   \n",
       "4              24          3            232           24              211   \n",
       "...           ...        ...            ...          ...              ...   \n",
       "429706         17          0              9           17              274   \n",
       "429707          0          2             15            0              211   \n",
       "429708         42          3             60           42              211   \n",
       "429709        143          3             48          143              170   \n",
       "429710          3          0             29            3               60   \n",
       "\n",
       "        mcc_next  amnt_next  hour_diff_next  amnt_bins_next  \\\n",
       "0           20.0   0.359050            74.0             3.0   \n",
       "1            1.0   0.323313             0.0             1.0   \n",
       "2            2.0   0.485295            10.0             3.0   \n",
       "3            9.0   0.393020             0.0             3.0   \n",
       "4            8.0   0.384802             1.0             3.0   \n",
       "...          ...        ...             ...             ...   \n",
       "429706       1.0   0.216285           109.0             0.0   \n",
       "429707       3.0   0.333474            21.0             2.0   \n",
       "429708      15.0   0.498168             0.0             3.0   \n",
       "429709       2.0   0.583667             0.0             3.0   \n",
       "429710       4.0   0.301106             1.0             0.0   \n",
       "\n",
       "        amnt_mcc_bins_next  \n",
       "0                     80.0  \n",
       "1                      2.0  \n",
       "2                      8.0  \n",
       "3                     36.0  \n",
       "4                     32.0  \n",
       "...                    ...  \n",
       "429706                 1.0  \n",
       "429707                11.0  \n",
       "429708                60.0  \n",
       "429709                 8.0  \n",
       "429710                13.0  \n",
       "\n",
       "[429711 rows x 16 columns]"
      ]
     },
     "execution_count": 49,
     "metadata": {},
     "output_type": "execute_result"
    }
   ],
   "source": [
    "dataframe"
   ]
  },
  {
   "cell_type": "markdown",
   "id": "493e3056",
   "metadata": {},
   "source": [
    "# <font size=\"6\">Metrics</font>"
   ]
  },
  {
   "cell_type": "code",
   "execution_count": 51,
   "id": "dc2e1a6c-b8aa-4263-8841-45984516eb6b",
   "metadata": {},
   "outputs": [
    {
     "name": "stdout",
     "output_type": "stream",
     "text": [
      "Type accuracy: 0.21812101621787666\n",
      "Amnt accuracy: 0.5476983367891444\n",
      "MCC accuracy: 0.3016120136556895\n"
     ]
    }
   ],
   "source": [
    "print('Type accuracy:', accuracy_score(dataframe['amnt_mcc_bins'], dataframe['predicted_type']))\n",
    "print('Amnt accuracy:', accuracy_score(dataframe['amnt_bins'], dataframe['pred_amnt']))\n",
    "print('MCC accuracy:', accuracy_score(dataframe['mcc'], dataframe['pred_mcc']))"
   ]
  },
  {
   "cell_type": "code",
   "execution_count": null,
   "id": "116bbe67-6380-4982-87e0-88e56000351a",
   "metadata": {},
   "outputs": [],
   "source": []
  },
  {
   "cell_type": "code",
   "execution_count": 57,
   "id": "6bc82e24",
   "metadata": {},
   "outputs": [
    {
     "name": "stdout",
     "output_type": "stream",
     "text": [
      "Type accuracy: 0.21812101621787666\n"
     ]
    }
   ],
   "source": [
    "print('Type accuracy:', accuracy_score(\n",
    "    first_transactions_valid['amnt_mcc_bins'], \n",
    "    first_transactions_valid['app_id'].map(most_common_mcc),\n",
    "))"
   ]
  },
  {
   "cell_type": "code",
   "execution_count": null,
   "id": "46040944-293f-413b-bc84-6b345c625d28",
   "metadata": {},
   "outputs": [],
   "source": []
  },
  {
   "cell_type": "code",
   "execution_count": null,
   "id": "5ec26f54-cb82-46d1-976a-d4f9dc6e15cb",
   "metadata": {},
   "outputs": [],
   "source": []
  },
  {
   "cell_type": "code",
   "execution_count": 62,
   "id": "590c1eed-6d64-4767-b101-53485afde2d7",
   "metadata": {},
   "outputs": [
    {
     "data": {
      "text/plain": [
       "(33.73954355369074, 12.0)"
      ]
     },
     "execution_count": 62,
     "metadata": {},
     "output_type": "execute_result"
    }
   ],
   "source": [
    "first_transactions_valid['hour_diff'].mean(), first_transactions_valid['hour_diff'].median(), "
   ]
  },
  {
   "cell_type": "code",
   "execution_count": 64,
   "id": "2598918a-7381-4ad9-a6a2-7ec65c824680",
   "metadata": {},
   "outputs": [
    {
     "data": {
      "text/plain": [
       "(32.96573017444249, 11.0)"
      ]
     },
     "execution_count": 64,
     "metadata": {},
     "output_type": "execute_result"
    }
   ],
   "source": [
    "first_transactions_valid['hour_diff_next'].mean(), first_transactions_valid['hour_diff_next'].median(), "
   ]
  },
  {
   "cell_type": "code",
   "execution_count": 69,
   "id": "2ec4138e-6971-4138-9bf0-d66a1d53e8ed",
   "metadata": {},
   "outputs": [
    {
     "data": {
      "text/plain": [
       "(24.600992900330738, 8.0)"
      ]
     },
     "execution_count": 69,
     "metadata": {},
     "output_type": "execute_result"
    }
   ],
   "source": [
    "valid_df['hour_diff'].mean(), valid_df['hour_diff'].median()"
   ]
  },
  {
   "cell_type": "code",
   "execution_count": 78,
   "id": "ac2c6c9c-eec2-4521-9530-abe6a7e081c4",
   "metadata": {},
   "outputs": [
    {
     "data": {
      "text/plain": [
       "rn\n",
       "1     12.0\n",
       "2     11.0\n",
       "3     11.0\n",
       "4     11.0\n",
       "5     11.0\n",
       "6     11.0\n",
       "7     11.0\n",
       "8     10.0\n",
       "9     10.0\n",
       "10    10.0\n",
       "11    10.0\n",
       "12     9.0\n",
       "13     9.0\n",
       "14     9.0\n",
       "15     9.0\n",
       "16     8.0\n",
       "17     8.0\n",
       "18     8.0\n",
       "19     8.0\n",
       "20     8.0\n",
       "21     7.0\n",
       "22     7.0\n",
       "23     7.0\n",
       "24     7.0\n",
       "25     7.0\n",
       "26     7.0\n",
       "27     7.0\n",
       "28     7.0\n",
       "29     7.0\n",
       "30     6.0\n",
       "31     6.0\n",
       "32     6.0\n",
       "33     6.0\n",
       "34     6.0\n",
       "35     6.0\n",
       "36     6.0\n",
       "37     6.0\n",
       "38     6.0\n",
       "39     6.0\n",
       "40     6.0\n",
       "41     6.0\n",
       "42     6.0\n",
       "43     6.0\n",
       "44     6.0\n",
       "45     6.0\n",
       "46     6.0\n",
       "47     7.0\n",
       "48     7.0\n",
       "49     8.0\n",
       "50     5.0\n",
       "Name: hour_diff, dtype: float64"
      ]
     },
     "execution_count": 78,
     "metadata": {},
     "output_type": "execute_result"
    }
   ],
   "source": [
    "pd.concat([\n",
    "    valid_df,\n",
    "    valid_df.assign(rn=1).groupby('app_id')['rn'].cumsum(),\n",
    "], axis=1).groupby('rn')['hour_diff'].median()"
   ]
  },
  {
   "cell_type": "code",
   "execution_count": 88,
   "id": "15fb5ae0-b2fd-43a0-bf6d-b2ad490fdcf8",
   "metadata": {},
   "outputs": [
    {
     "data": {
      "text/plain": [
       "rn\n",
       "1     33.739544\n",
       "2     32.965730\n",
       "3     32.223349\n",
       "4     31.484753\n",
       "5     30.571476\n",
       "6     29.890428\n",
       "7     29.223025\n",
       "8     28.519916\n",
       "9     27.714631\n",
       "10    26.919224\n",
       "11    26.292031\n",
       "12    25.669426\n",
       "13    24.934468\n",
       "14    24.420695\n",
       "15    23.823054\n",
       "16    23.354465\n",
       "17    22.805843\n",
       "18    22.359682\n",
       "19    21.931653\n",
       "20    21.609036\n",
       "21    21.133970\n",
       "22    20.700499\n",
       "23    20.227384\n",
       "24    20.021584\n",
       "25    19.893763\n",
       "26    19.562518\n",
       "27    19.176745\n",
       "28    18.900875\n",
       "29    18.683117\n",
       "30    18.437634\n",
       "31    18.108748\n",
       "32    17.839848\n",
       "33    17.749363\n",
       "34    17.565458\n",
       "35    17.727945\n",
       "36    17.503812\n",
       "37    17.324679\n",
       "38    17.314398\n",
       "39    17.226372\n",
       "40    17.437342\n",
       "41    17.017224\n",
       "42    17.269394\n",
       "43    17.385666\n",
       "44    17.789258\n",
       "45    18.298438\n",
       "46    18.519632\n",
       "47    19.712485\n",
       "48    20.373050\n",
       "49    23.324650\n",
       "50    15.208809\n",
       "Name: hour_diff, dtype: float64"
      ]
     },
     "execution_count": 88,
     "metadata": {},
     "output_type": "execute_result"
    }
   ],
   "source": [
    "pd.concat([\n",
    "    valid_df,\n",
    "    valid_df.assign(rn=1).groupby('app_id')['rn'].cumsum(),\n",
    "], axis=1).groupby('rn')['hour_diff'].mean()"
   ]
  },
  {
   "cell_type": "code",
   "execution_count": 93,
   "id": "3fe7d4ce-8424-4f2a-bddb-75c05003bf73",
   "metadata": {},
   "outputs": [
    {
     "data": {
      "text/plain": [
       "(31.25, 22.5)"
      ]
     },
     "execution_count": 93,
     "metadata": {},
     "output_type": "execute_result"
    }
   ],
   "source": [
    "50 * 15 / 24, 30 * 18 / 24"
   ]
  },
  {
   "cell_type": "code",
   "execution_count": 94,
   "id": "590a2d0a-e7b2-487b-a722-0175883457ff",
   "metadata": {},
   "outputs": [
    {
     "data": {
      "text/plain": [
       "7.0"
      ]
     },
     "execution_count": 94,
     "metadata": {},
     "output_type": "execute_result"
    }
   ],
   "source": [
    "train_df['hour_diff'].median()"
   ]
  },
  {
   "cell_type": "code",
   "execution_count": 97,
   "id": "dbaaec56-27f1-4c78-a217-180a60b030ef",
   "metadata": {},
   "outputs": [
    {
     "data": {
      "text/plain": [
       "11.5"
      ]
     },
     "execution_count": 97,
     "metadata": {},
     "output_type": "execute_result"
    }
   ],
   "source": [
    "train_df.groupby('app_id')['hour_diff'].median().median()"
   ]
  },
  {
   "cell_type": "code",
   "execution_count": null,
   "id": "29da5905-4152-44fa-97fb-080c191b6c8a",
   "metadata": {},
   "outputs": [],
   "source": []
  },
  {
   "cell_type": "code",
   "execution_count": 81,
   "id": "1fd1c201-e404-4a6e-b877-0bb1de6e7c57",
   "metadata": {},
   "outputs": [
    {
     "data": {
      "text/plain": [
       "17.0"
      ]
     },
     "execution_count": 81,
     "metadata": {},
     "output_type": "execute_result"
    }
   ],
   "source": [
    "valid_df.groupby('app_id').tail(1)['hour_diff'].median()"
   ]
  },
  {
   "cell_type": "code",
   "execution_count": 83,
   "id": "b3a10328-7093-4f09-9a52-8dad05c4edf4",
   "metadata": {},
   "outputs": [
    {
     "data": {
      "text/plain": [
       "16.0"
      ]
     },
     "execution_count": 83,
     "metadata": {},
     "output_type": "execute_result"
    }
   ],
   "source": [
    "valid_df.groupby('app_id').tail(2)['hour_diff'].median()"
   ]
  },
  {
   "cell_type": "code",
   "execution_count": null,
   "id": "dd58cf44-884e-4bb4-b9a2-aef143ae03af",
   "metadata": {},
   "outputs": [],
   "source": []
  },
  {
   "cell_type": "code",
   "execution_count": 103,
   "id": "df6d555c-7e0a-4f63-b2d2-e36378ffa88b",
   "metadata": {},
   "outputs": [
    {
     "data": {
      "text/plain": [
       "30.29193124499322"
      ]
     },
     "execution_count": 103,
     "metadata": {},
     "output_type": "execute_result"
    }
   ],
   "source": [
    "abs(\n",
    "    valid_df.groupby('app_id').head()['hour_diff'] -\n",
    "    train_df['hour_diff'].median(),\n",
    ").mean()"
   ]
  },
  {
   "cell_type": "code",
   "execution_count": 104,
   "id": "b42455a8-2b67-47ec-9b4b-d269e43f6ade",
   "metadata": {},
   "outputs": [
    {
     "data": {
      "text/plain": [
       "30.12039017492628"
      ]
     },
     "execution_count": 104,
     "metadata": {},
     "output_type": "execute_result"
    }
   ],
   "source": [
    "abs(\n",
    "    valid_df.groupby('app_id').head()['hour_diff'] -\n",
    "    train_df.groupby('app_id')['hour_diff'].median().median(),\n",
    ").mean()"
   ]
  },
  {
   "cell_type": "code",
   "execution_count": null,
   "id": "4140479c-1a86-4053-a6ea-49be31289aae",
   "metadata": {},
   "outputs": [],
   "source": []
  },
  {
   "cell_type": "code",
   "execution_count": null,
   "id": "05e7936f-a5d7-4148-9b52-20e8de0d93bb",
   "metadata": {},
   "outputs": [],
   "source": []
  },
  {
   "cell_type": "code",
   "execution_count": 105,
   "id": "756adb9c-0076-4251-958f-ca1cab1c02a0",
   "metadata": {},
   "outputs": [
    {
     "data": {
      "text/plain": [
       "22.926650670644538"
      ]
     },
     "execution_count": 105,
     "metadata": {},
     "output_type": "execute_result"
    }
   ],
   "source": [
    "abs(\n",
    "    valid_df['hour_diff'] -\n",
    "    train_df['hour_diff'].median(),\n",
    ").mean()"
   ]
  },
  {
   "cell_type": "code",
   "execution_count": 106,
   "id": "7983e2de-20fd-4d64-8fdb-f22cc094a86e",
   "metadata": {},
   "outputs": [
    {
     "data": {
      "text/plain": [
       "23.00553066354818"
      ]
     },
     "execution_count": 106,
     "metadata": {},
     "output_type": "execute_result"
    }
   ],
   "source": [
    "abs(\n",
    "    valid_df['hour_diff'] -\n",
    "    train_df.groupby('app_id')['hour_diff'].median().median(),\n",
    ").mean()"
   ]
  },
  {
   "cell_type": "code",
   "execution_count": null,
   "id": "4a19bd6a-d728-4a25-b2f6-95abc7e7493d",
   "metadata": {},
   "outputs": [],
   "source": []
  }
 ],
 "metadata": {
  "kernelspec": {
   "display_name": "Python 3 (ipykernel)",
   "language": "python",
   "name": "python3"
  },
  "language_info": {
   "codemirror_mode": {
    "name": "ipython",
    "version": 3
   },
   "file_extension": ".py",
   "mimetype": "text/x-python",
   "name": "python",
   "nbconvert_exporter": "python",
   "pygments_lexer": "ipython3",
   "version": "3.7.12"
  }
 },
 "nbformat": 4,
 "nbformat_minor": 5
}
